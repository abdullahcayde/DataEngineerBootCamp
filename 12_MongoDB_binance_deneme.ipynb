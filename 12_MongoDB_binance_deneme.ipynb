{
 "cells": [
  {
   "cell_type": "markdown",
   "id": "9969ba55-a803-4cd2-a4f6-86fb1d140698",
   "metadata": {},
   "source": [
    "# MongoDB Connection Ornekleri"
   ]
  },
  {
   "cell_type": "markdown",
   "id": "a36000d1-9286-4b8e-82be-2c8d0b3e95a1",
   "metadata": {},
   "source": [
    "## import pymongo"
   ]
  },
  {
   "cell_type": "code",
   "execution_count": 5,
   "id": "2c210b8f-01bf-49ae-9c4b-90e98535da47",
   "metadata": {},
   "outputs": [],
   "source": [
    "import pymongo\n",
    "from pymongo import MongoClient"
   ]
  },
  {
   "cell_type": "code",
   "execution_count": 6,
   "id": "66e2d4c4-81c0-4300-9757-9d1cb738588c",
   "metadata": {},
   "outputs": [],
   "source": [
    "client = MongoClient(\n",
    "    host=\"127.0.0.1\",\n",
    "    port = 27017\n",
    ")"
   ]
  },
  {
   "cell_type": "markdown",
   "id": "593b618a-966e-44b9-815f-7601e350b66a",
   "metadata": {},
   "source": [
    "## list databases"
   ]
  },
  {
   "cell_type": "code",
   "execution_count": 7,
   "id": "2f1494a2-902e-4306-ad93-46de2904ba92",
   "metadata": {},
   "outputs": [
    {
     "data": {
      "text/plain": [
       "['admin', 'config', 'local', 'sample']"
      ]
     },
     "execution_count": 7,
     "metadata": {},
     "output_type": "execute_result"
    }
   ],
   "source": [
    "client.list_database_names()"
   ]
  },
  {
   "cell_type": "markdown",
   "id": "a779f2f0-ec78-486e-a5cd-c5f12954214c",
   "metadata": {},
   "source": [
    "## find_one sample from collection"
   ]
  },
  {
   "cell_type": "code",
   "execution_count": 14,
   "id": "f3671597-c06e-4292-8ccf-ea4156d00961",
   "metadata": {},
   "outputs": [
    {
     "name": "stdout",
     "output_type": "stream",
     "text": [
      "{'_id': ObjectId('5c8eccc1caa187d17ca6ed17'), 'city': 'BESSEMER', 'zip': '35020', 'loc': {'y': 33.409002, 'x': 86.947547}, 'pop': 40549, 'state': 'AL'}\n"
     ]
    }
   ],
   "source": [
    "sample = client['sample']\n",
    "c_zips = sample.zips\n",
    "\n",
    "print(c_zips.find_one())"
   ]
  },
  {
   "cell_type": "code",
   "execution_count": 24,
   "id": "a861eaf4-eca4-48b8-96f8-e1c3b04b04fe",
   "metadata": {},
   "outputs": [
    {
     "name": "stdout",
     "output_type": "stream",
     "text": [
      "<pymongo.cursor.Cursor object at 0x7fa56735ec80>\n"
     ]
    }
   ],
   "source": [
    "sample = client['sample']\n",
    "c_zips = sample.zips\n",
    "\n",
    "print(c_zips.find({}, {\"city\" : 1}))"
   ]
  },
  {
   "cell_type": "markdown",
   "id": "ca7ab530-0a0e-4c68-b853-24cbefbd003e",
   "metadata": {},
   "source": [
    "## find all from collections"
   ]
  },
  {
   "cell_type": "code",
   "execution_count": 34,
   "id": "ed09ab25-b313-49de-bd6b-5e04c919179f",
   "metadata": {},
   "outputs": [
    {
     "data": {
      "text/plain": [
       "[{'city': 'BESSEMER',\n",
       "  'zip': '35020',\n",
       "  'loc': {'y': 33.409002, 'x': 86.947547},\n",
       "  'pop': 40549,\n",
       "  'state': 'AL'},\n",
       " {'city': 'BAILEYTON',\n",
       "  'zip': '35019',\n",
       "  'loc': {'y': 34.268298, 'x': 86.621299},\n",
       "  'pop': 1781,\n",
       "  'state': 'AL'}]"
      ]
     },
     "execution_count": 34,
     "metadata": {},
     "output_type": "execute_result"
    }
   ],
   "source": [
    "list(c_zips.find({},{\"_id\":0}).limit(2))"
   ]
  },
  {
   "cell_type": "markdown",
   "id": "23b13a8e-d3a9-4cd5-ab4e-cc9b5d870e57",
   "metadata": {},
   "source": [
    "# Python-Binance Ornekleri"
   ]
  },
  {
   "cell_type": "code",
   "execution_count": 35,
   "id": "023b9b3b-8da5-4289-8d03-d0672dc62de1",
   "metadata": {
    "collapsed": true,
    "jupyter": {
     "outputs_hidden": true
    },
    "tags": []
   },
   "outputs": [
    {
     "name": "stdout",
     "output_type": "stream",
     "text": [
      "Collecting python-binance\n",
      "  Downloading python_binance-1.0.17-py2.py3-none-any.whl (67 kB)\n",
      "\u001b[2K     \u001b[90m━━━━━━━━━━━━━━━━━━━━━━━━━━━━━━━━━━━━━━━━\u001b[0m \u001b[32m67.6/67.6 kB\u001b[0m \u001b[31m1.4 MB/s\u001b[0m eta \u001b[36m0:00:00\u001b[0ma \u001b[36m0:00:01\u001b[0m\n",
      "\u001b[?25hCollecting dateparser\n",
      "  Downloading dateparser-1.1.8-py2.py3-none-any.whl (293 kB)\n",
      "\u001b[2K     \u001b[90m━━━━━━━━━━━━━━━━━━━━━━━━━━━━━━━━━━━━━━━\u001b[0m \u001b[32m293.8/293.8 kB\u001b[0m \u001b[31m3.5 MB/s\u001b[0m eta \u001b[36m0:00:00\u001b[0m00:01\u001b[0m00:01\u001b[0m\n",
      "\u001b[?25hCollecting aiohttp\n",
      "  Downloading aiohttp-3.8.4-cp310-cp310-macosx_10_9_x86_64.whl (358 kB)\n",
      "\u001b[2K     \u001b[90m━━━━━━━━━━━━━━━━━━━━━━━━━━━━━━━━━━━━━━━\u001b[0m \u001b[32m358.1/358.1 kB\u001b[0m \u001b[31m5.0 MB/s\u001b[0m eta \u001b[36m0:00:00\u001b[0ma \u001b[36m0:00:01\u001b[0m\n",
      "\u001b[?25hRequirement already satisfied: requests in /Users/macbook/miniconda3/lib/python3.10/site-packages (from python-binance) (2.28.1)\n",
      "Collecting pycryptodome\n",
      "  Using cached pycryptodome-3.17-cp35-abi3-macosx_10_9_x86_64.whl (1.6 MB)\n",
      "Requirement already satisfied: six in /Users/macbook/miniconda3/lib/python3.10/site-packages (from python-binance) (1.16.0)\n",
      "Collecting ujson\n",
      "  Downloading ujson-5.7.0-cp310-cp310-macosx_10_9_x86_64.whl (57 kB)\n",
      "\u001b[2K     \u001b[90m━━━━━━━━━━━━━━━━━━━━━━━━━━━━━━━━━━━━━━━\u001b[0m \u001b[32m57.3/57.3 kB\u001b[0m \u001b[31m688.7 kB/s\u001b[0m eta \u001b[36m0:00:00\u001b[0ma \u001b[36m0:00:01\u001b[0m\n",
      "\u001b[?25hCollecting websockets\n",
      "  Downloading websockets-11.0.2-cp310-cp310-macosx_10_9_x86_64.whl (120 kB)\n",
      "\u001b[2K     \u001b[90m━━━━━━━━━━━━━━━━━━━━━━━━━━━━━━━━━━━━━━━\u001b[0m \u001b[32m120.9/120.9 kB\u001b[0m \u001b[31m4.4 MB/s\u001b[0m eta \u001b[36m0:00:00\u001b[0m\n",
      "\u001b[?25hRequirement already satisfied: attrs>=17.3.0 in /Users/macbook/miniconda3/lib/python3.10/site-packages (from aiohttp->python-binance) (22.2.0)\n",
      "Collecting yarl<2.0,>=1.0\n",
      "  Downloading yarl-1.9.2-cp310-cp310-macosx_10_9_x86_64.whl (65 kB)\n",
      "\u001b[2K     \u001b[90m━━━━━━━━━━━━━━━━━━━━━━━━━━━━━━━━━━━━━━━━\u001b[0m \u001b[32m65.7/65.7 kB\u001b[0m \u001b[31m3.0 MB/s\u001b[0m eta \u001b[36m0:00:00\u001b[0m\n",
      "\u001b[?25hCollecting aiosignal>=1.1.2\n",
      "  Downloading aiosignal-1.3.1-py3-none-any.whl (7.6 kB)\n",
      "Collecting async-timeout<5.0,>=4.0.0a3\n",
      "  Downloading async_timeout-4.0.2-py3-none-any.whl (5.8 kB)\n",
      "Requirement already satisfied: charset-normalizer<4.0,>=2.0 in /Users/macbook/miniconda3/lib/python3.10/site-packages (from aiohttp->python-binance) (2.0.4)\n",
      "Collecting frozenlist>=1.1.1\n",
      "  Downloading frozenlist-1.3.3-cp310-cp310-macosx_10_9_x86_64.whl (35 kB)\n",
      "Requirement already satisfied: multidict<7.0,>=4.5 in /Users/macbook/miniconda3/lib/python3.10/site-packages (from aiohttp->python-binance) (6.0.4)\n",
      "Collecting tzlocal\n",
      "  Downloading tzlocal-4.3-py3-none-any.whl (20 kB)\n",
      "Requirement already satisfied: pytz in /Users/macbook/miniconda3/lib/python3.10/site-packages (from dateparser->python-binance) (2022.7.1)\n",
      "Requirement already satisfied: python-dateutil in /Users/macbook/miniconda3/lib/python3.10/site-packages (from dateparser->python-binance) (2.8.2)\n",
      "Collecting regex!=2019.02.19,!=2021.8.27\n",
      "  Downloading regex-2023.5.5-cp310-cp310-macosx_10_9_x86_64.whl (294 kB)\n",
      "\u001b[2K     \u001b[90m━━━━━━━━━━━━━━━━━━━━━━━━━━━━━━━━━━━━━━━\u001b[0m \u001b[32m294.4/294.4 kB\u001b[0m \u001b[31m3.8 MB/s\u001b[0m eta \u001b[36m0:00:00\u001b[0ma \u001b[36m0:00:01\u001b[0m\n",
      "\u001b[?25hRequirement already satisfied: urllib3<1.27,>=1.21.1 in /Users/macbook/miniconda3/lib/python3.10/site-packages (from requests->python-binance) (1.26.14)\n",
      "Requirement already satisfied: idna<4,>=2.5 in /Users/macbook/miniconda3/lib/python3.10/site-packages (from requests->python-binance) (3.4)\n",
      "Requirement already satisfied: certifi>=2017.4.17 in /Users/macbook/miniconda3/lib/python3.10/site-packages (from requests->python-binance) (2022.12.7)\n",
      "Collecting pytz-deprecation-shim\n",
      "  Using cached pytz_deprecation_shim-0.1.0.post0-py2.py3-none-any.whl\n",
      "Collecting tzdata\n",
      "  Downloading tzdata-2023.3-py2.py3-none-any.whl (341 kB)\n",
      "\u001b[2K     \u001b[90m━━━━━━━━━━━━━━━━━━━━━━━━━━━━━━━━━━━━━━━\u001b[0m \u001b[32m341.8/341.8 kB\u001b[0m \u001b[31m4.0 MB/s\u001b[0m eta \u001b[36m0:00:00\u001b[0m00:01\u001b[0m00:01\u001b[0m\n",
      "\u001b[?25hInstalling collected packages: yarl, websockets, ujson, tzdata, regex, pycryptodome, frozenlist, async-timeout, pytz-deprecation-shim, aiosignal, tzlocal, aiohttp, dateparser, python-binance\n",
      "Successfully installed aiohttp-3.8.4 aiosignal-1.3.1 async-timeout-4.0.2 dateparser-1.1.8 frozenlist-1.3.3 pycryptodome-3.17 python-binance-1.0.17 pytz-deprecation-shim-0.1.0.post0 regex-2023.5.5 tzdata-2023.3 tzlocal-4.3 ujson-5.7.0 websockets-11.0.2 yarl-1.9.2\n"
     ]
    }
   ],
   "source": [
    "#!pip install python-binance"
   ]
  },
  {
   "cell_type": "code",
   "execution_count": 2,
   "id": "d6eaa76c-9af6-4a34-beea-5441cca15d72",
   "metadata": {},
   "outputs": [
    {
     "data": {
      "text/plain": [
       "'1.0.17'"
      ]
     },
     "execution_count": 2,
     "metadata": {},
     "output_type": "execute_result"
    }
   ],
   "source": [
    "#import binance\n",
    "\n",
    "binance.__version__"
   ]
  },
  {
   "cell_type": "markdown",
   "id": "25d39b08-1745-402e-a6d2-bfff7aa975ea",
   "metadata": {},
   "source": [
    "## import binace and get_symbol_info"
   ]
  },
  {
   "cell_type": "code",
   "execution_count": 3,
   "id": "ea03a5bf-842a-41e0-a9b3-b83c849e11fd",
   "metadata": {},
   "outputs": [
    {
     "name": "stdout",
     "output_type": "stream",
     "text": [
      "logged in\n",
      "{'symbol': 'BNBBTC', 'status': 'TRADING', 'baseAsset': 'BNB', 'baseAssetPrecision': 8, 'quoteAsset': 'BTC', 'quotePrecision': 8, 'quoteAssetPrecision': 8, 'baseCommissionPrecision': 8, 'quoteCommissionPrecision': 8, 'orderTypes': ['LIMIT', 'LIMIT_MAKER', 'MARKET', 'STOP_LOSS_LIMIT', 'TAKE_PROFIT_LIMIT'], 'icebergAllowed': True, 'ocoAllowed': True, 'quoteOrderQtyMarketAllowed': True, 'allowTrailingStop': True, 'cancelReplaceAllowed': True, 'isSpotTradingAllowed': True, 'isMarginTradingAllowed': True, 'filters': [{'filterType': 'PRICE_FILTER', 'minPrice': '0.00000100', 'maxPrice': '100000.00000000', 'tickSize': '0.00000100'}, {'filterType': 'LOT_SIZE', 'minQty': '0.00100000', 'maxQty': '100000.00000000', 'stepSize': '0.00100000'}, {'filterType': 'ICEBERG_PARTS', 'limit': 10}, {'filterType': 'MARKET_LOT_SIZE', 'minQty': '0.00000000', 'maxQty': '3240.80707777', 'stepSize': '0.00000000'}, {'filterType': 'TRAILING_DELTA', 'minTrailingAboveDelta': 10, 'maxTrailingAboveDelta': 2000, 'minTrailingBelowDelta': 10, 'maxTrailingBelowDelta': 2000}, {'filterType': 'PERCENT_PRICE_BY_SIDE', 'bidMultiplierUp': '5', 'bidMultiplierDown': '0.2', 'askMultiplierUp': '5', 'askMultiplierDown': '0.2', 'avgPriceMins': 5}, {'filterType': 'NOTIONAL', 'minNotional': '0.00010000', 'applyMinToMarket': True, 'maxNotional': '9000000.00000000', 'applyMaxToMarket': False, 'avgPriceMins': 5}, {'filterType': 'MAX_NUM_ORDERS', 'maxNumOrders': 200}, {'filterType': 'MAX_NUM_ALGO_ORDERS', 'maxNumAlgoOrders': 5}], 'permissions': ['SPOT', 'MARGIN', 'TRD_GRP_004', 'TRD_GRP_005', 'TRD_GRP_006'], 'defaultSelfTradePreventionMode': 'NONE', 'allowedSelfTradePreventionModes': ['NONE', 'EXPIRE_TAKER', 'EXPIRE_MAKER', 'EXPIRE_BOTH']}\n"
     ]
    }
   ],
   "source": [
    "from binance.client import Client\n",
    "import config\n",
    "\n",
    "client = Client(config.APIKey, config.SecretKey)\n",
    "print(\"logged in\")\n",
    "\n",
    "info = client.get_symbol_info(\"BNBBTC\")\n",
    "print(info)"
   ]
  },
  {
   "cell_type": "code",
   "execution_count": 5,
   "id": "0705a2f9-47af-4bcd-9d62-2f8761e4ddb7",
   "metadata": {},
   "outputs": [
    {
     "name": "stdout",
     "output_type": "stream",
     "text": [
      "symbol\n",
      "status\n",
      "baseAsset\n",
      "baseAssetPrecision\n",
      "quoteAsset\n",
      "quotePrecision\n",
      "quoteAssetPrecision\n",
      "baseCommissionPrecision\n",
      "quoteCommissionPrecision\n",
      "orderTypes\n",
      "icebergAllowed\n",
      "ocoAllowed\n",
      "quoteOrderQtyMarketAllowed\n",
      "allowTrailingStop\n",
      "cancelReplaceAllowed\n",
      "isSpotTradingAllowed\n",
      "isMarginTradingAllowed\n",
      "filters\n",
      "permissions\n",
      "defaultSelfTradePreventionMode\n",
      "allowedSelfTradePreventionModes\n"
     ]
    }
   ],
   "source": [
    "for i in list(info):\n",
    "    print(i)"
   ]
  },
  {
   "cell_type": "markdown",
   "id": "bfec108f-e396-4e39-b7c1-661fd5ce1304",
   "metadata": {},
   "source": [
    "## get_exchange_info"
   ]
  },
  {
   "cell_type": "code",
   "execution_count": 6,
   "id": "b1155fb4-2064-4fe2-a7d4-7962d2502c63",
   "metadata": {},
   "outputs": [
    {
     "name": "stdout",
     "output_type": "stream",
     "text": [
      "1683388358803\n"
     ]
    }
   ],
   "source": [
    "info = client.get_exchange_info()\n",
    "\n",
    "timez = info['serverTime']\n",
    "print(timez)"
   ]
  },
  {
   "cell_type": "markdown",
   "id": "a42aeb20-acb4-4167-88f8-2207464aefb0",
   "metadata": {},
   "source": [
    "## get_account()"
   ]
  },
  {
   "cell_type": "code",
   "execution_count": 7,
   "id": "7876067c-8d24-402d-9b65-b2141da2548d",
   "metadata": {
    "collapsed": true,
    "jupyter": {
     "outputs_hidden": true
    },
    "tags": []
   },
   "outputs": [
    {
     "name": "stdout",
     "output_type": "stream",
     "text": [
      "{'makerCommission': 10, 'takerCommission': 10, 'buyerCommission': 0, 'sellerCommission': 0, 'commissionRates': {'maker': '0.00100000', 'taker': '0.00100000', 'buyer': '0.00000000', 'seller': '0.00000000'}, 'canTrade': True, 'canWithdraw': True, 'canDeposit': True, 'brokered': False, 'requireSelfTradePrevention': False, 'updateTime': 1683323230653, 'accountType': 'SPOT', 'balances': [{'asset': 'BTC', 'free': '0.00000000', 'locked': '0.00000000'}, {'asset': 'LTC', 'free': '0.00000000', 'locked': '0.00000000'}, {'asset': 'ETH', 'free': '0.00000000', 'locked': '0.00000000'}, {'asset': 'NEO', 'free': '0.00000000', 'locked': '0.00000000'}, {'asset': 'BNB', 'free': '0.00000000', 'locked': '0.00000000'}, {'asset': 'QTUM', 'free': '0.00000000', 'locked': '0.00000000'}, {'asset': 'EOS', 'free': '0.00000000', 'locked': '0.00000000'}, {'asset': 'SNT', 'free': '0.00000000', 'locked': '0.00000000'}, {'asset': 'BNT', 'free': '0.00000000', 'locked': '0.00000000'}, {'asset': 'GAS', 'free': '0.00000000', 'locked': '0.00000000'}, {'asset': 'BCC', 'free': '0.00000000', 'locked': '0.00000000'}, {'asset': 'USDT', 'free': '0.00000000', 'locked': '0.00000000'}, {'asset': 'HSR', 'free': '0.00000000', 'locked': '0.00000000'}, {'asset': 'OAX', 'free': '0.00000000', 'locked': '0.00000000'}, {'asset': 'DNT', 'free': '0.00000000', 'locked': '0.00000000'}, {'asset': 'MCO', 'free': '0.00000000', 'locked': '0.00000000'}, {'asset': 'ICN', 'free': '0.00000000', 'locked': '0.00000000'}, {'asset': 'ZRX', 'free': '0.00000000', 'locked': '0.00000000'}, {'asset': 'OMG', 'free': '0.00000000', 'locked': '0.00000000'}, {'asset': 'WTC', 'free': '0.00000000', 'locked': '0.00000000'}, {'asset': 'YOYO', 'free': '0.00000000', 'locked': '0.00000000'}, {'asset': 'LRC', 'free': '0.00000000', 'locked': '0.00000000'}, {'asset': 'TRX', 'free': '0.00000000', 'locked': '0.00000000'}, {'asset': 'SNGLS', 'free': '0.00000000', 'locked': '0.00000000'}, {'asset': 'STRAT', 'free': '0.00000000', 'locked': '0.00000000'}, {'asset': 'BQX', 'free': '0.00000000', 'locked': '0.00000000'}, {'asset': 'FUN', 'free': '0.00000000', 'locked': '0.00000000'}, {'asset': 'KNC', 'free': '0.00000000', 'locked': '0.00000000'}, {'asset': 'CDT', 'free': '0.00000000', 'locked': '0.00000000'}, {'asset': 'XVG', 'free': '0.00000000', 'locked': '0.00000000'}, {'asset': 'IOTA', 'free': '0.00000000', 'locked': '0.00000000'}, {'asset': 'SNM', 'free': '0.00000000', 'locked': '0.00000000'}, {'asset': 'LINK', 'free': '0.00000000', 'locked': '0.00000000'}, {'asset': 'CVC', 'free': '0.00000000', 'locked': '0.00000000'}, {'asset': 'TNT', 'free': '0.00000000', 'locked': '0.00000000'}, {'asset': 'REP', 'free': '0.00000000', 'locked': '0.00000000'}, {'asset': 'MDA', 'free': '0.00000000', 'locked': '0.00000000'}, {'asset': 'MTL', 'free': '0.00000000', 'locked': '0.00000000'}, {'asset': 'SALT', 'free': '0.00000000', 'locked': '0.00000000'}, {'asset': 'NULS', 'free': '0.00000000', 'locked': '0.00000000'}, {'asset': 'SUB', 'free': '0.00000000', 'locked': '0.00000000'}, {'asset': 'STX', 'free': '0.00000000', 'locked': '0.00000000'}, {'asset': 'MTH', 'free': '0.00000000', 'locked': '0.00000000'}, {'asset': 'ADX', 'free': '0.00000000', 'locked': '0.00000000'}, {'asset': 'ETC', 'free': '0.00000000', 'locked': '0.00000000'}, {'asset': 'ENG', 'free': '0.00000000', 'locked': '0.00000000'}, {'asset': 'ZEC', 'free': '0.00000000', 'locked': '0.00000000'}, {'asset': 'AST', 'free': '0.00000000', 'locked': '0.00000000'}, {'asset': 'GNT', 'free': '0.00000000', 'locked': '0.00000000'}, {'asset': 'DGD', 'free': '0.00000000', 'locked': '0.00000000'}, {'asset': 'BAT', 'free': '0.00000000', 'locked': '0.00000000'}, {'asset': 'DASH', 'free': '0.00000000', 'locked': '0.00000000'}, {'asset': 'POWR', 'free': '0.00000000', 'locked': '0.00000000'}, {'asset': 'BTG', 'free': '0.00000000', 'locked': '0.00000000'}, {'asset': 'REQ', 'free': '0.00000000', 'locked': '0.00000000'}, {'asset': 'XMR', 'free': '0.00000000', 'locked': '0.00000000'}, {'asset': 'EVX', 'free': '0.00000000', 'locked': '0.00000000'}, {'asset': 'VIB', 'free': '0.00000000', 'locked': '0.00000000'}, {'asset': 'ENJ', 'free': '0.00000000', 'locked': '0.00000000'}, {'asset': 'VEN', 'free': '0.00000000', 'locked': '0.00000000'}, {'asset': 'ARK', 'free': '0.00000000', 'locked': '0.00000000'}, {'asset': 'XRP', 'free': '0.00000000', 'locked': '0.00000000'}, {'asset': 'MOD', 'free': '0.00000000', 'locked': '0.00000000'}, {'asset': 'STORJ', 'free': '0.00000000', 'locked': '0.00000000'}, {'asset': 'KMD', 'free': '0.00000000', 'locked': '0.00000000'}, {'asset': 'RCN', 'free': '0.00000000', 'locked': '0.00000000'}, {'asset': 'EDO', 'free': '0.00000000', 'locked': '0.00000000'}, {'asset': 'DATA', 'free': '0.00000000', 'locked': '0.00000000'}, {'asset': 'DLT', 'free': '0.00000000', 'locked': '0.00000000'}, {'asset': 'MANA', 'free': '0.00000000', 'locked': '0.00000000'}, {'asset': 'PPT', 'free': '0.00000000', 'locked': '0.00000000'}, {'asset': 'RDN', 'free': '0.00000000', 'locked': '0.00000000'}, {'asset': 'GXS', 'free': '0.00000000', 'locked': '0.00000000'}, {'asset': 'AMB', 'free': '0.00000000', 'locked': '0.00000000'}, {'asset': 'ARN', 'free': '0.00000000', 'locked': '0.00000000'}, {'asset': 'BCPT', 'free': '0.00000000', 'locked': '0.00000000'}, {'asset': 'CND', 'free': '0.00000000', 'locked': '0.00000000'}, {'asset': 'GVT', 'free': '0.00000000', 'locked': '0.00000000'}, {'asset': 'POE', 'free': '0.00000000', 'locked': '0.00000000'}, {'asset': 'BTS', 'free': '0.00000000', 'locked': '0.00000000'}, {'asset': 'FUEL', 'free': '0.00000000', 'locked': '0.00000000'}, {'asset': 'XZC', 'free': '0.00000000', 'locked': '0.00000000'}, {'asset': 'QSP', 'free': '0.00000000', 'locked': '0.00000000'}, {'asset': 'LSK', 'free': '0.00000000', 'locked': '0.00000000'}, {'asset': 'BCD', 'free': '0.00000000', 'locked': '0.00000000'}, {'asset': 'TNB', 'free': '0.00000000', 'locked': '0.00000000'}, {'asset': 'ADA', 'free': '0.00000000', 'locked': '0.00000000'}, {'asset': 'LEND', 'free': '0.00000000', 'locked': '0.00000000'}, {'asset': 'XLM', 'free': '0.00000000', 'locked': '0.00000000'}, {'asset': 'CMT', 'free': '0.00000000', 'locked': '0.00000000'}, {'asset': 'WAVES', 'free': '0.00000000', 'locked': '0.00000000'}, {'asset': 'WABI', 'free': '0.00000000', 'locked': '0.00000000'}, {'asset': 'GTO', 'free': '0.00000000', 'locked': '0.00000000'}, {'asset': 'ICX', 'free': '0.00000000', 'locked': '0.00000000'}, {'asset': 'OST', 'free': '0.00000000', 'locked': '0.00000000'}, {'asset': 'ELF', 'free': '0.00000000', 'locked': '0.00000000'}, {'asset': 'AION', 'free': '0.00000000', 'locked': '0.00000000'}, {'asset': 'WINGS', 'free': '0.00000000', 'locked': '0.00000000'}, {'asset': 'BRD', 'free': '0.00000000', 'locked': '0.00000000'}, {'asset': 'NEBL', 'free': '0.00000000', 'locked': '0.00000000'}, {'asset': 'NAV', 'free': '0.00000000', 'locked': '0.00000000'}, {'asset': 'VIBE', 'free': '0.00000000', 'locked': '0.00000000'}, {'asset': 'LUN', 'free': '0.00000000', 'locked': '0.00000000'}, {'asset': 'TRIG', 'free': '0.00000000', 'locked': '0.00000000'}, {'asset': 'APPC', 'free': '0.00000000', 'locked': '0.00000000'}, {'asset': 'CHAT', 'free': '0.00000000', 'locked': '0.00000000'}, {'asset': 'RLC', 'free': '0.00000000', 'locked': '0.00000000'}, {'asset': 'INS', 'free': '0.00000000', 'locked': '0.00000000'}, {'asset': 'PIVX', 'free': '0.00000000', 'locked': '0.00000000'}, {'asset': 'IOST', 'free': '0.00000000', 'locked': '0.00000000'}, {'asset': 'STEEM', 'free': '0.00000000', 'locked': '0.00000000'}, {'asset': 'NANO', 'free': '0.00000000', 'locked': '0.00000000'}, {'asset': 'AE', 'free': '0.00000000', 'locked': '0.00000000'}, {'asset': 'VIA', 'free': '0.00000000', 'locked': '0.00000000'}, {'asset': 'BLZ', 'free': '0.00000000', 'locked': '0.00000000'}, {'asset': 'SYS', 'free': '0.00000000', 'locked': '0.00000000'}, {'asset': 'RPX', 'free': '0.00000000', 'locked': '0.00000000'}, {'asset': 'NCASH', 'free': '0.00000000', 'locked': '0.00000000'}, {'asset': 'POA', 'free': '0.00000000', 'locked': '0.00000000'}, {'asset': 'ONT', 'free': '0.00000000', 'locked': '0.00000000'}, {'asset': 'ZIL', 'free': '0.00000000', 'locked': '0.00000000'}, {'asset': 'STORM', 'free': '0.00000000', 'locked': '0.00000000'}, {'asset': 'XEM', 'free': '0.00000000', 'locked': '0.00000000'}, {'asset': 'WAN', 'free': '0.00000000', 'locked': '0.00000000'}, {'asset': 'WPR', 'free': '0.00000000', 'locked': '0.00000000'}, {'asset': 'QLC', 'free': '0.00000000', 'locked': '0.00000000'}, {'asset': 'GRS', 'free': '0.00000000', 'locked': '0.00000000'}, {'asset': 'CLOAK', 'free': '0.00000000', 'locked': '0.00000000'}, {'asset': 'LOOM', 'free': '0.00000000', 'locked': '0.00000000'}, {'asset': 'BCN', 'free': '0.00000000', 'locked': '0.00000000'}, {'asset': 'TUSD', 'free': '0.00000000', 'locked': '0.00000000'}, {'asset': 'ZEN', 'free': '0.00000000', 'locked': '0.00000000'}, {'asset': 'SKY', 'free': '0.00000000', 'locked': '0.00000000'}, {'asset': 'THETA', 'free': '0.00000000', 'locked': '0.00000000'}, {'asset': 'IOTX', 'free': '0.00000000', 'locked': '0.00000000'}, {'asset': 'QKC', 'free': '0.00000000', 'locked': '0.00000000'}, {'asset': 'AGI', 'free': '0.00000000', 'locked': '0.00000000'}, {'asset': 'NXS', 'free': '0.00000000', 'locked': '0.00000000'}, {'asset': 'SC', 'free': '0.00000000', 'locked': '0.00000000'}, {'asset': 'NPXS', 'free': '0.00000000', 'locked': '0.00000000'}, {'asset': 'KEY', 'free': '0.00000000', 'locked': '0.00000000'}, {'asset': 'NAS', 'free': '0.00000000', 'locked': '0.00000000'}, {'asset': 'MFT', 'free': '0.00000000', 'locked': '0.00000000'}, {'asset': 'DENT', 'free': '0.00000000', 'locked': '0.00000000'}, {'asset': 'IQ', 'free': '0.00000000', 'locked': '0.00000000'}, {'asset': 'ARDR', 'free': '0.00000000', 'locked': '0.00000000'}, {'asset': 'HOT', 'free': '0.00000000', 'locked': '0.00000000'}, {'asset': 'VET', 'free': '0.00000000', 'locked': '0.00000000'}, {'asset': 'DOCK', 'free': '0.00000000', 'locked': '0.00000000'}, {'asset': 'POLY', 'free': '0.00000000', 'locked': '0.00000000'}, {'asset': 'VTHO', 'free': '0.00000000', 'locked': '0.00000000'}, {'asset': 'ONG', 'free': '0.00000000', 'locked': '0.00000000'}, {'asset': 'PHX', 'free': '0.00000000', 'locked': '0.00000000'}, {'asset': 'HC', 'free': '0.00000000', 'locked': '0.00000000'}, {'asset': 'GO', 'free': '0.00000000', 'locked': '0.00000000'}, {'asset': 'PAX', 'free': '0.00000000', 'locked': '0.00000000'}, {'asset': 'RVN', 'free': '0.00000000', 'locked': '0.00000000'}, {'asset': 'DCR', 'free': '0.00000000', 'locked': '0.00000000'}, {'asset': 'USDC', 'free': '0.00000000', 'locked': '0.00000000'}, {'asset': 'MITH', 'free': '0.00000000', 'locked': '0.00000000'}, {'asset': 'BCHABC', 'free': '0.00000000', 'locked': '0.00000000'}, {'asset': 'BCHSV', 'free': '0.00000000', 'locked': '0.00000000'}, {'asset': 'REN', 'free': '0.00000000', 'locked': '0.00000000'}, {'asset': 'BTT', 'free': '0.00000000', 'locked': '0.00000000'}, {'asset': 'USDS', 'free': '0.00000000', 'locked': '0.00000000'}, {'asset': 'FET', 'free': '0.00000000', 'locked': '0.00000000'}, {'asset': 'TFUEL', 'free': '0.00000000', 'locked': '0.00000000'}, {'asset': 'CELR', 'free': '0.00000000', 'locked': '0.00000000'}, {'asset': 'MATIC', 'free': '0.00000000', 'locked': '0.00000000'}, {'asset': 'ATOM', 'free': '0.00000000', 'locked': '0.00000000'}, {'asset': 'PHB', 'free': '0.00000000', 'locked': '0.00000000'}, {'asset': 'ONE', 'free': '0.00000000', 'locked': '0.00000000'}, {'asset': 'FTM', 'free': '0.00000000', 'locked': '0.00000000'}, {'asset': 'BTCB', 'free': '0.00000000', 'locked': '0.00000000'}, {'asset': 'USDSB', 'free': '0.00000000', 'locked': '0.00000000'}, {'asset': 'CHZ', 'free': '0.00000000', 'locked': '0.00000000'}, {'asset': 'COS', 'free': '0.00000000', 'locked': '0.00000000'}, {'asset': 'ALGO', 'free': '0.00000000', 'locked': '0.00000000'}, {'asset': 'ERD', 'free': '0.00000000', 'locked': '0.00000000'}, {'asset': 'DOGE', 'free': '0.00000000', 'locked': '0.00000000'}, {'asset': 'BGBP', 'free': '0.00000000', 'locked': '0.00000000'}, {'asset': 'DUSK', 'free': '0.00000000', 'locked': '0.00000000'}, {'asset': 'ANKR', 'free': '0.00000000', 'locked': '0.00000000'}, {'asset': 'WIN', 'free': '0.00000000', 'locked': '0.00000000'}, {'asset': 'TUSDB', 'free': '0.00000000', 'locked': '0.00000000'}, {'asset': 'COCOS', 'free': '0.00000000', 'locked': '0.00000000'}, {'asset': 'PERL', 'free': '0.00000000', 'locked': '0.00000000'}, {'asset': 'TOMO', 'free': '0.00000000', 'locked': '0.00000000'}, {'asset': 'BUSD', 'free': '0.00000000', 'locked': '0.00000000'}, {'asset': 'BAND', 'free': '0.00000000', 'locked': '0.00000000'}, {'asset': 'BEAM', 'free': '0.00000000', 'locked': '0.00000000'}, {'asset': 'HBAR', 'free': '0.00000000', 'locked': '0.00000000'}, {'asset': 'XTZ', 'free': '0.00000000', 'locked': '0.00000000'}, {'asset': 'NGN', 'free': '0.00000000', 'locked': '0.00000000'}, {'asset': 'DGB', 'free': '0.00000000', 'locked': '0.00000000'}, {'asset': 'NKN', 'free': '0.00000000', 'locked': '0.00000000'}, {'asset': 'GBP', 'free': '0.00000000', 'locked': '0.00000000'}, {'asset': 'EUR', 'free': '0.00000000', 'locked': '0.00000000'}, {'asset': 'KAVA', 'free': '0.00000000', 'locked': '0.00000000'}, {'asset': 'RUB', 'free': '0.00000000', 'locked': '0.00000000'}, {'asset': 'UAH', 'free': '0.00000000', 'locked': '0.00000000'}, {'asset': 'ARPA', 'free': '0.00000000', 'locked': '0.00000000'}, {'asset': 'TRY', 'free': '0.00000000', 'locked': '0.00000000'}, {'asset': 'CTXC', 'free': '0.00000000', 'locked': '0.00000000'}, {'asset': 'AERGO', 'free': '0.00000000', 'locked': '0.00000000'}, {'asset': 'BCH', 'free': '0.00000000', 'locked': '0.00000000'}, {'asset': 'TROY', 'free': '0.00000000', 'locked': '0.00000000'}, {'asset': 'ARS', 'free': '0.00000000', 'locked': '0.00000000'}, {'asset': 'BRL', 'free': '0.00000000', 'locked': '0.00000000'}, {'asset': 'VITE', 'free': '0.00000000', 'locked': '0.00000000'}, {'asset': 'FTT', 'free': '0.00000000', 'locked': '0.00000000'}, {'asset': 'PLN', 'free': '0.00000000', 'locked': '0.00000000'}, {'asset': 'RON', 'free': '0.00000000', 'locked': '0.00000000'}, {'asset': 'AUD', 'free': '0.00000000', 'locked': '0.00000000'}, {'asset': 'OGN', 'free': '0.00000000', 'locked': '0.00000000'}, {'asset': 'DREP', 'free': '0.00000000', 'locked': '0.00000000'}, {'asset': 'BULL', 'free': '0.00000000', 'locked': '0.00000000'}, {'asset': 'BEAR', 'free': '0.00000000', 'locked': '0.00000000'}, {'asset': 'ETHBULL', 'free': '0.00000000', 'locked': '0.00000000'}, {'asset': 'ETHBEAR', 'free': '0.00000000', 'locked': '0.00000000'}, {'asset': 'XRPBULL', 'free': '0.00000000', 'locked': '0.00000000'}, {'asset': 'XRPBEAR', 'free': '0.00000000', 'locked': '0.00000000'}, {'asset': 'EOSBULL', 'free': '0.00000000', 'locked': '0.00000000'}, {'asset': 'EOSBEAR', 'free': '0.00000000', 'locked': '0.00000000'}, {'asset': 'TCT', 'free': '0.00000000', 'locked': '0.00000000'}, {'asset': 'WRX', 'free': '0.00000000', 'locked': '0.00000000'}, {'asset': 'LTO', 'free': '0.00000000', 'locked': '0.00000000'}, {'asset': 'ZAR', 'free': '0.00000000', 'locked': '0.00000000'}, {'asset': 'MBL', 'free': '0.00000000', 'locked': '0.00000000'}, {'asset': 'COTI', 'free': '0.00000000', 'locked': '0.00000000'}, {'asset': 'BKRW', 'free': '0.00000000', 'locked': '0.00000000'}, {'asset': 'BNBBULL', 'free': '0.00000000', 'locked': '0.00000000'}, {'asset': 'BNBBEAR', 'free': '0.00000000', 'locked': '0.00000000'}, {'asset': 'HIVE', 'free': '0.00000000', 'locked': '0.00000000'}, {'asset': 'STPT', 'free': '0.00000000', 'locked': '0.00000000'}, {'asset': 'SOL', 'free': '0.00000000', 'locked': '0.00000000'}, {'asset': 'IDRT', 'free': '0.00', 'locked': '0.00'}, {'asset': 'CTSI', 'free': '0.00000000', 'locked': '0.00000000'}, {'asset': 'CHR', 'free': '0.00000000', 'locked': '0.00000000'}, {'asset': 'BTCUP', 'free': '0.00000000', 'locked': '0.00000000'}, {'asset': 'BTCDOWN', 'free': '0.00000000', 'locked': '0.00000000'}, {'asset': 'HNT', 'free': '0.00000000', 'locked': '0.00000000'}, {'asset': 'JST', 'free': '0.00000000', 'locked': '0.00000000'}, {'asset': 'FIO', 'free': '0.00000000', 'locked': '0.00000000'}, {'asset': 'BIDR', 'free': '0.00', 'locked': '0.00'}, {'asset': 'STMX', 'free': '0.00000000', 'locked': '0.00000000'}, {'asset': 'MDT', 'free': '0.00000000', 'locked': '0.00000000'}, {'asset': 'PNT', 'free': '0.00000000', 'locked': '0.00000000'}, {'asset': 'COMP', 'free': '0.00000000', 'locked': '0.00000000'}, {'asset': 'IRIS', 'free': '0.00000000', 'locked': '0.00000000'}, {'asset': 'MKR', 'free': '0.00000000', 'locked': '0.00000000'}, {'asset': 'SXP', 'free': '0.00000000', 'locked': '0.00000000'}, {'asset': 'SNX', 'free': '0.00000000', 'locked': '0.00000000'}, {'asset': 'DAI', 'free': '0.00000000', 'locked': '0.00000000'}, {'asset': 'ETHUP', 'free': '0.00000000', 'locked': '0.00000000'}, {'asset': 'ETHDOWN', 'free': '0.00000000', 'locked': '0.00000000'}, {'asset': 'ADAUP', 'free': '0.00000000', 'locked': '0.00000000'}, {'asset': 'ADADOWN', 'free': '0.00000000', 'locked': '0.00000000'}, {'asset': 'LINKUP', 'free': '0.00000000', 'locked': '0.00000000'}, {'asset': 'LINKDOWN', 'free': '0.00000000', 'locked': '0.00000000'}, {'asset': 'DOT', 'free': '0.00000000', 'locked': '0.00000000'}, {'asset': 'RUNE', 'free': '0.00000000', 'locked': '0.00000000'}, {'asset': 'BNBUP', 'free': '0.00000000', 'locked': '0.00000000'}, {'asset': 'BNBDOWN', 'free': '0.00000000', 'locked': '0.00000000'}, {'asset': 'XTZUP', 'free': '0.00000000', 'locked': '0.00000000'}, {'asset': 'XTZDOWN', 'free': '0.00000000', 'locked': '0.00000000'}, {'asset': 'AVA', 'free': '0.00000000', 'locked': '0.00000000'}, {'asset': 'BAL', 'free': '0.00000000', 'locked': '0.00000000'}, {'asset': 'YFI', 'free': '0.00000000', 'locked': '0.00000000'}, {'asset': 'SRM', 'free': '0.00000000', 'locked': '0.00000000'}, {'asset': 'ANT', 'free': '0.00000000', 'locked': '0.00000000'}, {'asset': 'CRV', 'free': '0.00000000', 'locked': '0.00000000'}, {'asset': 'SAND', 'free': '0.00000000', 'locked': '0.00000000'}, {'asset': 'OCEAN', 'free': '0.00000000', 'locked': '0.00000000'}, {'asset': 'NMR', 'free': '0.00000000', 'locked': '0.00000000'}, {'asset': 'LUNA', 'free': '0.00000000', 'locked': '0.00000000'}, {'asset': 'IDEX', 'free': '0.00000000', 'locked': '0.00000000'}, {'asset': 'RSR', 'free': '0.00000000', 'locked': '0.00000000'}, {'asset': 'PAXG', 'free': '0.00000000', 'locked': '0.00000000'}, {'asset': 'WNXM', 'free': '0.00000000', 'locked': '0.00000000'}, {'asset': 'TRB', 'free': '0.00000000', 'locked': '0.00000000'}, {'asset': 'EGLD', 'free': '0.00000000', 'locked': '0.00000000'}, {'asset': 'BZRX', 'free': '0.00000000', 'locked': '0.00000000'}, {'asset': 'WBTC', 'free': '0.00000000', 'locked': '0.00000000'}, {'asset': 'KSM', 'free': '0.00000000', 'locked': '0.00000000'}, {'asset': 'SUSHI', 'free': '0.00000000', 'locked': '0.00000000'}, {'asset': 'YFII', 'free': '0.00000000', 'locked': '0.00000000'}, {'asset': 'DIA', 'free': '0.00000000', 'locked': '0.00000000'}, {'asset': 'BEL', 'free': '0.00000000', 'locked': '0.00000000'}, {'asset': 'UMA', 'free': '0.00000000', 'locked': '0.00000000'}, {'asset': 'EOSUP', 'free': '0.00000000', 'locked': '0.00000000'}, {'asset': 'TRXUP', 'free': '0.00000000', 'locked': '0.00000000'}, {'asset': 'EOSDOWN', 'free': '0.00000000', 'locked': '0.00000000'}, {'asset': 'TRXDOWN', 'free': '0.00000000', 'locked': '0.00000000'}, {'asset': 'XRPUP', 'free': '0.00000000', 'locked': '0.00000000'}, {'asset': 'XRPDOWN', 'free': '0.00000000', 'locked': '0.00000000'}, {'asset': 'DOTUP', 'free': '0.00000000', 'locked': '0.00000000'}, {'asset': 'DOTDOWN', 'free': '0.00000000', 'locked': '0.00000000'}, {'asset': 'NBS', 'free': '0.00000000', 'locked': '0.00000000'}, {'asset': 'WING', 'free': '0.00000000', 'locked': '0.00000000'}, {'asset': 'SWRV', 'free': '0.00000000', 'locked': '0.00000000'}, {'asset': 'LTCUP', 'free': '0.00000000', 'locked': '0.00000000'}, {'asset': 'LTCDOWN', 'free': '0.00000000', 'locked': '0.00000000'}, {'asset': 'CREAM', 'free': '0.00000000', 'locked': '0.00000000'}, {'asset': 'UNI', 'free': '0.00000000', 'locked': '0.00000000'}, {'asset': 'OXT', 'free': '0.00000000', 'locked': '0.00000000'}, {'asset': 'SUN', 'free': '0.00000000', 'locked': '0.00000000'}, {'asset': 'AVAX', 'free': '0.00000000', 'locked': '0.00000000'}, {'asset': 'BURGER', 'free': '0.00000000', 'locked': '0.00000000'}, {'asset': 'BAKE', 'free': '0.00000000', 'locked': '0.00000000'}, {'asset': 'FLM', 'free': '0.00000000', 'locked': '0.00000000'}, {'asset': 'SCRT', 'free': '0.00000000', 'locked': '0.00000000'}, {'asset': 'XVS', 'free': '0.00000000', 'locked': '0.00000000'}, {'asset': 'CAKE', 'free': '0.00000000', 'locked': '0.00000000'}, {'asset': 'SPARTA', 'free': '0.00000000', 'locked': '0.00000000'}, {'asset': 'UNIUP', 'free': '0.00000000', 'locked': '0.00000000'}, {'asset': 'UNIDOWN', 'free': '0.00000000', 'locked': '0.00000000'}, {'asset': 'ALPHA', 'free': '0.00000000', 'locked': '0.00000000'}, {'asset': 'ORN', 'free': '0.00000000', 'locked': '0.00000000'}, {'asset': 'UTK', 'free': '0.00000000', 'locked': '0.00000000'}, {'asset': 'NEAR', 'free': '0.00000000', 'locked': '0.00000000'}, {'asset': 'VIDT', 'free': '0.00000000', 'locked': '0.00000000'}, {'asset': 'AAVE', 'free': '0.00000000', 'locked': '0.00000000'}, {'asset': 'FIL', 'free': '0.00000000', 'locked': '0.00000000'}, {'asset': 'SXPUP', 'free': '0.00000000', 'locked': '0.00000000'}, {'asset': 'SXPDOWN', 'free': '0.00000000', 'locked': '0.00000000'}, {'asset': 'INJ', 'free': '0.00000000', 'locked': '0.00000000'}, {'asset': 'FILDOWN', 'free': '0.00000000', 'locked': '0.00000000'}, {'asset': 'FILUP', 'free': '0.00000000', 'locked': '0.00000000'}, {'asset': 'YFIUP', 'free': '0.00000000', 'locked': '0.00000000'}, {'asset': 'YFIDOWN', 'free': '0.00000000', 'locked': '0.00000000'}, {'asset': 'CTK', 'free': '0.00000000', 'locked': '0.00000000'}, {'asset': 'EASY', 'free': '0.00000000', 'locked': '0.00000000'}, {'asset': 'AUDIO', 'free': '0.00000000', 'locked': '0.00000000'}, {'asset': 'BCHUP', 'free': '0.00000000', 'locked': '0.00000000'}, {'asset': 'BCHDOWN', 'free': '0.00000000', 'locked': '0.00000000'}, {'asset': 'BOT', 'free': '0.00000000', 'locked': '0.00000000'}, {'asset': 'AXS', 'free': '0.00000000', 'locked': '0.00000000'}, {'asset': 'AKRO', 'free': '0.00000000', 'locked': '0.00000000'}, {'asset': 'HARD', 'free': '0.00000000', 'locked': '0.00000000'}, {'asset': 'KP3R', 'free': '0.00000000', 'locked': '0.00000000'}, {'asset': 'RENBTC', 'free': '0.00000000', 'locked': '0.00000000'}, {'asset': 'SLP', 'free': '0.00000000', 'locked': '0.00000000'}, {'asset': 'STRAX', 'free': '0.00000000', 'locked': '0.00000000'}, {'asset': 'UNFI', 'free': '0.00000000', 'locked': '0.00000000'}, {'asset': 'CVP', 'free': '0.00000000', 'locked': '0.00000000'}, {'asset': 'BCHA', 'free': '0.00000000', 'locked': '0.00000000'}, {'asset': 'FOR', 'free': '0.00000000', 'locked': '0.00000000'}, {'asset': 'FRONT', 'free': '0.00000000', 'locked': '0.00000000'}, {'asset': 'ROSE', 'free': '0.00000000', 'locked': '0.00000000'}, {'asset': 'MDX', 'free': '0.00000000', 'locked': '0.00000000'}, {'asset': 'HEGIC', 'free': '0.00000000', 'locked': '0.00000000'}, {'asset': 'AAVEUP', 'free': '0.00000000', 'locked': '0.00000000'}, {'asset': 'AAVEDOWN', 'free': '0.00000000', 'locked': '0.00000000'}, {'asset': 'PROM', 'free': '0.00000000', 'locked': '0.00000000'}, {'asset': 'BETH', 'free': '0.00000000', 'locked': '0.00000000'}, {'asset': 'SKL', 'free': '0.00000000', 'locked': '0.00000000'}, {'asset': 'GLM', 'free': '0.00000000', 'locked': '0.00000000'}, {'asset': 'SUSD', 'free': '0.00000000', 'locked': '0.00000000'}, {'asset': 'COVER', 'free': '0.00000000', 'locked': '0.00000000'}, {'asset': 'GHST', 'free': '0.00000000', 'locked': '0.00000000'}, {'asset': 'SUSHIUP', 'free': '0.00000000', 'locked': '0.00000000'}, {'asset': 'SUSHIDOWN', 'free': '0.00000000', 'locked': '0.00000000'}, {'asset': 'XLMUP', 'free': '0.00000000', 'locked': '0.00000000'}, {'asset': 'XLMDOWN', 'free': '0.00000000', 'locked': '0.00000000'}, {'asset': 'DF', 'free': '0.00000000', 'locked': '0.00000000'}, {'asset': 'JUV', 'free': '0.00000000', 'locked': '0.00000000'}, {'asset': 'PSG', 'free': '0.00000000', 'locked': '0.00000000'}, {'asset': 'BVND', 'free': '0.00', 'locked': '0.00'}, {'asset': 'GRT', 'free': '0.00000000', 'locked': '0.00000000'}, {'asset': 'CELO', 'free': '0.00000000', 'locked': '0.00000000'}, {'asset': 'TWT', 'free': '0.00000000', 'locked': '0.00000000'}, {'asset': 'REEF', 'free': '0.00000000', 'locked': '0.00000000'}, {'asset': 'OG', 'free': '0.00000000', 'locked': '0.00000000'}, {'asset': 'ATM', 'free': '0.00000000', 'locked': '0.00000000'}, {'asset': 'ASR', 'free': '0.00000000', 'locked': '0.00000000'}, {'asset': '1INCH', 'free': '0.00000000', 'locked': '0.00000000'}, {'asset': 'RIF', 'free': '0.00000000', 'locked': '0.00000000'}, {'asset': 'BTCST', 'free': '0.00000000', 'locked': '0.00000000'}, {'asset': 'TRU', 'free': '0.00000000', 'locked': '0.00000000'}, {'asset': 'DEXE', 'free': '0.00000000', 'locked': '0.00000000'}, {'asset': 'CKB', 'free': '0.00000000', 'locked': '0.00000000'}, {'asset': 'FIRO', 'free': '0.00000000', 'locked': '0.00000000'}, {'asset': 'LIT', 'free': '0.00000000', 'locked': '0.00000000'}, {'asset': 'PROS', 'free': '0.00000000', 'locked': '0.00000000'}, {'asset': 'VAI', 'free': '0.00000000', 'locked': '0.00000000'}, {'asset': 'SFP', 'free': '0.00000000', 'locked': '0.00000000'}, {'asset': 'FXS', 'free': '0.00000000', 'locked': '0.00000000'}, {'asset': 'DODO', 'free': '0.00000000', 'locked': '0.00000000'}, {'asset': 'AUCTION', 'free': '0.00000000', 'locked': '0.00000000'}, {'asset': 'UFT', 'free': '0.00000000', 'locked': '0.00000000'}, {'asset': 'ACM', 'free': '0.00000000', 'locked': '0.00000000'}, {'asset': 'PHA', 'free': '0.00000000', 'locked': '0.00000000'}, {'asset': 'TVK', 'free': '0.00000000', 'locked': '0.00000000'}, {'asset': 'BADGER', 'free': '0.00000000', 'locked': '0.00000000'}, {'asset': 'FIS', 'free': '0.00000000', 'locked': '0.00000000'}, {'asset': 'QI', 'free': '0.00000000', 'locked': '0.00000000'}, {'asset': 'OM', 'free': '0.00000000', 'locked': '0.00000000'}, {'asset': 'POND', 'free': '0.00000000', 'locked': '0.00000000'}, {'asset': 'ALICE', 'free': '0.00000000', 'locked': '0.00000000'}, {'asset': 'DEGO', 'free': '0.00000000', 'locked': '0.00000000'}, {'asset': 'BIFI', 'free': '0.00000000', 'locked': '0.00000000'}, {'asset': 'LINA', 'free': '0.00000000', 'locked': '0.00000000'}, {'asset': 'PERP', 'free': '0.00000000', 'locked': '0.00000000'}, {'asset': 'RAMP', 'free': '0.00000000', 'locked': '0.00000000'}, {'asset': 'SUPER', 'free': '0.00000000', 'locked': '0.00000000'}, {'asset': 'CFX', 'free': '0.00000000', 'locked': '0.00000000'}, {'asset': 'TKO', 'free': '0.00000000', 'locked': '0.00000000'}, {'asset': 'AUTO', 'free': '0.00000000', 'locked': '0.00000000'}, {'asset': 'EPS', 'free': '0.00000000', 'locked': '0.00000000'}, {'asset': 'PUNDIX', 'free': '0.00000000', 'locked': '0.00000000'}, {'asset': 'TLM', 'free': '0.00000000', 'locked': '0.00000000'}, {'asset': '1INCHUP', 'free': '0.00000000', 'locked': '0.00000000'}, {'asset': '1INCHDOWN', 'free': '0.00000000', 'locked': '0.00000000'}, {'asset': 'MIR', 'free': '0.00000000', 'locked': '0.00000000'}, {'asset': 'BAR', 'free': '0.00000000', 'locked': '0.00000000'}, {'asset': 'FORTH', 'free': '0.00000000', 'locked': '0.00000000'}, {'asset': 'EZ', 'free': '0.00000000', 'locked': '0.00000000'}, {'asset': 'AR', 'free': '0.00000000', 'locked': '0.00000000'}, {'asset': 'ICP', 'free': '0.00000000', 'locked': '0.00000000'}, {'asset': 'SHIB', 'free': '0.00', 'locked': '0.00'}, {'asset': 'POLS', 'free': '0.00000000', 'locked': '0.00000000'}, {'asset': 'MASK', 'free': '0.00000000', 'locked': '0.00000000'}, {'asset': 'LPT', 'free': '0.00000000', 'locked': '0.00000000'}, {'asset': 'AGIX', 'free': '0.00000000', 'locked': '0.00000000'}, {'asset': 'ATA', 'free': '0.00000000', 'locked': '0.00000000'}, {'asset': 'NU', 'free': '0.00000000', 'locked': '0.00000000'}, {'asset': 'GTC', 'free': '0.00000000', 'locked': '0.00000000'}, {'asset': 'KLAY', 'free': '0.00000000', 'locked': '0.00000000'}, {'asset': 'TORN', 'free': '0.00000000', 'locked': '0.00000000'}, {'asset': 'KEEP', 'free': '0.00000000', 'locked': '0.00000000'}, {'asset': 'ERN', 'free': '0.00000000', 'locked': '0.00000000'}, {'asset': 'BOND', 'free': '0.00000000', 'locked': '0.00000000'}, {'asset': 'MLN', 'free': '0.00000000', 'locked': '0.00000000'}, {'asset': 'C98', 'free': '0.00000000', 'locked': '0.00000000'}, {'asset': 'FLOW', 'free': '0.00000000', 'locked': '0.00000000'}, {'asset': 'QUICK', 'free': '0.00000000', 'locked': '0.00000000'}, {'asset': 'RAY', 'free': '0.00000000', 'locked': '0.00000000'}, {'asset': 'MINA', 'free': '0.00000000', 'locked': '0.00000000'}, {'asset': 'QNT', 'free': '0.00000000', 'locked': '0.00000000'}, {'asset': 'CLV', 'free': '0.00000000', 'locked': '0.00000000'}, {'asset': 'XEC', 'free': '0.00', 'locked': '0.00'}, {'asset': 'ALPACA', 'free': '0.00000000', 'locked': '0.00000000'}, {'asset': 'FARM', 'free': '0.00000000', 'locked': '0.00000000'}, {'asset': 'VGX', 'free': '0.00000000', 'locked': '0.00000000'}, {'asset': 'MBOX', 'free': '0.00000000', 'locked': '0.00000000'}, {'asset': 'WAXP', 'free': '0.00000000', 'locked': '0.00000000'}, {'asset': 'TRIBE', 'free': '0.00000000', 'locked': '0.00000000'}, {'asset': 'GNO', 'free': '0.00000000', 'locked': '0.00000000'}, {'asset': 'USDP', 'free': '0.00000000', 'locked': '0.00000000'}, {'asset': 'DYDX', 'free': '0.00000000', 'locked': '0.00000000'}, {'asset': 'GALA', 'free': '0.00000000', 'locked': '0.00000000'}, {'asset': 'ILV', 'free': '0.00000000', 'locked': '0.00000000'}, {'asset': 'YGG', 'free': '0.00000000', 'locked': '0.00000000'}, {'asset': 'FIDA', 'free': '0.00000000', 'locked': '0.00000000'}, {'asset': 'AGLD', 'free': '0.00000000', 'locked': '0.00000000'}, {'asset': 'BETA', 'free': '0.00000000', 'locked': '0.00000000'}, {'asset': 'RAD', 'free': '0.00000000', 'locked': '0.00000000'}, {'asset': 'RARE', 'free': '0.00000000', 'locked': '0.00000000'}, {'asset': 'SSV', 'free': '0.00000000', 'locked': '0.00000000'}, {'asset': 'LAZIO', 'free': '0.00000000', 'locked': '0.00000000'}, {'asset': 'MOVR', 'free': '0.00000000', 'locked': '0.00000000'}, {'asset': 'CHESS', 'free': '0.00000000', 'locked': '0.00000000'}, {'asset': 'DAR', 'free': '0.00000000', 'locked': '0.00000000'}, {'asset': 'ACA', 'free': '0.00000000', 'locked': '0.00000000'}, {'asset': 'ASTR', 'free': '0.00000000', 'locked': '0.00000000'}, {'asset': 'BNX', 'free': '0.00000000', 'locked': '0.00000000'}, {'asset': 'RGT', 'free': '0.00000000', 'locked': '0.00000000'}, {'asset': 'CITY', 'free': '0.00000000', 'locked': '0.00000000'}, {'asset': 'ENS', 'free': '0.00000000', 'locked': '0.00000000'}, {'asset': 'PORTO', 'free': '0.00000000', 'locked': '0.00000000'}, {'asset': 'JASMY', 'free': '0.00000000', 'locked': '0.00000000'}, {'asset': 'AMP', 'free': '0.00000000', 'locked': '0.00000000'}, {'asset': 'PLA', 'free': '0.00000000', 'locked': '0.00000000'}, {'asset': 'PYR', 'free': '0.00000000', 'locked': '0.00000000'}, {'asset': 'SANTOS', 'free': '0.00000000', 'locked': '0.00000000'}, {'asset': 'RNDR', 'free': '0.00000000', 'locked': '0.00000000'}, {'asset': 'ALCX', 'free': '0.00000000', 'locked': '0.00000000'}, {'asset': 'MC', 'free': '0.00000000', 'locked': '0.00000000'}, {'asset': 'ANY', 'free': '0.00000000', 'locked': '0.00000000'}, {'asset': 'VOXEL', 'free': '0.00000000', 'locked': '0.00000000'}, {'asset': 'BICO', 'free': '0.00000000', 'locked': '0.00000000'}, {'asset': 'FLUX', 'free': '0.00000000', 'locked': '0.00000000'}, {'asset': 'UST', 'free': '0.00000000', 'locked': '0.00000000'}, {'asset': 'HIGH', 'free': '0.00000000', 'locked': '0.00000000'}, {'asset': 'OOKI', 'free': '0.00000000', 'locked': '0.00000000'}, {'asset': 'CVX', 'free': '0.00000000', 'locked': '0.00000000'}, {'asset': 'PEOPLE', 'free': '0.00000000', 'locked': '0.00000000'}, {'asset': 'SPELL', 'free': '0.00000000', 'locked': '0.00000000'}, {'asset': 'JOE', 'free': '0.00000000', 'locked': '0.00000000'}, {'asset': 'BDOT', 'free': '0.00000000', 'locked': '0.00000000'}, {'asset': 'GLMR', 'free': '0.00000000', 'locked': '0.00000000'}, {'asset': 'ACH', 'free': '0.00000000', 'locked': '0.00000000'}, {'asset': 'IMX', 'free': '0.00000000', 'locked': '0.00000000'}, {'asset': 'LOKA', 'free': '0.00000000', 'locked': '0.00000000'}, {'asset': 'BTTC', 'free': '0.0', 'locked': '0.0'}, {'asset': 'ANC', 'free': '0.00000000', 'locked': '0.00000000'}, {'asset': 'API3', 'free': '0.00000000', 'locked': '0.00000000'}, {'asset': 'XNO', 'free': '0.00000000', 'locked': '0.00000000'}, {'asset': 'WOO', 'free': '0.00000000', 'locked': '0.00000000'}, {'asset': 'ALPINE', 'free': '0.00000000', 'locked': '0.00000000'}, {'asset': 'T', 'free': '0.00000000', 'locked': '0.00000000'}, {'asset': 'NBT', 'free': '0.00000000', 'locked': '0.00000000'}, {'asset': 'KDA', 'free': '0.00000000', 'locked': '0.00000000'}, {'asset': 'APE', 'free': '0.00000000', 'locked': '0.00000000'}, {'asset': 'GMT', 'free': '0.00000000', 'locked': '0.00000000'}, {'asset': 'MOB', 'free': '0.00000000', 'locked': '0.00000000'}, {'asset': 'BSW', 'free': '0.00000000', 'locked': '0.00000000'}, {'asset': 'MULTI', 'free': '0.00000000', 'locked': '0.00000000'}, {'asset': 'REI', 'free': '0.00000000', 'locked': '0.00000000'}, {'asset': 'GAL', 'free': '0.00000000', 'locked': '0.00000000'}, {'asset': 'NEXO', 'free': '0.00000000', 'locked': '0.00000000'}, {'asset': 'EPX', 'free': '0.00000000', 'locked': '0.00000000'}, {'asset': 'LDO', 'free': '0.00000000', 'locked': '0.00000000'}, {'asset': 'USTC', 'free': '0.00000000', 'locked': '0.00000000'}, {'asset': 'LUNC', 'free': '0.00000000', 'locked': '0.00000000'}, {'asset': 'OP', 'free': '0.00000000', 'locked': '0.00000000'}, {'asset': 'LEVER', 'free': '0.00000000', 'locked': '0.00000000'}, {'asset': 'STG', 'free': '0.00000000', 'locked': '0.00000000'}, {'asset': 'POLYX', 'free': '0.00000000', 'locked': '0.00000000'}, {'asset': 'GMX', 'free': '0.00000000', 'locked': '0.00000000'}, {'asset': 'APT', 'free': '0.00000000', 'locked': '0.00000000'}, {'asset': 'OSMO', 'free': '0.00000000', 'locked': '0.00000000'}, {'asset': 'HFT', 'free': '0.00000000', 'locked': '0.00000000'}, {'asset': 'HOOK', 'free': '0.00000000', 'locked': '0.00000000'}, {'asset': 'MAGIC', 'free': '0.00000000', 'locked': '0.00000000'}, {'asset': 'HIFI', 'free': '0.00000000', 'locked': '0.00000000'}, {'asset': 'RPL', 'free': '0.00000000', 'locked': '0.00000000'}, {'asset': 'GFT', 'free': '0.00000000', 'locked': '0.00000000'}, {'asset': 'GNS', 'free': '0.00000000', 'locked': '0.00000000'}, {'asset': 'SYN', 'free': '0.00000000', 'locked': '0.00000000'}, {'asset': 'LQTY', 'free': '0.00000000', 'locked': '0.00000000'}, {'asset': 'ID', 'free': '0.00000000', 'locked': '0.00000000'}, {'asset': 'ARB', 'free': '0.00000000', 'locked': '0.00000000'}, {'asset': 'RDNT', 'free': '0.00000000', 'locked': '0.00000000'}, {'asset': 'EDU', 'free': '0.00000000', 'locked': '0.00000000'}, {'asset': 'SUI', 'free': '0.00000000', 'locked': '0.00000000'}, {'asset': 'PEPE', 'free': '0.00', 'locked': '0.00'}, {'asset': 'FLOKI', 'free': '0.00', 'locked': '0.00'}], 'permissions': ['SPOT', 'TRD_GRP_002']}\n"
     ]
    }
   ],
   "source": [
    "info = client.get_account()\n",
    "print(info)"
   ]
  },
  {
   "cell_type": "code",
   "execution_count": 8,
   "id": "e4a871bb-c5e7-4a5b-a65b-ba90ad685815",
   "metadata": {},
   "outputs": [
    {
     "name": "stdout",
     "output_type": "stream",
     "text": [
      "makerCommission\n",
      "takerCommission\n",
      "buyerCommission\n",
      "sellerCommission\n",
      "commissionRates\n",
      "canTrade\n",
      "canWithdraw\n",
      "canDeposit\n",
      "brokered\n",
      "requireSelfTradePrevention\n",
      "updateTime\n",
      "accountType\n",
      "balances\n",
      "permissions\n"
     ]
    }
   ],
   "source": [
    "info = client.get_account()\n",
    "for i in info:\n",
    "    print(i)"
   ]
  },
  {
   "cell_type": "code",
   "execution_count": 19,
   "id": "abf57306-6941-413b-8c21-ba2ea8aa9f60",
   "metadata": {},
   "outputs": [
    {
     "name": "stdout",
     "output_type": "stream",
     "text": [
      "{'maker': '0.00100000', 'taker': '0.00100000', 'buyer': '0.00000000', 'seller': '0.00000000'}\n",
      "True\n",
      "True\n",
      "True\n",
      "1683323230653\n",
      "SPOT\n",
      "['SPOT', 'TRD_GRP_002']\n"
     ]
    }
   ],
   "source": [
    "print(info['commissionRates'])\n",
    "print(info['canTrade'])\n",
    "print(info['canWithdraw'])\n",
    "print(info['canDeposit'])\n",
    "print(info['updateTime'])\n",
    "print(info['accountType'])\n",
    "print(info['permissions'])"
   ]
  },
  {
   "cell_type": "code",
   "execution_count": 32,
   "id": "0f632feb-b8f4-4f99-94e9-7bb3f25b98b0",
   "metadata": {},
   "outputs": [
    {
     "name": "stdout",
     "output_type": "stream",
     "text": [
      "0.00100000\n",
      "0.00000000\n"
     ]
    }
   ],
   "source": [
    "print(info['commissionRates']['maker'])\n",
    "print(info['commissionRates']['seller'])"
   ]
  },
  {
   "cell_type": "code",
   "execution_count": 38,
   "id": "19ebe4a4-df02-42ad-bd03-6b02c13fb737",
   "metadata": {},
   "outputs": [
    {
     "name": "stdout",
     "output_type": "stream",
     "text": [
      "[{'asset': 'BTC', 'free': '0.00000000', 'locked': '0.00000000'}, {'asset': 'LTC', 'free': '0.00000000', 'locked': '0.00000000'}]\n"
     ]
    }
   ],
   "source": [
    "print(info['balances'][0:2])"
   ]
  },
  {
   "cell_type": "markdown",
   "id": "9d3340a8-8adb-4403-9730-bb0edbc0e3a2",
   "metadata": {},
   "source": [
    "# BNBBTC ORNEK "
   ]
  },
  {
   "cell_type": "markdown",
   "id": "db0f4140-27c3-4990-91b1-c5ca47dfdd84",
   "metadata": {},
   "source": [
    "## get_historical_klines"
   ]
  },
  {
   "cell_type": "code",
   "execution_count": 89,
   "id": "b606055c-ecf0-42aa-808b-d42c6c1bb268",
   "metadata": {},
   "outputs": [
    {
     "data": {
      "text/html": [
       "<div>\n",
       "<style scoped>\n",
       "    .dataframe tbody tr th:only-of-type {\n",
       "        vertical-align: middle;\n",
       "    }\n",
       "\n",
       "    .dataframe tbody tr th {\n",
       "        vertical-align: top;\n",
       "    }\n",
       "\n",
       "    .dataframe thead th {\n",
       "        text-align: right;\n",
       "    }\n",
       "</style>\n",
       "<table border=\"1\" class=\"dataframe\">\n",
       "  <thead>\n",
       "    <tr style=\"text-align: right;\">\n",
       "      <th></th>\n",
       "      <th>timestamp</th>\n",
       "      <th>open</th>\n",
       "      <th>high</th>\n",
       "      <th>low</th>\n",
       "      <th>close</th>\n",
       "      <th>volume</th>\n",
       "      <th>close_time</th>\n",
       "      <th>quote_asset_volume</th>\n",
       "      <th>number_of_trades</th>\n",
       "      <th>taker_buy_base_asset_volume</th>\n",
       "      <th>taker_buy_quote_asset_volume</th>\n",
       "      <th>ignore</th>\n",
       "    </tr>\n",
       "  </thead>\n",
       "  <tbody>\n",
       "    <tr>\n",
       "      <th>122</th>\n",
       "      <td>2017-11-13</td>\n",
       "      <td>0.01121600</td>\n",
       "      <td>0.01145500</td>\n",
       "      <td>0.01120000</td>\n",
       "      <td>0.01122900</td>\n",
       "      <td>72351.51700000</td>\n",
       "      <td>1683158399999</td>\n",
       "      <td>819.29969417</td>\n",
       "      <td>80186</td>\n",
       "      <td>35118.24400000</td>\n",
       "      <td>398.08262466</td>\n",
       "      <td>0</td>\n",
       "    </tr>\n",
       "    <tr>\n",
       "      <th>123</th>\n",
       "      <td>2017-11-14</td>\n",
       "      <td>0.01122800</td>\n",
       "      <td>0.01131700</td>\n",
       "      <td>0.01115200</td>\n",
       "      <td>0.01123000</td>\n",
       "      <td>31191.64400000</td>\n",
       "      <td>1683244799999</td>\n",
       "      <td>350.18860668</td>\n",
       "      <td>42714</td>\n",
       "      <td>15905.72300000</td>\n",
       "      <td>178.60222918</td>\n",
       "      <td>0</td>\n",
       "    </tr>\n",
       "    <tr>\n",
       "      <th>124</th>\n",
       "      <td>2017-11-15</td>\n",
       "      <td>0.01123100</td>\n",
       "      <td>0.01123800</td>\n",
       "      <td>0.01100600</td>\n",
       "      <td>0.01106700</td>\n",
       "      <td>44746.42500000</td>\n",
       "      <td>1683331199999</td>\n",
       "      <td>497.74719478</td>\n",
       "      <td>56212</td>\n",
       "      <td>21839.51300000</td>\n",
       "      <td>243.04255632</td>\n",
       "      <td>0</td>\n",
       "    </tr>\n",
       "    <tr>\n",
       "      <th>125</th>\n",
       "      <td>2017-11-16</td>\n",
       "      <td>0.01106700</td>\n",
       "      <td>0.01126900</td>\n",
       "      <td>0.01101500</td>\n",
       "      <td>0.01116100</td>\n",
       "      <td>27304.77000000</td>\n",
       "      <td>1683417599999</td>\n",
       "      <td>304.08577291</td>\n",
       "      <td>40005</td>\n",
       "      <td>14791.92900000</td>\n",
       "      <td>164.74414007</td>\n",
       "      <td>0</td>\n",
       "    </tr>\n",
       "    <tr>\n",
       "      <th>126</th>\n",
       "      <td>2017-11-17</td>\n",
       "      <td>0.01116000</td>\n",
       "      <td>0.01121300</td>\n",
       "      <td>0.01111600</td>\n",
       "      <td>0.01120800</td>\n",
       "      <td>5124.26800000</td>\n",
       "      <td>1683503999999</td>\n",
       "      <td>57.21016908</td>\n",
       "      <td>6072</td>\n",
       "      <td>2685.98400000</td>\n",
       "      <td>29.99096638</td>\n",
       "      <td>0</td>\n",
       "    </tr>\n",
       "  </tbody>\n",
       "</table>\n",
       "</div>"
      ],
      "text/plain": [
       "     timestamp        open        high         low       close  \\\n",
       "122 2017-11-13  0.01121600  0.01145500  0.01120000  0.01122900   \n",
       "123 2017-11-14  0.01122800  0.01131700  0.01115200  0.01123000   \n",
       "124 2017-11-15  0.01123100  0.01123800  0.01100600  0.01106700   \n",
       "125 2017-11-16  0.01106700  0.01126900  0.01101500  0.01116100   \n",
       "126 2017-11-17  0.01116000  0.01121300  0.01111600  0.01120800   \n",
       "\n",
       "             volume     close_time quote_asset_volume  number_of_trades  \\\n",
       "122  72351.51700000  1683158399999       819.29969417             80186   \n",
       "123  31191.64400000  1683244799999       350.18860668             42714   \n",
       "124  44746.42500000  1683331199999       497.74719478             56212   \n",
       "125  27304.77000000  1683417599999       304.08577291             40005   \n",
       "126   5124.26800000  1683503999999        57.21016908              6072   \n",
       "\n",
       "    taker_buy_base_asset_volume taker_buy_quote_asset_volume ignore  \n",
       "122              35118.24400000                 398.08262466      0  \n",
       "123              15905.72300000                 178.60222918      0  \n",
       "124              21839.51300000                 243.04255632      0  \n",
       "125              14791.92900000                 164.74414007      0  \n",
       "126               2685.98400000                  29.99096638      0  "
      ]
     },
     "execution_count": 89,
     "metadata": {},
     "output_type": "execute_result"
    }
   ],
   "source": [
    "pd.options.display.float_format = '{:.6f}'.format\n",
    "\n",
    "from binance.client import Client\n",
    "import config\n",
    "import pandas as pd\n",
    "\n",
    "client = Client(config.APIKey, config.SecretKey)\n",
    "\n",
    "klines = client.get_historical_klines(\"BNBBTC\", Client.KLINE_INTERVAL_1DAY, \"1 Jan, 2023\", \"now\")\n",
    "\n",
    "dfbnb = pd.DataFrame(klines, columns=['timestamp', 'open', 'high', 'low', 'close', 'volume', 'close_time', 'quote_asset_volume', 'number_of_trades', 'taker_buy_base_asset_volume', 'taker_buy_quote_asset_volume', 'ignore'])\n",
    "dfbnb['timestamp'] = pd.to_datetime(df['timestamp'], unit='ms')\n",
    "#df = df[['timestamp', 'open', 'close']]\n",
    "#df['change_percent'] = (df['close'] - df['open']) / df['open'] * 100\n",
    "\n",
    "dfbnb.tail()"
   ]
  },
  {
   "cell_type": "code",
   "execution_count": 62,
   "id": "d3595ff0-1638-4dea-946a-e65e34551837",
   "metadata": {},
   "outputs": [],
   "source": [
    "#df.to_csv(\"BNBBTC_01_01_2023_05_05_2023.csv\", index=False)"
   ]
  },
  {
   "cell_type": "code",
   "execution_count": 90,
   "id": "f303eafb-2c25-4cbd-8f7f-7159bd15c6e7",
   "metadata": {},
   "outputs": [
    {
     "name": "stdout",
     "output_type": "stream",
     "text": [
      "<class 'pandas.core.frame.DataFrame'>\n",
      "RangeIndex: 127 entries, 0 to 126\n",
      "Data columns (total 12 columns):\n",
      " #   Column                        Non-Null Count  Dtype         \n",
      "---  ------                        --------------  -----         \n",
      " 0   timestamp                     127 non-null    datetime64[ns]\n",
      " 1   open                          127 non-null    float64       \n",
      " 2   high                          127 non-null    float64       \n",
      " 3   low                           127 non-null    float64       \n",
      " 4   close                         127 non-null    float64       \n",
      " 5   volume                        127 non-null    float64       \n",
      " 6   close_time                    127 non-null    int64         \n",
      " 7   quote_asset_volume            127 non-null    float64       \n",
      " 8   number_of_trades              127 non-null    int64         \n",
      " 9   taker_buy_base_asset_volume   127 non-null    float64       \n",
      " 10  taker_buy_quote_asset_volume  127 non-null    float64       \n",
      " 11  ignore                        127 non-null    float64       \n",
      "dtypes: datetime64[ns](1), float64(9), int64(2)\n",
      "memory usage: 12.0 KB\n"
     ]
    }
   ],
   "source": [
    "dfbnb[['open', 'high', 'low', 'close', 'volume', 'quote_asset_volume', 'taker_buy_base_asset_volume','taker_buy_quote_asset_volume', 'ignore']] = dfbnb[['open', 'high', 'low', 'close', 'volume', 'quote_asset_volume', 'taker_buy_base_asset_volume','taker_buy_quote_asset_volume', 'ignore']].astype(float)\n",
    "dfbnb.info()"
   ]
  },
  {
   "cell_type": "code",
   "execution_count": 91,
   "id": "81fc9cda-c834-4a67-b991-a3d2a0b37695",
   "metadata": {},
   "outputs": [
    {
     "data": {
      "text/html": [
       "<div>\n",
       "<style scoped>\n",
       "    .dataframe tbody tr th:only-of-type {\n",
       "        vertical-align: middle;\n",
       "    }\n",
       "\n",
       "    .dataframe tbody tr th {\n",
       "        vertical-align: top;\n",
       "    }\n",
       "\n",
       "    .dataframe thead th {\n",
       "        text-align: right;\n",
       "    }\n",
       "</style>\n",
       "<table border=\"1\" class=\"dataframe\">\n",
       "  <thead>\n",
       "    <tr style=\"text-align: right;\">\n",
       "      <th></th>\n",
       "      <th>timestamp</th>\n",
       "      <th>open</th>\n",
       "      <th>high</th>\n",
       "      <th>low</th>\n",
       "      <th>close</th>\n",
       "      <th>volume</th>\n",
       "      <th>close_time</th>\n",
       "      <th>quote_asset_volume</th>\n",
       "      <th>number_of_trades</th>\n",
       "      <th>taker_buy_base_asset_volume</th>\n",
       "      <th>taker_buy_quote_asset_volume</th>\n",
       "      <th>ignore</th>\n",
       "    </tr>\n",
       "  </thead>\n",
       "  <tbody>\n",
       "    <tr>\n",
       "      <th>122</th>\n",
       "      <td>2017-11-13</td>\n",
       "      <td>0.011216</td>\n",
       "      <td>0.011455</td>\n",
       "      <td>0.011200</td>\n",
       "      <td>0.011229</td>\n",
       "      <td>72351.517000</td>\n",
       "      <td>1683158399999</td>\n",
       "      <td>819.299694</td>\n",
       "      <td>80186</td>\n",
       "      <td>35118.244000</td>\n",
       "      <td>398.082625</td>\n",
       "      <td>0.000000</td>\n",
       "    </tr>\n",
       "    <tr>\n",
       "      <th>123</th>\n",
       "      <td>2017-11-14</td>\n",
       "      <td>0.011228</td>\n",
       "      <td>0.011317</td>\n",
       "      <td>0.011152</td>\n",
       "      <td>0.011230</td>\n",
       "      <td>31191.644000</td>\n",
       "      <td>1683244799999</td>\n",
       "      <td>350.188607</td>\n",
       "      <td>42714</td>\n",
       "      <td>15905.723000</td>\n",
       "      <td>178.602229</td>\n",
       "      <td>0.000000</td>\n",
       "    </tr>\n",
       "    <tr>\n",
       "      <th>124</th>\n",
       "      <td>2017-11-15</td>\n",
       "      <td>0.011231</td>\n",
       "      <td>0.011238</td>\n",
       "      <td>0.011006</td>\n",
       "      <td>0.011067</td>\n",
       "      <td>44746.425000</td>\n",
       "      <td>1683331199999</td>\n",
       "      <td>497.747195</td>\n",
       "      <td>56212</td>\n",
       "      <td>21839.513000</td>\n",
       "      <td>243.042556</td>\n",
       "      <td>0.000000</td>\n",
       "    </tr>\n",
       "    <tr>\n",
       "      <th>125</th>\n",
       "      <td>2017-11-16</td>\n",
       "      <td>0.011067</td>\n",
       "      <td>0.011269</td>\n",
       "      <td>0.011015</td>\n",
       "      <td>0.011161</td>\n",
       "      <td>27304.770000</td>\n",
       "      <td>1683417599999</td>\n",
       "      <td>304.085773</td>\n",
       "      <td>40005</td>\n",
       "      <td>14791.929000</td>\n",
       "      <td>164.744140</td>\n",
       "      <td>0.000000</td>\n",
       "    </tr>\n",
       "    <tr>\n",
       "      <th>126</th>\n",
       "      <td>2017-11-17</td>\n",
       "      <td>0.011160</td>\n",
       "      <td>0.011213</td>\n",
       "      <td>0.011116</td>\n",
       "      <td>0.011208</td>\n",
       "      <td>5124.268000</td>\n",
       "      <td>1683503999999</td>\n",
       "      <td>57.210169</td>\n",
       "      <td>6072</td>\n",
       "      <td>2685.984000</td>\n",
       "      <td>29.990966</td>\n",
       "      <td>0.000000</td>\n",
       "    </tr>\n",
       "  </tbody>\n",
       "</table>\n",
       "</div>"
      ],
      "text/plain": [
       "     timestamp     open     high      low    close       volume  \\\n",
       "122 2017-11-13 0.011216 0.011455 0.011200 0.011229 72351.517000   \n",
       "123 2017-11-14 0.011228 0.011317 0.011152 0.011230 31191.644000   \n",
       "124 2017-11-15 0.011231 0.011238 0.011006 0.011067 44746.425000   \n",
       "125 2017-11-16 0.011067 0.011269 0.011015 0.011161 27304.770000   \n",
       "126 2017-11-17 0.011160 0.011213 0.011116 0.011208  5124.268000   \n",
       "\n",
       "        close_time  quote_asset_volume  number_of_trades  \\\n",
       "122  1683158399999          819.299694             80186   \n",
       "123  1683244799999          350.188607             42714   \n",
       "124  1683331199999          497.747195             56212   \n",
       "125  1683417599999          304.085773             40005   \n",
       "126  1683503999999           57.210169              6072   \n",
       "\n",
       "     taker_buy_base_asset_volume  taker_buy_quote_asset_volume   ignore  \n",
       "122                 35118.244000                    398.082625 0.000000  \n",
       "123                 15905.723000                    178.602229 0.000000  \n",
       "124                 21839.513000                    243.042556 0.000000  \n",
       "125                 14791.929000                    164.744140 0.000000  \n",
       "126                  2685.984000                     29.990966 0.000000  "
      ]
     },
     "execution_count": 91,
     "metadata": {},
     "output_type": "execute_result"
    }
   ],
   "source": [
    "dfbnb.tail()"
   ]
  },
  {
   "cell_type": "code",
   "execution_count": 92,
   "id": "6b15c53a-9a9b-4bc3-b642-0188663f1cd4",
   "metadata": {},
   "outputs": [
    {
     "data": {
      "text/plain": [
       "Index(['timestamp', 'open', 'high', 'low', 'close', 'volume', 'close_time',\n",
       "       'quote_asset_volume', 'number_of_trades', 'taker_buy_base_asset_volume',\n",
       "       'taker_buy_quote_asset_volume', 'ignore'],\n",
       "      dtype='object')"
      ]
     },
     "execution_count": 92,
     "metadata": {},
     "output_type": "execute_result"
    }
   ],
   "source": [
    "dfbnb.columns"
   ]
  },
  {
   "cell_type": "code",
   "execution_count": 83,
   "id": "e956988a-453d-4a15-888d-dce8ea729b40",
   "metadata": {},
   "outputs": [
    {
     "data": {
      "text/plain": [
       "list"
      ]
     },
     "execution_count": 83,
     "metadata": {},
     "output_type": "execute_result"
    }
   ],
   "source": [
    "type(klines)"
   ]
  },
  {
   "cell_type": "code",
   "execution_count": 93,
   "id": "250e3e66-4877-47e4-9de3-318238917d3a",
   "metadata": {
    "tags": []
   },
   "outputs": [
    {
     "data": {
      "text/plain": [
       "[[1672531200000,\n",
       "  '0.01488900',\n",
       "  '0.01491100',\n",
       "  '0.01468000',\n",
       "  '0.01470600',\n",
       "  '18755.29000000',\n",
       "  1672617599999,\n",
       "  '277.26500059',\n",
       "  23020,\n",
       "  '8252.11500000',\n",
       "  '121.97290966',\n",
       "  '0'],\n",
       " [1672617600000,\n",
       "  '0.01470600',\n",
       "  '0.01481300',\n",
       "  '0.01454300',\n",
       "  '0.01471300',\n",
       "  '23715.86400000',\n",
       "  1672703999999,\n",
       "  '348.97801790',\n",
       "  31236,\n",
       "  '11409.84800000',\n",
       "  '167.93289617',\n",
       "  '0'],\n",
       " [1672704000000,\n",
       "  '0.01471300',\n",
       "  '0.01476600',\n",
       "  '0.01466000',\n",
       "  '0.01475900',\n",
       "  '20091.47700000',\n",
       "  1672790399999,\n",
       "  '295.67464828',\n",
       "  26776,\n",
       "  '9270.30800000',\n",
       "  '136.43400214',\n",
       "  '0']]"
      ]
     },
     "execution_count": 93,
     "metadata": {},
     "output_type": "execute_result"
    }
   ],
   "source": [
    "klines[0:3]"
   ]
  },
  {
   "cell_type": "markdown",
   "id": "c607345a-a805-4988-9aa9-9942e66b8f89",
   "metadata": {},
   "source": [
    "# BTCUSDT Ornek (Bitcoin)"
   ]
  },
  {
   "cell_type": "code",
   "execution_count": 103,
   "id": "d96dd56c-bc8a-4dfa-8539-bf338d757e08",
   "metadata": {},
   "outputs": [
    {
     "data": {
      "text/html": [
       "<div>\n",
       "<style scoped>\n",
       "    .dataframe tbody tr th:only-of-type {\n",
       "        vertical-align: middle;\n",
       "    }\n",
       "\n",
       "    .dataframe tbody tr th {\n",
       "        vertical-align: top;\n",
       "    }\n",
       "\n",
       "    .dataframe thead th {\n",
       "        text-align: right;\n",
       "    }\n",
       "</style>\n",
       "<table border=\"1\" class=\"dataframe\">\n",
       "  <thead>\n",
       "    <tr style=\"text-align: right;\">\n",
       "      <th></th>\n",
       "      <th>timestamp</th>\n",
       "      <th>open</th>\n",
       "      <th>high</th>\n",
       "      <th>low</th>\n",
       "      <th>close</th>\n",
       "      <th>volume</th>\n",
       "      <th>close_time</th>\n",
       "      <th>quote_asset_volume</th>\n",
       "      <th>number_of_trades</th>\n",
       "      <th>taker_buy_base_asset_volume</th>\n",
       "      <th>taker_buy_quote_asset_volume</th>\n",
       "      <th>ignore</th>\n",
       "    </tr>\n",
       "  </thead>\n",
       "  <tbody>\n",
       "    <tr>\n",
       "      <th>2085</th>\n",
       "      <td>2023-05-03</td>\n",
       "      <td>28669.85000000</td>\n",
       "      <td>29266.66000000</td>\n",
       "      <td>28113.69000000</td>\n",
       "      <td>29026.16000000</td>\n",
       "      <td>64615.79213000</td>\n",
       "      <td>1683158399999</td>\n",
       "      <td>1845961218.84324360</td>\n",
       "      <td>1502909</td>\n",
       "      <td>32291.20998000</td>\n",
       "      <td>922549963.25075790</td>\n",
       "      <td>0</td>\n",
       "    </tr>\n",
       "    <tr>\n",
       "      <th>2086</th>\n",
       "      <td>2023-05-04</td>\n",
       "      <td>29026.16000000</td>\n",
       "      <td>29379.83000000</td>\n",
       "      <td>28663.64000000</td>\n",
       "      <td>28838.16000000</td>\n",
       "      <td>42575.47501000</td>\n",
       "      <td>1683244799999</td>\n",
       "      <td>1233816136.16065770</td>\n",
       "      <td>961542</td>\n",
       "      <td>20470.21240000</td>\n",
       "      <td>593281438.93813760</td>\n",
       "      <td>0</td>\n",
       "    </tr>\n",
       "    <tr>\n",
       "      <th>2087</th>\n",
       "      <td>2023-05-05</td>\n",
       "      <td>28838.16000000</td>\n",
       "      <td>29677.00000000</td>\n",
       "      <td>28800.00000000</td>\n",
       "      <td>29505.61000000</td>\n",
       "      <td>58415.83048000</td>\n",
       "      <td>1683331199999</td>\n",
       "      <td>1709786814.90113400</td>\n",
       "      <td>1288027</td>\n",
       "      <td>29071.98606000</td>\n",
       "      <td>850975342.64243030</td>\n",
       "      <td>0</td>\n",
       "    </tr>\n",
       "    <tr>\n",
       "      <th>2088</th>\n",
       "      <td>2023-05-06</td>\n",
       "      <td>29505.60000000</td>\n",
       "      <td>29820.00000000</td>\n",
       "      <td>28300.00000000</td>\n",
       "      <td>28848.20000000</td>\n",
       "      <td>49249.28459000</td>\n",
       "      <td>1683417599999</td>\n",
       "      <td>1429517892.78050220</td>\n",
       "      <td>1221021</td>\n",
       "      <td>23315.95073000</td>\n",
       "      <td>676717267.01172240</td>\n",
       "      <td>0</td>\n",
       "    </tr>\n",
       "    <tr>\n",
       "      <th>2089</th>\n",
       "      <td>2023-05-07</td>\n",
       "      <td>28848.19000000</td>\n",
       "      <td>29138.29000000</td>\n",
       "      <td>28744.08000000</td>\n",
       "      <td>28819.99000000</td>\n",
       "      <td>6766.04027000</td>\n",
       "      <td>1683503999999</td>\n",
       "      <td>195494895.96917650</td>\n",
       "      <td>176960</td>\n",
       "      <td>3489.50651000</td>\n",
       "      <td>100827185.95565610</td>\n",
       "      <td>0</td>\n",
       "    </tr>\n",
       "  </tbody>\n",
       "</table>\n",
       "</div>"
      ],
      "text/plain": [
       "      timestamp            open            high             low  \\\n",
       "2085 2023-05-03  28669.85000000  29266.66000000  28113.69000000   \n",
       "2086 2023-05-04  29026.16000000  29379.83000000  28663.64000000   \n",
       "2087 2023-05-05  28838.16000000  29677.00000000  28800.00000000   \n",
       "2088 2023-05-06  29505.60000000  29820.00000000  28300.00000000   \n",
       "2089 2023-05-07  28848.19000000  29138.29000000  28744.08000000   \n",
       "\n",
       "               close          volume     close_time   quote_asset_volume  \\\n",
       "2085  29026.16000000  64615.79213000  1683158399999  1845961218.84324360   \n",
       "2086  28838.16000000  42575.47501000  1683244799999  1233816136.16065770   \n",
       "2087  29505.61000000  58415.83048000  1683331199999  1709786814.90113400   \n",
       "2088  28848.20000000  49249.28459000  1683417599999  1429517892.78050220   \n",
       "2089  28819.99000000   6766.04027000  1683503999999   195494895.96917650   \n",
       "\n",
       "      number_of_trades taker_buy_base_asset_volume  \\\n",
       "2085           1502909              32291.20998000   \n",
       "2086            961542              20470.21240000   \n",
       "2087           1288027              29071.98606000   \n",
       "2088           1221021              23315.95073000   \n",
       "2089            176960               3489.50651000   \n",
       "\n",
       "     taker_buy_quote_asset_volume ignore  \n",
       "2085           922549963.25075790      0  \n",
       "2086           593281438.93813760      0  \n",
       "2087           850975342.64243030      0  \n",
       "2088           676717267.01172240      0  \n",
       "2089           100827185.95565610      0  "
      ]
     },
     "execution_count": 103,
     "metadata": {},
     "output_type": "execute_result"
    }
   ],
   "source": [
    "# symbol = \"BTCUSDT\"\n",
    "\n",
    "klines_BTCUSDT = client.get_historical_klines(\"BTCUSDT\", Client.KLINE_INTERVAL_1DAY, \"1 Jan, 2017\", \"now\")\n",
    "\n",
    "df = pd.DataFrame(klines_BTCUSDT, columns=['timestamp', 'open', 'high', 'low', 'close', 'volume', 'close_time', 'quote_asset_volume', 'number_of_trades', 'taker_buy_base_asset_volume', 'taker_buy_quote_asset_volume', 'ignore'])\n",
    "df['timestamp'] = pd.to_datetime(df['timestamp'], unit='ms')\n",
    "\n",
    "df.tail()"
   ]
  },
  {
   "cell_type": "markdown",
   "id": "abda0ded-3df9-4770-bf42-b4493acf6c7b",
   "metadata": {},
   "source": [
    "## Save Data as csv"
   ]
  },
  {
   "cell_type": "code",
   "execution_count": 106,
   "id": "a48f26f7-67c9-417f-adc2-a5732d9a500c",
   "metadata": {},
   "outputs": [],
   "source": [
    "df.to_csv(\"BTCUSDT_2017_01_01_to_2023_05_07.csv\", index=False)"
   ]
  },
  {
   "cell_type": "code",
   "execution_count": null,
   "id": "c580dbf4-be9c-4ba6-a6e2-a2852357ad16",
   "metadata": {},
   "outputs": [],
   "source": []
  }
 ],
 "metadata": {
  "kernelspec": {
   "display_name": "Python 3.10.9 (Visual Studio)",
   "language": "python",
   "name": "visualstudio"
  },
  "language_info": {
   "codemirror_mode": {
    "name": "ipython",
    "version": 3
   },
   "file_extension": ".py",
   "mimetype": "text/x-python",
   "name": "python",
   "nbconvert_exporter": "python",
   "pygments_lexer": "ipython3",
   "version": "3.10.9"
  },
  "toc-autonumbering": true
 },
 "nbformat": 4,
 "nbformat_minor": 5
}
