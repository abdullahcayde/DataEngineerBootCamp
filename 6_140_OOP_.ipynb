{
 "cells": [
  {
   "cell_type": "markdown",
   "id": "1d25cc59-b0ee-4859-a4ed-5ca9e0f45e61",
   "metadata": {},
   "source": [
    "# 140 - Object Oriented Programming"
   ]
  },
  {
   "cell_type": "code",
   "execution_count": 1,
   "id": "8b8a82c2-e178-4575-9cfa-964eff56a817",
   "metadata": {},
   "outputs": [
    {
     "name": "stdout",
     "output_type": "stream",
     "text": [
      "Calisan Sinifi init fonk. calisti\n",
      "Isim : Abdullah \n",
      "Bolum : Data Engineer \n",
      "Maas : 45000\n"
     ]
    }
   ],
   "source": [
    "class Calisan():\n",
    "    def __init__(self, isim, bolum, maas):\n",
    "        self.isim = isim\n",
    "        self.bolum = bolum\n",
    "        self.maas = maas\n",
    "        print(\"Calisan Sinifi init fonk. calisti\")\n",
    "        \n",
    "    def bilgi_goster(self):\n",
    "        print(f\"\"\" \n",
    "        Isim : {self.isim} \n",
    "        Bolum : {self.bolum}\n",
    "        Maas : {self.maas} \n",
    "        \"\"\")\n",
    "    def bilgi_goster2(self):\n",
    "        print(f\"Isim : {self.isim} \\nBolum : {self.bolum} \\nMaas : {self.maas}\")\n",
    "        \n",
    "c1 = Calisan(\"Abdullah\", \"Data Engineer\", 45000)\n",
    "\n",
    "c1.bilgi_goster2()"
   ]
  },
  {
   "cell_type": "code",
   "execution_count": 7,
   "id": "09cd9384-fb9e-483d-98eb-66065561a189",
   "metadata": {},
   "outputs": [
    {
     "name": "stdout",
     "output_type": "stream",
     "text": [
      "Calisan Sinifi init fonk. calisti\n",
      "Yonetici Sinifi init fonk. calisti\n"
     ]
    }
   ],
   "source": [
    "class Yonetici(Calisan):\n",
    "    def __init__(self, isim, bolum, maas, kisi_sayisi):\n",
    "        super().__init__(isim, bolum, maas)\n",
    "        \n",
    "        self.kisi_sayisi = kisi_sayisi\n",
    "        \n",
    "        print(\"Yonetici Sinifi init fonk. calisti\")\n",
    "    \n",
    "    def zam_yap(self, zam_miktari):\n",
    "        self.maas += zam_miktari\n",
    "        print(self.maas)\n",
    "        \n",
    "y1 = Yonetici(\"Abdullah\", \"Data Engineer\", 45000, 5)"
   ]
  },
  {
   "cell_type": "code",
   "execution_count": 4,
   "id": "70738958-7bb7-4c8a-8867-35dc9e246a50",
   "metadata": {},
   "outputs": [
    {
     "name": "stdout",
     "output_type": "stream",
     "text": [
      "49000\n"
     ]
    }
   ],
   "source": [
    "y1.zam_yap(4000)"
   ]
  },
  {
   "cell_type": "code",
   "execution_count": 8,
   "id": "1fc764de-bcf8-4f50-bc8f-fbcca02b3c5e",
   "metadata": {},
   "outputs": [
    {
     "name": "stdout",
     "output_type": "stream",
     "text": [
      "Pierre\n",
      "Dimitri\n",
      "Yohann\n"
     ]
    }
   ],
   "source": [
    "class Vehicle: # Definition of the Vehicle class\n",
    "    def __init__(self, a, b = []):\n",
    "        self.seats = a       # number of seats in the vehicle  \n",
    "        self.passengers = b  # list containing the names of the passengers\n",
    "    \n",
    "    def print_passengers(self): # Prints the names of the passengers in the vehicle\n",
    "        for i in range(len(self.passengers)):\n",
    "            print(self.passengers[i])\n",
    "    \n",
    "    def add(self,name): # Adds a new passenger to the list of passengers.\n",
    "            self.passengers.append(name)\n",
    "    \n",
    "class Motorcycle(Vehicle):\n",
    "    def __init__(self, b, c):\n",
    "        self.seats = 2      # The number of seats is automatically set to 2 and is not modified by the arguments\n",
    "        self.passengers = b \n",
    "        self.brand = c\n",
    "\n",
    "moto1 = Motorcycle(['Pierre','Dimitri'], 'Yamaha')\n",
    "moto1.add('Yohann')\n",
    "moto1.print_passengers()"
   ]
  },
  {
   "cell_type": "code",
   "execution_count": null,
   "id": "f37d026a-7b9b-4931-8035-ebd6611e25e1",
   "metadata": {},
   "outputs": [
    {
     "name": "stdout",
     "output_type": "stream",
     "text": [
      "Added vehicle: Vehicle\n",
      "Added vehicle: Vehicle\n"
     ]
    }
   ],
   "source": [
    "class Vehicle:\n",
    "    def __init__(self, seats, passengers):\n",
    "        self.seats = seats\n",
    "        self.passengers = passengers\n",
    "\n",
    "class Konvoy(Vehicle):\n",
    "    def __init__(self, length):\n",
    "        super().__init__(seats=None, passengers=[])\n",
    "        self.length = length\n",
    "        self.car_list = []\n",
    "\n",
    "    def add_car(self, car):\n",
    "        self.car_list.append(car)\n",
    "        self.length += 1\n",
    "        print(f\"Added vehicle: {car.__class__.__name__}\")  # Vehicle sınıfının adını gösterir\n",
    "\n",
    "car1 = Vehicle(seats=4, passengers=[\"Alice\", \"Bob\"])\n",
    "car2 = Vehicle(seats=2, passengers=[\"Charlie\"])\n",
    "\n",
    "konvoy1 = Konvoy(length=0)\n",
    "konvoy1.add_car(car1)\n",
    "konvoy1.add_car(car2)"
   ]
  },
  {
   "cell_type": "code",
   "execution_count": null,
   "id": "50c8809d-60df-4af8-9d34-3549b9148ce3",
   "metadata": {},
   "outputs": [],
   "source": [
    "konvoy1."
   ]
  },
  {
   "cell_type": "code",
   "execution_count": null,
   "id": "2fa6ddfb-5a23-47fe-a6ad-47326d6a6d9a",
   "metadata": {},
   "outputs": [],
   "source": []
  },
  {
   "cell_type": "code",
   "execution_count": null,
   "id": "76d0f04a-cb0c-43d8-8258-5a4d36b4764e",
   "metadata": {},
   "outputs": [],
   "source": []
  },
  {
   "cell_type": "code",
   "execution_count": 14,
   "id": "e028b875-f025-48c3-bb4f-368684e6e9ef",
   "metadata": {},
   "outputs": [
    {
     "name": "stdout",
     "output_type": "stream",
     "text": [
      "2\n",
      "Toyota 15\n",
      "Honda 10\n"
     ]
    }
   ],
   "source": [
    "class Araba:\n",
    "    def __init__(self, marka, yas):\n",
    "        self.marka = marka\n",
    "        self.yas = yas\n",
    "\n",
    "arac_listesi = []\n",
    "\n",
    "arac1 = Araba(\"Toyota\", 15)\n",
    "arac_listesi.append(arac1)\n",
    "\n",
    "arac2 = Araba(\"Honda\", 10)\n",
    "arac_listesi.append(arac2)\n",
    "\n",
    "# Araba sayısı\n",
    "print(len(arac_listesi))\n",
    "\n",
    "# Arabaların markaları\n",
    "for arac in arac_listesi:\n",
    "    print(arac.marka, arac.yas)"
   ]
  },
  {
   "cell_type": "code",
   "execution_count": 16,
   "id": "3131a7b9-98d0-4bf4-aa4a-c94720ecc755",
   "metadata": {},
   "outputs": [
    {
     "name": "stdout",
     "output_type": "stream",
     "text": [
      "Help on class list in module builtins:\n",
      "\n",
      "class list(object)\n",
      " |  list(iterable=(), /)\n",
      " |  \n",
      " |  Built-in mutable sequence.\n",
      " |  \n",
      " |  If no argument is given, the constructor creates a new empty list.\n",
      " |  The argument must be an iterable if specified.\n",
      " |  \n",
      " |  Methods defined here:\n",
      " |  \n",
      " |  __add__(self, value, /)\n",
      " |      Return self+value.\n",
      " |  \n",
      " |  __contains__(self, key, /)\n",
      " |      Return key in self.\n",
      " |  \n",
      " |  __delitem__(self, key, /)\n",
      " |      Delete self[key].\n",
      " |  \n",
      " |  __eq__(self, value, /)\n",
      " |      Return self==value.\n",
      " |  \n",
      " |  __ge__(self, value, /)\n",
      " |      Return self>=value.\n",
      " |  \n",
      " |  __getattribute__(self, name, /)\n",
      " |      Return getattr(self, name).\n",
      " |  \n",
      " |  __getitem__(...)\n",
      " |      x.__getitem__(y) <==> x[y]\n",
      " |  \n",
      " |  __gt__(self, value, /)\n",
      " |      Return self>value.\n",
      " |  \n",
      " |  __iadd__(self, value, /)\n",
      " |      Implement self+=value.\n",
      " |  \n",
      " |  __imul__(self, value, /)\n",
      " |      Implement self*=value.\n",
      " |  \n",
      " |  __init__(self, /, *args, **kwargs)\n",
      " |      Initialize self.  See help(type(self)) for accurate signature.\n",
      " |  \n",
      " |  __iter__(self, /)\n",
      " |      Implement iter(self).\n",
      " |  \n",
      " |  __le__(self, value, /)\n",
      " |      Return self<=value.\n",
      " |  \n",
      " |  __len__(self, /)\n",
      " |      Return len(self).\n",
      " |  \n",
      " |  __lt__(self, value, /)\n",
      " |      Return self<value.\n",
      " |  \n",
      " |  __mul__(self, value, /)\n",
      " |      Return self*value.\n",
      " |  \n",
      " |  __ne__(self, value, /)\n",
      " |      Return self!=value.\n",
      " |  \n",
      " |  __repr__(self, /)\n",
      " |      Return repr(self).\n",
      " |  \n",
      " |  __reversed__(self, /)\n",
      " |      Return a reverse iterator over the list.\n",
      " |  \n",
      " |  __rmul__(self, value, /)\n",
      " |      Return value*self.\n",
      " |  \n",
      " |  __setitem__(self, key, value, /)\n",
      " |      Set self[key] to value.\n",
      " |  \n",
      " |  __sizeof__(self, /)\n",
      " |      Return the size of the list in memory, in bytes.\n",
      " |  \n",
      " |  append(self, object, /)\n",
      " |      Append object to the end of the list.\n",
      " |  \n",
      " |  clear(self, /)\n",
      " |      Remove all items from list.\n",
      " |  \n",
      " |  copy(self, /)\n",
      " |      Return a shallow copy of the list.\n",
      " |  \n",
      " |  count(self, value, /)\n",
      " |      Return number of occurrences of value.\n",
      " |  \n",
      " |  extend(self, iterable, /)\n",
      " |      Extend list by appending elements from the iterable.\n",
      " |  \n",
      " |  index(self, value, start=0, stop=9223372036854775807, /)\n",
      " |      Return first index of value.\n",
      " |      \n",
      " |      Raises ValueError if the value is not present.\n",
      " |  \n",
      " |  insert(self, index, object, /)\n",
      " |      Insert object before index.\n",
      " |  \n",
      " |  pop(self, index=-1, /)\n",
      " |      Remove and return item at index (default last).\n",
      " |      \n",
      " |      Raises IndexError if list is empty or index is out of range.\n",
      " |  \n",
      " |  remove(self, value, /)\n",
      " |      Remove first occurrence of value.\n",
      " |      \n",
      " |      Raises ValueError if the value is not present.\n",
      " |  \n",
      " |  reverse(self, /)\n",
      " |      Reverse *IN PLACE*.\n",
      " |  \n",
      " |  sort(self, /, *, key=None, reverse=False)\n",
      " |      Sort the list in ascending order and return None.\n",
      " |      \n",
      " |      The sort is in-place (i.e. the list itself is modified) and stable (i.e. the\n",
      " |      order of two equal elements is maintained).\n",
      " |      \n",
      " |      If a key function is given, apply it once to each list item and sort them,\n",
      " |      ascending or descending, according to their function values.\n",
      " |      \n",
      " |      The reverse flag can be set to sort in descending order.\n",
      " |  \n",
      " |  ----------------------------------------------------------------------\n",
      " |  Class methods defined here:\n",
      " |  \n",
      " |  __class_getitem__(...) from builtins.type\n",
      " |      See PEP 585\n",
      " |  \n",
      " |  ----------------------------------------------------------------------\n",
      " |  Static methods defined here:\n",
      " |  \n",
      " |  __new__(*args, **kwargs) from builtins.type\n",
      " |      Create and return a new object.  See help(type) for accurate signature.\n",
      " |  \n",
      " |  ----------------------------------------------------------------------\n",
      " |  Data and other attributes defined here:\n",
      " |  \n",
      " |  __hash__ = None\n",
      "\n"
     ]
    }
   ],
   "source": [
    "help(list)"
   ]
  },
  {
   "cell_type": "markdown",
   "id": "bd32752c-9829-42bf-8a05-ccc50d1a2e74",
   "metadata": {},
   "source": [
    "# OOP1"
   ]
  },
  {
   "cell_type": "markdown",
   "id": "c149ea9e",
   "metadata": {},
   "source": [
    "Introduction and prerequisites\n",
    "\n",
    "    In Python and many other programming languages, object-oriented programming consists in creating classes of objects that contain specific information and tools suitable for their handling.\n",
    "\n",
    "    All the tools we use for data science (DataFrames, scikit-learn models, matplotlib, ...) are built in this way. Understanding the mechanics of Python objects and knowing how to use them is essential to exploit all the features of these very useful tools.\n",
    "\n",
    "    Furthermore, object-oriented programming gives the developer the flexibility to readapt an object to his needs thanks to the inheritance that we will see in the second part. Indeed, this technique is widely used to develop packages such as scikit-learn which allow a user to easily develop and evaluate the models he needs.\n",
    "\n",
    "    To approach these modules in the best possible conditions, it is important to have completed the Introduction to Python Programming module.\n",
    "\n",
    "Introduction to Classes\n",
    "\n",
    "    In Python, a class is defined as follows:\n",
    "\n",
    "     class Vehicle: # definition of the class Vehicle\n",
    "        def __init__ (self, a, b = []):\n",
    "            self.seats = a                 # number of seats in the vehicle\n",
    "            self.passengers = b            # list containing passenger names\n",
    "\n",
    "        def print_passengers (self):\n",
    "            for i in range (len (self.passengers)):\n",
    "                print (self.passengers [i])\n",
    "                ```\n",
    "    ``` py\n",
    "    car1 = Vehicle(4, ['Pierre', 'Adrian']) # instantiation of an object from the Vehicle class\n",
    "\n",
    "    The code above corresponds to the definition of a class named Vehicle which contains 2 pieces of information: the number of seats of the Vehicle in the variable seats and the names of the passengers onboard the Vehicle in the variable passengers.\n",
    "\n",
    "    This class contains a print_passengers method which displays the names of the passengers onboard in the console.\n",
    "\n",
    "    The instruction car1 = Vehicle (4, ['Pierre', 'Adrian']) corresponds to the instantiation of the class Vehicle.\n",
    "\n",
    "Important Notes and Definitions\n",
    "\n",
    "        Vehicle is a class of objects.\n",
    "\n",
    "        car1 is an instance of the Vehicle class.\n",
    "\n",
    "        seats and passengers are called the attributes of the class Vehicle.\n",
    "\n",
    "        The functions defined in the Vehicle class like print_passengers and __init__ are called the methods of the Vehicle class.\n",
    "\n",
    "        The __init__ method takes as arguments the variables that will define the attributes of an instance when it is created.\n",
    "\n",
    "    The __init__ method is automatically called when instantiating any class.\n",
    "    All the methods defined within a class have the self argument as their first parameter. This parameter is used to specify the instance which called the method.\n",
    "\n",
    "Based on syntax from the Vehicle class defined above:\n",
    "\n",
    "    (a) Define a new Complex class with 2 attributes:\n",
    "        part_re which contains the real part of a complex number.\n",
    "        part_im which contains the imaginary part of a complex number.\n",
    "\n",
    "    (b) Define in the Complex class adisplay method which prints a Complex in its algebraic form a ± bi. This method should adapt to the sign of the imaginary part (The method should be able to display 4 - 2i,6 + 2i, 5, ...).\n",
    "\n",
    "    (c) Instantiate two Complex objects corresponding to the complex numbers 4+5𝑖\n",
    "\n",
    "and 3−2𝑖\n",
    "\n",
    "    , then print them on the console.\n",
    "\n"
   ]
  },
  {
   "cell_type": "code",
   "execution_count": 1,
   "id": "5508f83b",
   "metadata": {},
   "outputs": [
    {
     "name": "stdout",
     "output_type": "stream",
     "text": [
      "(4+5j)\n",
      "(4+5j)\n",
      "(3-2j)\n",
      "\n",
      "part_re : 4\n",
      "part_im : 5\n"
     ]
    }
   ],
   "source": [
    "### Insert your code here\n",
    "\n",
    "class Complex:\n",
    "    \n",
    "    def __init__(self, part_re, part_im):\n",
    "        self.part_re = part_re\n",
    "        self.part_im = part_im\n",
    "        self.complex_number = complex(self.part_re, self.part_im)\n",
    "        \n",
    "    def display(self):\n",
    "        print(self.complex_number)\n",
    "\n",
    "c1 = Complex(4,5)\n",
    "c2 = Complex(3,-2)\n",
    "\n",
    "# Call the display method\n",
    "Complex.display(c1)\n",
    "c1.display()\n",
    "c2.display()\n",
    "\n",
    "print('\\npart_re :', c1.part_re)\n",
    "print('part_im :', c1.part_im)"
   ]
  },
  {
   "cell_type": "code",
   "execution_count": null,
   "id": "2ee17624",
   "metadata": {},
   "outputs": [],
   "source": [
    "# Original Cozum\n",
    "class Complex:\n",
    "    def __init__(self, a, b):\n",
    "        self.part_re = a\n",
    "        self.part_im = b\n",
    "    def display(self):\n",
    "        if(self.part_im < 0):\n",
    "            print(self.part_re,'-', -self.part_im,'i')\n",
    "        if(self.part_im == 0):\n",
    "            print(self.part_re)\n",
    "        if(self.part_im > 0):\n",
    "            print(self.part_re, '+',self.part_im,'i')\n",
    "        \n",
    "    \n",
    "C1 = Complex(4,5)\n",
    "C1.display()\n",
    "C2 = Complex(3,-2)\n",
    "C2.display()"
   ]
  },
  {
   "cell_type": "markdown",
   "id": "bbbbebf6",
   "metadata": {},
   "source": [
    "Once an object of a class is instantiated, it is possible to access its attributes and methods using the .attribute and .method() commands as shown below:"
   ]
  },
  {
   "cell_type": "code",
   "execution_count": 2,
   "id": "a3808cce",
   "metadata": {},
   "outputs": [
    {
     "name": "stdout",
     "output_type": "stream",
     "text": [
      "4\n",
      "Dimitri\n",
      "Charles\n",
      "Yohan\n"
     ]
    }
   ],
   "source": [
    "class Vehicle:\n",
    "    def __init__(self, a, b=[]):\n",
    "        self.seats = a\n",
    "        self.passengers = b\n",
    "    def print_passengers(self):\n",
    "        for i in range(len(self.passengers)):\n",
    "            print(self.passengers[i])\n",
    "\n",
    "\n",
    "\n",
    "# Run the cell. You can modify the instantiation so that the changes are reflected.\n",
    "car2 = Vehicle(4,['Dimitri', 'Charles', 'Yohan'])\n",
    "\n",
    "print(car2.seats)          # Display of the 'seats' attribute\n",
    "car2.print_passengers()    # Calling of the print_passengers method"
   ]
  },
  {
   "cell_type": "code",
   "execution_count": null,
   "id": "e831a60f",
   "metadata": {},
   "outputs": [],
   "source": [
    "The flexibility of classes in object-oriented programming allows the developer to broaden a class by adding new attributes and methods to it. All instances of this class will then be able to call these methods.\n",
    "\n",
    "For example, we can define in the Vehicle class a new add method which will add an individual to the passenger list:\n",
    "\n",
    "   class Vehicle:\n",
    "       def __init__(self, a, b = []):\n",
    "           self.seats = a\n",
    "           self.passengers = b\n",
    "\n",
    "       def print_passengers(self):\n",
    "           for i in range (len(self.passengers)):\n",
    "               print (self.passengers[i])\n",
    "\n",
    "       def add(self, name):            #New method\n",
    "           self.passengers.append(name)\n",
    "\n",
    "In Python, a list is an instance of the built-in list class. Thus, calling the append method is done in the same way as calling a method from the Vehicle or Complex classes. "
   ]
  },
  {
   "cell_type": "code",
   "execution_count": 5,
   "id": "a4bbc18e",
   "metadata": {},
   "outputs": [
    {
     "name": "stdout",
     "output_type": "stream",
     "text": [
      "Charles\n",
      "Paul\n",
      "Raphaël\n"
     ]
    }
   ],
   "source": [
    "class Vehicle:\n",
    "    def __init__(self, a, b=[]):\n",
    "        self.seats = a\n",
    "        self.passengers = b\n",
    "    \n",
    "    def print_passengers(self):\n",
    "        for i in range(len(self.passengers)):\n",
    "            print(self.passengers[i])\n",
    "    \n",
    "    def add(self,name): #New methd\n",
    "        self.passengers.append(name)\n",
    "        \n",
    "\n",
    "car1 = Vehicle(4, ['Charles', 'Paul'])  # Instantiation  of car1\n",
    "car1.add('Raphaël')                     # 'Raphaël' is added to the list of passengers\n",
    "\n",
    "car1.print_passengers()             # Display of the list of passengers"
   ]
  },
  {
   "cell_type": "code",
   "execution_count": 6,
   "id": "528c387e",
   "metadata": {},
   "outputs": [],
   "source": [
    "class Complex:\n",
    "    def __init__(self, a, b):\n",
    "        self.part_re = a\n",
    "        self.part_im = b\n",
    "        \n",
    "    def display(self):\n",
    "        if(self.part_im < 0):\n",
    "            print(self.part_re,'-', -self.part_im,'i')\n",
    "        if(self.part_im == 0):\n",
    "            print(self.part_re)\n",
    "        if(self.part_im > 0):\n",
    "            print(self.part_re, '+',self.part_im,'i')\n",
    "            \n",
    "    def add(self , c):\n",
    "        raise NotImplementedError  #### Insert your code here"
   ]
  },
  {
   "cell_type": "code",
   "execution_count": 3,
   "id": "c4689dd9",
   "metadata": {},
   "outputs": [
    {
     "name": "stdout",
     "output_type": "stream",
     "text": [
      "(14+25j)\n",
      "(7+3j)\n"
     ]
    }
   ],
   "source": [
    "#  Solution 1\n",
    "class Complex:\n",
    "    \n",
    "    def __init__(self, part_re, part_im):\n",
    "        self.part_re = part_re\n",
    "        self.part_im = part_im\n",
    "        self.complex_number = complex(self.part_re, self.part_im)\n",
    "        \n",
    "    def display(self):\n",
    "        print(self.complex_number)\n",
    "            \n",
    "    def add(self , c):\n",
    "        self.c = complex(c)\n",
    "        c_sum = self.c + self.complex_number\n",
    "        print(c_sum)\n",
    "        \n",
    "c1 = Complex(4,5)\n",
    "c2 = Complex(3,-2)\n",
    "\n",
    "c1.add(10+20j)\n",
    "c1.add(c2.complex_number)"
   ]
  },
  {
   "cell_type": "code",
   "execution_count": 4,
   "id": "8d6bb222",
   "metadata": {},
   "outputs": [
    {
     "name": "stdout",
     "output_type": "stream",
     "text": [
      "(14+15j)\n",
      "Total =  (7+3j)\n"
     ]
    }
   ],
   "source": [
    "#  Solution 2\n",
    "class Complex:\n",
    "    def __init__(self, a, b):\n",
    "        self.part_re = a\n",
    "        self.part_im = b\n",
    "        \n",
    "    def display(self):\n",
    "        if(self.part_im < 0):\n",
    "            print(self.part_re,'-', -self.part_im,'i')\n",
    "        if(self.part_im == 0):\n",
    "            print(self.part_re)\n",
    "        if(self.part_im > 0):\n",
    "            print(self.part_re, '+',self.part_im,'i')\n",
    "            \n",
    "    def add(self , c):\n",
    "        if (type(c) == complex or type(c) == int or type(c) == float):\n",
    "            self.c1 = complex(self.part_re, self.part_im)\n",
    "            c_sum = self.c1 + c\n",
    "            print(c_sum)\n",
    "        else:\n",
    "            self.part_re = self.part_re + c.part_re\n",
    "            self.part_im = self.part_im + c.part_im\n",
    "            print('Total = ', complex(self.part_re, self.part_im))\n",
    "        \n",
    "c1 = Complex(4,5)\n",
    "c2 = Complex(3,-2)\n",
    "\n",
    "c1.add(10+10j)\n",
    "c1.add(c2)\n"
   ]
  },
  {
   "attachments": {},
   "cell_type": "markdown",
   "id": "5e550974",
   "metadata": {},
   "source": [
    "# OOP2 Inheritance"
   ]
  },
  {
   "cell_type": "code",
   "execution_count": null,
   "id": "982fbf6b",
   "metadata": {},
   "outputs": [],
   "source": [
    "Inheritance\n",
    "\n",
    "    Inheritance is used to create a subclass from an existing class. We say that this new class inherits from the first one because it will automatically have the same attributes and methods.\n",
    "\n",
    "    Furthermore, it is possible to add attributes or methods that will be specific to this subclass.\n",
    "\n",
    "    In the first part of this module, we introduced the Vehicle class defined as follows:\n",
    "\n",
    "     class Vehicle:\n",
    "        def __init__(self, a, b = []):\n",
    "            self.seats = a\n",
    "            self.passengers = b\n",
    "        def print_passengers(self):\n",
    "            for i in range (len (self.passengers)):\n",
    "                print (self.passengers [i])\n",
    "        def add(self, name):\n",
    "                self.passengers.append (name)\n",
    "\n",
    "    We can define a Motorcycle class which inherits from theVehicle class as follows:\n",
    "\n",
    "        class Motorcycle(Vehicle):\n",
    "            def__init__(self, b, c):\n",
    "                self.seats = 2\n",
    "                self.passengers = b\n",
    "                self.brand = c\n",
    "\n",
    "    Motorcycle = Motorcycle(['Pierre', 'Dimitri'], 'Yamaha')\n",
    "\n",
    "    By rewriting the __init__ method, any Motorcycle object will automatically have 2 seats and a new brand attribute.\n",
    "\n",
    "    Thanks to inheritance, we can call the print_passengers method defined in the Vehicle class from an instance of the Motorcycle class.\n",
    "\n",
    "    (a) Run the following cell to convince yourself.\n"
   ]
  },
  {
   "cell_type": "code",
   "execution_count": 7,
   "id": "a9e543c3",
   "metadata": {},
   "outputs": [
    {
     "name": "stdout",
     "output_type": "stream",
     "text": [
      "Pierre\n",
      "Dimitri\n",
      "Yohann\n"
     ]
    }
   ],
   "source": [
    "class Vehicle: # Definition of the Vehicle class\n",
    "    def __init__(self, a, b = []):\n",
    "        self.seats = a       # number of seats in the vehicle  \n",
    "        self.passengers = b  # list containing the names of the passengers\n",
    "    \n",
    "    def print_passengers(self): # Prints the names of the passengers in the vehicle\n",
    "        for i in range(len(self.passengers)):\n",
    "            print(self.passengers[i])\n",
    "    \n",
    "    def add(self,name): # Adds a new passenger to the list of passengers.\n",
    "            self.passengers.append(name)\n",
    "    \n",
    "class Motorcycle(Vehicle):\n",
    "    def __init__(self, b, c):\n",
    "        self.seats = 2      # The number of seats is automatically set to 2 and is not modified by the arguments\n",
    "        self.passengers = b \n",
    "        self.brand = c\n",
    "\n",
    "moto1 = Motorcycle(['Pierre','Dimitri'], 'Yamaha')\n",
    "moto1.add('Yohann')\n",
    "moto1.print_passengers()"
   ]
  },
  {
   "cell_type": "code",
   "execution_count": 8,
   "id": "3b0342cc",
   "metadata": {},
   "outputs": [
    {
     "name": "stdout",
     "output_type": "stream",
     "text": [
      "Pierre\n",
      "Dimitri\n",
      "Yohann\n"
     ]
    }
   ],
   "source": [
    "moto1.print_passengers()"
   ]
  },
  {
   "cell_type": "code",
   "execution_count": 9,
   "id": "09609d91",
   "metadata": {},
   "outputs": [
    {
     "name": "stdout",
     "output_type": "stream",
     "text": [
      "Pierre\n",
      "Dimitri\n",
      "Yohann\n",
      "Abdullah\n"
     ]
    }
   ],
   "source": [
    "moto1.add(\"Abdullah\")\n",
    "moto1.print_passengers()"
   ]
  },
  {
   "cell_type": "markdown",
   "id": "02487fa3",
   "metadata": {},
   "source": [
    "(b) Define in the Motorcycle class anadd method which will add a name passed as an argument to the list of passengers while checking that there are still seats available. If there are no seats left on the Motorcycle, it should display The vehicle is full. If there are any remaining, the method should add the name to the list and display the number of seats remaining."
   ]
  },
  {
   "cell_type": "code",
   "execution_count": null,
   "id": "0e407803",
   "metadata": {},
   "outputs": [],
   "source": [
    "class Motorcycle(Vehicle):\n",
    "    def __init__(self, b, c):\n",
    "        self.seats = 2\n",
    "        self.passengers = b\n",
    "        self.brand = c\n",
    "    \n",
    "    def add(self, name):\n",
    "        raise NotImplementedError  #### Insert your code here"
   ]
  },
  {
   "cell_type": "code",
   "execution_count": 11,
   "id": "62471689",
   "metadata": {},
   "outputs": [
    {
     "name": "stdout",
     "output_type": "stream",
     "text": [
      "The vechicle is full.\n",
      "2\n",
      "Number of seats remaining : 0\n",
      "The vechicle is full.\n"
     ]
    }
   ],
   "source": [
    "class Motorcycle(Vehicle):\n",
    "    def __init__(self,  b, c, seats = 2):\n",
    "        self.seats = seats\n",
    "        self.passengers = b\n",
    "        self.brand = c\n",
    "    \n",
    "    def add(self, name):\n",
    "        if len(self.passengers) < self.seats :\n",
    "            self.passengers.append(name)\n",
    "            print(\"Number of seats remaining :\", len(self.passengers)-self.seats)\n",
    "            \n",
    "        else:\n",
    "            print(\"The vechicle is full.\")\n",
    "    \n",
    "moto1 = Motorcycle(['Pierre','Dimitri'], 'Yamaha')\n",
    "moto2 = Motorcycle(['Pierre'], 'Yamaha')\n",
    "\n",
    "# add passenger to moto1 \n",
    "moto1.add(\"Abdullah\")\n",
    "print(moto1.seats)\n",
    "# add passenger to moto2\n",
    "moto2.add(\"Abdullah\")\n",
    "# try to add again passenger to moto2\n",
    "moto2.add(\"Nurullah\")"
   ]
  },
  {
   "cell_type": "code",
   "execution_count": 12,
   "id": "96807214",
   "metadata": {},
   "outputs": [
    {
     "data": {
      "text/plain": [
       "'Motorcycle'"
      ]
     },
     "execution_count": 12,
     "metadata": {},
     "output_type": "execute_result"
    }
   ],
   "source": [
    "moto1.__class__.__name__"
   ]
  },
  {
   "cell_type": "code",
   "execution_count": 13,
   "id": "6c26ec77",
   "metadata": {},
   "outputs": [],
   "source": [
    "# Original Cozum\n",
    "class Motorcycle(Vehicle):\n",
    "    def __init__(self, b, c):\n",
    "        self.seats = 2\n",
    "        self.passengers = b\n",
    "        self.brand = c\n",
    "        \n",
    "    def add(self, name):\n",
    "        if(len(self.passengers) <  self.seats):\n",
    "            self.passengers.append(name)\n",
    "            print('There are', self.seats - len(self.passengers), 'seats left.')\n",
    "        else:\n",
    "            print(\"The vehicle is full.\")"
   ]
  },
  {
   "cell_type": "code",
   "execution_count": null,
   "id": "aff64f04",
   "metadata": {},
   "outputs": [],
   "source": [
    "We run the following instructions:\n",
    "\n",
    "    car2 = Vehicle(3, ['Antoine', 'Thomas', 'Raphaël'])\n",
    "    moto2 = Motorcycle(['Guillaume', 'Charles'], 'Honda')\n",
    "    car2.add('Benjamin')\n",
    "    moto2.add('Dimitri')\n",
    "\n",
    "In addition, we recall that the classes Vehicle and Motorcycle are defined as follows:\n",
    "\n",
    "class Vehicle:\n",
    "        def __init__(self, a, b = []):\n",
    "            self.seats = a\n",
    "            self.passengers = b\n",
    "\n",
    "        def print_passengers(self):\n",
    "            for i in range(len(self.passengers)):\n",
    "                print(self.passengers [i])\n",
    "\n",
    "        def add(self, name):\n",
    "            self.passengers.append(name)\n",
    "\n",
    "class Motorcycle(Vehicle):\n",
    "    def __init__(self, b, c):\n",
    "        self.seats = 2\n",
    "        self.passengers = b\n",
    "        self.brand = c\n",
    "\n",
    "    def add(self, name):\n",
    "        if(len(self.passengers) <  self.seats):\n",
    "            self.passengers.append(name)\n",
    "            print('There are', self.seats - len(self.passengers), 'seats left.')\n",
    "        else:\n",
    "            print(\"The vehicle is full.\")\n",
    "\n",
    "    What displays the method moto2.print_passengers()?:\n",
    "        A: Guillaume Charles Dimitri\n",
    "        B: Guillaume Charles\n",
    "        C: The vehicle is full.\n",
    "\n",
    "What is the output of the print(car2.seats) instruction?\n",
    "\n",
    "    A: Antoine Thomas Raphael Benjamin\n",
    "    B: 4\n",
    "    C: The vehicle is full.\n",
    "    D: 3\n",
    "\n",
    "\n",
    "    Why is the instruction car3 = Vehicle(4) well written but the instruction moto3 = Motorcycle(6) returns an error?\n",
    "        A: A Motorcycle object cannot have 6 seats.\n",
    "        B: The constructor of the Vehicle class takes only one argument.\n",
    "        C: An argument is missing when initializing the moto3 instance.\n",
    "\n"
   ]
  },
  {
   "cell_type": "markdown",
   "id": "33813201",
   "metadata": {},
   "source": [
    "\n",
    "    (c) Create a Convoy class which will have 2 attributes: The first attribute, named vehicle_list is a list of Vehicle objects and the second attribute length is the total number of vehicles in the Convoy. A convoy will be automatically initialized with a Vehicle that has 4 seats and no passengers.\n",
    "\n",
    "    (d) Define in Convoy class an add_vehicle method which will add an object of type Vehicle at the end of the list of vehicles of the convoy. Do not forget to update the length of the convoy.\n",
    "\n"
   ]
  },
  {
   "cell_type": "code",
   "execution_count": 16,
   "id": "3f14b7cd",
   "metadata": {},
   "outputs": [
    {
     "name": "stdout",
     "output_type": "stream",
     "text": [
      "['car2']\n"
     ]
    }
   ],
   "source": [
    "### Insert your code here\n",
    "\n",
    "class Convoy():\n",
    "    def __init__(self, length = 0, vehicle_list = [] ):\n",
    "        self.length = length\n",
    "        self.vehicle_list = vehicle_list\n",
    "        \n",
    "        \n",
    "    def add_vehicle(self, new_vehicle):\n",
    "        self.vehicle_list.append(new_vehicle)\n",
    "        self.length += 1\n",
    "\n",
    "car1 = Vehicle(4, [])\n",
    "car2 = Vehicle(3, [\"Abdullah\", \"Hatice\"])\n",
    "\n",
    "convoy1 = Convoy()\n",
    "convoy1.add_vehicle(\"car2\")\n",
    "print(convoy1.vehicle_list)"
   ]
  },
  {
   "cell_type": "code",
   "execution_count": null,
   "id": "7ac3fb49",
   "metadata": {},
   "outputs": [],
   "source": [
    "#Original Cozum\n",
    "class Convoy:\n",
    "    def __init__(self):\n",
    "        self.vehicle_list = []               \n",
    "        self.vehicle_list.append(Vehicle(4)) # vehicule_list is initialized with a list containing 1 vehicle\n",
    "        self.length = 1                      # the length attribute is initialized to 1\n",
    "    \n",
    "    def add_vehicle(self, vehicle):\n",
    "        self.vehicle_list.append(vehicle)    # a Vehicle is added at the end of the list\n",
    "        self.length = self.length + 1        # update the length of the convoy"
   ]
  },
  {
   "cell_type": "markdown",
   "id": "8cefefc0",
   "metadata": {},
   "source": [
    "    e) Initialize a convoy1 object of the Convoy class.\n",
    "\n",
    "    (f) Add the passenger \"Albert\" to the first vehicle of convoy1.\n",
    "\n",
    "    (g) Add a motorcycle from the brand \"Honda\" to convoy1 which will be driven by \"Raphael\".\n"
   ]
  },
  {
   "cell_type": "code",
   "execution_count": 19,
   "id": "bc425446",
   "metadata": {},
   "outputs": [
    {
     "data": {
      "text/plain": [
       "<__main__.Motorcycle at 0x10cc1a4d0>"
      ]
     },
     "execution_count": 19,
     "metadata": {},
     "output_type": "execute_result"
    }
   ],
   "source": [
    "### Insert your code here\n",
    "\n",
    "convoy1 = Convoy()\n",
    "\n",
    "convoy1.add_vehicle(\"Albert\")\n",
    "\n",
    "moto1 = Motorcycle([\"Raphael\"], \"Honda\")\n",
    "\n",
    "convoy1.add_vehicle(moto1)"
   ]
  },
  {
   "cell_type": "code",
   "execution_count": 21,
   "id": "4b264992",
   "metadata": {},
   "outputs": [
    {
     "data": {
      "text/plain": [
       "['car2',\n",
       " 'Albert',\n",
       " <__main__.Motorcycle at 0x10a71c310>,\n",
       " 'Albert',\n",
       " <__main__.Motorcycle at 0x10cc1a4d0>]"
      ]
     },
     "execution_count": 21,
     "metadata": {},
     "output_type": "execute_result"
    }
   ],
   "source": [
    "convoy1.vehicle_list"
   ]
  },
  {
   "cell_type": "code",
   "execution_count": 22,
   "id": "5ea4aee1",
   "metadata": {},
   "outputs": [
    {
     "ename": "AttributeError",
     "evalue": "'str' object has no attribute 'add'",
     "output_type": "error",
     "traceback": [
      "\u001b[0;31m---------------------------------------------------------------------------\u001b[0m",
      "\u001b[0;31mAttributeError\u001b[0m                            Traceback (most recent call last)",
      "Cell \u001b[0;32mIn[22], line 3\u001b[0m\n\u001b[1;32m      1\u001b[0m convoy1 \u001b[39m=\u001b[39m Convoy()                                     \u001b[39m# Instanciation of the convoy\u001b[39;00m\n\u001b[0;32m----> 3\u001b[0m convoy1\u001b[39m.\u001b[39;49mvehicle_list[\u001b[39m0\u001b[39;49m]\u001b[39m.\u001b[39;49madd(\u001b[39m'\u001b[39m\u001b[39mAlbert\u001b[39m\u001b[39m'\u001b[39m)                  \u001b[39m# \"Albert\" is added to the first vehicle in the convoy\u001b[39;00m\n\u001b[1;32m      5\u001b[0m convoy1\u001b[39m.\u001b[39madd_vehicle(Motorcycle([\u001b[39m'\u001b[39m\u001b[39mRaphael\u001b[39m\u001b[39m'\u001b[39m] , \u001b[39m'\u001b[39m\u001b[39mHonda\u001b[39m\u001b[39m'\u001b[39m)) \u001b[39m# We have to remember that the first argument of the Motorcycle \u001b[39;00m\n\u001b[1;32m      6\u001b[0m                                                        \u001b[39m# constructor is a list and not a string.\u001b[39;00m\n",
      "\u001b[0;31mAttributeError\u001b[0m: 'str' object has no attribute 'add'"
     ]
    }
   ],
   "source": [
    "# Original Cozum\n",
    "convoy1 = Convoy()                                     # Instanciation of the convoy\n",
    "\n",
    "convoy1.vehicle_list[0].add('Albert')                  # \"Albert\" is added to the first vehicle in the convoy\n",
    "\n",
    "convoy1.add_vehicle(Motorcycle(['Raphael'] , 'Honda')) # We have to remember that the first argument of the Motorcycle \n",
    "                                                       # constructor is a list and not a string."
   ]
  },
  {
   "cell_type": "code",
   "execution_count": null,
   "id": "17c990b1",
   "metadata": {},
   "outputs": [],
   "source": [
    "### Insert your code here\n",
    "\n",
    "class Convoy():\n",
    "    def __init__(self):\n",
    "        self.vehicle_list = [] \n",
    "        car1 = Vehicle(0, [])\n",
    "        self.vehicle_list.append(car1)\n",
    "        self.length = 1\n",
    "        \n",
    "        \n",
    "    def add_vehicle(self, new_vehicle):\n",
    "        self.vehicle_list.append(new_vehicle)\n",
    "        self.length += 1\n",
    "        \n",
    "    def display(self):\n",
    "        num = 0\n",
    "        for i in self.vehicle_list:\n",
    "            print(i.passengers)\n",
    "            for j in i.passengers:\n",
    "                num +=1\n",
    "        print(\"Number of vehicle :\", len(self.vehicle_list))\n",
    "        print(\"Total number of passengers : \", num)\n",
    "            \n",
    "            \n",
    "            \n",
    "convoy1 = Convoy()                                     \n",
    "\n",
    "convoy1.vehicle_list[0].add('Albert')                  \n",
    "\n",
    "convoy1.add_vehicle(Motorcycle(['Raphael', 'Ali'] , 'Honda'))"
   ]
  },
  {
   "cell_type": "markdown",
   "id": "a8138b5c",
   "metadata": {},
   "source": [
    "(h) Write a small script that will display all the passengers in convoy1."
   ]
  },
  {
   "cell_type": "code",
   "execution_count": 23,
   "id": "bd98e2c8",
   "metadata": {},
   "outputs": [
    {
     "ename": "AttributeError",
     "evalue": "'Convoy' object has no attribute 'display'",
     "output_type": "error",
     "traceback": [
      "\u001b[0;31m---------------------------------------------------------------------------\u001b[0m",
      "\u001b[0;31mAttributeError\u001b[0m                            Traceback (most recent call last)",
      "Cell \u001b[0;32mIn[23], line 1\u001b[0m\n\u001b[0;32m----> 1\u001b[0m convoy1\u001b[39m.\u001b[39;49mdisplay()\n",
      "\u001b[0;31mAttributeError\u001b[0m: 'Convoy' object has no attribute 'display'"
     ]
    }
   ],
   "source": [
    "convoy1.display()"
   ]
  },
  {
   "cell_type": "code",
   "execution_count": null,
   "id": "ab452de5",
   "metadata": {},
   "outputs": [],
   "source": [
    "# original Cozum\n",
    "for vehicle in convoy1.vehicle_list: # We go through the list of vehicles in the convoy\n",
    "    vehicle.print_passengers()       # We use the print_passengers method of the Vehicle class"
   ]
  },
  {
   "cell_type": "markdown",
   "id": "1245d27d",
   "metadata": {},
   "source": [
    "# OOP 3 Predefined classes"
   ]
  },
  {
   "cell_type": "markdown",
   "id": "f3059ec2",
   "metadata": {},
   "source": [
    " Predefined classes\n",
    "\n",
    "    In Python, many predefined classes such as the list,tuple or str classes are regularly used to facilitate the developer's tasks. Like all other classes, they have their own attributes and methods that are available to the user.\n",
    "\n",
    "    One of the great interests of object oriented programming is to be able to create classes and share them with other developers. This is done through packages such as numpy, pandas or scikit-learn. All of these packages are actually classes created by other developers in the Python community to give us tools that will make easier to develop our own algorithms.\n",
    "\n",
    "    We will first discuss one of the most important predefined object classes, the list class, in order to learn how to use it to its full potential.\n",
    "    Next, we will briefly introduce the DataFrame class of the pandas package and learn to identify and manipulate its methods.\n",
    "\n",
    "1. The list class\n",
    "\n",
    "    (a) Use the dir(list) command to display all attributes and methods of the list class.\n"
   ]
  },
  {
   "cell_type": "code",
   "execution_count": 24,
   "id": "7f29c069",
   "metadata": {},
   "outputs": [
    {
     "data": {
      "text/plain": [
       "['__add__',\n",
       " '__class__',\n",
       " '__class_getitem__',\n",
       " '__contains__',\n",
       " '__delattr__',\n",
       " '__delitem__',\n",
       " '__dir__',\n",
       " '__doc__',\n",
       " '__eq__',\n",
       " '__format__',\n",
       " '__ge__',\n",
       " '__getattribute__',\n",
       " '__getitem__',\n",
       " '__getstate__',\n",
       " '__gt__',\n",
       " '__hash__',\n",
       " '__iadd__',\n",
       " '__imul__',\n",
       " '__init__',\n",
       " '__init_subclass__',\n",
       " '__iter__',\n",
       " '__le__',\n",
       " '__len__',\n",
       " '__lt__',\n",
       " '__mul__',\n",
       " '__ne__',\n",
       " '__new__',\n",
       " '__reduce__',\n",
       " '__reduce_ex__',\n",
       " '__repr__',\n",
       " '__reversed__',\n",
       " '__rmul__',\n",
       " '__setattr__',\n",
       " '__setitem__',\n",
       " '__sizeof__',\n",
       " '__str__',\n",
       " '__subclasshook__',\n",
       " 'append',\n",
       " 'clear',\n",
       " 'copy',\n",
       " 'count',\n",
       " 'extend',\n",
       " 'index',\n",
       " 'insert',\n",
       " 'pop',\n",
       " 'remove',\n",
       " 'reverse',\n",
       " 'sort']"
      ]
     },
     "execution_count": 24,
     "metadata": {},
     "output_type": "execute_result"
    }
   ],
   "source": [
    "dir(list)"
   ]
  },
  {
   "cell_type": "code",
   "execution_count": 25,
   "id": "e07c1342",
   "metadata": {},
   "outputs": [
    {
     "data": {
      "text/plain": [
       "<slot wrapper '__add__' of 'list' objects>"
      ]
     },
     "execution_count": 25,
     "metadata": {},
     "output_type": "execute_result"
    }
   ],
   "source": [
    "list.__add__"
   ]
  },
  {
   "cell_type": "code",
   "execution_count": 26,
   "id": "58f2b8d8",
   "metadata": {},
   "outputs": [
    {
     "data": {
      "text/plain": [
       "'Built-in mutable sequence.\\n\\nIf no argument is given, the constructor creates a new empty list.\\nThe argument must be an iterable if specified.'"
      ]
     },
     "execution_count": 26,
     "metadata": {},
     "output_type": "execute_result"
    }
   ],
   "source": [
    "list.__doc__"
   ]
  },
  {
   "cell_type": "markdown",
   "id": "784ca617",
   "metadata": {},
   "source": [
    "(b) Use the help(list) command to display the documentation of the list class. This documentation is useful to understand how to use the methods of a class."
   ]
  },
  {
   "cell_type": "code",
   "execution_count": null,
   "id": "2e2feb74",
   "metadata": {},
   "outputs": [],
   "source": [
    "help(list)"
   ]
  },
  {
   "attachments": {},
   "cell_type": "markdown",
   "id": "c8c937fe",
   "metadata": {},
   "source": [
    "    The dir and help commands are the first commands to run when you don't understand how to use a method of a class or when you can't remember the name of a method.\n",
    "\n",
    "    (c) Using the dir or help commands, find a method that will reverse the order of the elements of the list list_1.\n"
   ]
  },
  {
   "cell_type": "code",
   "execution_count": null,
   "id": "9ca9837e",
   "metadata": {},
   "outputs": [],
   "source": [
    "list_1 = [1, 2, 3, 4, 5, 6, 7, 8, 9]\n",
    "\n",
    "### Insert your code here\n",
    "\n",
    "list_1.reverse()\n",
    "list_1\n",
    "\n",
    "#Original\n",
    "list_1 = [1, 2, 3, 4, 5, 6, 7, 8, 9]\n",
    "\n",
    "list_1.reverse() # reverses the order of the elements of the list calling it.\n",
    "                 # this method WILL MODIFY the list that calls it.\n",
    "\n",
    "list_1"
   ]
  },
  {
   "cell_type": "markdown",
   "id": "e2040a6a",
   "metadata": {},
   "source": [
    "(d) Using the dir and help commands, find a method that will insert the value 10 in the fifth position of the list list_2."
   ]
  },
  {
   "cell_type": "code",
   "execution_count": null,
   "id": "d8178c21",
   "metadata": {},
   "outputs": [],
   "source": [
    "list_2 = [1, 2, 3, 4, 5, 6, 7, 8, 9]\n",
    "\n",
    "list_2.insert(4, 10) # inserts the value 10 at the index 4 (fifth position in Python) of the list.\n",
    "\n",
    "list_2"
   ]
  },
  {
   "cell_type": "markdown",
   "id": "8cbe2c05",
   "metadata": {},
   "source": [
    "(e) Using the dir and help commands, find a method that will sort the list list_3."
   ]
  },
  {
   "cell_type": "code",
   "execution_count": null,
   "id": "ad38ec31",
   "metadata": {},
   "outputs": [],
   "source": [
    "list_3 = [5, 2, 4, 9, 6, 7, 8, 3, 10, 1]\n",
    "\n",
    "list_3.sort() # sorts the element of a list in increasing order.\n",
    "              # this method WILL MODIFY the list that calls it.\n",
    "\n",
    "list_3"
   ]
  },
  {
   "cell_type": "markdown",
   "id": "8798160a",
   "metadata": {},
   "source": [
    "2. The DataFrame class\n",
    "\n",
    "    The pandas package contains a class named DataFrame whose usefulness makes it the most used package by data scientists to manipulate data.\n",
    "\n",
    "    To use the pandas package, you must first import it. Then, to instantiate a DataFrame, you must call its constructor defined in thepandas package.\n",
    "\n",
    "    (a) Import the pandas package under the aliaspd.\n",
    "\n",
    "    (b) Instantiate an empty DataFrame using the constructor contained in the pandas package. This DataFrame will have the name df.\n",
    "\n"
   ]
  },
  {
   "cell_type": "code",
   "execution_count": 28,
   "id": "c2bc95b5",
   "metadata": {},
   "outputs": [
    {
     "data": {
      "text/html": [
       "<div>\n",
       "<style scoped>\n",
       "    .dataframe tbody tr th:only-of-type {\n",
       "        vertical-align: middle;\n",
       "    }\n",
       "\n",
       "    .dataframe tbody tr th {\n",
       "        vertical-align: top;\n",
       "    }\n",
       "\n",
       "    .dataframe thead th {\n",
       "        text-align: right;\n",
       "    }\n",
       "</style>\n",
       "<table border=\"1\" class=\"dataframe\">\n",
       "  <thead>\n",
       "    <tr style=\"text-align: right;\">\n",
       "      <th></th>\n",
       "    </tr>\n",
       "  </thead>\n",
       "  <tbody>\n",
       "  </tbody>\n",
       "</table>\n",
       "</div>"
      ],
      "text/plain": [
       "Empty DataFrame\n",
       "Columns: []\n",
       "Index: []"
      ]
     },
     "execution_count": 28,
     "metadata": {},
     "output_type": "execute_result"
    }
   ],
   "source": [
    "### Insert your code here\n",
    "\n",
    "import pandas as pd\n",
    "\n",
    "df = pd.DataFrame()\n",
    "df"
   ]
  },
  {
   "cell_type": "markdown",
   "id": "aeb47e10",
   "metadata": {},
   "source": [
    "\n",
    "\n",
    "    If you run the dir(df) or dir(pd.DataFrame) instructions, you will see that the DataFrame class has a lot of methods and attributes. It is very difficult to remember them all, hence the usefulness of the commands dir andhelp.\n",
    "\n",
    "    However, given the length of the documentation, it is not practical to directly use the dir(df) or help (df) commands. To have direct access to the documentation of a specific method, you can instead use the help function with the argument object.method.\n",
    "\n",
    "    (c) Using the help(pd.DataFrame) command, build a DataFrame named df1 using the list list_4.\n",
    "\n"
   ]
  },
  {
   "cell_type": "code",
   "execution_count": null,
   "id": "fdb58e78",
   "metadata": {},
   "outputs": [],
   "source": [
    "help(pd.DataFrame)"
   ]
  },
  {
   "cell_type": "code",
   "execution_count": 29,
   "id": "b836b1e2",
   "metadata": {},
   "outputs": [
    {
     "data": {
      "text/html": [
       "<div>\n",
       "<style scoped>\n",
       "    .dataframe tbody tr th:only-of-type {\n",
       "        vertical-align: middle;\n",
       "    }\n",
       "\n",
       "    .dataframe tbody tr th {\n",
       "        vertical-align: top;\n",
       "    }\n",
       "\n",
       "    .dataframe thead th {\n",
       "        text-align: right;\n",
       "    }\n",
       "</style>\n",
       "<table border=\"1\" class=\"dataframe\">\n",
       "  <thead>\n",
       "    <tr style=\"text-align: right;\">\n",
       "      <th></th>\n",
       "      <th>0</th>\n",
       "    </tr>\n",
       "  </thead>\n",
       "  <tbody>\n",
       "    <tr>\n",
       "      <th>0</th>\n",
       "      <td>1.0</td>\n",
       "    </tr>\n",
       "    <tr>\n",
       "      <th>1</th>\n",
       "      <td>5.0</td>\n",
       "    </tr>\n",
       "  </tbody>\n",
       "</table>\n",
       "</div>"
      ],
      "text/plain": [
       "     0\n",
       "0  1.0\n",
       "1  5.0"
      ]
     },
     "execution_count": 29,
     "metadata": {},
     "output_type": "execute_result"
    }
   ],
   "source": [
    "list_4 = [1, 5, 45, 42, None, 123, 4213 , None, 213]\n",
    "\n",
    "### Insert your code here\n",
    "\n",
    "df1 = pd.DataFrame({\"col1\" : list_4})\n",
    "df1 = pd.DataFrame(list_4)\n",
    "df1.head(2)"
   ]
  },
  {
   "cell_type": "code",
   "execution_count": 30,
   "id": "18dc9cf8",
   "metadata": {},
   "outputs": [
    {
     "data": {
      "text/html": [
       "<div>\n",
       "<style scoped>\n",
       "    .dataframe tbody tr th:only-of-type {\n",
       "        vertical-align: middle;\n",
       "    }\n",
       "\n",
       "    .dataframe tbody tr th {\n",
       "        vertical-align: top;\n",
       "    }\n",
       "\n",
       "    .dataframe thead th {\n",
       "        text-align: right;\n",
       "    }\n",
       "</style>\n",
       "<table border=\"1\" class=\"dataframe\">\n",
       "  <thead>\n",
       "    <tr style=\"text-align: right;\">\n",
       "      <th></th>\n",
       "      <th>0</th>\n",
       "    </tr>\n",
       "  </thead>\n",
       "  <tbody>\n",
       "    <tr>\n",
       "      <th>0</th>\n",
       "      <td>1.0</td>\n",
       "    </tr>\n",
       "    <tr>\n",
       "      <th>1</th>\n",
       "      <td>5.0</td>\n",
       "    </tr>\n",
       "    <tr>\n",
       "      <th>2</th>\n",
       "      <td>45.0</td>\n",
       "    </tr>\n",
       "    <tr>\n",
       "      <th>3</th>\n",
       "      <td>42.0</td>\n",
       "    </tr>\n",
       "    <tr>\n",
       "      <th>4</th>\n",
       "      <td>NaN</td>\n",
       "    </tr>\n",
       "  </tbody>\n",
       "</table>\n",
       "</div>"
      ],
      "text/plain": [
       "      0\n",
       "0   1.0\n",
       "1   5.0\n",
       "2  45.0\n",
       "3  42.0\n",
       "4   NaN"
      ]
     },
     "execution_count": 30,
     "metadata": {},
     "output_type": "execute_result"
    }
   ],
   "source": [
    "#original\n",
    "list_4 = [1, 5, 45, 42, None, 123, 4213, None, 213]\n",
    "\n",
    "df1 = pd.DataFrame(data = list_4)\n",
    "\n",
    "df1.head()"
   ]
  },
  {
   "cell_type": "code",
   "execution_count": 31,
   "id": "6dd5c18a",
   "metadata": {},
   "outputs": [
    {
     "data": {
      "text/plain": [
       "True"
      ]
     },
     "execution_count": 31,
     "metadata": {},
     "output_type": "execute_result"
    }
   ],
   "source": [
    "list_4.__contains__(1)"
   ]
  },
  {
   "cell_type": "markdown",
   "id": "87254c29",
   "metadata": {},
   "source": [
    "\n",
    "\n",
    "    By displaying the DataFrame df1, you can see that some of its values are assigned to NaN, which stands for Not a Number. In practice, this happens very often when we import a database that is unprocessed. The DataFrame class contains a very simple method to get rid of these missing values: the dropna method.\n",
    "    Unlike the methods of thelistclass, the methods of theDataFrameclass do not modify the instance calling the method. These methods return a newDataFrameon which the method will be applied. You must systematically store this newDataFrameto keep the result of the method. \n",
    "\n",
    "    (d) Using the dropna method of the DataFrame class, create a new DataFrame named df2 which does not contain any missing values.\n",
    "\n"
   ]
  },
  {
   "cell_type": "code",
   "execution_count": 32,
   "id": "90e3ad4a",
   "metadata": {},
   "outputs": [
    {
     "data": {
      "text/html": [
       "<div>\n",
       "<style scoped>\n",
       "    .dataframe tbody tr th:only-of-type {\n",
       "        vertical-align: middle;\n",
       "    }\n",
       "\n",
       "    .dataframe tbody tr th {\n",
       "        vertical-align: top;\n",
       "    }\n",
       "\n",
       "    .dataframe thead th {\n",
       "        text-align: right;\n",
       "    }\n",
       "</style>\n",
       "<table border=\"1\" class=\"dataframe\">\n",
       "  <thead>\n",
       "    <tr style=\"text-align: right;\">\n",
       "      <th></th>\n",
       "      <th>0</th>\n",
       "    </tr>\n",
       "  </thead>\n",
       "  <tbody>\n",
       "    <tr>\n",
       "      <th>0</th>\n",
       "      <td>1.0</td>\n",
       "    </tr>\n",
       "    <tr>\n",
       "      <th>1</th>\n",
       "      <td>5.0</td>\n",
       "    </tr>\n",
       "    <tr>\n",
       "      <th>2</th>\n",
       "      <td>45.0</td>\n",
       "    </tr>\n",
       "    <tr>\n",
       "      <th>3</th>\n",
       "      <td>42.0</td>\n",
       "    </tr>\n",
       "    <tr>\n",
       "      <th>5</th>\n",
       "      <td>123.0</td>\n",
       "    </tr>\n",
       "    <tr>\n",
       "      <th>6</th>\n",
       "      <td>4213.0</td>\n",
       "    </tr>\n",
       "    <tr>\n",
       "      <th>8</th>\n",
       "      <td>213.0</td>\n",
       "    </tr>\n",
       "  </tbody>\n",
       "</table>\n",
       "</div>"
      ],
      "text/plain": [
       "        0\n",
       "0     1.0\n",
       "1     5.0\n",
       "2    45.0\n",
       "3    42.0\n",
       "5   123.0\n",
       "6  4213.0\n",
       "8   213.0"
      ]
     },
     "execution_count": 32,
     "metadata": {},
     "output_type": "execute_result"
    }
   ],
   "source": [
    "### Insert your code here\n",
    "\n",
    "df2 = df1.dropna()\n",
    "df2"
   ]
  },
  {
   "cell_type": "markdown",
   "id": "3665d43a",
   "metadata": {},
   "source": [
    "\n",
    "\n",
    "    Another method of the DataFrame class which is widely used is the apply method. This method allows you to apply a function passed as an argument to all the entries of the DataFrame calling the method.\n",
    "\n",
    "    (e) Define a function named divide2 which returns the division by 2 of a number passed as argument.\n",
    "\n",
    "    (f) Create a DataFrame named df3 which will contain the values of df2 divided by 2.\n",
    "\n"
   ]
  },
  {
   "cell_type": "code",
   "execution_count": 33,
   "id": "4e4f95d8",
   "metadata": {},
   "outputs": [
    {
     "data": {
      "text/html": [
       "<div>\n",
       "<style scoped>\n",
       "    .dataframe tbody tr th:only-of-type {\n",
       "        vertical-align: middle;\n",
       "    }\n",
       "\n",
       "    .dataframe tbody tr th {\n",
       "        vertical-align: top;\n",
       "    }\n",
       "\n",
       "    .dataframe thead th {\n",
       "        text-align: right;\n",
       "    }\n",
       "</style>\n",
       "<table border=\"1\" class=\"dataframe\">\n",
       "  <thead>\n",
       "    <tr style=\"text-align: right;\">\n",
       "      <th></th>\n",
       "      <th>0</th>\n",
       "    </tr>\n",
       "  </thead>\n",
       "  <tbody>\n",
       "    <tr>\n",
       "      <th>0</th>\n",
       "      <td>0.5</td>\n",
       "    </tr>\n",
       "    <tr>\n",
       "      <th>1</th>\n",
       "      <td>2.5</td>\n",
       "    </tr>\n",
       "    <tr>\n",
       "      <th>2</th>\n",
       "      <td>22.5</td>\n",
       "    </tr>\n",
       "    <tr>\n",
       "      <th>3</th>\n",
       "      <td>21.0</td>\n",
       "    </tr>\n",
       "    <tr>\n",
       "      <th>5</th>\n",
       "      <td>61.5</td>\n",
       "    </tr>\n",
       "    <tr>\n",
       "      <th>6</th>\n",
       "      <td>2106.5</td>\n",
       "    </tr>\n",
       "    <tr>\n",
       "      <th>8</th>\n",
       "      <td>106.5</td>\n",
       "    </tr>\n",
       "  </tbody>\n",
       "</table>\n",
       "</div>"
      ],
      "text/plain": [
       "        0\n",
       "0     0.5\n",
       "1     2.5\n",
       "2    22.5\n",
       "3    21.0\n",
       "5    61.5\n",
       "6  2106.5\n",
       "8   106.5"
      ]
     },
     "execution_count": 33,
     "metadata": {},
     "output_type": "execute_result"
    }
   ],
   "source": [
    "# Insert your code here\n",
    "\n",
    "def divide2(x):\n",
    "    return x / 2\n",
    "\n",
    "df3 = df2.apply(divide2)\n",
    "df3"
   ]
  },
  {
   "cell_type": "markdown",
   "id": "c9b03d7a",
   "metadata": {},
   "source": [
    "\n",
    "\n",
    "    The DataFrame class has many methods like apply or dropna that you will explore in more depth during your learning journey. The list class being too basic for the needs of data scientists, these methods make the DataFrame class the standard to manipulate data.\n",
    "\n",
    "    All the packages that you will be invited to use in your training will be handled as objects, i.e. you will first have to initialize an object of the class (DataFrame,Scikit Model, Python Plot, ...) then call the methods defined in the class.\n",
    "\n",
    "    The dir andhelp commands will assist you in handling these classes. Remember to use them regularly!\n",
    "\n"
   ]
  },
  {
   "cell_type": "markdown",
   "id": "50572a45",
   "metadata": {},
   "source": [
    "# OOP4 Built-in Methods"
   ]
  },
  {
   "cell_type": "markdown",
   "id": "200c8c9e",
   "metadata": {},
   "source": [
    " Built-in methods\n",
    "1. Built-in methods\n",
    "\n",
    "    All classes defined in Python have methods whose name is already defined. The first example of such a method we have seen is the __init__ method which allows us to initialize an object, but it is not the only one.\n",
    "\n",
    "    Built-in methods give the class the ability to interact with predefined Python functions such as print, len, help and basic operators. These methods usually have the affixes __ at the beginning and end of their names, which allows us to easily identify them.\n",
    "\n",
    "    Thanks to the dir(object) command, we can get an overview of some predefined methods common to all Python objects.\n"
   ]
  },
  {
   "cell_type": "code",
   "execution_count": 34,
   "id": "7d3788fe",
   "metadata": {},
   "outputs": [
    {
     "data": {
      "text/plain": [
       "['__class__',\n",
       " '__delattr__',\n",
       " '__dir__',\n",
       " '__doc__',\n",
       " '__eq__',\n",
       " '__format__',\n",
       " '__ge__',\n",
       " '__getattribute__',\n",
       " '__getstate__',\n",
       " '__gt__',\n",
       " '__hash__',\n",
       " '__init__',\n",
       " '__init_subclass__',\n",
       " '__le__',\n",
       " '__lt__',\n",
       " '__ne__',\n",
       " '__new__',\n",
       " '__reduce__',\n",
       " '__reduce_ex__',\n",
       " '__repr__',\n",
       " '__setattr__',\n",
       " '__sizeof__',\n",
       " '__str__',\n",
       " '__subclasshook__']"
      ]
     },
     "execution_count": 34,
     "metadata": {},
     "output_type": "execute_result"
    }
   ],
   "source": [
    "dir(object)"
   ]
  },
  {
   "cell_type": "markdown",
   "id": "80ff3778",
   "metadata": {},
   "source": [
    "2. The str method\n",
    "\n",
    "    One of the most convenient methods is the __str__ method which is called automatically when the user calls the print command on an object. This method returns a character string that represents the object passed to it.\n",
    "\n",
    "    All the classes in Python on which we can apply the print function have this method in their definition.\n",
    "\n"
   ]
  },
  {
   "cell_type": "code",
   "execution_count": 35,
   "id": "b27f81d1",
   "metadata": {},
   "outputs": [
    {
     "data": {
      "text/plain": [
       "'[1, 2, 3, 4, 5, 6]'"
      ]
     },
     "execution_count": 35,
     "metadata": {},
     "output_type": "execute_result"
    }
   ],
   "source": [
    "# The list class\n",
    "\n",
    "tab = [1, 2 , 3, 4, 5, 6]\n",
    "tab.__str__()"
   ]
  },
  {
   "cell_type": "markdown",
   "id": "cbf4bca8",
   "metadata": {},
   "source": [
    "\n",
    "\n",
    "    When we define our own classes, it is better to define a __str__ method rather than a method like display as we did previously. This will allow all future users to directly use the print function to display the object on the console.\n",
    "\n",
    "    We are going to use the Complex class that we defined in the first module of introduction to object-oriented programming:\n",
    "\n",
    "       class Complex:\n",
    "           def __init__(self, a, b):\n",
    "              self.part_re = a\n",
    "              self.part_im = b\n",
    "\n",
    "           def display(self):\n",
    "              if(self.part_im < 0):\n",
    "                   print(self.part_re,'-', -self.part_im,'i')\n",
    "              if(self.part_im == 0):\n",
    "                   print(self.part_re)\n",
    "              if(self.part_im > 0):\n",
    "                   print(self.part_re, '+',self.part_im,'i')\n",
    "\n",
    "    (a) Define in the Complex class the __str__ method which must return a character string corresponding to the algebraic representation 𝑎+𝑏𝑖\n",
    "\n",
    "    of a complex number. This method will replace the display method.\n",
    "\n",
    "To get the string representation of a number, you can call its__str__method.\n",
    "\n",
    "    (b) Instantiate a Complex object corresponding to the number 6−3𝑖\n",
    "\n",
    "then display it on the console using the print function."
   ]
  },
  {
   "cell_type": "code",
   "execution_count": null,
   "id": "251c7001",
   "metadata": {},
   "outputs": [],
   "source": [
    "class Complex:\n",
    "    def __init__(self, a = 0, b = 0):\n",
    "        self.part_re = a\n",
    "        self.part_im = b\n",
    "    def __str__(self):\n",
    "         raise NotImplemented  #### Insert your code here"
   ]
  },
  {
   "cell_type": "code",
   "execution_count": 36,
   "id": "9ae91bbb",
   "metadata": {},
   "outputs": [
    {
     "name": "stdout",
     "output_type": "stream",
     "text": [
      "5 + 10 i\n"
     ]
    }
   ],
   "source": [
    "class Complex:\n",
    "    def __init__(self, a = 0, b = 0):\n",
    "        self.part_re = a\n",
    "        self.part_im = b\n",
    "    def __str__(self):       \n",
    "        if(self.part_im < 0):\n",
    "            return f\"{self.part_re} -  {-self.part_im} i \"\n",
    "        if(self.part_im == 0):\n",
    "            return f\"{self.part_re}\"\n",
    "        if(self.part_im > 0):\n",
    "            return f\"{self.part_re} + {self.part_im} i\"\n",
    "        \n",
    "c = Complex(5 , 10)\n",
    "print(c)"
   ]
  },
  {
   "cell_type": "code",
   "execution_count": 40,
   "id": "f513c59d",
   "metadata": {},
   "outputs": [
    {
     "name": "stdout",
     "output_type": "stream",
     "text": [
      "5+10i\n"
     ]
    },
    {
     "ename": "TypeError",
     "evalue": "__str__ returned non-string (type NoneType)",
     "output_type": "error",
     "traceback": [
      "\u001b[0;31m---------------------------------------------------------------------------\u001b[0m",
      "\u001b[0;31mTypeError\u001b[0m                                 Traceback (most recent call last)",
      "Cell \u001b[0;32mIn[40], line 19\u001b[0m\n\u001b[1;32m     16\u001b[0m             \u001b[39mprint\u001b[39m(\u001b[39mstr\u001b[39m(\u001b[39mself\u001b[39m\u001b[39m.\u001b[39mpart_re) \u001b[39m+\u001b[39m \u001b[39m'\u001b[39m\u001b[39m+\u001b[39m\u001b[39m'\u001b[39m \u001b[39m+\u001b[39m\u001b[39mstr\u001b[39m(\u001b[39mself\u001b[39m\u001b[39m.\u001b[39mpart_im) \u001b[39m+\u001b[39m \u001b[39m'\u001b[39m\u001b[39mi\u001b[39m\u001b[39m'\u001b[39m)\n\u001b[1;32m     18\u001b[0m c \u001b[39m=\u001b[39m Complex(\u001b[39m5\u001b[39m, \u001b[39m10\u001b[39m)\n\u001b[0;32m---> 19\u001b[0m \u001b[39mprint\u001b[39;49m(c)     \n",
      "\u001b[0;31mTypeError\u001b[0m: __str__ returned non-string (type NoneType)"
     ]
    }
   ],
   "source": [
    "# Output gives an TypeError !!!!!!\n",
    "\n",
    "class Complex:\n",
    "    def __init__(self, a = 0, b = 0):\n",
    "        self.part_re = a\n",
    "        self.part_im = b\n",
    "    \n",
    "    def __str__(self):\n",
    "        if(self.part_im < 0):\n",
    "            print(str(self.part_re) + str(self.part_im) + 'i')\n",
    "        \n",
    "        if(self.part_im == 0):\n",
    "            print(str(self.part_re))\n",
    "        \n",
    "        if(self.part_im > 0):\n",
    "            print(str(self.part_re) + '+' +str(self.part_im) + 'i')\n",
    "        \n",
    "c = Complex(5, 10)\n",
    "print(c)     "
   ]
  },
  {
   "cell_type": "code",
   "execution_count": 43,
   "id": "1bf9d598",
   "metadata": {},
   "outputs": [
    {
     "name": "stdout",
     "output_type": "stream",
     "text": [
      "6-3i\n"
     ]
    }
   ],
   "source": [
    "#original\n",
    "class Complex:\n",
    "    def __init__(self, a = 0, b = 0):\n",
    "        self.part_re = a\n",
    "        self.part_im = b\n",
    "    \n",
    "    def __str__(self):\n",
    "        if(self.part_im < 0):\n",
    "            return self.part_re.__str__() + self.part_im.__str__() + 'i'  # returns 'a' '-b' 'i'\n",
    "        \n",
    "        if(self.part_im == 0):\n",
    "            return self.part_re.__str__()    # returns 'a'\n",
    "        \n",
    "        if(self.part_im > 0):\n",
    "            return self.part_re.__str__() + '+' + self.part_im.__str__() + 'i' # returns 'a' '+' 'b' + 'i'\n",
    "        \n",
    "z = Complex(6, -3)\n",
    "print(z)"
   ]
  },
  {
   "cell_type": "code",
   "execution_count": 42,
   "id": "133c9c64",
   "metadata": {},
   "outputs": [
    {
     "name": "stdout",
     "output_type": "stream",
     "text": [
      "Init Func executed\n",
      "Make  : Verso \n",
      "Model : Toyota \n",
      "Year  : 2008\n"
     ]
    }
   ],
   "source": [
    "class Car():\n",
    "    def __init__(self, make, model, year):\n",
    "        self.make = make\n",
    "        self.model = model\n",
    "        self.year = year\n",
    "        print(\"Init Func executed\")\n",
    "    def __str__(self):\n",
    "        return f\"Make  : {self.make} \\nModel : {self.model} \\nYear  : {self.year}\"\n",
    "    \n",
    "    \n",
    "car = Car('Verso', 'Toyota', 2008)\n",
    "print(car)"
   ]
  },
  {
   "cell_type": "markdown",
   "id": "791ef7f4",
   "metadata": {},
   "source": [
    "3. Comparison methods\n",
    "\n",
    "    As for the int or float classes, we would like to be able to compare the objects of the Complex class with each other, i.e. to be able to use the comparison operators (>, <, ==, !=, ...).\n",
    "\n",
    "    To this end, the Python developers have provided the following methods:\n",
    "\n",
    "        __le__ / __ge__: lesser or equal / greater or equal\n",
    "\n",
    "        __lt__ / __gt__: lesser than / greater than\n",
    "\n",
    "        __eq__ / __ne__ : equals / not equal\n",
    "\n",
    "    These methods are automatically called when the comparison operators are used and return a Boolean value (True orFalse).\n",
    "\n"
   ]
  },
  {
   "cell_type": "code",
   "execution_count": 44,
   "id": "8758248e",
   "metadata": {},
   "outputs": [
    {
     "name": "stdout",
     "output_type": "stream",
     "text": [
      "True\n",
      "True\n",
      "False\n",
      "False\n"
     ]
    }
   ],
   "source": [
    "x = 5\n",
    "\n",
    "print(x > 3)  # True\n",
    "\n",
    "print(x.__gt__(3)) # True   \n",
    "                           # These two types of syntax are strictly equivalent\n",
    "print(x < 3) # False\n",
    "\n",
    "print(x.__lt__(3)) # False"
   ]
  },
  {
   "cell_type": "markdown",
   "id": "3b84ce0c",
   "metadata": {},
   "source": [
    "For the Complex class, we will make the comparison thanks to the modulus calculated by the formula |𝑎+𝑏𝑖|=𝑎²+𝑏²⎯⎯⎯⎯⎯⎯⎯⎯⎯⎯⎯√\n",
    "\n",
    "    (a) Define in the Complex class a mod method which returns the modulus of the Complex calling the method. You can use the sqrt function of the numpy package to calculate a square root.\n",
    "\n",
    "    (b) Define in the Complex class the methods __lt__ and __gt__ (strictly lower and strictly higher). These methods must return a boolean.\n",
    "\n",
    "    (c) Perform the two comparisons defined above on the complex numbers 3+4𝑖\n",
    "\n",
    "and 2−5𝑖"
   ]
  },
  {
   "cell_type": "code",
   "execution_count": 45,
   "id": "6f4f81a7",
   "metadata": {},
   "outputs": [
    {
     "name": "stdout",
     "output_type": "stream",
     "text": [
      "False\n",
      "3+4i < 1-4j =  False\n",
      "3+4i > 1-4j =  True\n"
     ]
    }
   ],
   "source": [
    "import numpy as np\n",
    "\n",
    "class Complex:\n",
    "    def __init__(self, a = 0, b = 0):\n",
    "        self.part_re = a\n",
    "        self.part_im = b\n",
    "    \n",
    "    def __str__(self):\n",
    "        if(self.part_im < 0):\n",
    "            return self.part_re.__str__() + self.part_im.__str__() + 'i'  # returns 'a' '-b' 'i'\n",
    "        \n",
    "        if(self.part_im == 0):\n",
    "            return self.part_re.__str__()    # returns 'a'\n",
    "        \n",
    "        if(self.part_im > 0):\n",
    "            return self.part_re.__str__() + '+' + self.part_im.__str__() + 'i' # returns 'a' '+' 'b' + 'i'\n",
    "        \n",
    "    def mod(self):\n",
    "        a = self.part_re**2\n",
    "        b = self.part_im**2\n",
    "        return np.sqrt(a + b)\n",
    "        \n",
    "# The 'other' argument in the following methods corresponds to the object \n",
    "# of type Complex that we wish to compare to\n",
    "\n",
    "    def __lt__(self, other):\n",
    "        other_modus = np.sqrt(other.real**2 + other.imag**2)\n",
    "        \n",
    "        if self.mod() < other_modus:\n",
    "            return True\n",
    "        else:\n",
    "            return False\n",
    "        \n",
    "        \n",
    "    def __gt__(self, other):\n",
    "        other_modus = np.sqrt(other.real**2 + other.imag**2)\n",
    "        \n",
    "        if self.mod() > other_modus:\n",
    "            return True\n",
    "        else:\n",
    "            return False\n",
    "        \n",
    "        \n",
    "c = Complex(3, 4)\n",
    "c.mod()\n",
    "\n",
    "print(c.__lt__(1-4j))\n",
    "print(f\"{c} < 1-4j = \", c.__lt__(1-4j))\n",
    "print(f\"{c} > 1-4j = \", c.__gt__(1-4j))"
   ]
  },
  {
   "cell_type": "code",
   "execution_count": 46,
   "id": "3cbc8c57",
   "metadata": {},
   "outputs": [
    {
     "name": "stdout",
     "output_type": "stream",
     "text": [
      "Real =  1.0 \n",
      "Imaginary =  -4.0\n"
     ]
    }
   ],
   "source": [
    "c = 1-4j\n",
    "print(\"Real = \", c.real, \"\\nImaginary = \", c.imag)"
   ]
  },
  {
   "cell_type": "code",
   "execution_count": null,
   "id": "81011e9e",
   "metadata": {},
   "outputs": [],
   "source": [
    "import numpy as np\n",
    "\n",
    "class Complex:\n",
    "    def __init__(self, a = 0, b = 0):\n",
    "        self.part_re = a\n",
    "        self.part_im = b\n",
    "    \n",
    "    def __str__(self):\n",
    "        if(self.part_im < 0):\n",
    "            return self.part_re.__str__() + self.part_im.__str__() + 'i'  # returns 'a' '-b' 'i'\n",
    "        \n",
    "        if(self.part_im == 0):\n",
    "            return self.part_re.__str__()    # returns 'a'\n",
    "        \n",
    "        if(self.part_im > 0):\n",
    "            return self.part_re.__str__() + '+' + self.part_im.__str__() + 'i' # returns 'a' '+' 'b' + 'i'\n",
    "        \n",
    "    def mod(self):\n",
    "        raise NotImplemented ### Insert your code here\n",
    "        \n",
    "# The 'other' argument in the following methods corresponds to the object \n",
    "# of type Complex that we wish to compare to\n",
    "\n",
    "    def __lt__(self, other):    \n",
    "        raise NotImplemented ### Insert your code here\n",
    "        \n",
    "    def __gt__(self, other):\n",
    "        raise NotImplemented ### Insert your code here"
   ]
  },
  {
   "cell_type": "code",
   "execution_count": 47,
   "id": "7df8e8de",
   "metadata": {},
   "outputs": [
    {
     "name": "stdout",
     "output_type": "stream",
     "text": [
      "False\n",
      "True\n"
     ]
    }
   ],
   "source": [
    "import numpy as np\n",
    "\n",
    "class Complex:\n",
    "    def __init__(self, a = 0, b = 0):\n",
    "        self.part_re = a\n",
    "        self.part_im = b\n",
    "    \n",
    "    def __str__(self):\n",
    "        if(self.part_im < 0):\n",
    "            return self.part_re.__str__() + self.part_im.__str__() + 'i'  # returns 'a' '-b' 'i'\n",
    "        \n",
    "        if(self.part_im == 0):\n",
    "            return self.part_re.__str__()    # returns 'a'\n",
    "        \n",
    "        if(self.part_im > 0):\n",
    "            return self.part_re.__str__() + '+' + self.part_im.__str__() + 'i' # returns 'a' '+' 'b' + 'i'\n",
    "        \n",
    "    def mod(self):\n",
    "        return np.sqrt( self.part_re ** 2 + self.part_im ** 2)  # returns (sqrt(a² + b²))\n",
    "    \n",
    "    def __lt__(self, other):    \n",
    "        if(self.mod() < other.mod()):   # returns True if |self| < |other|\n",
    "            return True\n",
    "        else:\n",
    "            return False\n",
    "        \n",
    "    def __gt__(self, other):\n",
    "        if(self.mod() > other.mod()):   # returns True if |self| > |other|\n",
    "            return True\n",
    "        else:\n",
    "            return False\n",
    "        \n",
    "        \n",
    "z1 = Complex(3, 4)\n",
    "z2 = Complex(2, 5)\n",
    "print(z1 > z2)\n",
    "print(z1 < z2)"
   ]
  },
  {
   "cell_type": "code",
   "execution_count": null,
   "id": "8f833aac",
   "metadata": {},
   "outputs": [],
   "source": []
  },
  {
   "cell_type": "code",
   "execution_count": null,
   "id": "214d4ab5",
   "metadata": {},
   "outputs": [],
   "source": []
  },
  {
   "cell_type": "code",
   "execution_count": null,
   "id": "aa9d46f0",
   "metadata": {},
   "outputs": [],
   "source": []
  },
  {
   "cell_type": "code",
   "execution_count": null,
   "id": "ad5d657e",
   "metadata": {},
   "outputs": [],
   "source": []
  }
 ],
 "metadata": {
  "kernelspec": {
   "display_name": "web_scpraing_portfolio_deneme",
   "language": "python",
   "name": "web_scpraing_portfolio_deneme"
  },
  "language_info": {
   "codemirror_mode": {
    "name": "ipython",
    "version": 3
   },
   "file_extension": ".py",
   "mimetype": "text/x-python",
   "name": "python",
   "nbconvert_exporter": "python",
   "pygments_lexer": "ipython3",
   "version": "3.11.2"
  }
 },
 "nbformat": 4,
 "nbformat_minor": 5
}
