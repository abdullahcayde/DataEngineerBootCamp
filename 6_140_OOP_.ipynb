{
 "cells": [
  {
   "cell_type": "markdown",
   "id": "1d25cc59-b0ee-4859-a4ed-5ca9e0f45e61",
   "metadata": {},
   "source": [
    "# 140 - Object Oriented Programming"
   ]
  },
  {
   "cell_type": "code",
   "execution_count": 1,
   "id": "8b8a82c2-e178-4575-9cfa-964eff56a817",
   "metadata": {},
   "outputs": [
    {
     "name": "stdout",
     "output_type": "stream",
     "text": [
      "Calisan Sinifi init fonk. calisti\n",
      "Isim : Abdullah \n",
      "Bolum : Data Engineer \n",
      "Maas : 45000\n"
     ]
    }
   ],
   "source": [
    "class Calisan():\n",
    "    def __init__(self, isim, bolum, maas):\n",
    "        self.isim = isim\n",
    "        self.bolum = bolum\n",
    "        self.maas = maas\n",
    "        print(\"Calisan Sinifi init fonk. calisti\")\n",
    "        \n",
    "    def bilgi_goster(self):\n",
    "        print(f\"\"\" \n",
    "        Isim : {self.isim} \n",
    "        Bolum : {self.bolum}\n",
    "        Maas : {self.maas} \n",
    "        \"\"\")\n",
    "    def bilgi_goster2(self):\n",
    "        print(f\"Isim : {self.isim} \\nBolum : {self.bolum} \\nMaas : {self.maas}\")\n",
    "        \n",
    "c1 = Calisan(\"Abdullah\", \"Data Engineer\", 45000)\n",
    "\n",
    "c1.bilgi_goster2()"
   ]
  },
  {
   "cell_type": "code",
   "execution_count": 7,
   "id": "09cd9384-fb9e-483d-98eb-66065561a189",
   "metadata": {},
   "outputs": [
    {
     "name": "stdout",
     "output_type": "stream",
     "text": [
      "Calisan Sinifi init fonk. calisti\n",
      "Yonetici Sinifi init fonk. calisti\n"
     ]
    }
   ],
   "source": [
    "class Yonetici(Calisan):\n",
    "    def __init__(self, isim, bolum, maas, kisi_sayisi):\n",
    "        super().__init__(isim, bolum, maas)\n",
    "        \n",
    "        self.kisi_sayisi = kisi_sayisi\n",
    "        \n",
    "        print(\"Yonetici Sinifi init fonk. calisti\")\n",
    "    \n",
    "    def zam_yap(self, zam_miktari):\n",
    "        self.maas += zam_miktari\n",
    "        print(self.maas)\n",
    "        \n",
    "y1 = Yonetici(\"Abdullah\", \"Data Engineer\", 45000, 5)"
   ]
  },
  {
   "cell_type": "code",
   "execution_count": 4,
   "id": "70738958-7bb7-4c8a-8867-35dc9e246a50",
   "metadata": {},
   "outputs": [
    {
     "name": "stdout",
     "output_type": "stream",
     "text": [
      "49000\n"
     ]
    }
   ],
   "source": [
    "y1.zam_yap(4000)"
   ]
  },
  {
   "cell_type": "code",
   "execution_count": 8,
   "id": "1fc764de-bcf8-4f50-bc8f-fbcca02b3c5e",
   "metadata": {},
   "outputs": [
    {
     "name": "stdout",
     "output_type": "stream",
     "text": [
      "Pierre\n",
      "Dimitri\n",
      "Yohann\n"
     ]
    }
   ],
   "source": [
    "class Vehicle: # Definition of the Vehicle class\n",
    "    def __init__(self, a, b = []):\n",
    "        self.seats = a       # number of seats in the vehicle  \n",
    "        self.passengers = b  # list containing the names of the passengers\n",
    "    \n",
    "    def print_passengers(self): # Prints the names of the passengers in the vehicle\n",
    "        for i in range(len(self.passengers)):\n",
    "            print(self.passengers[i])\n",
    "    \n",
    "    def add(self,name): # Adds a new passenger to the list of passengers.\n",
    "            self.passengers.append(name)\n",
    "    \n",
    "class Motorcycle(Vehicle):\n",
    "    def __init__(self, b, c):\n",
    "        self.seats = 2      # The number of seats is automatically set to 2 and is not modified by the arguments\n",
    "        self.passengers = b \n",
    "        self.brand = c\n",
    "\n",
    "moto1 = Motorcycle(['Pierre','Dimitri'], 'Yamaha')\n",
    "moto1.add('Yohann')\n",
    "moto1.print_passengers()"
   ]
  },
  {
   "cell_type": "code",
   "execution_count": 9,
   "id": "f37d026a-7b9b-4931-8035-ebd6611e25e1",
   "metadata": {},
   "outputs": [
    {
     "name": "stdout",
     "output_type": "stream",
     "text": [
      "Added vehicle: Vehicle\n",
      "Added vehicle: Vehicle\n"
     ]
    }
   ],
   "source": [
    "class Vehicle:\n",
    "    def __init__(self, seats, passengers):\n",
    "        self.seats = seats\n",
    "        self.passengers = passengers\n",
    "\n",
    "class Konvoy(Vehicle):\n",
    "    def __init__(self, length):\n",
    "        super().__init__(seats=None, passengers=[])\n",
    "        self.length = length\n",
    "        self.car_list = []\n",
    "\n",
    "    def add_car(self, car):\n",
    "        self.car_list.append(car)\n",
    "        self.length += 1\n",
    "        print(f\"Added vehicle: {car.__class__.__name__}\")  # Vehicle sınıfının adını gösterir\n",
    "\n",
    "car1 = Vehicle(seats=4, passengers=[\"Alice\", \"Bob\"])\n",
    "car2 = Vehicle(seats=2, passengers=[\"Charlie\"])\n",
    "\n",
    "konvoy1 = Konvoy(length=0)\n",
    "konvoy1.add_car(car1)\n",
    "konvoy1.add_car(car2)"
   ]
  },
  {
   "cell_type": "code",
   "execution_count": null,
   "id": "50c8809d-60df-4af8-9d34-3549b9148ce3",
   "metadata": {},
   "outputs": [],
   "source": [
    "konvoy1."
   ]
  },
  {
   "cell_type": "code",
   "execution_count": null,
   "id": "2fa6ddfb-5a23-47fe-a6ad-47326d6a6d9a",
   "metadata": {},
   "outputs": [],
   "source": []
  },
  {
   "cell_type": "code",
   "execution_count": null,
   "id": "76d0f04a-cb0c-43d8-8258-5a4d36b4764e",
   "metadata": {},
   "outputs": [],
   "source": []
  },
  {
   "cell_type": "code",
   "execution_count": 14,
   "id": "e028b875-f025-48c3-bb4f-368684e6e9ef",
   "metadata": {},
   "outputs": [
    {
     "name": "stdout",
     "output_type": "stream",
     "text": [
      "2\n",
      "Toyota 15\n",
      "Honda 10\n"
     ]
    }
   ],
   "source": [
    "class Araba:\n",
    "    def __init__(self, marka, yas):\n",
    "        self.marka = marka\n",
    "        self.yas = yas\n",
    "\n",
    "arac_listesi = []\n",
    "\n",
    "arac1 = Araba(\"Toyota\", 15)\n",
    "arac_listesi.append(arac1)\n",
    "\n",
    "arac2 = Araba(\"Honda\", 10)\n",
    "arac_listesi.append(arac2)\n",
    "\n",
    "# Araba sayısı\n",
    "print(len(arac_listesi))\n",
    "\n",
    "# Arabaların markaları\n",
    "for arac in arac_listesi:\n",
    "    print(arac.marka, arac.yas)"
   ]
  },
  {
   "cell_type": "code",
   "execution_count": 16,
   "id": "3131a7b9-98d0-4bf4-aa4a-c94720ecc755",
   "metadata": {},
   "outputs": [
    {
     "name": "stdout",
     "output_type": "stream",
     "text": [
      "Help on class list in module builtins:\n",
      "\n",
      "class list(object)\n",
      " |  list(iterable=(), /)\n",
      " |  \n",
      " |  Built-in mutable sequence.\n",
      " |  \n",
      " |  If no argument is given, the constructor creates a new empty list.\n",
      " |  The argument must be an iterable if specified.\n",
      " |  \n",
      " |  Methods defined here:\n",
      " |  \n",
      " |  __add__(self, value, /)\n",
      " |      Return self+value.\n",
      " |  \n",
      " |  __contains__(self, key, /)\n",
      " |      Return key in self.\n",
      " |  \n",
      " |  __delitem__(self, key, /)\n",
      " |      Delete self[key].\n",
      " |  \n",
      " |  __eq__(self, value, /)\n",
      " |      Return self==value.\n",
      " |  \n",
      " |  __ge__(self, value, /)\n",
      " |      Return self>=value.\n",
      " |  \n",
      " |  __getattribute__(self, name, /)\n",
      " |      Return getattr(self, name).\n",
      " |  \n",
      " |  __getitem__(...)\n",
      " |      x.__getitem__(y) <==> x[y]\n",
      " |  \n",
      " |  __gt__(self, value, /)\n",
      " |      Return self>value.\n",
      " |  \n",
      " |  __iadd__(self, value, /)\n",
      " |      Implement self+=value.\n",
      " |  \n",
      " |  __imul__(self, value, /)\n",
      " |      Implement self*=value.\n",
      " |  \n",
      " |  __init__(self, /, *args, **kwargs)\n",
      " |      Initialize self.  See help(type(self)) for accurate signature.\n",
      " |  \n",
      " |  __iter__(self, /)\n",
      " |      Implement iter(self).\n",
      " |  \n",
      " |  __le__(self, value, /)\n",
      " |      Return self<=value.\n",
      " |  \n",
      " |  __len__(self, /)\n",
      " |      Return len(self).\n",
      " |  \n",
      " |  __lt__(self, value, /)\n",
      " |      Return self<value.\n",
      " |  \n",
      " |  __mul__(self, value, /)\n",
      " |      Return self*value.\n",
      " |  \n",
      " |  __ne__(self, value, /)\n",
      " |      Return self!=value.\n",
      " |  \n",
      " |  __repr__(self, /)\n",
      " |      Return repr(self).\n",
      " |  \n",
      " |  __reversed__(self, /)\n",
      " |      Return a reverse iterator over the list.\n",
      " |  \n",
      " |  __rmul__(self, value, /)\n",
      " |      Return value*self.\n",
      " |  \n",
      " |  __setitem__(self, key, value, /)\n",
      " |      Set self[key] to value.\n",
      " |  \n",
      " |  __sizeof__(self, /)\n",
      " |      Return the size of the list in memory, in bytes.\n",
      " |  \n",
      " |  append(self, object, /)\n",
      " |      Append object to the end of the list.\n",
      " |  \n",
      " |  clear(self, /)\n",
      " |      Remove all items from list.\n",
      " |  \n",
      " |  copy(self, /)\n",
      " |      Return a shallow copy of the list.\n",
      " |  \n",
      " |  count(self, value, /)\n",
      " |      Return number of occurrences of value.\n",
      " |  \n",
      " |  extend(self, iterable, /)\n",
      " |      Extend list by appending elements from the iterable.\n",
      " |  \n",
      " |  index(self, value, start=0, stop=9223372036854775807, /)\n",
      " |      Return first index of value.\n",
      " |      \n",
      " |      Raises ValueError if the value is not present.\n",
      " |  \n",
      " |  insert(self, index, object, /)\n",
      " |      Insert object before index.\n",
      " |  \n",
      " |  pop(self, index=-1, /)\n",
      " |      Remove and return item at index (default last).\n",
      " |      \n",
      " |      Raises IndexError if list is empty or index is out of range.\n",
      " |  \n",
      " |  remove(self, value, /)\n",
      " |      Remove first occurrence of value.\n",
      " |      \n",
      " |      Raises ValueError if the value is not present.\n",
      " |  \n",
      " |  reverse(self, /)\n",
      " |      Reverse *IN PLACE*.\n",
      " |  \n",
      " |  sort(self, /, *, key=None, reverse=False)\n",
      " |      Sort the list in ascending order and return None.\n",
      " |      \n",
      " |      The sort is in-place (i.e. the list itself is modified) and stable (i.e. the\n",
      " |      order of two equal elements is maintained).\n",
      " |      \n",
      " |      If a key function is given, apply it once to each list item and sort them,\n",
      " |      ascending or descending, according to their function values.\n",
      " |      \n",
      " |      The reverse flag can be set to sort in descending order.\n",
      " |  \n",
      " |  ----------------------------------------------------------------------\n",
      " |  Class methods defined here:\n",
      " |  \n",
      " |  __class_getitem__(...) from builtins.type\n",
      " |      See PEP 585\n",
      " |  \n",
      " |  ----------------------------------------------------------------------\n",
      " |  Static methods defined here:\n",
      " |  \n",
      " |  __new__(*args, **kwargs) from builtins.type\n",
      " |      Create and return a new object.  See help(type) for accurate signature.\n",
      " |  \n",
      " |  ----------------------------------------------------------------------\n",
      " |  Data and other attributes defined here:\n",
      " |  \n",
      " |  __hash__ = None\n",
      "\n"
     ]
    }
   ],
   "source": [
    "help(list)"
   ]
  },
  {
   "cell_type": "code",
   "execution_count": null,
   "id": "bd32752c-9829-42bf-8a05-ccc50d1a2e74",
   "metadata": {},
   "outputs": [],
   "source": []
  }
 ],
 "metadata": {
  "kernelspec": {
   "display_name": "web_scpraing_portfolio_deneme",
   "language": "python",
   "name": "web_scpraing_portfolio_deneme"
  },
  "language_info": {
   "codemirror_mode": {
    "name": "ipython",
    "version": 3
   },
   "file_extension": ".py",
   "mimetype": "text/x-python",
   "name": "python",
   "nbconvert_exporter": "python",
   "pygments_lexer": "ipython3",
   "version": "3.11.2"
  }
 },
 "nbformat": 4,
 "nbformat_minor": 5
}
