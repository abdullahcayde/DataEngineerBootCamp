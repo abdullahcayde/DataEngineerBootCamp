{
 "cells": [
  {
   "cell_type": "markdown",
   "metadata": {},
   "source": [
    "#Unit testing with Python"
   ]
  },
  {
   "cell_type": "markdown",
   "metadata": {},
   "source": [
    "1. What is unit testing?\n",
    "A. Principle\n",
    "\n",
    "Unit testing is an agile work methodology that consists of isolating and testing small portions of a code, called units. These units are most often functions and classes, but the test procedure can be applied to entire modules.\n",
    "\n",
    "The purpose of unit testing is to ensure that each component of the code is functioning properly. This is done by providing inputs to the unit and checking that the resulting output from the unit matches what it is expected to return.\n",
    "B. Unit testing vs. integration testing\n",
    "\n",
    "While unit testing ensures that all units of code properly work independently, integration testing ensures that they work together. Integration tests focus on real-life use cases. They often rely on external data such as databases or web servers.\n",
    "\n",
    "A unit test, on the other hand, only needs data that is created exclusively for the test. It is therefore much easier to implement.\n",
    "\n",
    "Assume that you are testing the operation of a car's headlight. An integration test would check that the headlight turns on when the proper button is pressed.\n",
    "\n",
    "The unit tests will ensure that each element of the headlight is working properly, taken separately (functioning of the button, the battery, the cables, the bulbs...)\n",
    "\n",
    "Example : The function named total sums the elements of a list."
   ]
  },
  {
   "cell_type": "code",
   "execution_count": 1,
   "metadata": {},
   "outputs": [],
   "source": [
    "import pytest"
   ]
  },
  {
   "cell_type": "code",
   "execution_count": 2,
   "metadata": {},
   "outputs": [],
   "source": [
    "def total(my_list):\n",
    "    \"\"\" returns the sum of the elements of a list \"\"\"\n",
    "\n",
    "    result : float = 0.0\n",
    "\n",
    "    for item in my_list:\n",
    "        result += item\n",
    "    \n",
    "    return (result)"
   ]
  },
  {
   "cell_type": "code",
   "execution_count": 3,
   "metadata": {},
   "outputs": [
    {
     "name": "stdout",
     "output_type": "stream",
     "text": [
      "6.0\n"
     ]
    }
   ],
   "source": [
    "print(total([1.0, 2.0, 3.0]))"
   ]
  },
  {
   "cell_type": "code",
   "execution_count": 4,
   "metadata": {},
   "outputs": [
    {
     "data": {
      "text/plain": [
       "5.0"
      ]
     },
     "execution_count": 4,
     "metadata": {},
     "output_type": "execute_result"
    }
   ],
   "source": [
    "total([5])"
   ]
  },
  {
   "cell_type": "code",
   "execution_count": 5,
   "metadata": {},
   "outputs": [
    {
     "name": "stdout",
     "output_type": "stream",
     "text": [
      "5.0\n"
     ]
    }
   ],
   "source": [
    "print(total([5]))"
   ]
  },
  {
   "cell_type": "code",
   "execution_count": 6,
   "metadata": {},
   "outputs": [
    {
     "name": "stdout",
     "output_type": "stream",
     "text": [
      "True\n",
      "True\n",
      "True\n",
      "True\n",
      "True\n"
     ]
    }
   ],
   "source": [
    "#Imagine several tests that you could enter in your console to ensure that the total function works :\n",
    "\n",
    "# Basic operation check:\n",
    "print(total([1, 2 ,3]) == 6)\n",
    "\n",
    "# Verify that the sum works with a negative and a positive number:\n",
    "print(total([1, -1]) == 0)\n",
    "\n",
    "# Verify that the sum works with two negative numbers:\n",
    "print(total([-1, -1]) == -2)\n",
    "\n",
    "# Verify that the sum works with only one element:\n",
    "print(total([1]) == 1)\n",
    "\n",
    "# Verify that the empty list returns 0:\n",
    "print(total([]) == 0)"
   ]
  },
  {
   "cell_type": "code",
   "execution_count": 7,
   "metadata": {},
   "outputs": [],
   "source": [
    "def test_total():\n",
    "    test1 = total([1,2,3]) == 6\n",
    "    test2 = total([1, -1]) == 0\n",
    "    test3 = total([-1,-1]) == -2\n",
    "    test4 = total([1]) == 1\n",
    "    test5 = total([]) == 0\n",
    "    tp_results = (test1, test2, test3, test4, test5)\n",
    "\n",
    "    return tp_results"
   ]
  },
  {
   "cell_type": "code",
   "execution_count": 8,
   "metadata": {},
   "outputs": [
    {
     "data": {
      "text/plain": [
       "(True, True, True, True, True)"
      ]
     },
     "execution_count": 8,
     "metadata": {},
     "output_type": "execute_result"
    }
   ],
   "source": [
    "test_total()"
   ]
  },
  {
   "cell_type": "code",
   "execution_count": 9,
   "metadata": {},
   "outputs": [],
   "source": [
    "# Linux uzerinde asagidaki import islemini yapmam lazim\n",
    "#from code1 import total\n",
    "\n",
    "\n",
    "def test_total():\n",
    "    #The use cases :\n",
    "    \"\"\"The sum of several elements of a list must be correct\"\"\"\n",
    "    assert(total([1.0, 2.0, 3.0])) == 6.0\n",
    "\n",
    "    \"\"\"1 - 1 = 0\"\"\"\n",
    "    assert total([1,-1]) == 0\n",
    "\n",
    "    \"\"\"-1 -1 = -2\"\"\"\n",
    "    assert total([-1,-1]) == -2\n",
    "\n",
    "    #The edge cases :\n",
    "    \"\"\"The sum must be equal to the single element\"\"\"\n",
    "    assert(total([1.0])) == 1.0\n",
    "\n",
    "    \"\"\"The sum of an empty list must be 0\"\"\"\n",
    "    assert total([]) == 0"
   ]
  },
  {
   "cell_type": "code",
   "execution_count": 10,
   "metadata": {},
   "outputs": [],
   "source": [
    "test_total()"
   ]
  },
  {
   "cell_type": "code",
   "execution_count": 11,
   "metadata": {},
   "outputs": [],
   "source": [
    "def test_total_raises_exception_on_non_list_arguments():\n",
    "    with pytest.raises(TypeError):\n",
    "         total(1)"
   ]
  },
  {
   "cell_type": "code",
   "execution_count": 14,
   "metadata": {},
   "outputs": [],
   "source": [
    "test_total_raises_exception_on_non_list_arguments()"
   ]
  },
  {
   "cell_type": "code",
   "execution_count": 16,
   "metadata": {},
   "outputs": [],
   "source": [
    "def total(my_list):\n",
    "    \"\"\" returns the sum of the elements of a list \"\"\"\n",
    "\n",
    "    if type(my_list) == int :\n",
    "        return (my_list)\n",
    "\n",
    "    result : float = 0.0\n",
    "\n",
    "    for item in my_list:\n",
    "        result += item\n",
    "\n",
    "    return (result)"
   ]
  },
  {
   "attachments": {},
   "cell_type": "markdown",
   "metadata": {},
   "source": [
    "# 4. Practice Exercise"
   ]
  },
  {
   "cell_type": "markdown",
   "metadata": {},
   "source": [
    "4. Practice Exercise\n",
    "\n",
    "Our goal in this exercise is to create a class called Wallet that has a method for adding money (add_cash) and a method for withdrawing money (spend_cash).\n",
    "\n",
    "    In a wallet.py file, create a Wallet class that :\n",
    "\n",
    "        Accepts an initial contribution of money and stores it in the balance attribute (= 0 if the initial contribution is not specified)\n",
    "        Has a method for adding money add_cash.\n",
    "        Has a method for withdrawing money spend_cash. This method first checks that the balance is sufficient and returns an InsufficientAmount exception if it is not.\n",
    "\n"
   ]
  },
  {
   "cell_type": "code",
   "execution_count": 27,
   "metadata": {},
   "outputs": [],
   "source": [
    "# Original Cozum\n",
    "class Wallet(object):\n",
    "\n",
    "    def __init__(self, initial_amount=0):\n",
    "        self.balance = initial_amount\n",
    "\n",
    "    def spend_cash(self, amount):\n",
    "        if self.balance < amount:\n",
    "            raise InsufficientAmount(f'Not enough available to spend {amount}')\n",
    "        self.balance -= amount\n",
    "\n",
    "    def add_cash(self, amount):\n",
    "        self.balance += amount\n",
    "\n",
    "class InsufficientAmount(Exception):\n",
    "    pass"
   ]
  },
  {
   "attachments": {},
   "cell_type": "markdown",
   "metadata": {},
   "source": [
    "In another python file wallet_test.py we will now write our unit tests. To do this we need to import the functions we want to test as well as the pytest module (to test the InsufficientAmount exception).\n",
    "\n",
    "- from wallet import Wallet, InsufficientAmount\n",
    "- import pytest\n",
    "\n",
    "    Now write 5 unit tests that check different properties :\n",
    "\n",
    "        1- a newly created wallet has a balance of 0 by default.\n",
    "\n",
    "        2- a newly created wallet with an initial balance of 100 has a balance of 100.\n",
    "\n",
    "        3- a wallet created with an initial balance of 10 to which 90 is added has a balance of 100.\n",
    "\n",
    "        4 - a wallet created with an initial balance of 20 from which 10 is removed has a balance of 10.\n",
    "\n",
    "        5 - a wallet that tries to spend more than its balance will cause an InsufficientAmount error message.\n",
    "\n"
   ]
  },
  {
   "cell_type": "code",
   "execution_count": null,
   "metadata": {},
   "outputs": [],
   "source": [
    "from wallet import Wallet, InsufficientAmount\n",
    "import pytest\n",
    "\n",
    "def test_default_initial_amount():\n",
    "        wallet = Wallet()\n",
    "        assert wallet.balance == 0\n",
    "\n",
    "def test_2():\n",
    "        wallet = Wallet(100)\n",
    "        assert wallet.balance == 100\n",
    "\n",
    "def test_3():\n",
    "        wallet = Wallet(10)\n",
    "        wallet.add_cash(90)\n",
    "        assert wallet.balance == 100\n",
    "\n",
    "def test_4():\n",
    "        wallet = Wallet(20)\n",
    "        wallet.spend_cash(10)\n",
    "        assert wallet.balance == 10\n",
    "\n",
    "def test_5():\n",
    "        wallet = Wallet(50)\n",
    "        with pytest.raises(InsufficientAmount):\n",
    "                wallet.spend_cash(100)        "
   ]
  },
  {
   "cell_type": "code",
   "execution_count": 26,
   "metadata": {},
   "outputs": [
    {
     "data": {
      "text/plain": [
       "300"
      ]
     },
     "execution_count": 26,
     "metadata": {},
     "output_type": "execute_result"
    }
   ],
   "source": [
    "# Benim Cozumum\n",
    "\n",
    "class Wallet:\n",
    "    def __init__(self, balance = 0) -> None:\n",
    "        self.balance = balance\n",
    "\n",
    "    def add_cash(self, money_come):\n",
    "        self.balance += money_come\n",
    "        print(f'Balance = {self.balance}')\n",
    "    \n",
    "    def spend_cash(self, money_spend):\n",
    "        if self.balance < money_spend:\n",
    "            print('You dont have enough money')\n",
    "        elif self.balance >= money_spend:\n",
    "            self.balance -= money_spend\n",
    "            print(f'Balance = {self.balance}')\n",
    "            \n",
    "\n",
    "cuzdan = Wallet(300)\n",
    "cuzdan.balance"
   ]
  },
  {
   "cell_type": "code",
   "execution_count": 16,
   "metadata": {},
   "outputs": [
    {
     "name": "stdout",
     "output_type": "stream",
     "text": [
      "Balance = 400\n"
     ]
    }
   ],
   "source": [
    "cuzdan.add_cash(100)"
   ]
  },
  {
   "cell_type": "code",
   "execution_count": 17,
   "metadata": {},
   "outputs": [
    {
     "name": "stdout",
     "output_type": "stream",
     "text": [
      "Balance = 300\n"
     ]
    }
   ],
   "source": [
    "cuzdan.spend_cash(100)"
   ]
  },
  {
   "cell_type": "code",
   "execution_count": 19,
   "metadata": {},
   "outputs": [
    {
     "name": "stdout",
     "output_type": "stream",
     "text": [
      "You dont have enough money\n"
     ]
    },
    {
     "data": {
      "text/plain": [
       "300"
      ]
     },
     "execution_count": 19,
     "metadata": {},
     "output_type": "execute_result"
    }
   ],
   "source": [
    "cuzdan.spend_cash(301)\n",
    "cuzdan.balance"
   ]
  },
  {
   "cell_type": "markdown",
   "metadata": {},
   "source": [
    "# YOUTUBE \n",
    "## pytest: everything you need to know about fixtures (intermediate) anthony explains #487 "
   ]
  },
  {
   "attachments": {},
   "cell_type": "markdown",
   "metadata": {},
   "source": [
    "## Step 01 - Basic"
   ]
  },
  {
   "cell_type": "code",
   "execution_count": 28,
   "metadata": {},
   "outputs": [],
   "source": [
    "class C:\n",
    "    def f(self):\n",
    "        return 1\n",
    "    \n",
    "    def g(self):\n",
    "        return 2\n",
    "    \n",
    "\n",
    "def test_f():\n",
    "    c = C()\n",
    "    assert c.f() == 1\n",
    "\n",
    "\n",
    "def test_g():\n",
    "    c = C()\n",
    "    assert c.g() == 2"
   ]
  },
  {
   "cell_type": "markdown",
   "metadata": {},
   "source": [
    "## Step 02 - Add pytest.fixure"
   ]
  },
  {
   "cell_type": "code",
   "execution_count": null,
   "metadata": {},
   "outputs": [],
   "source": [
    "import pytest\n",
    "\n",
    "\n",
    "class C:\n",
    "    def f(self):\n",
    "        return 1\n",
    "    \n",
    "    def g(self):\n",
    "        return 2\n",
    "    \n",
    "\n",
    "@pytest.fixture\n",
    "def c_instance():\n",
    "    return C()\n",
    "\n",
    "def test_f(c_instance):\n",
    "    assert c_instance.f() == 1\n",
    "\n",
    "\n",
    "def test_g(c_instance):\n",
    "    assert c_instance.g() == 2"
   ]
  },
  {
   "attachments": {},
   "cell_type": "markdown",
   "metadata": {},
   "source": [
    "## Step 03  - with pytest.raise(ValueError)"
   ]
  },
  {
   "cell_type": "code",
   "execution_count": null,
   "metadata": {},
   "outputs": [],
   "source": [
    "import pytest\n",
    "\n",
    "class C:\n",
    "    def __init__(self, balance = 0) -> None:\n",
    "        self.balance = balance\n",
    "\n",
    "    def f(self):\n",
    "        return 1\n",
    "    \n",
    "    def g(self):\n",
    "        return 2\n",
    "    \n",
    "    def spend_money(self, money_spend):\n",
    "        if self.balance < money_spend:\n",
    "            raise ValueError('You don\"t have enough money')\n",
    "\n",
    "    \n",
    "@pytest.fixture\n",
    "def c_instance():\n",
    "    return C(50)\n",
    "\n",
    "def test_f(c_instance):\n",
    "    assert c_instance.f() == 1\n",
    "\n",
    "\n",
    "def test_g(c_instance):\n",
    "    assert c_instance.g() == 2\n",
    "\n",
    "\n",
    "def test_spend_money(c_instance):\n",
    "    with pytest.raises (ValueError) :\n",
    "        c_instance.spend_money(100)"
   ]
  },
  {
   "cell_type": "code",
   "execution_count": null,
   "metadata": {},
   "outputs": [],
   "source": []
  },
  {
   "cell_type": "code",
   "execution_count": null,
   "metadata": {},
   "outputs": [],
   "source": []
  }
 ],
 "metadata": {
  "kernelspec": {
   "display_name": "web_scpraing_portfolio_deneme",
   "language": "python",
   "name": "web_scpraing_portfolio_deneme"
  },
  "language_info": {
   "codemirror_mode": {
    "name": "ipython",
    "version": 3
   },
   "file_extension": ".py",
   "mimetype": "text/x-python",
   "name": "python",
   "nbconvert_exporter": "python",
   "pygments_lexer": "ipython3",
   "version": "3.11.2"
  },
  "orig_nbformat": 4
 },
 "nbformat": 4,
 "nbformat_minor": 2
}
