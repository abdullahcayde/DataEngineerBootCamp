{
 "cells": [
  {
   "cell_type": "markdown",
   "id": "7263c523-9ec8-411d-bee1-df34b0804957",
   "metadata": {
    "tags": []
   },
   "source": [
    "# Test : 100 - First Step On the Platform"
   ]
  },
  {
   "cell_type": "code",
   "execution_count": null,
   "id": "b3816ee4-21ba-4d71-8117-190e9204608b",
   "metadata": {},
   "outputs": [],
   "source": [
    "import numpy as np\n",
    "import pandas as pd\n",
    "\n",
    "from sklearn import model_selection, preprocessing\n",
    "\n",
    "from sklearn.model_selection import cross_val_predict, cross_val_score, cross_validate, train_test_split\n",
    "from sklearn.linear_model import LinearRegression, LassoCV, RidgeCV\n",
    "from sklearn.metrics import mean_squared_error\n",
    "\n",
    "import matplotlib.pyplot as plt\n",
    "%matplotlib inline \n",
    "import seaborn as sns\n",
    "\n",
    "nba = pd.read_csv(\"nba_2013.csv\")\n",
    "nba.info()"
   ]
  },
  {
   "cell_type": "code",
   "execution_count": null,
   "id": "17cb9070-213d-437d-b9c5-6c70b685f61e",
   "metadata": {},
   "outputs": [],
   "source": [
    "nba.index = nba.player +' - '+ nba.bref_team_id\n",
    "\n",
    "nba = nba.dropna()\n",
    "\n",
    "print(pd.crosstab(nba.pos, \"count\"))"
   ]
  },
  {
   "cell_type": "code",
   "execution_count": null,
   "id": "0d95648f-8b4d-4bf6-8c90-2e5a7670a094",
   "metadata": {},
   "outputs": [],
   "source": [
    "nba = nba[nba.pos != 'G']\n",
    "pl_pos = nba.pos\n",
    "\n",
    "nba.drop(['season', 'player', 'bref_team_id', 'pos'], axis=1, inplace=True)\n",
    "\n",
    "scaler = preprocessing.StandardScaler().fit(nba)\n",
    "\n",
    "nba[nba.columns] = pd.DataFrame(scaler.transform(nba), index= nba.index)\n",
    "\n",
    "nba = nba.join(pd.get_dummies(pl_pos, prefix='pos'))\n",
    "\n",
    "data = nba.drop(['pts','pos_SG'], axis=1)\n",
    "target = nba.pts\n",
    "\n",
    "X_train, X_test, y_train, y_test = train_test_split(data, target, test_size=0.2, random_state= 101)"
   ]
  },
  {
   "cell_type": "code",
   "execution_count": null,
   "id": "e207c326-476c-4735-a3af-01dc506f2c0a",
   "metadata": {},
   "outputs": [],
   "source": [
    "plt.figure(figsize=(16,15))\n",
    "sns.heatmap(nba.corr(),annot=True, cmap=\"RdBu_r\", center =0)"
   ]
  },
  {
   "cell_type": "code",
   "execution_count": null,
   "id": "8c3eed56-02df-4514-b3e5-e810cc5c4c9a",
   "metadata": {},
   "outputs": [],
   "source": [
    "model_1 = LinearRegression()\n",
    "model_1.fit(X_train[['mp']], y_train)\n",
    "\n",
    "print(\"score train:\",model_1.score(X_train[['mp']], y_train))\n",
    "print(\"score test:\", model_1.score(X_test[['mp']], y_test))\n",
    "\n",
    "pred = model_1.predict(X_train[['mp']])\n",
    "pred_test = model_1.predict(X_test[['mp']])\n",
    "print(\"rmse train:\", np.sqrt(mean_squared_error(y_train, pred)))\n",
    "print(\"rmse test: \", np.sqrt(mean_squared_error(y_test, pred_test)))"
   ]
  },
  {
   "cell_type": "code",
   "execution_count": null,
   "id": "8fbc22ca-23e0-453c-8fce-3fccb956cfe1",
   "metadata": {},
   "outputs": [],
   "source": [
    "print(\"I passed my evaluation\")"
   ]
  },
  {
   "cell_type": "code",
   "execution_count": null,
   "id": "954cd514-9f88-4673-96d4-e28e9bf4a29f",
   "metadata": {},
   "outputs": [],
   "source": [
    "import numpy as np\n",
    "import pandas as pd\n",
    "\n",
    "from sklearn import model_selection, preprocessing\n",
    "\n",
    "from sklearn.model_selection import cross_val_predict, cross_val_score, cross_validate, train_test_split\n",
    "from sklearn.linear_model import LinearRegression, LassoCV, RidgeCV\n",
    "from sklearn.metrics import mean_squared_error\n",
    "\n",
    "import matplotlib.pyplot as plt\n",
    "%matplotlib inline \n",
    "import seaborn as sns\n",
    "\n",
    "nba = pd.read_csv(\"nba_2013.csv\")\n",
    "nba.info()"
   ]
  },
  {
   "cell_type": "code",
   "execution_count": null,
   "id": "44a7a2d4-5edc-4233-aa9c-8871cb282fc1",
   "metadata": {},
   "outputs": [],
   "source": [
    "nba.index = nba.player +' - '+ nba.bref_team_id\n",
    "\n",
    "nba = nba.dropna()\n",
    "\n",
    "print(pd.crosstab(nba.pos, \"count\"))"
   ]
  },
  {
   "cell_type": "code",
   "execution_count": null,
   "id": "d48e296b-aab1-446d-a45b-15416d0bcf7a",
   "metadata": {},
   "outputs": [],
   "source": [
    "nba = nba[nba.pos != 'G']\n",
    "pl_pos = nba.pos\n",
    "\n",
    "nba.drop(['season', 'player', 'bref_team_id', 'pos'], axis=1, inplace=True)\n",
    "\n",
    "scaler = preprocessing.StandardScaler().fit(nba)\n",
    "\n",
    "nba[nba.columns] = pd.DataFrame(scaler.transform(nba), index= nba.index)\n",
    "\n",
    "nba = nba.join(pd.get_dummies(pl_pos, prefix='pos'))\n",
    "\n",
    "data = nba.drop(['pts','pos_SG'], axis=1)\n",
    "target = nba.pts\n",
    "\n",
    "X_train, X_test, y_train, y_test = train_test_split(data, target, test_size=0.2, random_state= 101)"
   ]
  },
  {
   "cell_type": "code",
   "execution_count": null,
   "id": "02956157-a883-4df1-ad6b-f6a8c4587fab",
   "metadata": {},
   "outputs": [],
   "source": [
    "plt.figure(figsize=(16,15))\n",
    "sns.heatmap(nba.corr(),annot=True, cmap=\"RdBu_r\", center =0)"
   ]
  },
  {
   "cell_type": "code",
   "execution_count": null,
   "id": "2ec07286-d31b-4ee1-a15e-163324887b1f",
   "metadata": {},
   "outputs": [],
   "source": [
    "model_1 = LinearRegression()\n",
    "model_1.fit(X_train[['mp']], y_train)\n",
    "\n",
    "print(\"score train:\",model_1.score(X_train[['mp']], y_train))\n",
    "print(\"score test:\", model_1.score(X_test[['mp']], y_test))\n",
    "\n",
    "pred = model_1.predict(X_train[['mp']])\n",
    "pred_test = model_1.predict(X_test[['mp']])\n",
    "print(\"rmse train:\", np.sqrt(mean_squared_error(y_train, pred)))\n",
    "print(\"rmse test: \", np.sqrt(mean_squared_error(y_test, pred_test)))"
   ]
  },
  {
   "cell_type": "code",
   "execution_count": null,
   "id": "08f7f130-199b-410f-9ee7-341fed8f4567",
   "metadata": {},
   "outputs": [],
   "source": [
    "print(\"I passed my evaluation\")"
   ]
  }
 ],
 "metadata": {
  "kernelspec": {
   "display_name": "Python 3 (ipykernel)",
   "language": "python",
   "name": "python3"
  },
  "language_info": {
   "codemirror_mode": {
    "name": "ipython",
    "version": 3
   },
   "file_extension": ".py",
   "mimetype": "text/x-python",
   "name": "python",
   "nbconvert_exporter": "python",
   "pygments_lexer": "ipython3",
   "version": "3.10.5"
  }
 },
 "nbformat": 4,
 "nbformat_minor": 5
}
