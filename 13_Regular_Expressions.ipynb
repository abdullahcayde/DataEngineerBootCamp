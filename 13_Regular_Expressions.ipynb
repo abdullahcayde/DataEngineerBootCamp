{
 "cells": [
  {
   "cell_type": "code",
   "execution_count": null,
   "metadata": {},
   "outputs": [],
   "source": [
    "# Sadece rakamları bulan regular expression ===> \"1234\"\n",
    "exp1 = re.compile(\"^[0-9]*$\")\n",
    "\n",
    "# Rakam ve boşlukları bulan regular expression ===> \"1234\" ve \"12 34\"\n",
    "exp2 = re.compile(\"^[0-9 ]*$\")\n",
    "\n",
    "# Sadece rakam ve içinde boşluk olanları bulan regular expression ===> \"12 34\"\n",
    "exp = re.compile(\"^[0-9 ]+$\")"
   ]
  },
  {
   "cell_type": "code",
   "execution_count": 6,
   "metadata": {},
   "outputs": [
    {
     "name": "stdout",
     "output_type": "stream",
     "text": [
      "1234 <re.Match object; span=(0, 4), match='1234'>\n",
      "456 <re.Match object; span=(0, 3), match='456'>\n",
      "789 <re.Match object; span=(0, 3), match='789'>\n",
      "12 34 <re.Match object; span=(0, 5), match='12 34'>\n",
      "1a3 None\n"
     ]
    }
   ],
   "source": [
    "import re\n",
    "\n",
    "# Sadece rakamları bulan regular expression\n",
    "exp1 = re.compile(\"^[0-9]*$\")\n",
    "\n",
    "# Rakam ve boşlukları bulan regular expression\n",
    "exp2 = re.compile(\"^[0-9 ]*$\")\n",
    "\n",
    "text1 = \"1234\"  # Eşleşmeli\n",
    "text2 = \"456\"   # Eşleşmeli\n",
    "text3 = \"789\"   # Eşleşmeli\n",
    "text4 = \"12 34\" # Eşleşmeli\n",
    "text5 = \"1a3\"   # Eşleşmez\n",
    "\n",
    "list01 = [text1, text2, text3, text4, text5]\n",
    "\n",
    "for i in list01:\n",
    "    print(i, exp2.match(i))"
   ]
  },
  {
   "cell_type": "code",
   "execution_count": null,
   "metadata": {},
   "outputs": [],
   "source": []
  }
 ],
 "metadata": {
  "kernelspec": {
   "display_name": "base",
   "language": "python",
   "name": "python3"
  },
  "language_info": {
   "codemirror_mode": {
    "name": "ipython",
    "version": 3
   },
   "file_extension": ".py",
   "mimetype": "text/x-python",
   "name": "python",
   "nbconvert_exporter": "python",
   "pygments_lexer": "ipython3",
   "version": "3.10.9"
  },
  "orig_nbformat": 4
 },
 "nbformat": 4,
 "nbformat_minor": 2
}
