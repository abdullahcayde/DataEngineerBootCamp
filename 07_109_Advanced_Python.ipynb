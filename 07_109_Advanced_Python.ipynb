{
 "cells": [
  {
   "cell_type": "code",
   "execution_count": 18,
   "metadata": {},
   "outputs": [
    {
     "name": "stdout",
     "output_type": "stream",
     "text": [
      "140204909566208\n",
      "140204909566208\n",
      "140204909574400\n",
      "----------------------------------------\n",
      "[1, 2] [1, 2] [1, 2, 3]\n",
      "140204909566208\n",
      "140204909566208\n",
      "140204909574400\n",
      "----------------------------------------\n",
      "140204909139264 id my_numbers\n",
      "140204909566528 id your_numbers\n",
      "True\n",
      "False\n",
      "----------------------------------------\n",
      "NameError: name \"l1\" is not defined\n",
      "140204909566208\n",
      "140204909574400\n"
     ]
    }
   ],
   "source": [
    "l1  = [1, 2, 3]\n",
    "\n",
    "l2 = l1         # Reference (pointer) are the same \n",
    "l3 = l1.copy()  # Reference are not the same\n",
    "\n",
    "print(id(l1))\n",
    "print(id(l2))\n",
    "print(id(l3))\n",
    "\n",
    "print(40*'-')\n",
    "\n",
    "l2.pop()\n",
    "print(l1, l2, l3)\n",
    "\n",
    "print(id(l1))\n",
    "print(id(l2))\n",
    "print(id(l3))\n",
    "\n",
    "print(40*'-')\n",
    "# Python's == operator checks that two objects represent the same data (a.k.a. equality):\n",
    "\n",
    "my_numbers = [2, 1, 3, 4]\n",
    "your_numbers = [2, 1, 3, 4]\n",
    "\n",
    "print(id(my_numbers), 'id my_numbers')\n",
    "print(id(your_numbers), 'id your_numbers')\n",
    "print(my_numbers == your_numbers) # True\n",
    "\n",
    "# Python's  'is' operator checks whether two objects are the same object (a.k.a. identity):\n",
    "print(my_numbers is your_numbers) # False\n",
    "\n",
    "print(40*'-')\n",
    "\n",
    "del l1\n",
    "\n",
    "#print(id(l1))\n",
    "print('NameError: name \"l1\" is not defined')\n",
    "print(id(l2))\n",
    "print(id(l3))\n"
   ]
  },
  {
   "cell_type": "code",
   "execution_count": 20,
   "metadata": {},
   "outputs": [
    {
     "name": "stdout",
     "output_type": "stream",
     "text": [
      "[2, 4, 6]\n",
      "----------------------------------------\n",
      "(1, 2, (10, 20), [0, 0])\n",
      "abdullah 1\n",
      "abdullah 2\n",
      "abdullah (10, 20)\n",
      "abdullah [0, 0]\n",
      "----------------------------------------\n",
      "{'name': 'abdullah', 'age': 38}\n",
      "----------------------------------------\n",
      "(1, 2, 3, 4)\n",
      "{'name': 'abdullah', 'age': 38}\n"
     ]
    }
   ],
   "source": [
    "def func1(*args):\n",
    "    lst = [i*2 for i in args]\n",
    "    print(lst)\n",
    "    \n",
    "func1(1,2,3)\n",
    "\n",
    "print(40*'-')\n",
    "\n",
    "def func2(name, *args):\n",
    "    print(args)\n",
    "    for i in args:\n",
    "        print(name, i)\n",
    "        \n",
    "func2('abdullah', 1,2,(10, 20),[0,0])\n",
    "\n",
    "print(40*'-')\n",
    "\n",
    "def func(**kwargs):\n",
    "    print(kwargs)\n",
    "    \n",
    "func(name = 'abdullah' , age = 38)\n",
    "\n",
    "print(40*'-')i\n",
    "\n",
    "def func(*args,**kwargs):\n",
    "    print(args)\n",
    "    print(kwargs)\n",
    "    \n",
    "func(1,2,3,4, name = 'abdullah' , age = 38)"
   ]
  },
  {
   "cell_type": "code",
   "execution_count": 30,
   "metadata": {},
   "outputs": [
    {
     "data": {
      "text/plain": [
       "6"
      ]
     },
     "execution_count": 30,
     "metadata": {},
     "output_type": "execute_result"
    }
   ],
   "source": [
    "toplam = 0\n",
    "lst = [1,2,3]\n",
    "sum([i for i in lst])"
   ]
  },
  {
   "attachments": {},
   "cell_type": "markdown",
   "metadata": {},
   "source": [
    "# Decorators "
   ]
  },
  {
   "cell_type": "code",
   "execution_count": 46,
   "metadata": {},
   "outputs": [],
   "source": [
    "import time"
   ]
  },
  {
   "cell_type": "code",
   "execution_count": 59,
   "metadata": {},
   "outputs": [
    {
     "name": "stdout",
     "output_type": "stream",
     "text": [
      "It takes 0.34601378440856934 \n"
     ]
    },
    {
     "data": {
      "text/plain": [
       "499999500000"
      ]
     },
     "execution_count": 59,
     "metadata": {},
     "output_type": "execute_result"
    }
   ],
   "source": [
    "def time_cal(main_func):\n",
    "        def wrapper(L):\n",
    "                start = time.time()\n",
    "                total = main_func(L)\n",
    "                finish = time.time()\n",
    "                print(f\"It takes {finish - start} \")\n",
    "                return total\n",
    "        return wrapper\n",
    "\n",
    "@time_cal\n",
    "def main_func(L):\n",
    "        total = sum(i for i in L)\n",
    "        return total\n",
    "\n",
    "main_func(range(1000000))"
   ]
  },
  {
   "cell_type": "code",
   "execution_count": null,
   "metadata": {},
   "outputs": [],
   "source": []
  }
 ],
 "metadata": {
  "kernelspec": {
   "display_name": "base",
   "language": "python",
   "name": "python3"
  },
  "language_info": {
   "codemirror_mode": {
    "name": "ipython",
    "version": 3
   },
   "file_extension": ".py",
   "mimetype": "text/x-python",
   "name": "python",
   "nbconvert_exporter": "python",
   "pygments_lexer": "ipython3",
   "version": "3.10.9"
  },
  "orig_nbformat": 4
 },
 "nbformat": 4,
 "nbformat_minor": 2
}
