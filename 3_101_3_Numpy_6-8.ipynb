{
 "cells": [
  {
   "cell_type": "markdown",
   "metadata": {},
   "source": [
    "# Baby Steps in Numpy"
   ]
  },
  {
   "cell_type": "markdown",
   "metadata": {},
   "source": [
    "## Creating a numpy array"
   ]
  },
  {
   "cell_type": "markdown",
   "metadata": {},
   "source": [
    "## Indexation of a numpy array"
   ]
  },
  {
   "cell_type": "code",
   "execution_count": null,
   "metadata": {},
   "outputs": [],
   "source": [
    "                                     NumPy for Data Science\n",
    "                                    Introduction to Numpy arrays\n",
    "Introduction\n",
    "\n",
    "    numpy (for Numerical Python) is a very advanced digital library for handling large multidimensional arrays and high level mathematical routines (linear algebra, statistics, complex mathematical functions, etc.).\n",
    "\n",
    "    The object class that we will mainly manipulate is the array class of numpy.\n",
    "\n",
    "    These arrays correspond to N-dimensional matrices which can contain very diverse data such as tabular data, time series or images.\n",
    "\n",
    "    The interest of the numpy module lies in the possibility of applying operations on these arrays in a very efficient way, i.e. the number of lines of code required and the computational time to perform these operations will be very reduced compared to a traditional Python syntax.\n",
    "\n",
    "1. Creating a numpy array\n",
    "\n",
    "    Unlike usual classes you will see in your training, a numpy array can be instantiated with many different constructors.\n",
    "\n",
    "    The argument of these constructors is usually a tuple containing the desired matrix dimensions. This tuple is called the shape of an array:\n",
    "\n",
    "    # Import of the numpy module under the alias 'np'\n",
    "    import numpy as np\n",
    "\n",
    "    # Creating a matrix of dimensions 5x10 filled with zeros\n",
    "    X = np.zeros(shape = (5, 10))\n",
    "\n",
    "    # Creating a 3-dimensional 3x10x10 matrix filled with ones\n",
    "    X = np.ones(shape = (3, 10, 10))\n",
    "\n",
    "    It is also possible to create an array from a list using the np.array constructor:\n",
    "\n",
    "    # Creating an array from a list defined by comprehension\n",
    "    X = np.array([2*i for i in range(10)]) # 0, 2, 4, 6, ..., 18\n",
    "\n",
    "    # Create an array from a list of lists\n",
    "    X = np.array([[1, 3, 3],\n",
    "                  [3, 3, 1],\n",
    "                  [1, 2, 0]])\n",
    "\n",
    "    These three constructors are only examples. We will see other constructors later on.\n",
    "\n",
    "2. Indexation of a numpy array\n",
    "\n",
    "    Unlike lists, a numpy array is multidimensional. Indexing must be done by entering the index that we want to access on each dimension:\n",
    "\n",
    "    # Creating a matrix of dimensions 10x10 filled with ones\n",
    "    X = np.ones(shape = (10, 10))\n",
    "\n",
    "    # Displaying element at index (4, 3)\n",
    "    print(X[4, 3])\n",
    "\n",
    "    # Assigning the value -1 to the element of index (1, 5)\n",
    "    X[1, 5] = -1\n",
    "\n",
    "    As with all other Python indexable objects, the starting index of an axis is 0.\n",
    "\n",
    "\n",
    "    As for lists, it is possible to index an array using slicing:\n",
    "\n",
    "\n",
    "    It is possible to slice on each dimension of an array. In the following example, we will extract a subarray from X using slicing:\n",
    "\n",
    "    The previous examples illustrate the indexing of a 2-dimensional array, but this type of indexing can be generalized on N-dimensional arrays. It is also possible to use the negative indexing as for lists.\n",
    "\n",
    "    (a) Using constructors and array slicing, create and display the following diagonal block matrix:\n",
    "\n",
    "array([[ 1.,  1.,  1.,  0.,  0.,  0.],\n",
    "       [ 1.,  1.,  1.,  0.,  0.,  0.],\n",
    "       [ 1.,  1.,  1.,  0.,  0.,  0.],\n",
    "       [ 0.,  0.,  0., -1., -1., -1.],\n",
    "       [ 0.,  0.,  0., -1., -1., -1.],\n",
    "       [ 0.,  0.,  0., -1., -1., -1.]])"
   ]
  },
  {
   "cell_type": "code",
   "execution_count": null,
   "metadata": {},
   "outputs": [
    {
     "data": {
      "text/plain": [
       "array([[ 1.,  1.,  1.,  0.,  0.,  0.],\n",
       "       [ 1.,  1.,  1.,  0.,  0.,  0.],\n",
       "       [ 1.,  1.,  1.,  0.,  0.,  0.],\n",
       "       [ 0.,  0.,  0., -1., -1., -1.],\n",
       "       [ 0.,  0.,  0., -1., -1., -1.],\n",
       "       [ 0.,  0.,  0., -1., -1., -1.]])"
      ]
     },
     "metadata": {},
     "output_type": "display_data"
    }
   ],
   "source": [
    "import numpy as np\n",
    "\n",
    "# Insert your code here\n",
    "\n",
    "x = np.zeros(shape=(6,6))\n",
    "x[0:3, 0:3] = 1\n",
    "x[3:, 3:] =-1\n",
    "x"
   ]
  },
  {
   "cell_type": "code",
   "execution_count": null,
   "metadata": {},
   "outputs": [],
   "source": [
    "# original cozum\n",
    "# Creation of a matrix of shape 6x6 filled with zeros\n",
    "X = np.zeros(shape = (6, 6))\n",
    "\n",
    "# Assignment of the value 1 to the first diagonal block\n",
    "X[:3, :3] = 1\n",
    "\n",
    "# Assignment of the value -1 to the second diagonal block\n",
    "X[3:, 3:] = -1\n",
    "\n",
    "# Displaying the matrix\n",
    "print(X)"
   ]
  },
  {
   "cell_type": "code",
   "execution_count": null,
   "metadata": {},
   "outputs": [
    {
     "data": {
      "text/plain": [
       "array([[0., 0., 0., 0., 0., 0., 0., 0., 0., 0.],\n",
       "       [0., 0., 0., 0., 0., 0., 0., 0., 0., 0.],\n",
       "       [0., 0., 0., 0., 0., 0., 0., 0., 0., 0.],\n",
       "       [0., 0., 0., 0., 0., 0., 0., 0., 0., 0.],\n",
       "       [0., 0., 0., 0., 0., 0., 0., 0., 0., 0.]])"
      ]
     },
     "metadata": {},
     "output_type": "display_data"
    }
   ],
   "source": [
    "# Import of the numpy module under the alias 'np'\n",
    "import numpy as np\n",
    "\n",
    "# Creating a matrix of dimensions 5x10 filled with zeros\n",
    "X = np.zeros(shape = (5, 10))\n",
    "X"
   ]
  },
  {
   "cell_type": "code",
   "execution_count": null,
   "metadata": {},
   "outputs": [
    {
     "data": {
      "text/plain": [
       "array([[[1., 1., 1., 1., 1., 1., 1., 1., 1., 1.],\n",
       "        [1., 1., 1., 1., 1., 1., 1., 1., 1., 1.]],\n",
       "\n",
       "       [[1., 1., 1., 1., 1., 1., 1., 1., 1., 1.],\n",
       "        [1., 1., 1., 1., 1., 1., 1., 1., 1., 1.]],\n",
       "\n",
       "       [[1., 1., 1., 1., 1., 1., 1., 1., 1., 1.],\n",
       "        [1., 1., 1., 1., 1., 1., 1., 1., 1., 1.]]])"
      ]
     },
     "metadata": {},
     "output_type": "display_data"
    }
   ],
   "source": [
    "# Creating a 3-dimensional 3x10x10 matrix filled with ones\n",
    "X = np.ones(shape = (3, 2, 10))\n",
    "X"
   ]
  },
  {
   "cell_type": "code",
   "execution_count": null,
   "metadata": {},
   "outputs": [
    {
     "data": {
      "text/plain": [
       "array([ 0,  2,  4,  6,  8, 10, 12, 14, 16, 18])"
      ]
     },
     "metadata": {},
     "output_type": "display_data"
    }
   ],
   "source": [
    "#It is also possible to create an array from a list using the np.array constructor:\n",
    "\n",
    "# Creating an array from a list defined by comprehension\n",
    "X = np.array([2*i for i in range(10)]) # 0, 2, 4, 6, ..., 18\n",
    "X"
   ]
  },
  {
   "cell_type": "code",
   "execution_count": null,
   "metadata": {},
   "outputs": [
    {
     "data": {
      "text/plain": [
       "array([[1, 3, 3],\n",
       "       [3, 3, 1],\n",
       "       [1, 2, 0]])"
      ]
     },
     "metadata": {},
     "output_type": "display_data"
    }
   ],
   "source": [
    "# Create an array from a list of lists\n",
    "X = np.array([[1, 3, 3],\n",
    "              [3, 3, 1],\n",
    "              [1, 2, 0]])\n",
    "X"
   ]
  },
  {
   "cell_type": "code",
   "execution_count": null,
   "metadata": {},
   "outputs": [
    {
     "data": {
      "text/plain": [
       "array([[1., 1., 1.],\n",
       "       [1., 1., 1.]])"
      ]
     },
     "metadata": {},
     "output_type": "display_data"
    }
   ],
   "source": [
    "X = np.ones(shape=(2,3))\n",
    "X\n"
   ]
  },
  {
   "cell_type": "code",
   "execution_count": null,
   "metadata": {},
   "outputs": [],
   "source": [
    "\n",
    "(b) Using array constructors and slicing, create and display the following matrix:\n",
    "\n",
    "[[0. 1. 2. 3. 4. 5.]\n",
    " [0. 1. 2. 3. 4. 5.]\n",
    " [0. 1. 2. 3. 4. 5.]\n",
    " [0. 1. 2. 3. 4. 5.]\n",
    " [0. 1. 2. 3. 4. 5.]\n",
    " [0. 1. 2. 3. 4. 5.]]\n",
    "\n",
    "You can either replace each row of a matrix of zeros with np.array([0, 1, 2, 3, 4, 5]) or assign to each column its index."
   ]
  },
  {
   "cell_type": "code",
   "execution_count": null,
   "metadata": {},
   "outputs": [
    {
     "data": {
      "text/plain": [
       "array([[0., 1., 2., 3., 4., 5.],\n",
       "       [0., 1., 2., 3., 4., 5.],\n",
       "       [0., 1., 2., 3., 4., 5.],\n",
       "       [0., 1., 2., 3., 4., 5.],\n",
       "       [0., 1., 2., 3., 4., 5.],\n",
       "       [0., 1., 2., 3., 4., 5.]])"
      ]
     },
     "metadata": {},
     "output_type": "display_data"
    }
   ],
   "source": [
    "# Insert your code here\n",
    "import numpy as np\n",
    "x = np.zeros((6,6))\n",
    "v = [i for i in range(6)]\n",
    "#x[0:, 0:] = v\n",
    "x[:] = v\n",
    "x"
   ]
  },
  {
   "cell_type": "code",
   "execution_count": null,
   "metadata": {},
   "outputs": [
    {
     "name": "stdout",
     "output_type": "stream",
     "text": [
      "First solution\n",
      "[[0. 1. 2. 3. 4. 5.]\n",
      " [0. 1. 2. 3. 4. 5.]\n",
      " [0. 1. 2. 3. 4. 5.]\n",
      " [0. 1. 2. 3. 4. 5.]\n",
      " [0. 1. 2. 3. 4. 5.]\n",
      " [0. 1. 2. 3. 4. 5.]]\n",
      "\n",
      "\n",
      "Second solution\n",
      "[[0. 1. 2. 3. 4. 5.]\n",
      " [0. 1. 2. 3. 4. 5.]\n",
      " [0. 1. 2. 3. 4. 5.]\n",
      " [0. 1. 2. 3. 4. 5.]\n",
      " [0. 1. 2. 3. 4. 5.]\n",
      " [0. 1. 2. 3. 4. 5.]]\n"
     ]
    }
   ],
   "source": [
    "# original cozum\n",
    "# First solution\n",
    "X = np.zeros(shape = (6, 6))\n",
    "\n",
    "# We replace each row with 'np.array([0, 1, 2, 3, 4, 5])' \n",
    "for i in range (6):\n",
    "    X[i ,:] = np.array ([0, 1, 2, 3, 4, 5])\n",
    "\n",
    "# Display the matrix\n",
    "print(\"First solution\")\n",
    "print(X)\n",
    "print(\"\\n\")\n",
    "\n",
    "# Second solution\n",
    "X = np.zeros(shape = (6, 6))\n",
    "\n",
    "# Each column of X is assigned its index\n",
    "for i in range(6):\n",
    "    X[:, i] = i\n",
    "    \n",
    "# Matrix display\n",
    "print(\"Second solution\")\n",
    "print(X)"
   ]
  },
  {
   "cell_type": "markdown",
   "metadata": {},
   "source": [
    "## Operations on Numpy arrays: Example"
   ]
  },
  {
   "cell_type": "code",
   "execution_count": null,
   "metadata": {},
   "outputs": [],
   "source": [
    "3. Operations on Numpy arrays: Example\n",
    "\n",
    "    The numpy module is not only used to create matrices. Most of the time, the matrices will be created from real data.\n",
    "\n",
    "    The interest of the numpy module consists in its optimized code which allows to perform computations on large matrices in a very short time.\n",
    "\n",
    "    The numpy module contains basic mathematical functions such as:\n",
    "    Function \tNumpy Function\n",
    "    𝑒^𝑥     ß\tnp.exp(x)\n",
    "    log(𝑥) \tnp.log(x)\n",
    "    sin(𝑥)  \tnp.sin(x)\n",
    "    cos(𝑥)    \tnp.cos(x)\n",
    "    Rounding to n decimals \tnp.round(x, decimals = n)\n",
    "\n",
    "    The complete list of math operations for numpy is given here.==> https://numpy.org/doc/stable/reference/routines.math.html\n",
    "\n",
    "    These functions can be applied to all numpy arrays, regardless of their dimensions:\n",
    "\n",
    "\n",
    "    X = np.array([i/100 for i in range(100)]) # 0, 0.01, 0.02, 0.03, ..., 0.98, 0.99\n",
    "\n",
    "    # Calculate the exponential of x for x = 0, 0.01, 0.02, 0.03, ..., 0.98, 0.99\n",
    "    exp_X = np.exp(X)\n",
    "\n",
    "In the next cell we will create the array:\n",
    "\n",
    "𝑋=(0.010.02...0.980.99)\n",
    "\n",
    "    (a) Define a function f taking as argument an array X and computing in a single line of code the following function:\n",
    "\n",
    "𝑓(𝑥)=exp(sin(𝑥)+cos(𝑥))\n",
    "\n",
    "    (b) Display the first 10 elements of the result rounded to 2 decimals of the f function applied to the X array.\n"
   ]
  },
  {
   "cell_type": "code",
   "execution_count": null,
   "metadata": {},
   "outputs": [
    {
     "name": "stdout",
     "output_type": "stream",
     "text": [
      "[2.72 2.75 2.77 2.8  2.83 2.85 2.88 2.91 2.94 2.96]\n"
     ]
    }
   ],
   "source": [
    "X = np.array([i/100 for i in range(100)])\n",
    "\n",
    "# Insert your code here\n",
    "def f(X):\n",
    "    \"\"\"\n",
    "    This function calculate the Array of  exp(sin(𝑥)+cos(𝑥))\n",
    "    \n",
    "    Parameters:\n",
    "    -----------\n",
    "    X = aray\n",
    "    \n",
    "    Returns:\n",
    "    --------\n",
    "    result : Display the 10 elements of this function solution  𝑓(𝑥)=exp(sin(𝑥)+cos(𝑥))\n",
    "    \"\"\"\n",
    "    result = np.exp(np.sin(X) + np.cos(X))\n",
    "    result = np.round(result, 2)\n",
    "    return result[:10]\n",
    "\n",
    "print(f(X))"
   ]
  },
  {
   "cell_type": "code",
   "execution_count": null,
   "metadata": {},
   "outputs": [],
   "source": [
    "(c) Define a function called f_python that performs the same operation on every element of X using a for loop.\n",
    "\n",
    "The dimensions of an array Xcan be retrieved using the shape attribute of X which is a tuple: shape = X.shape.\n",
    "\n",
    "For an array with one dimension, the number of elements contained in this array corresponds to the first element of its shape:\n",
    "    n = X.shape[0].\n",
    "\n"
   ]
  },
  {
   "cell_type": "code",
   "execution_count": null,
   "metadata": {},
   "outputs": [
    {
     "name": "stdout",
     "output_type": "stream",
     "text": [
      "[2.71828183 2.74546328 2.7726365  2.79979313 2.8269247  2.85402258\n",
      " 2.88107805 2.90808226 2.93502626 2.96190097]\n",
      "--------------------------------------------------\n",
      "[[1. 1. 1. 1.]\n",
      " [1. 1. 1. 1.]\n",
      " [1. 1. 1. 1.]\n",
      " [1. 1. 1. 1.]\n",
      " [1. 1. 1. 1.]]\n",
      "--------------------------------------------------\n",
      "[[3.98195654 3.98195654 3.98195654 3.98195654]\n",
      " [3.98195654 3.98195654 3.98195654 3.98195654]\n",
      " [3.98195654 3.98195654 3.98195654 3.98195654]\n",
      " [3.98195654 3.98195654 3.98195654 3.98195654]\n",
      " [3.98195654 3.98195654 3.98195654 3.98195654]]\n",
      "--------------------------------------------------\n",
      "[[2.71828183 3.98195654 1.63746709 0.42789712 0.24403439 0.50902299]\n",
      " [2.71828183 3.98195654 1.63746709 0.42789712 0.24403439 0.50902299]\n",
      " [2.71828183 3.98195654 1.63746709 0.42789712 0.24403439 0.50902299]\n",
      " [2.71828183 3.98195654 1.63746709 0.42789712 0.24403439 0.50902299]\n",
      " [2.71828183 3.98195654 1.63746709 0.42789712 0.24403439 0.50902299]\n",
      " [2.71828183 3.98195654 1.63746709 0.42789712 0.24403439 0.50902299]]\n"
     ]
    }
   ],
   "source": [
    "# Insert your code here\n",
    "# Insert your code here\n",
    "def f_python(X):\n",
    "    if len(X.shape) == 1:\n",
    "        return np.exp(np.sin(X) + np.cos(X))\n",
    "    else:\n",
    "        rows, cols = X.shape[0], X.shape[1]\n",
    "        for r in range(rows):\n",
    "            for c in range(cols):\n",
    "                X[r,c] = np.exp(np.sin(X[r,c]) + np.cos(X[r,c]))\n",
    "    return X\n",
    "\n",
    "X = np.array([i/100 for i in range(100)])\n",
    "Y = np.ones((5,4))\n",
    "Z = np.zeros((6,6))\n",
    "v = [i for i in range(6)]\n",
    "Z[:] = v\n",
    "\n",
    "print(f_python(X[:10]))\n",
    "print(50*'-')\n",
    "print(Y)\n",
    "print(50*'-')\n",
    "print(f_python(Y))\n",
    "print(50*'-')\n",
    "print(f_python(Z))"
   ]
  },
  {
   "cell_type": "code",
   "execution_count": null,
   "metadata": {},
   "outputs": [],
   "source": [
    "# original cozum\n",
    "def f_python(X):\n",
    "    n = X.shape[0]\n",
    "    for i in range(n):\n",
    "        X[i] = np.exp(np.sin(X[i]) + np.cos(X[i]))"
   ]
  },
  {
   "cell_type": "code",
   "execution_count": null,
   "metadata": {},
   "outputs": [],
   "source": [
    "We will now compare the execution times of these two functions applied to a very large array with 10 million values.\n",
    "\n",
    "We will measure these execution times using the time module. To measure the execution time of a function, just take the difference between the start time of execution and the end time. We consider that the assignment of a variable is done instantly.\n",
    "\n",
    "(d) Run the next cell to compare execution times. This cell could take some time to run."
   ]
  },
  {
   "cell_type": "code",
   "execution_count": null,
   "metadata": {},
   "outputs": [
    {
     "name": "stdout",
     "output_type": "stream",
     "text": [
      "Calculating f with numpy took 0.4012620449066162 seconds\n",
      "Computing f with a for loop took 35.69668197631836 seconds\n"
     ]
    }
   ],
   "source": [
    "from time import time\n",
    "\n",
    "# Creation of an array with 10 million values\n",
    "X = np.array([i/1e7 for i in range(int(1e7))])\n",
    "\n",
    "time_start = time()\n",
    "f(X)\n",
    "time_end = time()\n",
    "\n",
    "runtime = time_end - time_start\n",
    "\n",
    "print (\"Calculating f with numpy took\", runtime, \"seconds\")\n",
    "\n",
    "time_start = time()\n",
    "f_python(X)\n",
    "time_end = time()\n",
    "\n",
    "runtime = time_end - time_start\n",
    "\n",
    "print (\"Computing f with a for loop took\", runtime, \"seconds\")"
   ]
  },
  {
   "cell_type": "markdown",
   "metadata": {},
   "source": [
    "## Conclusion"
   ]
  },
  {
   "cell_type": "code",
   "execution_count": null,
   "metadata": {},
   "outputs": [],
   "source": [
    "4. Conclusion\n",
    "\n",
    "    As you can see, the computation time with a for loop is extremely long.\n",
    "\n",
    "    This is why it is always better to perform calculations on matrices using numpy rather than with loops. This will be the case when we do statistics on data.\n",
    "\n",
    "    In the following exercises, we will see manipulation and operations on the numpy arrays in more details."
   ]
  },
  {
   "cell_type": "markdown",
   "metadata": {},
   "source": [
    "# Manipulation of Numpy arrays "
   ]
  },
  {
   "cell_type": "markdown",
   "metadata": {},
   "source": [
    "## Conditional indexing of a Numpy array"
   ]
  },
  {
   "cell_type": "code",
   "execution_count": null,
   "metadata": {},
   "outputs": [],
   "source": [
    "1. Conditional indexing of a Numpy array\n",
    "\n",
    "    In the previous notebook, we saw how to index an array by slicing along multiple dimensions:\n",
    "\n",
    "\n",
    "    A more advanced technique is to index the elements of an array using a condition:\n",
    "\n",
    "    # Creation of an array of shape 3x3\n",
    "    X = np.array ([[-1, 0, 30],\n",
    "                   [-2, 3, -5],\n",
    "                   [5, -5, 10]])\n",
    "\n",
    "    # We assign to all negative elements the value 0\n",
    "    X[X < 0] = 0\n",
    "\n",
    "    # Displaying the modified matrix\n",
    "    print(X)\n",
    "\n",
    "    >>> [[0, 0, 30],\n",
    "    >>>  [0, 3, 0 ],\n",
    "    >>>  [5, 0, 10]]\n",
    "\n",
    "    This allows you to easily access and modify elements that meet a specific condition.\n",
    "\n",
    "    In addition, it is possible to index an array using a condition evaluated on another array:\n",
    "\n",
    "\n",
    "    # Creation of 2 arrays with 8 elements\n",
    "    X = np.array([3, -7, -10, 3, 6, 5, 2, 9])\n",
    "\n",
    "    y = np.array([0, 1, 1, 1, 0, 1, 0, 0])\n",
    "\n",
    "    # We assign the value -1 to the elements of X for which\n",
    "    # the value of y at the corresponding index is equal to 1\n",
    "    X[y == 1] = -1\n",
    "\n",
    "    # Displaying X\n",
    "    print(X)\n",
    "    >>> [3, -1, -1, -1, 6, -1, 2, 9]\n",
    "\n",
    "    # Displaying the elements of X for which the value of y at the corresponding index is 0\n",
    "    print(X[y == 0])\n",
    "    >>> [3, 6, 2, 9]\n",
    "\n",
    "We have access to data from an American supermarket getting ready for Black Friday, a day when American businesses offer very large discounts to end their seasons.\n",
    "\n",
    "The data is distributed over 3 arrays:\n",
    "\n",
    "    items: The name of the discounted items.\n",
    "\n",
    "    quantities: The available stock for each discounted item.\n",
    "\n",
    "    discounts: The discount for each item. Items can have a 25, 50, 75, or 90 percent discount.\n",
    "\n",
    "    (a) Run the following cell to instantiate the arrays containing the supermarket data.\n",
    "iao"
   ]
  },
  {
   "cell_type": "code",
   "execution_count": null,
   "metadata": {},
   "outputs": [],
   "source": [
    "import numpy as np\n",
    "\n",
    "items = np.array([\"grid paper\", \"plate\", \"rubber band\", \"key chain\", \"bread\", \"speakers\", \"chocolate\",\n",
    "                  \"fridge\", \"bowl\", \"shirt\", \"truck\", \"canvas\", \"monitor\", \"piano\", \"sailboat\", \"clamp\",\n",
    "                  \"spring\", \"picture frame\", \"knife\", \"hanger\", \"pool stick\", \"buckel\", \"vase\", \"wagon\",\n",
    "                  \"balloon\", \"thread\", \"couch\", \"drawer\", \"packing peanuts\", \"bottle\", \"needle\",\n",
    "                  \"rusty nail\", \"blanket\", \"lamp\", \"box\", \"cookie jar\", \"washing machine\", \"paint brush\",\n",
    "                  \"puddle\", \"sketch pad\", \"sandal\", \"doll\", \"floor\", \"sidewalk\", \"sand paper\", \"stockings\",\n",
    "                  \"bag\", \"perfume\", \"magnet\", \"fake flowers\", \"street lights\", \"carrots\", \"purse\", \"thermostat\",\n",
    "                  \"candle\", \"mouse pad\", \"remote\", \"clothes\", \"rubber duck\", \"hair brush\", \"computer\", \"toe ring\",\n",
    "                  \"scotch tape\", \"nail file\", \"window\", \"table\", \"model car\", \"toothbrush\", \"shoes\", \"leg warmers\",\n",
    "                  \"cat\", \"pillow\", \"rug\", \"hair tie\", \"phone\", \"tooth picks\", \"brocolli\", \"newspaper\", \"towel\",\n",
    "                  \"watch\", \"lotion\", \"apple\", \"pants\", \"air freshener\", \"pen\", \"lace\", \"car\", \"headphones\",\n",
    "                  \"charger\", \"toilet\", \"candy wrapper\", \"soy sauce packet\", \"sticky note\", \"shoe lace\",\n",
    "                  \"zipper\", \"soda can\", \"bed\", \"cell phone\", \"lip gloss\", \"thermometer\"])\n",
    "\n",
    "quantities = np.array([310, 455, 295, 613, 812, 907, 564, 904, 829, 167, 517, 272, 416,\n",
    "                       14, 251, 476, 757, 343, 472,  71, 160, 996, 182, 721, 565, 582,\n",
    "                       279,  66, 297, 800, 914,  69, 498, 885, 114, 876, 635, 295, 146,\n",
    "                       601, 941, 100, 370, 467, 423, 101, 504, 298, 757, 291, 163, 970,\n",
    "                       921, 953, 458, 381, 692, 393, 749, 285, 454, 174,  37, 289, 863,\n",
    "                       885, 331, 585, 678, 834, 349, 732, 149, 486, 993, 869, 967, 537,\n",
    "                       220,  15, 457, 483, 387, 180, 579, 155, 134, 163, 314, 334, 429,\n",
    "                       154,  18, 426, 363, 146, 454, 902, 145,  95])\n",
    "\n",
    "discounts = np.array([25, 25, 50, 25, 50, 50, 50, 25, 50, 50, 25, 25, 25, 25, 50, 75, 25,\n",
    "                      50, 50, 50, 25, 25, 25, 25, 75, 50, 25, 25, 25, 25, 90, 50, 25, 25,\n",
    "                      25, 50, 50, 25, 25, 75, 75, 50, 25, 25, 50, 25, 90, 90, 50, 90, 25,\n",
    "                      25, 25, 25, 25, 25, 25, 50, 25, 25, 75, 50, 50, 25, 50, 25, 25, 50,\n",
    "                      25, 75, 25, 25, 50, 25, 25, 50, 75, 25, 25, 90, 25, 75, 25, 25, 25,\n",
    "                      25, 25, 25, 50, 50, 75, 25, 50, 25, 25, 50, 25, 25, 25, 75])"
   ]
  },
  {
   "cell_type": "code",
   "execution_count": null,
   "metadata": {},
   "outputs": [],
   "source": [
    "b) Using conditional indexing on items and quantities arrays,\n",
    "display the name and quantity of objects that will have a 90% reduction."
   ]
  },
  {
   "cell_type": "code",
   "execution_count": null,
   "metadata": {},
   "outputs": [
    {
     "name": "stdout",
     "output_type": "stream",
     "text": [
      "['needle' 'bag' 'perfume' 'fake flowers' 'watch']\n",
      "[914 504 298 291  15]\n",
      "['needle' 'bag' 'perfume' 'fake flowers' 'watch']\n",
      "[914 504 298 291  15]\n"
     ]
    }
   ],
   "source": [
    "# Insert your code here\n",
    "\n",
    "print(items[discounts == 90])\n",
    "print(quantities[discounts == 90])\n",
    "\n",
    "# original cozum\n",
    "# Displaying the name of the objects with a 90% discount\n",
    "print(items[discounts == 90])\n",
    "\n",
    "# Displaying the quantity of objects with a 90% discount\n",
    "print(quantities[discounts == 90])"
   ]
  },
  {
   "cell_type": "code",
   "execution_count": null,
   "metadata": {},
   "outputs": [],
   "source": [
    "(c) You want to buy a new cell phone (\"cell phone\") and speakers (\"speakers\"). \n",
    "Using conditional indexing on discounts, find the discount that will be granted to these items."
   ]
  },
  {
   "cell_type": "code",
   "execution_count": null,
   "metadata": {},
   "outputs": [
    {
     "name": "stdout",
     "output_type": "stream",
     "text": [
      "Cell phone discount = % 25\n",
      "Speakers discount = % 50\n",
      "Cell phones will be discounted by 25 percent.\n",
      "Speakers will be discounted by 50 percent.\n"
     ]
    }
   ],
   "source": [
    "# Insert your code here\n",
    "print(\"Cell phone discount = %\", discounts[items == \"cell phone\"][0])\n",
    "\n",
    "\n",
    "print(\"Speakers discount = %\", discounts[items == \"speakers\"][0])\n",
    "\n",
    "# original cozum\n",
    "discount_cellphone = discounts[items == 'cell phone']\n",
    "print(\"Cell phones will be discounted by\", discount_cellphone[0], \"percent.\")\n",
    "\n",
    "\n",
    "discount_speaker = discounts[items == 'speakers']\n",
    "print(\"Speakers will be discounted by\", discount_speaker[0], \"percent.\")"
   ]
  },
  {
   "cell_type": "code",
   "execution_count": null,
   "metadata": {},
   "outputs": [],
   "source": [
    "    d) The manager of the supermarket would like to know which items are likely to be sold very quickly. \n",
    "    Display the name of the items whose quantity is less or equal to 50 and the discount granted to them.\n",
    "\n",
    "    (e) Which object is likely to be sold out extremely quickly?\n"
   ]
  },
  {
   "cell_type": "code",
   "execution_count": null,
   "metadata": {},
   "outputs": [
    {
     "name": "stdout",
     "output_type": "stream",
     "text": [
      "['piano' 'scotch tape' 'watch' 'sticky note']\n",
      "[25 50 90 50]\n",
      "Objects ['piano' 'scotch tape' 'watch' 'sticky note']\n",
      "Discount [25 50 90 50]\n",
      "\n",
      "\n",
      "Watches ('watch') could be sold out very quickly because they are in small quantities and have a discount of 90%.\n"
     ]
    }
   ],
   "source": [
    "# Insert your code here\n",
    "print(items[quantities <= 50])\n",
    "print(discounts[quantities <= 50])\n",
    "\n",
    "\n",
    "# original cozum\n",
    "print(\"Objects\", items[quantities <= 50])\n",
    "print(\"Discount\", discounts[quantities <= 50])\n",
    "\n",
    "print(\"\\n\")\n",
    "print(\"Watches ('watch') could be sold out very quickly because they are in small quantities and have a discount of 90%.\")"
   ]
  },
  {
   "cell_type": "code",
   "execution_count": null,
   "metadata": {},
   "outputs": [
    {
     "name": "stdout",
     "output_type": "stream",
     "text": [
      "piano Quantities = 14 Discount = 25 \n",
      "\n",
      "scotch tape Quantities = 37 Discount = 50 \n",
      "\n",
      "watch Quantities = 15 Discount = 90 \n",
      "\n",
      "sticky note Quantities = 18 Discount = 50 \n",
      "\n",
      "\n",
      "It seems Watch will be sold quickly. It has %90 discount and just 15 watch in the stock.\n"
     ]
    }
   ],
   "source": [
    "for i in range(len(items)):\n",
    "    for j in items[quantities <= 50]:\n",
    "        if items[i] == j:\n",
    "            print(j, \"Quantities =\",quantities[i], \"Discount =\",discounts[i], \"\\n\")\n",
    "\n",
    "print('\\nIt seems Watch will be sold quickly. It has %90 discount and just 15 watch in the stock.')"
   ]
  },
  {
   "cell_type": "markdown",
   "metadata": {},
   "source": [
    "## Iterating over the elements of an array"
   ]
  },
  {
   "cell_type": "code",
   "execution_count": null,
   "metadata": {},
   "outputs": [],
   "source": [
    "2. Iterating over the elements of an array\n",
    "\n",
    "    A screen pixel can simulate a color by superimposing 3 channels corresponding to red, green and blue colors. By varying the light intensity of these channels, it is possible to cover a large part of the range of colors visible by the human eye.\n",
    "\n",
    "\n",
    "    For this reason, a colored image of size 32x32 pixels is often represented by an array of shape 32x32x3 where the 3rd dimension corresponds to the brightness intensity of each channel for each pixel of the image :\n",
    "\n",
    "\n",
    "    (a) Run the following cell to import the image corresponding to the drawing in the examples above.\n",
    "\n"
   ]
  },
  {
   "cell_type": "code",
   "execution_count": null,
   "metadata": {},
   "outputs": [
    {
     "data": {
      "image/png": "[encoded data removed]",
      "text/plain": [
       "<Figure size 640x480 with 1 Axes>"
      ]
     },
     "metadata": {},
     "output_type": "display_data"
    }
   ],
   "source": [
    "import cv2\n",
    "import numpy as np\n",
    "import matplotlib.pyplot as plt\n",
    "\n",
    "# Image import\n",
    "img = cv2.imread(\"mushroom32_32.png\")\n",
    "img = np.int64(img)\n",
    "\n",
    "# Image display\n",
    "#_ = plt.imshow(img[:,:, ::-1])\n",
    "_ = plt.imshow(img[:,:,::-1])\n",
    "_ = plt.axis(\"off\")"
   ]
  },
  {
   "cell_type": "code",
   "execution_count": null,
   "metadata": {},
   "outputs": [
    {
     "name": "stdout",
     "output_type": "stream",
     "text": [
      "(231, 231, 3)\n"
     ]
    }
   ],
   "source": [
    "#(b) The image is stored in the img array. Display the shape of the created array.\n",
    "\n",
    "# Insert your code here\n",
    "# Displaying the shape of the array\n",
    "print(img.shape)"
   ]
  },
  {
   "cell_type": "code",
   "execution_count": null,
   "metadata": {},
   "outputs": [],
   "source": [
    "\n",
    "\n",
    "    To transform a color image into a gray scale image, you need to, for each pixel of the image, to compute the brightness mean over the 3 channels.\n",
    "\n",
    "    We will have to iterate on each pixel of the image, but for numpy arrays with several dimensions, the iterations must be done dimension by dimension:\n",
    "\n",
    "    # Creation of an array of dimensions 32x32x3 (rows x columns x channels)\n",
    "    X = np.zeros(shape = (32, 32, 3))\n",
    "\n",
    "    # Iteration over the first dimension of the array (the rows)\n",
    "    for row in X:\n",
    "        # Iteration over the second dimension of the array (the pixels of the rows)\n",
    "        for pixel in row:\n",
    "            # Iteration over the third dimension of the array (the channels of the pixel)\n",
    "            for channel in pixel:\n",
    "                ...\n",
    "                ...\n",
    "\n",
    "    A pixel of an image is an array with 3 elements corresponding to the brightness intensities of the channels. We can take the average of these three elements to obtain the brightness intensity of the pixel in gray scale.\n",
    "\n",
    "    (c) Define a function named rgb_to_gray which will take an array X as argument. In this function, you will have to:\n",
    "\n",
    "        Instantiate an array filled with zeros named X_gray with the same number of rows and columns as X but with a single channel. This array will contain the light intensities of the pixels in gray scale.\n",
    "\n",
    "        Iterate over the pixels of the image and store the average of the intensities of the pixel channels in X_gray at the corresponding index. You can use the enumerate generator in your for loops to get the pixel indices.\n",
    "\n",
    "You can test your function on img to verify that it works, but be careful not to overwrite it.\n"
   ]
  },
  {
   "cell_type": "code",
   "execution_count": null,
   "metadata": {},
   "outputs": [],
   "source": [
    "img = cv2.imread(\"mushroom32_32.png\")\n",
    "\n",
    "X_gray = np.zeros(shape = (231, 231, 1))\n",
    "for i, row in enumerate(img):\n",
    "    print(\"i = \", i, \"row = \",row)\n",
    "    for j, pixel in enumerate(row):\n",
    "        print(\"j = \", j , \"pixel = \",pixel)\n",
    "        average = 0\n",
    "        for channel in pixel:\n",
    "            average += channel\n",
    "            print(\"average = \", average)\n",
    "        average /= 3\n",
    "        print(\"average / 3 = \", average)\n",
    "        \n",
    "        X_gray[i, j] = average\n",
    "        print(\"X_gray[i,j] = \" , i,j,X_gray[i, j])"
   ]
  },
  {
   "cell_type": "code",
   "execution_count": null,
   "metadata": {},
   "outputs": [
    {
     "name": "stdout",
     "output_type": "stream",
     "text": [
      "255.0 230 230 (231, 231, 3) [255.]\n"
     ]
    }
   ],
   "source": [
    "# Insert your code here\n",
    "#original cozum\n",
    "\n",
    "def rgb_to_gray(X):\n",
    "    n_rows, n_columns, n_channels = X.shape\n",
    "    \n",
    "    # Create an array filled with zeros with the same number of rows and columns as X\n",
    "    # but with only 1 channel\n",
    "    X_gray = np.zeros(shape = (n_rows, n_columns, 1))\n",
    "    \n",
    "    # Iterating over the rows of the image\n",
    "    for i, row in enumerate(X):\n",
    "        # Iterating over the pixels of the row\n",
    "        for j, pixel in enumerate(row):\n",
    "            # Compute the average of the intensities of the channels\n",
    "            average = 0\n",
    "            for channel in pixel:\n",
    "                average += channel\n",
    "            average /= 3\n",
    "            \n",
    "            # We store the average of the intensities in X_gray\n",
    "            X_gray[i, j] = average\n",
    "\n",
    "    print(average, i, j, X.shape, X_gray[i,j])  \n",
    "    return  X_gray\n",
    "\n",
    "# Test\n",
    "_ = rgb_to_gray(img)"
   ]
  },
  {
   "cell_type": "code",
   "execution_count": null,
   "metadata": {},
   "outputs": [
    {
     "name": "stdout",
     "output_type": "stream",
     "text": [
      "255.0 230 230 (231, 231, 3) [255.]\n"
     ]
    },
    {
     "data": {
      "image/png": "[encoded data removed]",
      "text/plain": [
       "<Figure size 640x480 with 2 Axes>"
      ]
     },
     "metadata": {},
     "output_type": "display_data"
    }
   ],
   "source": [
    "#(d) Run the following cell to display the result of rgb_to_gray:\n",
    "\n",
    "img = cv2.imread(\"mushroom32_32.png\")\n",
    "\n",
    "# Displaying the color image\n",
    "plt.subplot(1, 2, 1)\n",
    "_ = plt.imshow(img[:,:, :: - 1])\n",
    "_ = plt.axis(\"off\")\n",
    "\n",
    "# Displaying the gray scale image\n",
    "plt.subplot(1, 2, 2)\n",
    "_ = plt.imshow(rgb_to_gray(img)[..., 0], cmap = 'gray')\n",
    "_ = plt.axis(\"off\")"
   ]
  },
  {
   "cell_type": "markdown",
   "metadata": {},
   "source": [
    "## Reshaping an array"
   ]
  },
  {
   "cell_type": "code",
   "execution_count": null,
   "metadata": {},
   "outputs": [],
   "source": [
    "3. Reshaping an array\n",
    "\n",
    "    The shape of an array corresponds to its dimensions. Resizing an array is known as reshaping.\n",
    "\n",
    "    It happens that an array is not of the appropriate dimensions to be visualized or processed with machine learning algorithms which often can only process vectors and not matrices.\n",
    "\n",
    "    Thus, it is possible to use the reshape method of an array to reconstruct the data of the array with different dimensions. The argument of the reshape method is the shape we want to obtain:\n",
    "\n",
    "    # Create an array from a list of 10 elements\n",
    "    X = np.array([i for i in range(1, 11)]) # 1, 2, ..., 10\n",
    "\n",
    "    # Displaying the dimensions of X\n",
    "    print(X.shape)\n",
    "    >>> (10,)\n",
    "\n",
    "    # Displaying X\n",
    "    print(X)\n",
    "    >>> [1, 2, 3, 4, 5, 6, 7, 8, 9, 10]\n",
    "\n",
    "    # Reshaping the array into a matrix with 2 rows and 5 columns \n",
    "    X_reshaped = X.reshape((2, 5))\n",
    "\n",
    "    # Displaying the new array\n",
    "    print(X_reshaped)\n",
    "    >>> [[1, 2, 3, 4, 5],\n",
    "    >>>  [6, 7, 8, 9, 10]]\n",
    "\n",
    "    It is possible to resize an array to any shape as long as both shapes have the same number of elements. In the previous example, the array X contains 10 elements and the shape we desire too (2 x 5 = 10).\n",
    "\n",
    "    In the following, we will briefly explore the digits dataset from the scikit-learn module, a Python library used for machine learning models.\n",
    "\n",
    "    The digits dataset contains 1797 images of handwritten digits ranging from 0 to 9. The objective of this dataset is to find a machine learning algorithm able to read handwritten numbers.\n",
    "\n",
    "    The images in this dataset have a resolution of 8x8 pixels in gray scale.\n",
    "\n",
    "    (a) Run the following cell to load the digits dataset from the scikit-learn module.\n",
    "\n",
    "\n",
    "\n"
   ]
  },
  {
   "cell_type": "code",
   "execution_count": null,
   "metadata": {},
   "outputs": [],
   "source": [
    "# The load_digits function is used to load the \"digits\" dataset into an array\n",
    "\n",
    "from sklearn.datasets import load_digits\n",
    "\n",
    "\n",
    "\n",
    "# The load_digits function returns a dictionary containing\n",
    "\n",
    "# the data as well as other information about the dataset\n",
    "\n",
    "digits = load_digits()\n",
    "\n",
    "\n",
    "\n",
    "# The data of the images are in the \"data\" key\n",
    "\n",
    "X = digits['data']"
   ]
  },
  {
   "cell_type": "code",
   "execution_count": null,
   "metadata": {},
   "outputs": [],
   "source": [
    "\n",
    "\n",
    "    All images have been loaded into the X array.\n",
    "\n",
    "    (b) Using the shape attribute, display the dimensions ofX.\n",
    "\n"
   ]
  },
  {
   "cell_type": "code",
   "execution_count": null,
   "metadata": {},
   "outputs": [
    {
     "name": "stdout",
     "output_type": "stream",
     "text": [
      "[[ 0.  0.  5. ...  0.  0.  0.]\n",
      " [ 0.  0.  0. ... 10.  0.  0.]\n",
      " [ 0.  0.  0. ... 16.  9.  0.]\n",
      " ...\n",
      " [ 0.  0.  1. ...  6.  0.  0.]\n",
      " [ 0.  0.  2. ... 12.  0.  0.]\n",
      " [ 0.  0. 10. ... 12.  1.  0.]]\n"
     ]
    },
    {
     "data": {
      "text/plain": [
       "(1797, 64)"
      ]
     },
     "metadata": {},
     "output_type": "display_data"
    }
   ],
   "source": [
    "# Insert your code here\n",
    "\n",
    "print(X)\n",
    "\n",
    "X.shape"
   ]
  },
  {
   "cell_type": "code",
   "execution_count": null,
   "metadata": {},
   "outputs": [],
   "source": [
    "\n",
    "\n",
    "    The X array containing the images has the dimension 1797x64, which does not correspond to the dimensions of the images at all.\n",
    "\n",
    "    In fact, the 1797 images of 8x8 dimensions have been resized into vectors of size 8x8 = 64 to make them compatible with the algorithms of scikit-learn which are not able to process matrix data.\n",
    "\n",
    "    Then, the 1797 vectors were vertically stacked into a matrix to form X. This makes it possible to have the entire dataset in a single matrix. Each row of X therefore corresponds to an image which has been transformed into a vector.\n",
    "\n",
    "    If we want to visualize the images, we have to resize the vectors of 64 elements in matrices of dimensions 8x8. Indeed, the functions for displaying images can only process matrices and not vectors.\n",
    "\n",
    "    To display the images contained in X, we are going to reshape X to obtain an array of dimensions 1797x8x8.\n",
    "\n",
    "    (c) In an array named X_reshaped, store the resized array X with the shape (1797, 8, 8).\n",
    "\n",
    "    (d) In an array named img, store the image contained at the index 1100 of X_reshaped.\n",
    "\n"
   ]
  },
  {
   "cell_type": "code",
   "execution_count": null,
   "metadata": {},
   "outputs": [
    {
     "name": "stdout",
     "output_type": "stream",
     "text": [
      "[[ 0.  1. 12. 15. 10.  2.  0.  0.]\n",
      " [ 0.  4. 14.  1.  6. 12.  2.  0.]\n",
      " [ 0.  7. 15.  0.  1. 14.  4.  0.]\n",
      " [ 0.  3. 15. 12. 15. 10.  0.  0.]\n",
      " [ 0.  0.  3. 15.  1.  0.  0.  0.]\n",
      " [ 0.  0.  0.  3. 13.  1.  0.  0.]\n",
      " [ 0.  0.  0.  0. 10.  6.  0.  0.]\n",
      " [ 0.  0. 11. 12. 13.  4.  0.  0.]]\n"
     ]
    },
    {
     "data": {
      "image/png": "[encoded data removed]",
      "text/plain": [
       "<Figure size 640x480 with 1 Axes>"
      ]
     },
     "metadata": {},
     "output_type": "display_data"
    }
   ],
   "source": [
    "# Insert your code here\n",
    "\n",
    "X_reshaped = X.reshape((1797, 8, 8))\n",
    "\n",
    "img = X_reshaped[1100]\n",
    "\n",
    "print(img)\n",
    "\n",
    "_ = plt.imshow(img, cmap=\"Blues\")"
   ]
  },
  {
   "cell_type": "code",
   "execution_count": null,
   "metadata": {},
   "outputs": [
    {
     "name": "stdout",
     "output_type": "stream",
     "text": [
      "Yes I can , it is 9.\n"
     ]
    },
    {
     "data": {
      "image/png": "[encoded data removed]",
      "text/plain": [
       "<Figure size 640x480 with 1 Axes>"
      ]
     },
     "metadata": {},
     "output_type": "display_data"
    }
   ],
   "source": [
    "  #  e) Run the next cell to display img. Can you recognize which number is displayed?\n",
    "\n",
    "import matplotlib.pyplot as plt\n",
    "\n",
    "_ = plt.imshow(img, cmap = 'gray')\n",
    "\n",
    "_ = plt.axis(\"off\")\n",
    "\n",
    "print(\"Yes I can , it is 9.\")"
   ]
  },
  {
   "cell_type": "markdown",
   "metadata": {},
   "source": [
    "## Concatenation of arrays"
   ]
  },
  {
   "cell_type": "code",
   "execution_count": null,
   "metadata": {},
   "outputs": [],
   "source": [
    "4. Concatenation of arrays\n",
    "\n",
    "    It is sometimes necessary to merge several arrays to build a dataset. For that, we can use the np.concatenate function:\n",
    "\n",
    "    # Creation of two arrays with 3 rows and 2 columns\n",
    "    # The first is filled with 1\n",
    "    X_1 = np.ones(shape = (3, 2))\n",
    "    print(X_1)\n",
    "\n",
    "    >>> [[1. 1. 1.]\n",
    "    >>>  [1. 1. 1.]]\n",
    "\n",
    "    # The second is filled with 0\n",
    "    X_2 = np.zeros(shape = (3, 2))\n",
    "    print(X_ 2)\n",
    "\n",
    "    >>> [[0. 0. 0.]\n",
    "    >>>  [0. 0. 0.]]\n",
    "\n",
    "    # Concatenation of the two arrays on the row axis\n",
    "    X_3 = np.concatenate([X_1, X_2], axis = 0)\n",
    "    print(X_3)\n",
    "\n",
    "    >>> [[1. 1. 1.]\n",
    "    >>>  [1. 1. 1.]\n",
    "    >>>  [0. 0. 0.]\n",
    "    >>>  [0. 0. 0.]]\n",
    "\n",
    "    # Concatenation of the two arrays on the column axis\n",
    "    X_4 = np.concatenate([X_1, X_2], axis = 1)\n",
    "    print(X_4)\n",
    "\n",
    "    >>> [[1. 1. 1. 0. 0. 0.]\n",
    "    >>>  [1. 1. 1. 0. 0. 0.]]\n",
    "\n",
    "            The arrays to concatenate must be passed as a list or a tuple.\n",
    "\n",
    "            The axis argument determines the dimension on which the arrays should be concatenated. The arrays must have the same length on this dimension.\n",
    "\n",
    "\n",
    "\n",
    "    The axis argument is often used in numpy functions. When an array has 2 dimensions, we can interpret an operation on the axis 0 as an operation on the row-axis (the first dimension) and an operation on the axis 1 as an operation on the column-axis (the second dimension).\n",
    "\n",
    "    (a) In an array named img1, store the image contained at index 560 of X_reshaped.\n",
    "\n",
    "    (b) In an array named img2, store the image contained at index 561 of X_reshaped.\n",
    "\n",
    "    (c) In an array named img3, concatenate the arrays img1 and img2 vertically, i.e. on the row axis.\n",
    "\n"
   ]
  },
  {
   "cell_type": "code",
   "execution_count": null,
   "metadata": {},
   "outputs": [],
   "source": [
    "# Insert your code here\n",
    "# Image recovery\n",
    "img1 = X_reshaped[560]\n",
    "img2 = X_reshaped[561]\n",
    "\n",
    "# Vertical concatenation of the images\n",
    "img3 = np.concatenate([img1, img2], axis = 0)"
   ]
  },
  {
   "cell_type": "code",
   "execution_count": null,
   "metadata": {},
   "outputs": [
    {
     "data": {
      "image/png": "[encoded data removed]",
      "text/plain": [
       "<Figure size 1000x600 with 3 Axes>"
      ]
     },
     "metadata": {},
     "output_type": "display_data"
    }
   ],
   "source": [
    "\n",
    " #   (d) Run the next cell to display the result of the concatenation.\n",
    "\n",
    "## Displaying the first image\n",
    "\n",
    "plt.subplot(1, 3, 1)\n",
    "\n",
    "_ = plt.imshow(img1, cmap = 'gray')\n",
    "\n",
    "_ = plt.axis(\"off\")\n",
    "\n",
    "_ = plt.title(\"Image 1\")\n",
    "\n",
    "\n",
    "\n",
    "# Displaying the second image\n",
    "\n",
    "plt.subplot(1, 3, 2)\n",
    "\n",
    "_ = plt.imshow(img2, cmap = 'gray')\n",
    "\n",
    "_ = plt.axis(\"off\")\n",
    "\n",
    "_ = plt.title(\"Image 2\")\n",
    "\n",
    "\n",
    "\n",
    "# Displaying the concatenation of the images\n",
    "\n",
    "plt.subplot(1, 3, 3)\n",
    "\n",
    "_ = plt.imshow(img3, cmap = 'gray')\n",
    "\n",
    "_ = plt.axis(\"off\")\n",
    "\n",
    "_ = plt.title(\"Vertical Concatenation\")\n",
    "\n",
    "\n",
    "\n",
    "# Resizing the figure\n",
    "\n",
    "fig = plt.gcf()\n",
    "\n",
    "fig.set_size_inches((10, 6))"
   ]
  },
  {
   "cell_type": "markdown",
   "metadata": {},
   "source": [
    "# Operations on Numpy arrays"
   ]
  },
  {
   "cell_type": "markdown",
   "metadata": {},
   "source": [
    "## Arithmetic operators"
   ]
  },
  {
   "cell_type": "code",
   "execution_count": null,
   "metadata": {},
   "outputs": [],
   "source": [
    "1. Arithmetic operators\n",
    "\n",
    "    Numpy allows you to perform mathematical operations on arrays in an optimized way.\n",
    "\n",
    "            Applying one of the basic arithmetic operations (/, *, -,+,**) between an array and a value will apply the operation to each of the elements of the array.\n",
    "\n",
    "            It is also possible to perform an arithmetic operation between two arrays. This will apply the operation between each pair of elements.\n",
    "\n",
    "        # Creation of two arrays with 2 values\n",
    "        a = np.array([4, 10])\n",
    "        b = np.array([6, 7])\n",
    "\n",
    "        # Multiplication between two arrays\n",
    "        print(a * b)\n",
    "        >>> [24, 70]\n",
    "\n",
    "    (a) Import the package numpy under the name np.\n",
    "\n",
    "    (b) Create an array of dimensions 10x4 filled with ones.\n",
    "\n",
    "    (c) Using a for loop and the enumerate function, multiply each row by its index. In order to modify the matrix,\n",
    "    it must be accessed through indexing.\n"
   ]
  },
  {
   "cell_type": "code",
   "execution_count": null,
   "metadata": {},
   "outputs": [
    {
     "name": "stdout",
     "output_type": "stream",
     "text": [
      "0 [1. 1.]\n",
      "1 [1. 1.]\n",
      "2 [1. 1.]\n"
     ]
    }
   ],
   "source": [
    "import numpy as np\n",
    "\n",
    "X = np.ones((3,2))\n",
    "\n",
    "for n, arr in enumerate(X):\n",
    "    print(n, arr)"
   ]
  },
  {
   "cell_type": "code",
   "execution_count": null,
   "metadata": {},
   "outputs": [
    {
     "name": "stdout",
     "output_type": "stream",
     "text": [
      "[[0. 1. 2. 3.]\n",
      " [0. 1. 2. 3.]]\n"
     ]
    },
    {
     "data": {
      "text/plain": [
       "array([[0., 1., 4., 9.],\n",
       "       [0., 1., 4., 9.],\n",
       "       [0., 1., 4., 9.],\n",
       "       [0., 1., 4., 9.],\n",
       "       [0., 1., 4., 9.],\n",
       "       [0., 1., 4., 9.],\n",
       "       [0., 1., 4., 9.],\n",
       "       [0., 1., 4., 9.],\n",
       "       [0., 1., 4., 9.],\n",
       "       [0., 1., 4., 9.]])"
      ]
     },
     "metadata": {},
     "output_type": "display_data"
    }
   ],
   "source": [
    "# If the array of the value is bigger than 1 then compute 2 powers of value \n",
    "X = np.ones((10,4))\n",
    "X = X * [i for i in range(4)]\n",
    "print(X[:2])\n",
    "\n",
    "for i, row in enumerate(X):\n",
    "    for j in row:\n",
    "        if j > 1:\n",
    "            X[i,int(j)] **= 2\n",
    "            \n",
    "X"
   ]
  },
  {
   "cell_type": "code",
   "execution_count": null,
   "metadata": {},
   "outputs": [
    {
     "name": "stdout",
     "output_type": "stream",
     "text": [
      "[0. 0. 0. 0.]\n",
      "[1. 1. 1. 1.]\n",
      "[2. 2. 2. 2.]\n",
      "[3. 3. 3. 3.]\n",
      "[4. 4. 4. 4.]\n",
      "[5. 5. 5. 5.]\n",
      "[6. 6. 6. 6.]\n",
      "[7. 7. 7. 7.]\n",
      "[8. 8. 8. 8.]\n",
      "[9. 9. 9. 9.]\n"
     ]
    }
   ],
   "source": [
    "# Insert your code here\n",
    "import numpy as np\n",
    "\n",
    "X = np.ones((10,4))\n",
    "\n",
    "for n, arr in enumerate(X):\n",
    "    print(n * arr)"
   ]
  },
  {
   "cell_type": "code",
   "execution_count": null,
   "metadata": {},
   "outputs": [
    {
     "name": "stdout",
     "output_type": "stream",
     "text": [
      "[[0. 0. 0. 0.]\n",
      " [1. 1. 1. 1.]\n",
      " [2. 2. 2. 2.]\n",
      " [3. 3. 3. 3.]\n",
      " [4. 4. 4. 4.]\n",
      " [5. 5. 5. 5.]\n",
      " [6. 6. 6. 6.]\n",
      " [7. 7. 7. 7.]\n",
      " [8. 8. 8. 8.]\n",
      " [9. 9. 9. 9.]]\n"
     ]
    }
   ],
   "source": [
    "#original cozum \n",
    "import numpy as np\n",
    "\n",
    "M = np.ones((10, 4))\n",
    "\n",
    "# For each row of the matrix M\n",
    "for i, row in enumerate(M):\n",
    "    # We multiply the row by its index\n",
    "    M[i,:] = row*i\n",
    "    # Alternatively M[i,:]* = i\n",
    "    \n",
    "print(M)"
   ]
  },
  {
   "cell_type": "code",
   "execution_count": null,
   "metadata": {},
   "outputs": [],
   "source": [
    "As explained above, the * operator allows you to compute an element-wise product between arrays.\n",
    "\n",
    "For example:\n",
    "\n",
    "(5310)∗(2048)=(10040)\n",
    "\n",
    "The matrix product, in the mathematical sense of the term, can be performed using the dot method of a numpy array:\n",
    "\n",
    "# Creation of two arrays of size 2x2\n",
    "M = np.array([[5, 1],\n",
    "              [3, 0]])\n",
    "\n",
    "N = np.array([[2, 4],\n",
    "              [0, 8]])\n",
    "\n",
    "# Matrix product between the two arrays\n",
    "print(M.dot(N))\n",
    ">>> [[10, 28]\n",
    ">>>  [6, 12]]\n",
    "\n",
    "Indeed, if we recall the matrix product:\n",
    "\n",
    "𝑀=([5, 1],\n",
    "    [3, 0]),\n",
    "𝑁=([2, 4],\n",
    "    [0, 8])\n",
    "\n",
    "𝑀𝑁=(5310)(2048)=((5∗2)+(1∗0)(3∗2)+(0∗0)(5∗4)+(1∗8)(3∗4)+(0∗8))=[[10, 28],\n",
    "                                                                 [ 6, 12]])\n",
    "Let's consider the following matrix:\n",
    "\n",
    "𝐴=(1−1−11)\n",
    "\n",
    "    (d) Define a function named powerA taking as argument an integer n greater than 1. This function must compute and return 𝐴^𝑛\n",
    "\n",
    "    (according to matrix product).\n",
    "\n",
    "    (e) Calculate and display 𝐴^2, 𝐴^3 and 𝐴^4. Can you guess a general formula for 𝐴^𝑛?"
   ]
  },
  {
   "cell_type": "code",
   "execution_count": null,
   "metadata": {},
   "outputs": [
    {
     "data": {
      "text/plain": [
       "(array([[10, 28],\n",
       "        [ 6, 12]]),\n",
       " array([[10, 28],\n",
       "        [ 6, 12]]))"
      ]
     },
     "metadata": {},
     "output_type": "display_data"
    }
   ],
   "source": [
    "M = np.array([[5, 1],\n",
    "              [3, 0]])\n",
    "\n",
    "\n",
    "N = np.array([[2, 4],\n",
    "              [0, 8]])\n",
    "\n",
    "\n",
    "\n",
    "def powerA(n, A, B):\n",
    "\n",
    "    for i in range(n):\n",
    "        at = A @ B\n",
    "        A = A.dot(B)\n",
    "    return A, at         \n",
    "\n",
    "\n",
    "powerA(1, M, N)"
   ]
  },
  {
   "cell_type": "code",
   "execution_count": null,
   "metadata": {},
   "outputs": [
    {
     "name": "stdout",
     "output_type": "stream",
     "text": [
      "A**2: \n",
      " [[ 2 -2]\n",
      " [-2  2]] \n",
      "\n",
      "A**3: \n",
      " [[ 4 -4]\n",
      " [-4  4]] \n",
      "\n",
      "A**4: \n",
      " [[ 8 -8]\n",
      " [-8  8]] \n",
      "\n",
      "A general formula of A**n is given by:\n",
      "[2**(n-1), -2**(n-1)]\n",
      "[-2**(n-1), 2**(n-1)]\n"
     ]
    }
   ],
   "source": [
    "# original cozum\n",
    "def powerA(n):\n",
    "    # A is initialized to the identity matrix\n",
    "    A = np.array([[1, 0],\n",
    "                  [0, 1]])\n",
    "    \n",
    "    # This matrix B will be used to calculate the powers of A\n",
    "    B = np.array([[1, -1],\n",
    "                  [-1, 1]])\n",
    "    \n",
    "    # We multiply A by B n times to get A**n\n",
    "    for i in range(n):\n",
    "        A = A.dot(B)\n",
    "        \n",
    "    return A\n",
    "\n",
    "print (\"A**2: \\n\", powerA(2), \"\\n\")\n",
    "print (\"A**3: \\n\", powerA(3), \"\\n\")\n",
    "print (\"A**4: \\n\", powerA(4), \"\\n\")\n",
    "\n",
    "print (\"A general formula of A**n is given by:\")\n",
    "print (\"[2**(n-1), -2**(n-1)]\")\n",
    "print (\"[-2**(n-1), 2**(n-1)]\")"
   ]
  },
  {
   "cell_type": "code",
   "execution_count": null,
   "metadata": {},
   "outputs": [],
   "source": [
    "In a two-dimensional plane, rotations around the origin are represented by the matrices of the form:\n",
    "\n",
    "𝐴(𝜃)=(cos(𝜃) −sin(𝜃)\n",
    "     sin(𝜃)  cos(𝜃))\n",
    "where 𝜃 defines the angle of the rotation in radians. Thus, the rotation of a point with coordinates 𝑥=(𝑥1𝑥2) is calculated thanks to the formula 𝑥̃ =𝐴(𝜃)𝑥\n",
    "\n",
    "    (f) Define a function named rotation_matrix taking as argument a number 𝜃\n",
    "\n",
    "(theta) and returning the associated 𝐴(𝜃) matrix. You can calculate the cos and sin\n",
    "\n",
    "    functions using the np.cos andnp.sin functions of numpy.\n",
    "\n",
    "    (g) Let 𝑥=(1\n",
    "                1)\n",
    "\n",
    "be a point. Calculate and display 𝐴(𝜋)𝑥, which is equivalent to rotating 180º around the origin. You have access to the constant 𝜋\n",
    "\n",
    "    with the np.pi instruction.\n",
    "\n",
    "    (h) Show that 𝐴(𝜋4)𝐴(3𝜋4)𝑥=𝐴(𝜋)𝑥\n",
    "\n",
    "    .\n",
    "\n",
    "    (i) Generally speaking, for any angle, 𝐴(𝜃1)𝐴(𝜃2)𝑥=𝐴(𝜃1+𝜃2)𝑥\n",
    "\n",
    ". Why is this the case?"
   ]
  },
  {
   "cell_type": "code",
   "execution_count": null,
   "metadata": {},
   "outputs": [
    {
     "name": "stdout",
     "output_type": "stream",
     "text": [
      "[1 1] [-1. -1.]\n",
      "0.0 [-1. -1.]\n"
     ]
    }
   ],
   "source": [
    "# Insert your code here\n",
    "\n",
    "def rotation_matrix(theta, X):\n",
    "    Y = np.array([[np.cos(theta), -np.sin(theta)],\n",
    "                  [np.sin(theta), np.cos(theta)]])\n",
    "    return Y.dot(X)\n",
    "\n",
    "#g)\n",
    "x = np.array([1,1])\n",
    "\n",
    "x_pi = rotation_matrix(np.pi, x)\n",
    "\n",
    "print(x, x_pi )\n",
    "\n",
    "#h)\n",
    "a_pi_4 = rotation_matrix(np.pi/4, x)\n",
    "a_3pi_4 = rotation_matrix(3*np.pi/4, x)\n",
    "\n",
    "print(a_pi_4.dot(a_3pi_4), x_pi)"
   ]
  },
  {
   "cell_type": "code",
   "execution_count": null,
   "metadata": {},
   "outputs": [
    {
     "name": "stdout",
     "output_type": "stream",
     "text": [
      "[1 1] [-1. -1.]\n",
      "[1 1] [-1. -1.] \n",
      "\n",
      "a_theta1 \n",
      "\n",
      " [[ 1.00000000e+00 -1.96438672e-15]\n",
      " [ 1.96438672e-15  1.00000000e+00]] \n",
      " a_theta2 \n",
      "\n",
      " [[ 1.00000000e+00 -3.92877345e-15]\n",
      " [ 3.92877345e-15  1.00000000e+00]] \n",
      " a_sum \n",
      "\n",
      " [[ 1.00000000e+00  5.09502587e-14]\n",
      " [-5.09502587e-14  1.00000000e+00]] \n",
      "\n",
      "[1. 1.]\n",
      "[1. 1.]\n"
     ]
    }
   ],
   "source": [
    "# Insert your code here\n",
    "\n",
    "def rotation_matrix(theta):\n",
    "    Y = np.array([[np.cos(theta), -np.sin(theta)],\n",
    "                  [np.sin(theta), np.cos(theta)]])\n",
    "    return Y\n",
    "\n",
    "#g)\n",
    "x = np.array([1,1])\n",
    "\n",
    "x_pi = rotation_matrix(np.pi)\n",
    "\n",
    "print(x, x_pi.dot(x))\n",
    "\n",
    "#h)\n",
    "x = np.array([1,1])\n",
    "a_pi_4 = rotation_matrix(np.pi/4)\n",
    "a_3pi_4 = rotation_matrix(3*np.pi/4)\n",
    "\n",
    "print(x, a_pi_4.dot(a_3pi_4.dot(x)), \"\\n\")\n",
    "\n",
    "#i)\n",
    "pi = 100*np.pi\n",
    "pi_2 = 200*np.pi\n",
    "\n",
    "a_theta1 = rotation_matrix(pi)\n",
    "a_theta2 = rotation_matrix(pi_2)\n",
    "a_sum = rotation_matrix(pi + pi_2)\n",
    "\n",
    "print(\"a_theta1 \\n\\n\",a_theta1, \"\\n a_theta2 \\n\\n\", a_theta2, \"\\n a_sum \\n\\n\", a_sum, \"\\n\")\n",
    "print(a_theta1.dot(a_theta2.dot(x)))\n",
    "print(a_sum.dot(x))"
   ]
  },
  {
   "cell_type": "code",
   "execution_count": null,
   "metadata": {},
   "outputs": [
    {
     "name": "stdout",
     "output_type": "stream",
     "text": [
      "x = [1 1]\n",
      "A(pi)x = [-1. -1.]\n",
      "A(pi/4) A(3pi/4) x = [-1. -1.]\n",
      "\n",
      "\n",
      "Intuitively, A(theta_1) A(theta_2) = A(theta_1 + theta_2) because applying a rotation of angle theta_1 then\n",
      "applying another rotation of angle theta_2 is exactly the same as applying a rotation whose angle is the sum of the two.\n"
     ]
    }
   ],
   "source": [
    "#original cozum\n",
    "#????????\n",
    "\n",
    "# First question\n",
    "def rotation_matrix(theta):\n",
    "    A = np.array([[np.cos(theta), -np.sin(theta)],\n",
    "                  [np.sin(theta), np.cos(theta)]])\n",
    "    \n",
    "    return A\n",
    "\n",
    "# Second question\n",
    "x = np.array([1, 1])\n",
    "A_pi = rotation_matrix(np.pi)\n",
    "\n",
    "print(\"x =\", x)\n",
    "print(\"A(pi)x =\", A_pi.dot(x))\n",
    "\n",
    "# Third question\n",
    "A_pi_4 = rotation_matrix(np.pi/4)\n",
    "A_3pi_4 = rotation_matrix(3*np.pi/4)\n",
    "\n",
    "print(\"A(pi/4) A(3pi/4) x =\", A_pi_4.dot(A_3pi_4.dot(x)))\n",
    "\n",
    "# Fourth question\n",
    "print(\"\\n\")\n",
    "print(\"Intuitively, A(theta_1) A(theta_2) = A(theta_1 + theta_2) because applying a rotation of angle theta_1 then\" )\n",
    "print(\"applying another rotation of angle theta_2 is exactly the same as applying a rotation whose angle is the sum of the two.\")"
   ]
  },
  {
   "cell_type": "markdown",
   "metadata": {},
   "source": [
    "## Broadcasting between a matrix and a value"
   ]
  },
  {
   "cell_type": "code",
   "execution_count": null,
   "metadata": {},
   "outputs": [],
   "source": [
    "2. Broadcasting between a matrix and a value\n",
    "\n",
    "    When performing an operation between elements of different dimensions, Numpy performs what is called Broadcasting to understand the operation and execute it.\n",
    "\n",
    "    The term broadcasting is used because one of the arrays is \"broadcasted\" into an array of larger dimensions so that the two arrays have compatible dimensions. This definition will be illustrated below.\n",
    "\n",
    "    In this section, we will try to understand numpy's broadcasting rules in the following cases:\n",
    "\n",
    "        Operation between a matrix and a constant\n",
    "        Operation between a matrix and a vector\n",
    "\n",
    "    An arithmetic operation such as the sum between a matrix and a constant does not make mathematical sense. With Numpy, the broadcasting rule in this case is to sum the constant to each term of the matrix.\n",
    "\n",
    "    𝑀=(3−21125),𝑐=10\n",
    "\n",
    "𝑀+𝑐=(3+10−2+101+101+102+105+10)=(13811111215)\n",
    "\n",
    "What really happens is that the constant 𝑐\n",
    "is broadcasted into a matrix 𝐶 with the same dimensions as 𝑀\n",
    "\n",
    ":\n",
    "\n",
    "𝑐⟶broadcasting𝐶=(𝑐𝑐𝑐𝑐𝑐𝑐)\n",
    "\n",
    "Thus, 𝑀+𝐶\n",
    "\n",
    "    is mathematically well defined and can be computed with basic operations.\n",
    "\n"
   ]
  },
  {
   "cell_type": "markdown",
   "metadata": {},
   "source": [
    "## Broadcasting between a matrix and a vector"
   ]
  },
  {
   "cell_type": "code",
   "execution_count": null,
   "metadata": {},
   "outputs": [],
   "source": [
    "3. Broadcasting between a matrix and a vector\n",
    "\n",
    "    Similarly, numpy allows us to perform arithmetic operations between a matrix and a vector. However, there are some constraints which determine whether the vector can be broadcasted into a matrix with compatible dimensions.\n",
    "\n",
    "    In order to determine if the dimensions of the vector and the matrix are compatible, numpy will compare each dimension of the two arrays and determine if:\n",
    "\n",
    "        the dimensions are equal.\n",
    "        one of the dimensions is equal to 1.\n",
    "\n",
    "    If for each dimension, one of these conditions is verified, then the dimensions are compatible and the operation has been understood. Otherwise, a ValueError: operands could not be broadcast together error will be displayed.\n",
    "\n",
    "    Let us consider the following objects :\n",
    "\n",
    "    𝑀=(3−21125),𝑣=(25)\n",
    "\n",
    "Do 𝑀\n",
    "and 𝑣\n",
    "\n",
    "have compatible dimensions for broadcasting?\n",
    "\n",
    "𝑀\n",
    "is a 2x3 dimensional matrix. 𝑣 is a vector with 2 elements, but numpy will instead see 𝑣\n",
    "\n",
    "as a matrix of dimensions 2x1, that is, a matrix with two rows and one column.\n",
    "\n",
    "The first dimension of 𝑀\n",
    "and 𝑣 is equal to 2\n",
    "\n",
    ". They are equal so the compatibility condition is verified for this dimension.\n",
    "\n",
    "The second dimension of 𝑀\n",
    "is equal to 3 and that of 𝑣\n",
    "\n",
    "is equal to 1. The compatibility condition is still verified because one of the dimensions is equal to 1.\n",
    "\n",
    "Therefore 𝑀\n",
    "and 𝑣\n",
    "\n",
    "have compatible dimensions for broadcasting.\n",
    "\n",
    "The vector 𝑣\n",
    "will then be broadcasted along the axis where the dimension of 𝑣 is equal to 1. In our case, it is the axis of the columns. The broadcasting of 𝑣\n",
    "\n",
    "will therefore be given by:\n",
    "\n",
    "𝑣=(25)⟶broadcasting𝑉=[𝑣𝑣𝑣]=(252525)\n",
    "\n",
    "The result of 𝑀∗𝑣\n",
    "\n",
    "will then be given by:\n",
    "\n",
    "𝑀∗𝑣⟶broadcasting𝑀∗𝑉=(3∗2−2∗51∗21∗52∗25∗5)=(6−1025425)\n",
    "\n",
    "Now suppose we have a line vector 𝑢=(34)\n",
    "\n",
    ".\n",
    "\n",
    "For numpy, this vector has dimensions 1x2 (one row and 2 columns). The vectors 𝑢\n",
    "and 𝑣\n",
    "\n",
    "are compatible for broadcasting because on each axis one of the vectors has a dimension equal to 1.\n",
    "\n",
    "How and on which object is the broadcasting carried out in this case?\n",
    "\n",
    "The broadcasting will be carried out on the two vectors and the resulting matrix of the broadcasting will have the largest dimension between the two vectors:\n",
    "\n",
    "𝑣=(25)⟶broadcasting𝑉=(2525)\n",
    "\n",
    "and\n",
    "\n",
    "𝑢=(34)⟶broadcasting𝑈=(3344)\n",
    "\n",
    "Thus, the result of 𝑣+𝑢\n",
    "\n",
    "is given by:\n",
    "\n",
    "𝑣+𝑢⟶broadcasting=(25)+(34)𝑉+𝑈=(2525)+(3344)=(5869)\n",
    "\n",
    "    These rules allow us to understand and predict the result of an operation between two arrays which do not have the same shape. They will be useful for the following exercise:\n",
    "\n",
    "    Min-Max normalization is a method that is used to rescale the variables of a database to the interval [0,1]\n",
    "\n",
    ".\n",
    "\n",
    "Assume our database contains 3 individuals and 2 variables:\n",
    "\n",
    "        Jacques: 24 years old, height of 1.88m.\n",
    "\n",
    "        Mathilde: 18 years old, height of 1.68m.\n",
    "\n",
    "        Alban: 14 years old, height of 1.65m.\n",
    "\n",
    "This data can be represented by the matrix:\n",
    "\n",
    "𝑋=2418141.881.681.65\n",
    "\n",
    "Each row corresponds to an individual, and each column corresponds to a variable. This format is the standard format for databases.\n",
    "\n",
    "We want to compare the age differences with the height differences between individuals. However, the variables in this database do not have the same scale. We have to use Min-Max normalization so that the variables have the same scale.\n",
    "\n",
    "We denote by 𝑋𝑖,𝑗\n",
    "the value of the variable 𝑗 for the individual 𝑖 and 𝑋:,𝑗 the column of the variable 𝑗\n",
    "\n",
    ".\n",
    "\n",
    "Min-Max normalization will produce a new matrix 𝑋̃ \n",
    "such that for each entry of the 𝑋\n",
    "\n",
    "matrix:\n",
    "\n",
    "𝑋̃ 𝑖,𝑗=𝑋𝑖,𝑗−min(𝑋:,𝑗)max(𝑋:,𝑗)−min(𝑋:,𝑗)\n",
    "\n",
    "Thus, to implement Min-Max normalization :\n",
    "\n",
    "        For each 𝑋:,𝑗\n",
    "\n",
    "column, compute min(𝑋:,𝑗) and max(𝑋:,𝑗)\n",
    "\n",
    "    .\n",
    "\n",
    "    For each element 𝑋𝑖,𝑗\n",
    "\n",
    "in the column, compute 𝑋̃ 𝑖,𝑗\n",
    "\n",
    "        .\n",
    "\n",
    "By default, a for loop on 𝑋 will cycle through the lines of 𝑋. \n",
    "In order to browse the columns of 𝑋, you can browse the rows of the transposed matrix of 𝑋, which we denote by 𝑋𝑇\n",
    "\n",
    ".\n",
    "\n",
    "𝑋𝑇=(241.88181.68141.65)\n",
    "\n",
    "The transposition of an array is obtained with its T attribute: 𝑋𝑇\n",
    "\n",
    "    =X.T.\n",
    "\n",
    "    (a) Define a function named normalization_min_max taking as argument a matrix 𝑋 and which will return 𝑋̃ \n",
    "\n",
    "    (b) Apply Min-Max normalization on 𝑋 . You should get the matrix to two decimal places:\n",
    "\n",
    "X = np.array([[1, 0.4, 0],\n",
    "              [1, 0.13, 0]])"
   ]
  },
  {
   "cell_type": "code",
   "execution_count": null,
   "metadata": {},
   "outputs": [
    {
     "data": {
      "text/plain": [
       "array([[1.  , 1.  ],\n",
       "       [0.4 , 0.13],\n",
       "       [0.  , 0.  ]])"
      ]
     },
     "metadata": {},
     "output_type": "display_data"
    }
   ],
   "source": [
    "# Insert your code here\n",
    "\n",
    "def normalization_min_max(X):\n",
    "    if X.ndim == 1:\n",
    "        l2 = []\n",
    "        for i in X:\n",
    "            new_i = (i - min(X)) / (max(X) - min(X))\n",
    "            l2.append(round(new_i, 2))\n",
    "        return l2\n",
    "    else:\n",
    "        X = X.T\n",
    "        for i, row in enumerate(X):\n",
    "            mi = min(row)\n",
    "            ma = max(row)\n",
    "            for j, value in enumerate(row):\n",
    "                new_value = (value - mi) / (ma - mi)\n",
    "                X[i,j] = round(new_value, 2)\n",
    "\n",
    "        return X.T\n",
    "\n",
    "l = np.array([1,2,3,4])\n",
    "\n",
    "X = np.array([[1, 0.4, 0],\n",
    "              [1, 0.13, 0]])\n",
    "\n",
    "y = np.array([[24, 1.88],\n",
    "              [18, 1.68],\n",
    "              [14, 1.65]])\n",
    "normalization_min_max(l)\n",
    "normalization_min_max(y)\n",
    "#normalization_min_max(X) "
   ]
  },
  {
   "cell_type": "code",
   "execution_count": null,
   "metadata": {},
   "outputs": [
    {
     "name": "stdout",
     "output_type": "stream",
     "text": [
      "[[1.         1.        ]\n",
      " [0.4        0.13043478]\n",
      " [0.         0.        ]]\n"
     ]
    }
   ],
   "source": [
    "# original cozum\n",
    "def normalization_min_max(X):\n",
    "    # Initialization of X_tilde\n",
    "    X_tilde = np.zeros(shape = X.shape)\n",
    "    \n",
    "    # For each column of X\n",
    "    for j, column in enumerate(X.T):\n",
    "        # Initialization of the minimum and maximum of the column\n",
    "        min_Xj = column[0]\n",
    "        max_Xj = column[0]\n",
    "        \n",
    "        # For each value in the column\n",
    "        for value in column:\n",
    "            # If the value is SMALLER than the min\n",
    "            if value < min_Xj:\n",
    "                # We overwrite the min with this value\n",
    "                min_Xj = value\n",
    "            \n",
    "            # If the value is GREATER than the max\n",
    "            if value > max_Xj:\n",
    "                # We overwrite the max with this value\n",
    "                max_Xj = value\n",
    "                \n",
    "        # We can now calculate X_tilde for this column\n",
    "        # Broadcasting allows us to do this without a for loop\n",
    "        X_tilde[:, j] = (X[:, j] - min_Xj)/(max_Xj - min_Xj)\n",
    "            \n",
    "    return X_tilde\n",
    "        \n",
    "\n",
    "X = np.array([[24, 1.88],\n",
    "              [18, 1.68],\n",
    "              [14, 1.65]])\n",
    "\n",
    "X_tilde = normalization_min_max(X)\n",
    "\n",
    "print(X_tilde)"
   ]
  },
  {
   "cell_type": "markdown",
   "metadata": {},
   "source": [
    "## Statistical methods"
   ]
  },
  {
   "cell_type": "code",
   "execution_count": null,
   "metadata": {},
   "outputs": [],
   "source": [
    "4. Statistical methods\n",
    "\n",
    "    In addition to common math operations, numpy arrays also have several methods for more complex operations on arrays.\n",
    "\n",
    "    One of the most used operations is the computation of an average using the mean method of an array:\n",
    "\n",
    "    A = np.array([[1, 1, 10],\n",
    "                  [3, 5, 2]])\n",
    "\n",
    "    # Computation of the mean over ALL the values of X\n",
    "    print(A.mean())\n",
    "    >>> 3.67\n",
    "\n",
    "    # Computation of the mean of each COLUMN of X\n",
    "    print(A.mean(axis = 0))\n",
    "    >>> [2, 3, 6]\n",
    "\n",
    "    # Computation of the mean of each ROW of X\n",
    "    print(A.mean(axis = 1))\n",
    "    >>> [4, 3.33]\n",
    "\n",
    "    The argument axis determines which dimension will be scanned to compute the mean:\n",
    "\n",
    "            axis = 0 means that the dimension scanned will be that of rows, which means that the result will be the average of each column.\n",
    "\n",
    "            axis = 1 means that the dimension scanned will be that of columns, which means that the result will be the average of each row.\n",
    "\n",
    "    The axis argument is very often used for operations on matrices, and not only for Numpy. It is very important to understand its effect.\n",
    "\n",
    "    There are other statistical methods that behave like the mean method, such as:\n",
    "\n",
    "            sum: Computes the sum of the elements of an array.\n",
    "\n",
    "            std: Computes the standard deviation.\n",
    "\n",
    "            min: Finds the minimum value among the elements of an array.\n",
    "\n",
    "            max: Finds the maximum value among the elements of an array.\n",
    "\n",
    "            argmin: Returns the index of the minimum value.\n",
    "\n",
    "            argmax: Returns the index of the maximum value.\n",
    "\n",
    "    These methods are useless for databases if you do not provide a value for the axis argument.\n",
    "\n",
    "    In general, we will use the value axis = 0 to get the result for each column, that is, for each variable in the database.\n",
    "\n",
    "    Thus, we can calculate the Min-Max normalization very quickly using the min and max methods along with broadcasting:\n",
    "\n",
    "    X_tilde = (X - X.min(axis = 0))/(X.max(axis = 0) - X.min(axis = 0))\n",
    "\n",
    "    print (X_tilde)\n",
    "    >>> [[1, 1]\n",
    "    >>>  [0.4, 0.13043478]\n",
    "    >>>  [0, 0]]\n",
    "\n",
    "The Mean Squared Error is a metric to quantify the prediction error obtained by a regression model. This notion will be seen in more detail later in your training.\n",
    "\n",
    "The formula for the mean squared error, abbreviated by MSE\n",
    "\n",
    ", is calculated with the following formula:\n",
    "\n",
    "MSE=1𝑛∑𝑖=1𝑛(𝑦̂ 𝑖−𝑦𝑖)2\n",
    "\n",
    "where:\n",
    "\n",
    "        𝑦̂ \n",
    "\n",
    "and 𝑦 are vectors with length 𝑛\n",
    "\n",
    "    .\n",
    "\n",
    "    𝑦̂ \n",
    "\n",
    "is given by the matrix product between a 𝑋 matrix and a regression vector 𝛽, ie:\n",
    "𝑦̂ =𝑋𝛽\n",
    "\n",
    "In the case of linear regression, the goal of the mean squared error is to find the regression vector 𝛽\n",
    "\n",
    "which minimizes this error.\n",
    "\n",
    "    (a) Define a function named mean_squared_error taking as argument a matrix X\n",
    "    , a vector beta and a vector y and which, without a for loop, returns the associated mean squared error.\n"
   ]
  },
  {
   "cell_type": "code",
   "execution_count": null,
   "metadata": {},
   "outputs": [],
   "source": [
    "# original cozum\n",
    "def mean_squared_error(X, beta, y):\n",
    "    # Computation of ^y\n",
    "    y_hat = X.dot(beta)\n",
    "    \n",
    "    # Computation of (^y_i - y_i)**2\n",
    "    mse = (y_hat - y)**2\n",
    "    \n",
    "    # MSE\n",
    "    mse = mse.mean()\n",
    "    \n",
    "    return mse"
   ]
  },
  {
   "cell_type": "code",
   "execution_count": null,
   "metadata": {},
   "outputs": [],
   "source": [
    "Our database contained 3 individuals and 2 variables:\n",
    "\n",
    "        Jacques: 24 years old, height 1.88m.\n",
    "\n",
    "        Mathilde: 18 years old, height 1.68m.\n",
    "\n",
    "        Alban: 14 years old, height 1.65m.\n",
    "\n",
    "We will try to find a model able to predict the height of an individual based on his age. Thus, we define:\n",
    "𝑋=241814\n",
    "\n",
    "𝑦=1.881.681.65\n",
    "\n",
    "Our goal will be to find an optimal 𝛽∗\n",
    "such that:\n",
    "𝑦≈𝑋𝛽∗\n",
    "\n",
    "    (b) For beta taking the values 0.01, 0.02, ..., 0.13, 0.14 and 0.15, compute the associated MSE\n",
    "\n",
    "    using the previously defined mean_squared_error function. Store the values in a list.\n",
    "\n",
    "    To create the list [0.01, 0.02, ..., 0.13, 0.14, 0.15], you can use the np.linspace function which has a signature similar to the range function:\n",
    "\n",
    "    print(np.linspace(start = 0.01, stop = 0.15, num = 15))\n",
    "    >>> [0.01, 0.02, 0.03, 0.04, 0.05, 0.06, 0.07, 0.08, 0.09, 0.1, 0.11, 0.12, 0.13, 0.14, 0.15]\n",
    "\n",
    "    The num argument allows you to define the desired number of elements between start and stop. It is not the step between two consecutive values.\n"
   ]
  },
  {
   "cell_type": "code",
   "execution_count": null,
   "metadata": {},
   "outputs": [
    {
     "name": "stdout",
     "output_type": "stream",
     "text": [
      "Mininmun MSE and Optimal Beta : [0.07803333333333334, 0.08999999999999998]\n"
     ]
    }
   ],
   "source": [
    "X = np.array([24,\n",
    "              18,\n",
    "              14])\n",
    "\n",
    "y = np.array([1.88,\n",
    "              1.68,\n",
    "              1.65])\n",
    "\n",
    "# Insert your code here\n",
    "\n",
    "\n",
    "lst = np.linspace(0.01, 0.15, 15)\n",
    "result = []\n",
    "for beta in  lst:\n",
    "    result.append([mean_squared_error(X, beta, y), beta])\n",
    "\n",
    "#print(result)\n",
    "print(\"Mininmun MSE and Optimal Beta :\",min(result))"
   ]
  },
  {
   "cell_type": "code",
   "execution_count": null,
   "metadata": {},
   "outputs": [],
   "source": [
    "# original cozum\n",
    "X = np.array([24,\n",
    "              18,\n",
    "              14])\n",
    "\n",
    "y = np.array([1.88,\n",
    "              1.68,\n",
    "              1.65])\n",
    "\n",
    "# List containing the mse\n",
    "errors = []\n",
    "\n",
    "# List containing the betas to be tested\n",
    "betas = np.linspace(start = 0.01, stop = 0.15, num = 15)\n",
    "\n",
    "# For all the values of beta\n",
    "for beta in betas:\n",
    "    # Compute the associated MSE\n",
    "    errors.append(mean_squared_error(X, beta, y))"
   ]
  },
  {
   "cell_type": "code",
   "execution_count": null,
   "metadata": {},
   "outputs": [],
   "source": [
    "(c) Convert the list containing the MSE\n",
    "\n",
    "    's to a numpy array.\n",
    "\n",
    "    (d) Determine the 𝛽∗\n",
    "\n",
    "that minimizes the MSE using the argmin method."
   ]
  },
  {
   "cell_type": "code",
   "execution_count": null,
   "metadata": {},
   "outputs": [
    {
     "name": "stdout",
     "output_type": "stream",
     "text": [
      "Array of MSE : \n",
      " [2.40656667 1.85976667 1.38603333 0.98536667 0.65776667 0.40323333\n",
      " 0.22176667 0.11336667 0.07803333 0.11576667 0.22656667 0.41043333\n",
      " 0.66736667 0.99736667 1.40043333] \n",
      "\n",
      "Min MSE index : 8 \n",
      "\n",
      "Minimum MSE =  0.07803333333333334 \n",
      "\n",
      "Optimal Beta =  0.08999999999999998\n"
     ]
    }
   ],
   "source": [
    "# Insert your code here\n",
    "\n",
    "errs_arr = np.array(errors)\n",
    "print(\"Array of MSE : \\n\", errs_arr, \"\\n\")\n",
    "\n",
    "min_err_index = errs_arr.argmin()\n",
    "print(\"Min MSE index :\", min_err_index, \"\\n\")\n",
    "\n",
    "print(\"Minimum MSE = \",errs_arr[min_err_index], \"\\n\")\n",
    "print(\"Optimal Beta = \", betas[min_err_index])"
   ]
  },
  {
   "cell_type": "code",
   "execution_count": null,
   "metadata": {},
   "outputs": [
    {
     "name": "stdout",
     "output_type": "stream",
     "text": [
      "The optimal beta is: 0.08999999999999998\n"
     ]
    }
   ],
   "source": [
    "# original cozum\n",
    "# Array containing the MSE for each beta\n",
    "errors = np.array(errors)\n",
    "\n",
    "# List containing the betas that have been tested\n",
    "betas = np.linspace(start = 0.01, stop = 0.15, num = 15)\n",
    "\n",
    "# Index of the beta that minimizes the MSE \n",
    "index_beta_optimal = errors.argmin()\n",
    "\n",
    "# Optimal beta \n",
    "beta_optimal = betas[index_beta_optimal]\n",
    "\n",
    "print(\"The optimal beta is:\", beta_optimal)"
   ]
  },
  {
   "cell_type": "code",
   "execution_count": null,
   "metadata": {},
   "outputs": [],
   "source": [
    "e) What are the heights predicted by this optimal 𝛽∗? The heights predicted by the model are given by the vector 𝑦̂ =𝑋𝛽∗\n",
    "\n",
    "    .\n",
    "\n",
    "(f) Compare the predicted heights to the actual heights of the individuals. \n",
    "For example, you can compute the average absolute difference between the predicted and true values using the absolute value (np.abs).\n"
   ]
  },
  {
   "cell_type": "code",
   "execution_count": null,
   "metadata": {},
   "outputs": [
    {
     "name": "stdout",
     "output_type": "stream",
     "text": [
      "Predicted heights :  [2.16 1.62 1.26]\n",
      "Real heights      :  [1.88 1.68 1.65]\n",
      "Erros             :  [0.28 0.06 0.39]\n",
      "Average of errors :  0.2433333333333334\n"
     ]
    }
   ],
   "source": [
    "# Insert your code here\n",
    "\n",
    "y_predict = X.dot(beta_optimal)\n",
    "print(\"Predicted heights : \",y_predict)\n",
    "\n",
    "\n",
    "print(\"Real heights      : \", y)\n",
    "\n",
    "errors_ = np.abs(y - y_predict)\n",
    "\n",
    "print(\"Erros             : \", errors_)\n",
    "\n",
    "print(\"Average of errors : \", errors_.mean())\n"
   ]
  },
  {
   "cell_type": "code",
   "execution_count": null,
   "metadata": {},
   "outputs": [
    {
     "name": "stdout",
     "output_type": "stream",
     "text": [
      "Predicted heights: \n",
      " [2.16 1.62 1.26]\n",
      "\n",
      " Real heights: \n",
      " [1.88 1.68 1.65]\n",
      "\n",
      " The model makes an average mistake of 0.2433333333333334 metres.\n"
     ]
    }
   ],
   "source": [
    "y_hat = X.dot(beta_optimal)\n",
    "print(\"Predicted heights: \\n\", y_hat)\n",
    "\n",
    "print(\"\\n Real heights: \\n\", y)\n",
    "\n",
    "print(\"\\n The model makes an average mistake of\", np.abs(y - y_hat).mean(), \"metres.\")\n",
    "\n",
    "# The predicted heights are incorrect but approximately very close to the real sizes."
   ]
  }
 ],
 "metadata": {
  "language_info": {
   "name": "python"
  },
  "orig_nbformat": 4
 },
 "nbformat": 4,
 "nbformat_minor": 2
}
