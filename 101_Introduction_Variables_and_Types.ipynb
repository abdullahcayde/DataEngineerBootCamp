{
 "cells": [
  {
   "cell_type": "markdown",
   "id": "8a2032a2-f8f7-4275-88a0-8cd6df2b459d",
   "metadata": {},
   "source": [
    "101 - Python for Data Science"
   ]
  },
  {
   "cell_type": "code",
   "execution_count": null,
   "id": "1633246f-b1ac-46f1-83ae-0e21ce620d7f",
   "metadata": {},
   "outputs": [],
   "source": [
    "https://train.datascientest.com/dashboard"
   ]
  },
  {
   "cell_type": "markdown",
   "id": "1d7a1558-200f-4475-8828-13c525d05928",
   "metadata": {
    "tags": []
   },
   "source": [
    "# Introduction: Variables and Types"
   ]
  },
  {
   "cell_type": "code",
   "execution_count": null,
   "id": "d6be8683-7c76-4326-9a1a-84c8f7bb1cfb",
   "metadata": {},
   "outputs": [],
   "source": [
    "    Python for Data Science\n",
    "Introduction: Variables and Types\n",
    "\n",
    "    Python is a programming language with a readable, efficient and easy to learn syntax. It has become the most used language for Data Science thanks to many libraries such as:\n",
    "\n",
    "            Numpy for scientific computing.\n",
    "\n",
    "            Pandas for data processing and analysis.\n",
    "\n",
    "            Matplotlib for plotting data.\n",
    "\n",
    "            Scikit-learn to train machine learning models.\n",
    "\n",
    "            And many more.\n",
    "\n",
    "    Python is not limited to these packages and has other advantages which are essential to business integration, thus combining very well with web services and databases."
   ]
  },
  {
   "cell_type": "markdown",
   "id": "77419e3c-9b1a-45a5-8d33-a292715e1412",
   "metadata": {},
   "source": [
    "##  Variables"
   ]
  },
  {
   "cell_type": "code",
   "execution_count": null,
   "id": "b42ca596-7c4f-4946-a628-57cc1fac4afd",
   "metadata": {},
   "outputs": [],
   "source": [
    "1. Variables\n",
    "\n",
    "    Variables are used to store the data that we want to manipulate in our programs.\n",
    "\n",
    "    With Python, creating a variable and assigning a value to it are done simultaneously with the following syntax:\n",
    "\n",
    "    a_variable = a_value\n",
    "\n",
    "    This variable is called a_variable and has the value a_value.\n",
    "\n",
    "    A variable can contain different types of values:\n",
    "\n",
    "    # The variable takes the integer value 9\n",
    "    a_variable = 9\n",
    "\n",
    "    # Another variable is created from the value of the previous variable\n",
    "    some_other_variable = a_variable + 4\n",
    "\n",
    "    # A variable can also have as value a character string (for example)\n",
    "    another_variable = \"Hello\"\n",
    "\n",
    "    Whenever we use the = operator on a variable, its old value is overwritten by the new value we want to assign to it.\n",
    "\n",
    "    To display the value of a variable, Python provides the print function:\n",
    "\n",
    "    # Creation of variables\n",
    "    a_variable = 10.5\n",
    "    some_other_variable = a_variable * 3\n",
    "\n",
    "    # Display of the variables\n",
    "    print(a_variable)\n",
    "    >>> 10.5\n",
    "    print(some_other_variable)\n",
    "    >>> 31.5\n",
    "\n",
    "    (a) Create a variable named my_variable and assign it the value 123456789.\n",
    "\n",
    "    (b) Create a variable named my_variable_times_2 whose value will be the double of the value of my_variable. Multiplication is carried out with the character *.\n",
    "\n",
    "    (c) Display both variables.\n"
   ]
  },
  {
   "cell_type": "code",
   "execution_count": null,
   "id": "beef7219-619d-4e94-ab35-76bdfef880cb",
   "metadata": {},
   "outputs": [],
   "source": [
    "# Insert your code here\n",
    "\n",
    "# Creation of the variables\n",
    "my_variable = 123456789\n",
    "my_variable_times_2 = my_variable * 2\n",
    "\n",
    "# Display of the variables\n",
    "print(my_variable)\n",
    "print(my_variable_times_2)"
   ]
  },
  {
   "cell_type": "code",
   "execution_count": null,
   "id": "96e39297-b997-43de-b04a-989ddb578bc6",
   "metadata": {},
   "outputs": [],
   "source": [
    "    Variables can have simple names such as x ory, but also more descriptive names like transactions_customers_2018_2019 or volume_total_sales_2020. To name variables, there are several rules to follow:\n",
    "\n",
    "            The name of a variable must start with a letter or an underscore (_).\n",
    "\n",
    "            The name of a variable cannot start with a number.\n",
    "\n",
    "            The name of a variable can only contain alpha-numeric characters and underscores.\n",
    "\n",
    "            Variable names are case sensitive. a_variable, A_variable and A_VARIABLE are three different variables."
   ]
  },
  {
   "cell_type": "markdown",
   "id": "458876dc-9fa8-4ef3-a8ca-ae589fc3928e",
   "metadata": {},
   "source": [
    "## Lists: Indexation"
   ]
  },
  {
   "cell_type": "code",
   "execution_count": null,
   "id": "d3ad13e3-cd4d-4ddd-9048-bdd6ca7e8dc6",
   "metadata": {},
   "outputs": [],
   "source": [
    "2. Lists: Indexation\n",
    "\n",
    "    A list is a very particular type of variable because it can contain several values and its creation is done with a specific syntax:\n",
    "\n",
    "    a_list = [2, 3.0, \"Hello\"]\n",
    "\n",
    "            This list contains 3 elements: 2, 3.0 and \"Hello\".\n",
    "\n",
    "            The square brackets [ and ] determine the start and the end of the list.\n",
    "\n",
    "            The elements of the list are separated by commas.\n",
    "\n",
    "    To access an element in the list, you must specify its index between square brackets:\n",
    "\n",
    "    # Display the first element of the list\n",
    "    print(a_list[0])\n",
    "    >>> 2\n",
    "\n",
    "    It is also possible to update elements of a list thanks to their index:\n",
    "\n",
    "    # Modification of the 2nd element of the list\n",
    "    a_list[1] = 4\n",
    "\n",
    "    As you may have noticed, the indexation of a list starts at index 0. It is also possible to index the elements in reverse order, this is called negative indexing.\n",
    "\n",
    "\n",
    "\n",
    "\n",
    "\n",
    "    Thus, we can retrieve the last element of a list with the index -1, the second to last element with the index -2 and so on. This is very useful when we have very long lists with an unknown number of elements.\n",
    "\n",
    "    # Modification of the last element of the list\n",
    "    a_list[-1] = 23\n",
    "\n",
    "    (a) Sort the list my_list in ascending order by assigning new values to its elements one by one.\n",
    "\n",
    "    (b) Display my_list.\n",
    "\n"
   ]
  },
  {
   "cell_type": "code",
   "execution_count": 1,
   "id": "2ca8df3f-17d6-4546-a3dd-a86f4f6dbe0f",
   "metadata": {},
   "outputs": [
    {
     "data": {
      "text/plain": [
       "[-3, -1, 2, 3, 4]"
      ]
     },
     "execution_count": 1,
     "metadata": {},
     "output_type": "execute_result"
    }
   ],
   "source": [
    "my_list = [4, -1, 2, -3, 3]\n",
    "\n",
    "# Update the elements of the list\n",
    "my_list[0] = -3\n",
    "my_list[1] = -1\n",
    "my_list[2] = 2\n",
    "my_list[3] = 3\n",
    "my_list[4] = 4 \n",
    "\n",
    "# Display the list\n",
    "my_list"
   ]
  },
  {
   "cell_type": "markdown",
   "id": "2b998358-8cd0-4db6-9c37-cbcd34d48ba9",
   "metadata": {},
   "source": [
    "## Lists: Slicing"
   ]
  },
  {
   "cell_type": "code",
   "execution_count": null,
   "id": "8b516bfb-b3f2-4960-8e01-3b6ef3e06e79",
   "metadata": {},
   "outputs": [],
   "source": [
    "3. Lists: Slicing\n",
    "\n",
    "    Slicing is a special kind of indexation that is used to build new lists out of existing ones.\n",
    "\n",
    "    The use of slicing makes it possible to retrieve a sub-list of elements from a larger list by specifying the start and end indices of the sub-list.\n",
    "\n",
    "    my_list = [1, 5, \"Hello\", -1.4, \"how\", 103, \"are\", \"you\"]\n",
    "\n",
    "    # Retrieve the FIRST 4 elements of my_list\n",
    "    first_elements = my_list[0:4]\n",
    "\n",
    "    # Display these elements\n",
    "    print(first_elements)\n",
    "    >>> [1, 5, \"Hello\", -1.4]\n",
    "\n",
    "    THE ELEMENT AT THE END OF THE SLICING INDEX IS NOT INCLUDED IN THE SUB-LIST. Indeed, my_list[0:4] contains only the elements with indices 0,1, 2 and3.\n",
    "\n",
    "    If the start index is not specified, then the slice will contain all the elements from the start of the list to the end index.\n",
    "\n",
    "    # Retrieve the FIRST 4 elements of my_list\n",
    "    first_elements = my_list[: 4]\n",
    "\n",
    "    Likewise, if the end index is not specified, then the slice will contain all the elements from the start index to the end of the list.\n",
    "\n",
    "    # Retrieve the LAST 3 elements of my_list\n",
    "    last_elements = my_list[-3:]\n",
    "\n",
    "\n",
    "\n",
    "    (a) Display the first 10 elements of the list a_long_list.\n",
    "\n",
    "    (b) Display the last 10 elements of the list a_long_list.\n",
    "\n"
   ]
  },
  {
   "cell_type": "code",
   "execution_count": 3,
   "id": "23cc3a06-86b0-4e56-90e1-87f390c1d9a5",
   "metadata": {},
   "outputs": [
    {
     "data": {
      "text/plain": [
       "[27, -1, 10, -2, -15, -10, 19, 26, 3, 27]"
      ]
     },
     "execution_count": 3,
     "metadata": {},
     "output_type": "execute_result"
    }
   ],
   "source": [
    "a_long_list = [-16, 6, -4, -18, 18, 20, 21, -6, 19, 25, 11,\n",
    "               2, 9, 7, -16, 16, 4, -15, 11, 7, 17, 18, 4,\n",
    "               25, 17, 28, -6, 17, 1, 14, -20, -15, 20, -15,\n",
    "               -8, 8, -19, -11, -20, -16, 3, 3, -10, -5, 10,\n",
    "               24, -1, 1, -10, 6, 10, -6, -14, 25, 8, -11,\n",
    "               -17, -9, 0, 21, 3, 14, 7, 10, 25, 24, -18, -11,\n",
    "               2, 29, 17, -6, 6, -11, 2, -18, 20, -15, -11,\n",
    "               15, -10, 8, -15, 25, -15, 10, 28, -12, 11, 14,\n",
    "               27, -1, 10, -2, -15, -10, 19, 26, 3, 27]\n",
    "\n",
    "# Insert your code here\n",
    "\n",
    "# Display the 10 first elements\n",
    "a_long_list[:10]\n",
    "\n",
    "# Display the last 10 elements\n",
    "a_long_list[-10:]"
   ]
  },
  {
   "cell_type": "markdown",
   "id": "1092b385-212e-46a2-9b60-6b61c1b8148f",
   "metadata": {},
   "source": [
    "##  Lists: Methods"
   ]
  },
  {
   "cell_type": "code",
   "execution_count": null,
   "id": "75003fa4-93b9-4707-b353-de106a1986db",
   "metadata": {},
   "outputs": [],
   "source": [
    "4. Lists: Methods\n",
    "\n",
    "    So far, we have seen how to update the items in a list. In the following, we will see how to add or delete items from a list.\n",
    "\n",
    "    For this, we will use the insert and pop methods.\n",
    "\n",
    "    In Object Oriented Programming, a method is a function specific to a class of objects (the list class in our case).\n",
    "\n",
    "    The pop method of the list class allows us to delete an element from a list at a specified index:\n",
    "\n",
    "    my_list = [1, 5, \"Hello\", -1.4, \"how\", 103, \"are\", \"you\"]\n",
    "\n",
    "    # Delete element at index 4\n",
    "    my_list.pop(4)\n",
    "\n",
    "    # Display the list\n",
    "    print(my_list)\n",
    "    >>> [1, 5, 'Hello', -1.4, 103, 'are', 'you']\n",
    "\n",
    "    The syntax for using an object's method is very specific:\n",
    "\n",
    "            The object calling the method must already exist.\n",
    "\n",
    "            The name of the method must be followed by parentheses containing the arguments of the method. These arguments will modify the method's execution.\n",
    "\n",
    "            The name of the object and the method are separated by a dot ..\n",
    "\n",
    "    The pop method takes only a single argument, the index of the element to remove.\n",
    "\n",
    "    (a) Remove the elements \"Hello\", \"how\", \"are\" and \"you\" from my_list using the pop method. Note that the indices of the elements in the list change once an item has been deleted.\n",
    "\n",
    "    (b) Display my_list.\n",
    "\n"
   ]
  },
  {
   "cell_type": "code",
   "execution_count": 4,
   "id": "d58c6921-280b-4970-ada3-a41509cda9c4",
   "metadata": {},
   "outputs": [
    {
     "data": {
      "text/plain": [
       "[1, 5, -1.4, 103]"
      ]
     },
     "execution_count": 4,
     "metadata": {},
     "output_type": "execute_result"
    }
   ],
   "source": [
    "my_list = [1, 5, \"Hello\", -1.4, \"how\", 103, \"are\", \"you\"]\n",
    "\n",
    "# Insert your code here\n",
    "\n",
    "# Deletion of \"Hello\" which is at the 3rd position (index 2)\n",
    "my_list.pop(2)\n",
    "\n",
    "# Deletion of \"how\" which is at the 4th position (index 3)\n",
    "my_list.pop(3)\n",
    "\n",
    "# Deletion of \"are\" which is at the second to last position\n",
    "my_list.pop(-2)\n",
    "\n",
    "# Deletion of \"you\" which is at the last position\n",
    "my_list.pop(-1)\n",
    "\n",
    "\n",
    "# Display of the list\n",
    "print(my_list)"
   ]
  },
  {
   "cell_type": "code",
   "execution_count": null,
   "id": "8fccc390-ad19-46e6-ad5e-ee9d4784f421",
   "metadata": {},
   "outputs": [],
   "source": [
    "To add a new value to a list, we can use the insert in which 2 arguments are passed:\n",
    "\n",
    "        The first argument is the index where we want to insert the value.\n",
    "\n",
    "        The second argument is the value we want to insert.\n",
    "\n",
    "# Insertion of the value \"Hello\" at index 2\n",
    "my_list.insert(2, \"Hello\")\n",
    "\n",
    "When a method takes several arguments, they must be separated by commas.\n",
    "\n",
    "    (c) Remove all numbers from the my_list list using the pop method.\n",
    "\n",
    "    (d) Insert in my_list the elements \"Bonjour\", \"comment\", \"ça\" and \"va\" at the appropriate indices so that printing my_list displays:\n",
    "\n",
    "[\"Hello\", \"Bonjour\", \"how\", \"comment\", \"are\", \"ça\", \"you\", \"va\"]"
   ]
  },
  {
   "cell_type": "code",
   "execution_count": 9,
   "id": "0e738901-134c-42c6-acc2-94461141b6ae",
   "metadata": {},
   "outputs": [
    {
     "name": "stdout",
     "output_type": "stream",
     "text": [
      "['Hello', 'Bonjour', 'how', 'comment', 'are', 'ça', 'you', 'va']\n"
     ]
    }
   ],
   "source": [
    "my_list = [1, 5, \"Hello\", -1.4, \"how\", 103, \"are\", \"you\"]\n",
    "\n",
    "# Removal of numbers\n",
    "my_list.pop(0)\n",
    "my_list.pop(0)\n",
    "my_list.pop(1)\n",
    "my_list.pop(-3)\n",
    "\n",
    "# Insertion of the elements \"Bonjour\", \"comment\", \"ça\" and \"va\"\n",
    "my_list.insert(1, \"Bonjour\")\n",
    "my_list.insert(3, \"comment\")\n",
    "my_list.insert(5, \"ça\")\n",
    "my_list.insert(7, \"va\")\n",
    "\n",
    "# Display of the list\n",
    "print(my_list)"
   ]
  },
  {
   "cell_type": "code",
   "execution_count": null,
   "id": "b02d1b2b-535c-4245-ad24-4ee233978d1b",
   "metadata": {},
   "outputs": [],
   "source": [
    "It is possible to add an element directly at the end of a list using the append method.\n",
    "\n",
    "# Addition of the element \"Goodbye\" at the end of the list\n",
    "my_list.append(\"Goodbye\")\n",
    "\n",
    "This method is used very often when a list is gradually extended. For example, when we want to store the values taken by a changing variable over time.\n",
    "\n",
    "(e) Launch the following cell to create a variable x of value 0 and a list whose unique element will be x."
   ]
  },
  {
   "cell_type": "code",
   "execution_count": 10,
   "id": "39773e5a-793a-45a7-90fd-772a7abdf447",
   "metadata": {},
   "outputs": [],
   "source": [
    "x = 0\n",
    "a_list = [x]"
   ]
  },
  {
   "cell_type": "code",
   "execution_count": null,
   "id": "9adbae75-0065-47ac-86c2-d95094d09490",
   "metadata": {},
   "outputs": [],
   "source": [
    "We can now modify x and store the new value of x in the list.\n",
    "\n",
    "(f) Run the following cell several times:\n",
    "\n",
    "    The value of x is incremented by 1.\n",
    "\n",
    "    The new value of x is added at the end of the list a_list."
   ]
  },
  {
   "cell_type": "code",
   "execution_count": 13,
   "id": "4883b52c-fbc6-4a26-b303-d0a28b26f981",
   "metadata": {},
   "outputs": [
    {
     "name": "stdout",
     "output_type": "stream",
     "text": [
      "[0, 1, 2, 3]\n"
     ]
    }
   ],
   "source": [
    "x = x + 1\n",
    "a_list.append(x)\n",
    "print(a_list)"
   ]
  },
  {
   "cell_type": "code",
   "execution_count": null,
   "id": "0661d110-8785-4981-9d3a-2cda04cf071e",
   "metadata": {},
   "outputs": [],
   "source": [
    "To merge two lists, we can use the extend method.\n",
    "The argument of the extend method is a list of elements that we want to add to the end of the list calling the method.\n",
    "\n",
    "It is also possible to use the + operator, but it is not recommended as it can add ambiguity to the code\n",
    "when we are not sure whether we are working with numbers or lists."
   ]
  },
  {
   "cell_type": "code",
   "execution_count": 14,
   "id": "a329246d-fa18-4f3e-b805-4f791ecb2c40",
   "metadata": {},
   "outputs": [
    {
     "name": "stdout",
     "output_type": "stream",
     "text": [
      "['Hello', 'how', 'are', 'you', '?', 'Fine', 'and', 'you', '?']\n"
     ]
    }
   ],
   "source": [
    "### Merging 2 lists with the extend method\n",
    "\n",
    "list_1 = [\"Hello\", \"how\", \"are\", \"you\", \"?\"]\n",
    "list_2 = [\"Fine\", \"and\", \"you\", \"?\"]\n",
    "\n",
    "# Merging the elements of list_2 with list_1\n",
    "list_1.extend(list_2)\n",
    "\n",
    "# Display of list_1\n",
    "print(list_1)"
   ]
  },
  {
   "cell_type": "code",
   "execution_count": 15,
   "id": "6888682c-fee6-4645-818a-57ff975c97c5",
   "metadata": {},
   "outputs": [
    {
     "name": "stdout",
     "output_type": "stream",
     "text": [
      "['Hello', 'how', 'are', 'you', '?', 'Fine', 'and', 'you', '?']\n"
     ]
    }
   ],
   "source": [
    "### Merging 2 lists with the + operator\n",
    "\n",
    "list_1 = [\"Hello\", \"how\", \"are\", \"you\", \"?\"]\n",
    "list_2 = [\"Fine\", \"and\", \"you\", \"?\"]\n",
    "\n",
    "# Merging the elements of list_2 with list_1\n",
    "list_1 = list_1 + list_2\n",
    "print(list_1)"
   ]
  },
  {
   "cell_type": "raw",
   "id": "2509217d-68df-422c-ace3-73ed9c1d5da2",
   "metadata": {},
   "source": [
    "The list class contains other methods as well. The methods we have seen so far are summarized in the table below:\n",
    "        Method \tArgument \tDescription\n",
    "        pop \tindex \tRemoves the element from the list located at the specified index\n",
    "        insert \tindex, value \tAdds a new element to the list at the specified index\n",
    "        append \tvalue \tAdds the value at the end of the list\n",
    "        extend \tlist \tMerges the list calling the method with the list in argument\n",
    "\n",
    "All object classes have methods to manipulate them. The notion of object classes and methods will be explored later in your training, but it is the heart of high-level programming with Python."
   ]
  },
  {
   "cell_type": "markdown",
   "id": "35d282d2-3f7c-41ec-9192-7c56f37c57e8",
   "metadata": {},
   "source": [
    "## Tuples"
   ]
  },
  {
   "cell_type": "code",
   "execution_count": null,
   "id": "64203840-04d2-4833-a280-32145a305bae",
   "metadata": {},
   "outputs": [],
   "source": [
    "5. Tuples\n",
    "\n",
    "Tuples are a data structure similar to lists:\n",
    "\n",
    "# Create a tuple\n",
    "a_tuple = (\"Hello\", -1, 133)\n",
    "a_tuple = \"Hello\", -1, 133    # These syntaxes are equivalent\n",
    "\n",
    "# Display the first element of the tuple\n",
    "print(a_tuple[0])\n",
    ">>> Hello\n",
    "\n",
    "# Display the last element of the tuple\n",
    "print(a_tuple[-1])\n",
    ">>> 133\n",
    "\n",
    "        The definition of a tuple is done with or without parentheses.\n",
    "\n",
    "        The indexing of a tuple is identical to that of a list.\n",
    "\n",
    "A very important characteristic of tuples is that they are immutable, i.e. they cannot be modified through indexing.\n",
    "\n",
    "The power of tuples will not be obvious right away, but one of the major strengths of this class is what is called tuple assignment, which allows to assign values to several variables simultaneously:\n",
    "\n",
    "(a) Run the cell below to perform tuple assignment.\n"
   ]
  },
  {
   "cell_type": "code",
   "execution_count": 16,
   "id": "a4ee0446-6150-473f-9682-df17899f931a",
   "metadata": {},
   "outputs": [
    {
     "name": "stdout",
     "output_type": "stream",
     "text": [
      "('Hello', -1, 133)\n",
      "Hello\n",
      "-1\n",
      "133\n"
     ]
    }
   ],
   "source": [
    "a_tuple = \"Hello\", -1, 133\n",
    "print(a_tuple)\n",
    "\n",
    "# Tuple assignment\n",
    "x, y, z = a_tuple\n",
    "\n",
    "print(x)\n",
    "print(y)\n",
    "print(z)"
   ]
  },
  {
   "cell_type": "code",
   "execution_count": null,
   "id": "bd437178-529e-40d1-a0fe-8b94f9aab5f3",
   "metadata": {},
   "outputs": [],
   "source": [
    "The variables x,y and z were created and assigned with values simultaneously. For the tuple assignment to work correctly, there must be as many variables to assign as there are elements in the tuple.\n",
    "\n",
    "Tuple assignment gives an elegant syntactic solution to the problem of exchanging values: We have two variables a and b and we want to exchange their values, that is to say that a must take the value of b and b the value of a.\n",
    "\n",
    "In more classic programming languages, we would have to create a temporary variable which contains one of the values of a or b:\n",
    "\n",
    "# We store the value of a in a temporary variable\n",
    "tmp = a\n",
    "\n",
    "# We overwrite a with the value of b\n",
    "a = b\n",
    "\n",
    "# We overwrite b with the value of the temporary variable\n",
    "b = tmp\n",
    "\n",
    "Thanks to the tuple assignment, this operation can be done in a single line of code:\n",
    "\n",
    "# Exchange of values between a and b\n",
    "a, b = b, a\n",
    "\n"
   ]
  },
  {
   "cell_type": "code",
   "execution_count": 22,
   "id": "0e8a5533-b1f3-4981-adbe-91156c673b7c",
   "metadata": {},
   "outputs": [
    {
     "name": "stdout",
     "output_type": "stream",
     "text": [
      "5\n",
      "10\n"
     ]
    }
   ],
   "source": [
    "a = 10\n",
    "b = 5\n",
    "\n",
    "a, b = b, a\n",
    "\n",
    "print(a)\n",
    "print(b)"
   ]
  },
  {
   "cell_type": "markdown",
   "id": "aff5d288-df27-4c4c-839a-7844a8a5bd5e",
   "metadata": {},
   "source": [
    "## Dictionaries"
   ]
  },
  {
   "cell_type": "code",
   "execution_count": null,
   "id": "326d6049-43ea-4089-b9e0-a537fa361201",
   "metadata": {},
   "outputs": [],
   "source": [
    "6. Dictionaries\n",
    "\n",
    "    Lists and tuples are data structures whose elements are indexed by integers in an orderly fashion.\n",
    "\n",
    "    Dictionaries are a very special data structure because the elements of a dictionary can be indexed freely by numbers, character strings and even tuples.\n",
    "\n",
    "    Dictionaries are very useful for storing information:\n",
    "\n",
    "    # Definition of a dictionary\n",
    "    a_dict = {\"age\": 25,\n",
    "              \"height\": 183,\n",
    "              \"sex\":\"F\",\n",
    "              \"first name\":\"Vanessa\"}\n",
    "\n",
    "    # Display of elements\n",
    "    print(a_dict[\"age\"])\n",
    "    >>> 25\n",
    "\n",
    "    print(a_dict[\"first name\"])\n",
    "    >>> Vanessa\n",
    "\n",
    "            a_dict = {\"age\": 25,  \"height\": 183,  \"sex\":\"F\",  \"first name\":\"Vanessa\"}\n",
    "\n",
    "\n",
    "\n",
    "            The definition of a dictionary is done with curly brackets.\n",
    "\n",
    "            Each element of the dictionary is a key: value pair.\n",
    "\n",
    "            The dictionary information is accessed by using the keys as index between square brackets.\n",
    "\n",
    "    We can summarize the information contained in this dictionary in the following table:\n",
    "                                    Key \tValue\n",
    "                                    \"age\" \t25\n",
    "                                    \"size\" \t183\n",
    "                                    \"sex\" \t\"F\"\n",
    "                                    \"first name\" \t\"Vanessa\"\n",
    "\n",
    "    The syntaxes of dictionary creation and indexing will be used very often when handling databases.\n",
    "\n",
    "    (a) Create and display a dictionary named card_id with the following key-values pairs:\n",
    "\n",
    "                                    Key \tValue\n",
    "                                    \"first name\" \t\"Paul\"\n",
    "                                    \"last name\" \t\"Lefebvre\"\n",
    "                                    \"emission\" \t1978\n",
    "\n",
    "    (b) Overwrite the value associated with the key \"first name\" with the value \"Guillaume\" and display the new dictionary card_id.\n",
    "\n"
   ]
  },
  {
   "cell_type": "code",
   "execution_count": 23,
   "id": "cc51658d-5518-4600-85e0-454efac93167",
   "metadata": {},
   "outputs": [
    {
     "name": "stdout",
     "output_type": "stream",
     "text": [
      "{'first name': 'Paul', 'last name': 'Lefebvre', 'emission': 1978}\n"
     ]
    },
    {
     "data": {
      "text/plain": [
       "{'first name': 'Guillaume', 'last name': 'Lefebvre', 'emission': 1978}"
      ]
     },
     "execution_count": 23,
     "metadata": {},
     "output_type": "execute_result"
    }
   ],
   "source": [
    "# Insert your code here\n",
    "\n",
    "# Definition of the dictionary\n",
    "card_id = {\"first name\" : \"Paul\",\n",
    "           \"last name\" : \"Lefebvre\",\n",
    "           \"emission\" : 1978}\n",
    "\n",
    "print(card_id)\n",
    "\n",
    "# Overwriting a field of the dictionary\n",
    "card_id[\"first name\"] = \"Guillaume\"\n",
    "\n",
    "card_id"
   ]
  },
  {
   "cell_type": "code",
   "execution_count": null,
   "id": "5f60a91d-fad4-4595-99b1-62b94bb307f8",
   "metadata": {},
   "outputs": [],
   "source": [
    "It is possible to add new keys to our dictionary very easily by simply assigning a value to a new key:\n",
    "\n",
    "# Adding a new key to the dictionary\n",
    "a_dict[\"new key\"] = a_value\n",
    "\n",
    "As for lists, it is possible to delete an element using the pop method. Instead of specifying the index to delete, you must enter the key:\n",
    "\n",
    "# Deletion of the key \"a key\"\n",
    "a_dict.pop(\"a key\")\n",
    "\n",
    "(c) Add a new key \"expiration\" to the card_id dictionary by assigning it the value 1993 and display it.\n",
    "\n",
    "(d) How long was this ID card valid for?"
   ]
  },
  {
   "cell_type": "code",
   "execution_count": 26,
   "id": "c8752293-4ef2-425b-b7f0-c34e34c30fa1",
   "metadata": {},
   "outputs": [
    {
     "name": "stdout",
     "output_type": "stream",
     "text": [
      "{'first name': 'Guillaume', 'last name': 'Lefebvre', 'emission': 1978, 'expiration': 1993}\n",
      " This Id card is valid for 15 years.\n"
     ]
    }
   ],
   "source": [
    "# Insert your code here\n",
    "\n",
    "# (c) Adding a new key to the dictionnary of a new key\n",
    "card_id[\"expiration\"] = 1993\n",
    "\n",
    "print(card_id)\n",
    "\n",
    "# (d) How long was this ID card valid for?\n",
    "print(f\" This Id card is valid for {card_id['expiration'] - card_id['emission']} years.\")"
   ]
  },
  {
   "cell_type": "markdown",
   "id": "48f26a97-6bfb-4220-8c17-08f471f7d66a",
   "metadata": {},
   "source": [
    "## Conclusion"
   ]
  },
  {
   "cell_type": "code",
   "execution_count": null,
   "id": "2fd61850-578d-41a5-918a-b4a0e18780e5",
   "metadata": {},
   "outputs": [],
   "source": [
    "7. Conclusion\n",
    "\n",
    "    Lists, tuples and dictionaries are indexable variables that can contain many different elements.\n",
    "\n",
    "    In this introductory notebook, we learned how to manipulate them and the syntax we used will be the same for all indexable objects that we will use later such as databases.\n",
    "\n",
    "        Access to the elements of an indexable variable is done via square brackets [] by entering:\n",
    "\n",
    "                For lists and tuples the positional index of a value. The indices of a list or a tuple always start from 0. It is also possible to access several indices by slicing.\n",
    "                For dictionaries: the key.\n",
    "\n",
    "    Each indexable type has its specific symbol for its creation:\n",
    "\n",
    "            For a list, we use square brackets: []\n",
    "\n",
    "            For a tuple, the parentheses: () (or nothing)\n",
    "\n",
    "            For a dictionary, the braces: {}\n",
    "\n",
    "    All of these types are in fact classes of objects. It is possible to interact with these classes with more possibilities thanks to their methods.\n",
    "\n",
    "    We have seen some methods of the list class to access additional features:\n",
    "    Method \tArgument \tDescription\n",
    "    pop \tindex \tRemoves the element from the list located at the specified index\n",
    "    insert \tindex, value \tAdds a new element to the list at the specified index\n",
    "    append \tvalue \tAdds the value at the end of the list\n",
    "    extend \tlist \tMerges the list calling the method with the list in argument\n",
    "\n",
    "    In the next notebook, you will learn about Python operators.\n",
    "\n"
   ]
  },
  {
   "cell_type": "markdown",
   "id": "c27d0e8c-8e63-4e2b-849b-a5ef41ae6141",
   "metadata": {
    "tags": []
   },
   "source": [
    "# Operators and Control Structures "
   ]
  },
  {
   "cell_type": "code",
   "execution_count": null,
   "id": "d3895d28-057e-48c0-b5ea-34a50ee08ad6",
   "metadata": {},
   "outputs": [],
   "source": [
    "Introduction\n",
    "\n",
    "    Operators such as + or = are used to perform operations on variables and on their values. These operators belong to the large family of Python operators. In this exercise, we will learn how to handle the following categories of operators:\n",
    "\n",
    "            Arithmetic operators.\n",
    "\n",
    "            Assignment operators.\n",
    "\n",
    "            Comparison operators.\n",
    "\n",
    "            Membership operators.\n",
    "\n",
    "            Logical operators.\n",
    "\n",
    "    We will then see how to use these operators to control the execution of code using the if, else and elif statements."
   ]
  },
  {
   "cell_type": "markdown",
   "id": "1391d119-2dbf-4869-9470-20951787e33d",
   "metadata": {},
   "source": [
    "## Arithmetic Operators"
   ]
  },
  {
   "cell_type": "code",
   "execution_count": null,
   "id": "ecb9ebcb-ce0a-421e-8f73-e9be948a64e9",
   "metadata": {},
   "outputs": [],
   "source": [
    "1. Arithmetic Operators\n",
    "\n",
    "    The arithmetic operators applicable to numeric variables are as follows:\n",
    "    Symbol \tOperation \tExample\n",
    "    + \tAddition \t6+4 returns10\n",
    "    - \tSubtraction \t6-4 returns2\n",
    "    * \tMultiplication \t6*4 returns24\n",
    "    / \tReal division \t6 / 4 returns1.5\n",
    "    // \tFloor division \t6.0 // 4 returns1\n",
    "    ** \tExponentiation \t6 ** 4 returns1296\n",
    "    % \tModulus \t6 % 4 returns2\n",
    "\n",
    "    Integer or Floor division // reflects how many times the number on the right can fully divide the number on the left. For example, 7 // 2 is equal to 3 because 2 can fit in 7 three times.\n",
    "\n",
    "    The modulus operator % computes the remainder of the floor division between 2 numbers. For example, 7 % 2 is 1 because 7 is divisible by 2 three times and what remains is 1.\n",
    "\n",
    "    The % operator is used to determine whether a number is odd or even. Indeed, if a number n is even, then necessarily n% 2 is equal to 0. Similarly, if n is odd, thenn% 2 is equal to 1.\n",
    "\n",
    "    (a) Create the variable distance and assign it the value 750 (distance between Paris and Marseille in km).\n",
    "\n",
    "    (b) Create the variable speed and assign it the value 4.8 (average speed of a walker in km/h).\n",
    "\n",
    "    (c) Create a new variable time which is the division of distance by speed.\n",
    "\n",
    "    The variable time gives us the time in hours that it would take for a walker to travel from Paris to Marseille without stopping.\n",
    "\n",
    "    (d) How many days and hours would it take for our walker to go from Paris to Marseille without stopping? \n",
    "    Your response should be displayed in the form \"The walker would need __ days and __ hours.\".\n"
   ]
  },
  {
   "cell_type": "code",
   "execution_count": 29,
   "id": "cdc9149b-946c-4c94-984d-0cf62a67c05f",
   "metadata": {},
   "outputs": [
    {
     "name": "stdout",
     "output_type": "stream",
     "text": [
      "The walker would need 6.0 days and 12.25 hours.\n"
     ]
    }
   ],
   "source": [
    "# Insert your code here\n",
    "\n",
    "# (a) \n",
    "distance = 750\n",
    "speed = 4.8\n",
    "\n",
    "time = distance / speed\n",
    "\n",
    "day = time // 24 \n",
    "\n",
    "hours = time % 24\n",
    "\n",
    "print(f\"The walker would need {day} days and {hours} hours.\")"
   ]
  },
  {
   "cell_type": "markdown",
   "id": "61d65ee4-3237-4165-9627-308147e484dd",
   "metadata": {},
   "source": [
    "## Assignment Operators"
   ]
  },
  {
   "cell_type": "code",
   "execution_count": null,
   "id": "1d35b9d6-55aa-4b38-be9d-d1689b7b22ab",
   "metadata": {},
   "outputs": [],
   "source": [
    "2. Assignment Operators\n",
    "\n",
    "    For all arithmetic operations, such as addition or multiplication, there is a way to apply both the operation and assignment at once through the operators '+=' or '*=' for example.\n",
    "    Symbol \tOperation\n",
    "    += \tAddition\n",
    "    -= \tSubtraction\n",
    "    *= \tMultiplication\n",
    "    /= \tReal division\n",
    "    //= \tFloor division\n",
    "    **= \tExponentiation\n",
    "    %= \tModulus\n",
    "\n",
    "    So x += 3 is equivalent to x = x + 3. Similarly, z**= 2 is equivalent to writing z = z**2.\n",
    "\n",
    "    A magician claims that for any prime number different from 2 and 3, if:\n",
    "\n",
    "        We square it.\n",
    "        We add 17 to it.\n",
    "        We divide it by 12 and we keep the remainder of this division, then the remainder of this division is 6.\n",
    "\n",
    "    (a) Is he right?\n",
    "\n",
    "Remember that a prime number is a number which is only divisible by 1 or itself. The 10 smallest prime numbers other than 2 and 3 are 5, 7, 11, 13, 17, 19, 23, 29, 31, 37.\n"
   ]
  },
  {
   "cell_type": "code",
   "execution_count": 44,
   "id": "872e9696-1109-4617-86e6-0da45d6df49c",
   "metadata": {},
   "outputs": [
    {
     "name": "stdout",
     "output_type": "stream",
     "text": [
      "6\n",
      "6\n",
      "6\n",
      "6\n",
      "6\n",
      "6\n",
      "6\n",
      "6\n",
      "6\n",
      "6\n",
      "The Magician is right 6\n"
     ]
    }
   ],
   "source": [
    "prime_numbers = [5, 7, 11, 13, 17, 19, 23, 29, 31, 37]\n",
    "x = prime_numbers[0]\n",
    "\n",
    "# Insert your code here\n",
    "for x in prime_numbers: \n",
    "    x **= 2\n",
    "    x += 17\n",
    "    x %= 12\n",
    "    print(x)\n",
    "\n",
    "### Solution from Code\n",
    "x = prime_numbers[0]\n",
    "# We square x\n",
    "x **= 2\n",
    "\n",
    "# We add 17 to x\n",
    "x += 17\n",
    "\n",
    "# We keep the remainder of the floor division of x by 12\n",
    "x %= 12\n",
    "\n",
    "print('The Magician is right = ', x)\n",
    "# The magician is right"
   ]
  },
  {
   "cell_type": "markdown",
   "id": "b5c663ee-7303-403b-b036-e73ea99a2382",
   "metadata": {},
   "source": [
    "## Comparison Operators"
   ]
  },
  {
   "cell_type": "code",
   "execution_count": null,
   "id": "d3f26ec8-6131-4d4a-a83f-bff27b7862ef",
   "metadata": {},
   "outputs": [],
   "source": [
    "3. Comparison Operators\n",
    "\n",
    "    The comparison operators allow you to compare the values of two variables. Comparison operations return the Boolean value True if the expression is true, or False if it turns out to be false. For example:\n",
    "\n",
    "    x, y = 3, 5\n",
    "\n",
    "    # Is x smaller than y?\n",
    "    print (x < y)\n",
    "    >>> True\n",
    "\n",
    "    Python's comparison operators are:\n",
    "    Expression \tExample \tMeaning\n",
    "    < \tx < y \tIs x less than y?\n",
    "    <= \tx <= y \tIs x lesser or equal to y?\n",
    "    > \tx > y \tIs x greater than y?\n",
    "    >= \tx >= y \tIs x greater or equal to y?\n",
    "    == \tx == y \tIs x equal to y?\n",
    "    != \tx != y \tIs x different from y?\n",
    "\n",
    "    Important Example:\n",
    "\n",
    "    x, y = 3, 5\n",
    "\n",
    "    # Is x equal to y?\n",
    "    print (x == y)\n",
    "    >>> False\n",
    "\n",
    "    YOU MUST NOT CONFUSE x == y withx = y. The first instruction is a comparison operation while the second one is an assignment.\n",
    "\n",
    "    (a) In a single line of code, determine with a boolean value if 7\n",
    "\n",
    "divides 3^7+2^14\n",
    "\n",
    "    .\n",
    "\n",
    "As on a calculator, you can use parentheses to set operation priorities.\n",
    "\n",
    "    (b) Now determine if 7 divides 3^(2𝑛+1)+2^(4𝑛+2) for 𝑛=4,5 and 10."
   ]
  },
  {
   "cell_type": "code",
   "execution_count": 47,
   "id": "e019c9e3-c156-40f9-81c3-1000f7597c7d",
   "metadata": {},
   "outputs": [
    {
     "name": "stdout",
     "output_type": "stream",
     "text": [
      "True\n",
      "True 4\n",
      "True 5\n",
      "True 10\n"
     ]
    }
   ],
   "source": [
    "# Insert your code here\n",
    "\n",
    "# a)\n",
    "print((3**7+2**14) % 7 == 0)\n",
    "\n",
    "# b)\n",
    "a_list = [4, 5, 10]\n",
    "for n in a_list:\n",
    "    print((3**(2*n+1)+2**(4*n+2)) % 7 == 0 , n)"
   ]
  },
  {
   "cell_type": "markdown",
   "id": "b582805f-9bde-4f20-b91c-b336ee662d0c",
   "metadata": {},
   "source": [
    "## Membership Operators"
   ]
  },
  {
   "cell_type": "code",
   "execution_count": null,
   "id": "4ac9ec64-5f43-4fad-a4cc-7e0989846b1a",
   "metadata": {},
   "outputs": [],
   "source": [
    "4. Membership Operators\n",
    "\n",
    "    Membership operators are used to test whether a value is absent or present in a sequence such as a list or a tuple. The operator which determines whether a value is present in a sequence is the operator in and the operator which determines whether a value is absent is not in:\n",
    "\n",
    "    a_list = [1, 3, 102, 32, 11, -12, 33]\n",
    "    x = 14\n",
    "\n",
    "    # Is the value of x one of the values in a_list?\n",
    "    print (x in a_list)\n",
    "    >>> False\n",
    "\n",
    "    # Is the value of x NOT one of the values in a_list?\n",
    "    print (x not in a_list)\n",
    "    >>> True\n",
    "\n",
    "The variable excerpt contains an excerpt from the Wikipedia article on the FIFA World Cup as a list of words.\n",
    "\n",
    "    (a) Launch the following cell to instantiate the variable excerpt."
   ]
  },
  {
   "cell_type": "code",
   "execution_count": 48,
   "id": "7559f358-5024-4d3a-82d6-fecb646c8e0e",
   "metadata": {},
   "outputs": [],
   "source": [
    "excerpt = ['The', '21', 'World', 'Cup', 'tournaments', 'have', 'been', 'won', 'by', 'eight',\n",
    "           'national', 'teams.', 'Brazil', 'have', 'won', 'five', 'times', ',', 'and',\n",
    "           'they', 'are', 'the', 'only', 'team', 'to', 'have', 'played', 'in', 'every',\n",
    "           'tournament', '.', 'The', 'other', 'World', 'Cup', 'winners', 'are', 'Germany',\n",
    "           'and', 'Italy', ',', 'with', 'four', 'titles', 'each', ';', 'Argentina', ',',\n",
    "           'France', ',', 'and', 'inaugural', 'winner', 'Uruguay,', 'with', 'two', 'titles',\n",
    "           'each', ';and', 'England', 'and', 'Spain', ',', 'with', 'one', 'title', 'each', '.']"
   ]
  },
  {
   "cell_type": "code",
   "execution_count": null,
   "id": "1eca9932-2f7e-4671-8f77-baf3982ca67d",
   "metadata": {},
   "outputs": [],
   "source": [
    "    (b) In a single line of code, determine whether the country of \"France\" is mentioned in this excerpt.\n",
    "\n",
    "    (c) Unfortunately, losers are quickly forgotten even if their performance was historic. Check that the country of \"Croatia\" is not mentioned in the excerpt."
   ]
  },
  {
   "cell_type": "code",
   "execution_count": 50,
   "id": "5c25b35b-be42-4900-aab5-3c86a92ee36b",
   "metadata": {},
   "outputs": [
    {
     "name": "stdout",
     "output_type": "stream",
     "text": [
      "True\n",
      "True\n"
     ]
    }
   ],
   "source": [
    "# b)\n",
    "print(\"France\" in excerpt)\n",
    "\n",
    "# c)\n",
    "print(\"Croatia\" not in excerpt)"
   ]
  },
  {
   "cell_type": "markdown",
   "id": "c174836b-d5a1-4a46-ba95-372e05f63c1c",
   "metadata": {},
   "source": [
    "## Logical Operators"
   ]
  },
  {
   "cell_type": "code",
   "execution_count": null,
   "id": "21ad0f50-82ef-414c-9082-e9a0409bdfd8",
   "metadata": {},
   "outputs": [],
   "source": [
    "5. Logical Operators\n",
    "\n",
    "    Logical operators allow you to perform what is called Boolean arithmetic. Typically, when we have multiple Boolean expressions, logical operators are used to determine whether:\n",
    "\n",
    "            All expressions are true.\n",
    "\n",
    "            At least one of the expressions is true.\n",
    "\n",
    "    x, y = 3, 5\n",
    "\n",
    "    # Is 3 less than 5? True\n",
    "    expression1 = (x < y)\n",
    "\n",
    "    # Is 5 divisible by 3? False\n",
    "    expression2 = (y % x == 0)\n",
    "\n",
    "    # Are both expressions true?\n",
    "    print(expression1 and expression2)\n",
    "    >>> False\n",
    "\n",
    "    # Is at least one of the expressions true?\n",
    "    print (expression1 or expression2)\n",
    "    >>> True\n",
    "\n",
    "    The operator not returns the negation of a boolean expression:\n",
    "\n",
    "    x, y = 3, 5\n",
    "\n",
    "    expression = (y % x == 0)\n",
    "\n",
    "    # Is y divisible by x?\n",
    "    print(expression)\n",
    "    >>> False\n",
    "\n",
    "    > # Is y NOT divisible by x?\n",
    "    print(not expression)\n",
    "    >>> True\n",
    "\n",
    "    The logical operators are summarized below:\n",
    "    Operator \tExample \tMeaning\n",
    "    and \tP and Q \tAre P and Q both true?\n",
    "    or \tP or Q \tIs at least one of the expressions among P and Q true?\n",
    "    not \tnot P \tThe negation of the expression P\n",
    "\n",
    "The government has decided to offer a bonus of €300 to some civil servants according to their salary and seniority. Like all other measures taken by the government, it is difficult to understand to whom it applies.\n",
    "\n",
    "From what you understand, a person can receive the bonus if:\n",
    "\n",
    "    Criterion 1: They have less than 5 years of seniority and their salary is less than 1500€.\n",
    "\n",
    "    Criterion 2: They have between 5 and 10 years of seniority and their salary is between 1500€ and 2300€.\n",
    "\n",
    "    Criterion 3: They have more than 10 years of seniority and their salary is less than 1500€ or greater than 2300€. That is to say that a person with more than 10 years of seniority and a salary between 1500 and 2300 euros cannot receive the bonus.\n",
    "\n",
    "Bernadette has 12 years of seniority and a salary of 2400 euros.\n",
    "\n",
    "Marc has 6 years of seniority and a salary of 1490€.\n",
    "\n",
    "    (a) Using the same logical expressions, determine whom between Bernadette and Marc can earn this bonus. For this you can:\n",
    "\n",
    "            Create two variables seniority and salary.\n",
    "            Evaluate the 3 decision criteria from the variables seniority and salary.\n",
    "            Check if at least one of the criteria is satisfied.\n",
    "\n",
    "To test whether a value x is between two values a andb, you can either:\n",
    "\n",
    "        Make two comparisons in two expressions and use a logical AND: x > a and x < b\n",
    "\n",
    "        Make two comparisons in a single expression: a < x < b\n",
    "\n"
   ]
  },
  {
   "cell_type": "code",
   "execution_count": 51,
   "id": "d0c80d01-ad62-420f-88d1-aa4dacad1682",
   "metadata": {},
   "outputs": [
    {
     "name": "stdout",
     "output_type": "stream",
     "text": [
      "Can Bernadette receive the bonus? True\n",
      "Can Marc receive the bonus? False\n"
     ]
    }
   ],
   "source": [
    "# Bernadette\n",
    "seniority = 12\n",
    "salary = 2400\n",
    "\n",
    "# Does Bernadette have less than 5 years of seniority and is her salary is less than 1500€?\n",
    "criterion1 = seniority < 5 and salary < 1500\n",
    "\n",
    "# Does Bernadette have between 5 and 10 years of seniority and is her salary between 1500€ and 2300€?\n",
    "criterion2 = (5 <= seniority <= 10) and (1500 <= salary <= 2300)\n",
    "\n",
    "# Does Bernadette have more than 10 years of seniority and is her salary less than 1500€ or higher than 2300€?\n",
    "criterion3 = (seniority > 10) and (1500 > salary or salary > 2300)\n",
    "\n",
    "# Can Bernadette receive the bonus?\n",
    "print (\"Can Bernadette receive the bonus?\", criterion1 or criterion2 or criterion3)\n",
    "\n",
    "\n",
    "# Marc\n",
    "seniority = 6\n",
    "salary = 1490\n",
    "\n",
    "# Does Marc have less than 5 years of seniority and is his salary is less than 1500€?\n",
    "criterion1 = seniority < 5 and salary < 1500\n",
    "\n",
    "# Does Marc have between 5 and 10 years of seniority and is his salary between 1500€ and 2300€?\n",
    "criterion2 = (5 <= seniority <= 10) and (1500 <= salary <= 2300)\n",
    "\n",
    "# Does Marc have more than 10 years of seniority and is his salary less than 1500€ or highis than 2300€?\n",
    "criterion3 = (seniority > 10) and (1500 > salary or salary > 2300)\n",
    "\n",
    "# Can Marc receive the bonus?\n",
    "print (\"Can Marc receive the bonus?\", criterion1 or criterion2 or criterion3)"
   ]
  },
  {
   "cell_type": "code",
   "execution_count": 60,
   "id": "b9aa9760-f6f1-4273-a9a8-885dda23b077",
   "metadata": {},
   "outputs": [
    {
     "name": "stdout",
     "output_type": "stream",
     "text": [
      "Can Bernadette receive the bonus? True\n",
      "Can Marc receive the bonus? False\n"
     ]
    }
   ],
   "source": [
    "list_name = [\"Bernadette\", \"Marc\"]\n",
    "list_seniority = [12, 6]\n",
    "list_salary = [2400, 1490]\n",
    "\n",
    "for i,j,k in zip(list_seniority, list_salary, list_name):\n",
    "    criterion1 = i < 5 and j < 1500\n",
    "    criterion2 = (5 <= i <= 10) and (1500 <= j <= 2300)\n",
    "    criterion3 = (i > 10) and (1500 > j or j > 2300)\n",
    "    print(\"Can\", k,  \"receive the bonus?\", criterion1 or criterion2 or criterion3)"
   ]
  },
  {
   "cell_type": "markdown",
   "id": "a02cfd9f-5069-4294-8831-09820ddf5b37",
   "metadata": {},
   "source": [
    "## Control Structures"
   ]
  },
  {
   "cell_type": "code",
   "execution_count": null,
   "id": "70fa7056-eaa6-4b78-aa53-130a9d329236",
   "metadata": {},
   "outputs": [],
   "source": [
    "6. Control Structures\n",
    "\n",
    "    It is often useful to choose whether a block of code should be executed or not.\n",
    "\n",
    "    For example, if you want to automatically credit the account of civil servants eligible for the government bonus, the variables containing their balances must be updated only for civil servants who are eligible for the bonus.\n",
    "\n",
    "    Control structures are used to execute a block of instructions under conditions. The two main keywords used to condition instructions are:\n",
    "\n",
    "            If\n",
    "\n",
    "            else\n",
    "\n",
    "    Suppose the eligible variable is a Boolean variable (i.e. of value True orFalse) telling us whether a civil servant is eligible for the bonus and suppose that the variable balance corresponds to the amount of money they have in their account.\n",
    "\n",
    "    In order to credit the account of civil servants eligible for the bonus, we can structure our code as follows:\n",
    "\n",
    "    # Is the civil servant eligible for the bonus?\n",
    "    if eligible == True:\n",
    "        # If so, we increase their balance by 300 euros\n",
    "        balance += 300\n",
    "\n",
    "    Following numerous complaints, the government will still offer a bonus of 50€ to employees who were not eligible for the 300€ bonus.\n",
    "\n",
    "    In order to credit these people's account, we will add an else statement to our program, whose associated instructions will execute only if eligible is equal to False:\n",
    "\n",
    "    # Is the civil servant eligible for the bonus?\n",
    "    if eligible == True:\n",
    "        # If so, we increase their balance by 300 euros\n",
    "        balance += 300\n",
    "    else:\n",
    "        # Otherwise, we only increase their balance by 50 euros\n",
    "        balance += 50\n",
    "\n",
    "    The : character after an if or else statement allows to start a block of code. In order to determine the start and the end of a block, the instructions which will be executed in a block must be indented, that is to say shifted by one tabulation or 4 spaces:\n",
    "\n",
    "\n",
    "    An unscrupulous teacher wants to generate student reviews automatically based on their grade. To do this, they can test several conditions one after the other using elif statements (contraction of else and if):\n",
    "\n",
    "    if grade < 5:\n",
    "        print(\"Very insufficient work.\")\n",
    "    elif grade < 10:\n",
    "        print(\"Could do better.\")\n",
    "    elif grade < 15:\n",
    "        print(\"Good work. I encourage you to keep it up.\")\n",
    "    else:\n",
    "        print(\"Excellent work. Congratulations.\")\n",
    "\n",
    "    (a) Rewrite the following code using only an if statement, an elif statement and an else statement.\n",
    "\n",
    "if number >= 0:\n",
    "    if number == 0:\n",
    "        print(\"This number is 0.\")\n",
    "    else:\n",
    "        print(\"This number is positive.\")\n",
    "else:\n",
    "    print(\"This number is negative.\")"
   ]
  },
  {
   "cell_type": "code",
   "execution_count": 66,
   "id": "590fb9ba-1092-4faa-8bb4-e7116a8a98ff",
   "metadata": {},
   "outputs": [
    {
     "name": "stdout",
     "output_type": "stream",
     "text": [
      "This number is negative.\n"
     ]
    }
   ],
   "source": [
    "number = -100\n",
    "\n",
    "# Insert your code here\n",
    "if size < 160:\n",
    "    print(\"This person is small.\")\n",
    "elif 160 <= size < 180:\n",
    "    print(\"This person is of medium height.\")\n",
    "elif 180 <= size < 200:\n",
    "    print(\"This person is very tall\")\n",
    "else:\n",
    "    print(\"This person is very, very tall\")"
   ]
  },
  {
   "cell_type": "markdown",
   "id": "c1282a57-aafc-4fea-8832-4614804187c9",
   "metadata": {},
   "source": [
    "## Bonus: Conditional assignment"
   ]
  },
  {
   "cell_type": "code",
   "execution_count": null,
   "id": "c91ad100-a32d-436b-8562-ad27453ee1e2",
   "metadata": {},
   "outputs": [],
   "source": [
    "7. Bonus: Conditional assignment\n",
    "\n",
    "    Our teacher now wants to automatically determine if a pupil is repeating or moving up to the next year. Depending on a student's average grade, the Boolean variable repeating must take the valueTrue if the student's average is less than 10 and False otherwise.\n",
    "\n",
    "    As seen previously, we could use if and else statements:\n",
    "\n",
    "    if average < 10:\n",
    "        repeating = True\n",
    "    else:\n",
    "        repeating = False\n",
    "\n",
    "    Python allows us to do this operation in one line thanks to a compact and elegant syntax:\n",
    "\n",
    "    redouble = True if average < 10 else False\n",
    "\n",
    "    This syntax is strictly equivalent to the previous syntax.\n"
   ]
  },
  {
   "cell_type": "markdown",
   "id": "db46850a-bd8a-46da-b44a-968841d7271c",
   "metadata": {},
   "source": [
    "## Conclusion and Recap"
   ]
  },
  {
   "cell_type": "code",
   "execution_count": null,
   "id": "1d0f7f5b-d8e9-4784-96d5-e8406efcbaad",
   "metadata": {},
   "outputs": [],
   "source": [
    "8. Conclusion and Recap\n",
    "\n",
    "    The arithmetic operators applicable to numeric type variables are used to perform elementary operations and are summarized below:\n",
    "    Symbol \tOperation \tExample\n",
    "    + \tAddition \t6+4 returns10\n",
    "    - \tSubtraction \t6-4 returns2\n",
    "    * \tMultiplication \t6*4 returns24\n",
    "    / \tReal division \t6 / 4 returns1.5\n",
    "    // \tFloor division \t6.0 // 4 returns1\n",
    "    ** \tExponentiation \t6**4 returns1296\n",
    "    % \tModulus \t6 % 4 returns 2\n",
    "\n",
    "    For all arithmetic operations, there is a way to apply the operation and assignment all at once through the following assignment operators:\n",
    "    Symbol \tOperation\n",
    "    += \tAddition\n",
    "    -= \tSubtraction\n",
    "    *= \tMultiplication\n",
    "    /= \tReal division\n",
    "    //= \tFloor division\n",
    "    **= \tExponentiation\n",
    "    %= \tModulus\n",
    "\n",
    "    Example: x + = 10 is equivalent tox = x + 10.\n",
    "\n",
    "    The comparison operators in Python are:\n",
    "    Expression \tExample \tMeaning\n",
    "    < \tx < y \tIs x less than y?\n",
    "    <= \tx <= y \tIs x lesser or equal to y?\n",
    "    > \tx > y \tIs x greater than y?\n",
    "    >= \tx >= y \tIs x greater or equal to y?\n",
    "    == \tx == y \tIs x equal to y?\n",
    "    != \tx != y \tIs x different from y?\n",
    "\n",
    "    These operators are mainly used to build control structures thanks to the if, else and elif statements:\n",
    "\n",
    "    if size < 160:\n",
    "        print (\"This person is small.\")\n",
    "    elif 160 <= size <180:\n",
    "        print (\"This person is of medium height.\")\n",
    "    elif 180 <= size <200:\n",
    "        print (\"This person is very tall.\")\n",
    "    else:\n",
    "        print (\"This person is very, very tall.\")\n",
    "\n",
    "    Logical operators allow you to build more complex conditions:\n",
    "    Operator \tExample \tMeaning\n",
    "    and \tP and Q \tAre P and Q both true?\n",
    "    or \tP or Q \tIs at least one of the expressions among P and Q true?\n",
    "    not \tnot P \tThe negation of the expression P\n",
    "\n",
    "    if (seniority > 10) and (1500 < salary or salary > 2300):\n",
    "       print(\"This person is eligible for the bonus.\")"
   ]
  },
  {
   "cell_type": "markdown",
   "id": "d6c8b9ec-3129-46ae-901f-36f54f0a7b96",
   "metadata": {},
   "source": [
    "# Loops"
   ]
  },
  {
   "cell_type": "code",
   "execution_count": null,
   "id": "f79cdee0-a0d4-4d49-bfe6-de4ede26469d",
   "metadata": {},
   "outputs": [],
   "source": [
    "When building an algorithm, it often happens that we need to repeat the same lines of code several times. \n",
    "To this end, it is necessary to use loops, which will perform a series of operations as many times as necessary.\n",
    "\n",
    "There are two types of loops in Python: The for and while loops."
   ]
  },
  {
   "cell_type": "markdown",
   "id": "b66225ea-0970-482d-a92e-d58c2f371677",
   "metadata": {},
   "source": [
    "## The while loop"
   ]
  },
  {
   "cell_type": "code",
   "execution_count": null,
   "id": "4ab74614-a418-4de0-b017-7aa899434af4",
   "metadata": {},
   "outputs": [],
   "source": [
    "1. The while loop\n",
    "\n",
    "The while loop allows you to repeat a block of instructions as long as the starting condition is true.\n",
    "\n",
    "For example, to determine the index of the word \"found\" in a list of words, you can iterate over all the indices in the list until you find the character string \"found\":\n",
    "\n",
    "# The wordlist in which we want to find the word \"found\".\n",
    "sentence = ['The', 'while', 'loop', 'browses', 'all', 'the',\n",
    "            'elements', 'from', 'the', 'list', \"until\", 'it',\n",
    "            'has', 'found', 'what', 'it', 'seeks', '.']\n",
    "\n",
    "# The variable i will store the starting index\n",
    "i = 0\n",
    "\n",
    "# As long as the word at the index where we are is different from \"found\"\n",
    "while sentence[i] != \"found\":\n",
    "    # We increase the value of i by 1 to go to the next index\n",
    "    i + = 1\n",
    "\n",
    "# The loop stops when we find the right word\n",
    "print (\"The word 'found' is at the index\", i)\n",
    ">>> The word 'found' is at the index 13\n",
    "\n",
    "The general structure of a while loop is as follows:\n",
    "\n",
    "while condition == True:\n",
    "    instruction1\n",
    "    ...\n",
    "    instructionN\n",
    "\n",
    "an_other_instruction\n",
    "\n",
    "At each iteration of the while loop, the condition is evaluated. If the condition is true, the instruction block is executed, otherwise the loop ends.\n",
    "\n",
    "Lines outside the instruction block are not part of the loop, so they are only executed once the loop is complete.\n",
    "\n",
    "If the condition is false from the start, the instruction block is never executed.\n",
    "\n",
    "Conversely, if the condition is always true, the instruction block is executed indefinitely. It is therefore important to ensure that the loop will end before executing it.\n",
    "\n",
    "    (a) Instantiate a variable i with the value 1.\n",
    "\n",
    "    (b) Using a while loop, display the first 10 natural integers.\n",
    "\n",
    "If you accidentally launch an infinite loop, you can interrupt its execution using the buttons at the bottom left of your screen:"
   ]
  },
  {
   "cell_type": "code",
   "execution_count": 1,
   "id": "a84e57a3-974a-49fd-a3c3-69952aab472c",
   "metadata": {},
   "outputs": [
    {
     "name": "stdout",
     "output_type": "stream",
     "text": [
      "0\n",
      "1\n",
      "2\n",
      "3\n",
      "4\n",
      "5\n",
      "6\n",
      "7\n",
      "8\n",
      "9\n",
      "10\n"
     ]
    }
   ],
   "source": [
    "# Insert your code here\n",
    "i = 1 \n",
    "\n",
    "while i < 12:\n",
    "    print(i - 1)\n",
    "    i += 1"
   ]
  },
  {
   "cell_type": "code",
   "execution_count": null,
   "id": "856efec4-6d91-4c2c-a42a-19955c747e82",
   "metadata": {},
   "outputs": [],
   "source": [
    "We have a list of times performed by athletes in a 100m race. The results are sorted in ascending order.\n",
    "\n",
    "(c) Using a while loop, determine how many athletes achieved a time lesser than 10s."
   ]
  },
  {
   "cell_type": "code",
   "execution_count": 7,
   "id": "4815fa9d-4708-495e-a265-911efc4db50a",
   "metadata": {},
   "outputs": [
    {
     "name": "stdout",
     "output_type": "stream",
     "text": [
      "10\n",
      "The number of athletes with a time less than 10s is 10\n"
     ]
    }
   ],
   "source": [
    "results = [9.81, 9.89, 9.91, 9.93, 9.94, 9.95, 9.96, 9.97, 9.98, 10.03, 9.98, 10.04, 10.05, 10.06, 10.08, 10.11, 10.23]\n",
    "\n",
    "# Insert your code here\n",
    "i = 0\n",
    "n = 0\n",
    "while i<len(results):\n",
    "    if results[i]<10:\n",
    "        n += 1\n",
    "        i += 1\n",
    "    else :\n",
    "        pass\n",
    "        i += 1  \n",
    "print(n)\n",
    "\n",
    "# The variable n will count the number of athletes who have\n",
    "# ran 100m in less than 10 seconds\n",
    "n = 0\n",
    "\n",
    "# The variable i will iterate through the indexes of the results list\n",
    "i = 0\n",
    "\n",
    "# While i is less than the length of the list\n",
    "while i < len(results):\n",
    "    # if the result of the athlete at index i is less than 10\n",
    "    if results[i] < 10:\n",
    "        # We increment n by 1\n",
    "        n += 1\n",
    "        \n",
    "    # We increment i by 1 to go to the next athlete\n",
    "    i += 1\n",
    "\n",
    "print(\"The number of athletes with a time less than 10s is\", n)"
   ]
  },
  {
   "cell_type": "markdown",
   "id": "a82c4760-136e-41d2-94b4-c3893b02e977",
   "metadata": {},
   "source": [
    "## The for Loop"
   ]
  },
  {
   "cell_type": "code",
   "execution_count": null,
   "id": "4130075f-941f-4f90-9f57-5f67a12cd765",
   "metadata": {},
   "outputs": [],
   "source": [
    "2. The for loop\n",
    "\n",
    "    The for loop allows to repeat an instruction block in a more controlled way. Indeed, it is not clear with a while loop how many times the loop will be executed.\n",
    "\n",
    "    The for loop is very explicit with respect to the variable that will be modified at each iteration. Moreover, the number of iterations the loop will perform will always be finite.\n",
    "\n",
    "    For example, we can use a for loop to display one by one the letters in the word \"loop\":\n",
    "\n",
    "    for letter in \"loop\":\n",
    "       print(letter)\n",
    "    >>> l\n",
    "    >>> o\n",
    "    >>> o\n",
    "    >>> p\n",
    "\n",
    "    The general structure of a for loop is as follows:\n",
    "\n",
    "    for element in sequence:\n",
    "        instruction1\n",
    "        ...\n",
    "        instructionN\n",
    "\n",
    "    other_instruction              \n",
    "\n",
    "    The for loop executes the instruction block for each element in the sequence.\n",
    "\n",
    "    As with the while loop, lines outside the instruction block are not part of the loop, so they are only executed once when the loop is complete.\n",
    "\n",
    "    The actions take place in the following order:\n",
    "\n",
    "        The element variable takes the value of the first element of sequence.\n",
    "\n",
    "        The instruction block is executed.\n",
    "\n",
    "        The element variable takes the value of the second element of the sequence.\n",
    "\n",
    "        The instruction block is executed.\n",
    "\n",
    "        ...\n",
    "\n",
    "        ...\n",
    "\n",
    "        The variable element takes the value of the last element of the sequence.\n",
    "\n",
    "        The instruction block is executed and the loop ends.\n",
    "\n",
    "        The other_instruction is executed.\n",
    "\n",
    "    The sequence object can be any type of indexable object such as a list, a tuple, a character string, etc.\n",
    "\n",
    "    In the for loop there is no need to change the element variable, Python takes care of it automatically. Be careful however not to forget in the syntax the in and : bits which are indispensable.\n",
    "\n",
    "A teacher has undergraded his students, and wants to raise their grades so that the class average is above 10/20.\n",
    "\n",
    "The students' grades have been included in the following list:\n",
    "\n",
    "bad_marks = [0, 2, 3, 3, 3, 3, 4, 5, 5, 5, 6, 6, 6, 6, 6, 7, 7, 8, 8, 8, 8, 8, 8, 9, 10, 10, 10, 11, 12, 14]\n",
    "\n",
    "With the help of for loops :\n",
    "\n",
    "    (a) Compute and display the class average. There are 30 students in the class.\n",
    "\n",
    "    (b) Create a good_marks list where you will store the marks increased by 4 points. \n",
    "    To do this you can create an empty list and then add the marks one by one using the append method.\n",
    "\n",
    "    (c) Verify that the new average is greater than 10.\n",
    "\n"
   ]
  },
  {
   "cell_type": "code",
   "execution_count": 23,
   "id": "49bfd8d2-9364-4fa1-a3f6-4b631bb2405b",
   "metadata": {},
   "outputs": [
    {
     "name": "stdout",
     "output_type": "stream",
     "text": [
      "6.7\n",
      "30 [4, 6, 7, 7, 7, 7, 8, 9, 9, 9, 10, 10, 10, 10, 10, 11, 11, 12, 12, 12, 12, 12, 12, 13, 14, 14, 14, 15, 16, 18]\n",
      "10.7\n"
     ]
    }
   ],
   "source": [
    "bad_marks = [0, 2, 3, 3, 3, 3, 4, 5, 5, 5, 6, 6, 6, 6, 6, 7, 7, 8, 8, 8, 8, 8, 8, 9, 10, 10, 10, 11, 12, 14]\n",
    "\n",
    "# Insert your code here\n",
    "# a)\n",
    "sm = 0\n",
    "for i in bad_marks:\n",
    "    sm += i\n",
    "print(sm/len(bad_marks))\n",
    "\n",
    "# b) \n",
    "good_marks = []\n",
    "for i in bad_marks:\n",
    "    i += 4\n",
    "    good_marks.append(i)\n",
    "print(len(good_marks), good_marks)\n",
    "\n",
    "# c)\n",
    "sm = 0\n",
    "for i in good_marks:\n",
    "    sm += i\n",
    "print(sm/len(good_marks))"
   ]
  },
  {
   "cell_type": "markdown",
   "id": "bf23338f-595c-4b80-80f1-7cf9e9964d5b",
   "metadata": {},
   "source": [
    "## The range function"
   ]
  },
  {
   "cell_type": "code",
   "execution_count": null,
   "id": "b462aecf-7e8b-4f82-b2cf-18e95e438452",
   "metadata": {},
   "outputs": [],
   "source": [
    "3. The range function\n",
    "\n",
    "    The range function is often used with for loops:\n",
    "\n",
    "        It takes as argument a start, an end and a step value.\n",
    "\n",
    "        It returns a sequence of numbers from the beginning value to the end value (the beginning number is included, but the end number is excluded) with the step defining the increment between two consecutive numbers.\n",
    "\n",
    "\n",
    "\n",
    "    By default the start is 0 and the step is 1.\n",
    "\n",
    "    Thus:\n",
    "\n",
    "            Calling range(5) returns the sequence of integers from 0 to 4.\n",
    "\n",
    "            Calling range(1, 10) returns the sequence of integers from 1 to 9.\n",
    "\n",
    "            Calling range(1, 10, 3) returns the sequence 1, 4, 7.\n",
    "\n",
    "The Fibonacci sequence is a sequence of integers in which each term is the sum of the two preceding terms.\n",
    "\n",
    "To compute the terms of the Fibonacci sequence, the first two terms of the sequence are fixed:\n",
    "\n",
    "𝑢0=0𝑢1=1\n",
    "\n",
    "For 𝑖≥\n",
    "2, the terms 𝑢𝑖\n",
    "\n",
    "are calculated using the formula:\n",
    "\n",
    "𝑢𝑖=𝑢𝑖−1+𝑢𝑖−2\n",
    "\n",
    "    (a) Using a for loop and the range function, compute and store in the list u the first 100 terms of the Fibonacci sequence.\n"
   ]
  },
  {
   "cell_type": "code",
   "execution_count": 27,
   "id": "8313e134-f172-4fc7-8ed6-9105c187b528",
   "metadata": {
    "tags": []
   },
   "outputs": [
    {
     "name": "stdout",
     "output_type": "stream",
     "text": [
      "100 [0, 1, 1, 2, 3, 5, 8, 13, 21, 34, 55, 89, 144, 233, 377, 610, 987, 1597, 2584, 4181, 6765, 10946, 17711, 28657, 46368, 75025, 121393, 196418, 317811, 514229, 832040, 1346269, 2178309, 3524578, 5702887, 9227465, 14930352, 24157817, 39088169, 63245986, 102334155, 165580141, 267914296, 433494437, 701408733, 1134903170, 1836311903, 2971215073, 4807526976, 7778742049, 12586269025, 20365011074, 32951280099, 53316291173, 86267571272, 139583862445, 225851433717, 365435296162, 591286729879, 956722026041, 1548008755920, 2504730781961, 4052739537881, 6557470319842, 10610209857723, 17167680177565, 27777890035288, 44945570212853, 72723460248141, 117669030460994, 190392490709135, 308061521170129, 498454011879264, 806515533049393, 1304969544928657, 2111485077978050, 3416454622906707, 5527939700884757, 8944394323791464, 14472334024676221, 23416728348467685, 37889062373143906, 61305790721611591, 99194853094755497, 160500643816367088, 259695496911122585, 420196140727489673, 679891637638612258, 1100087778366101931, 1779979416004714189, 2880067194370816120, 4660046610375530309, 7540113804746346429, 12200160415121876738, 19740274219868223167, 31940434634990099905, 51680708854858323072, 83621143489848422977, 135301852344706746049, 218922995834555169026]\n"
     ]
    }
   ],
   "source": [
    "# The first two terms of the Fibonnaci Sequence\n",
    "u = [0, 1]\n",
    "\n",
    "# Insert your code here\n",
    "\n",
    "\n",
    "for i in range(98):\n",
    "    x = u[-1] + u[-2]\n",
    "    u.append(x)\n",
    "print(len(u), u)"
   ]
  },
  {
   "cell_type": "code",
   "execution_count": 31,
   "id": "f1adcad4-9838-4c47-9fc4-a6c082910cad",
   "metadata": {
    "tags": []
   },
   "outputs": [
    {
     "name": "stdout",
     "output_type": "stream",
     "text": [
      "100 [0, 1, 1, 2, 3, 5, 8, 13, 21, 34, 55, 89, 144, 233, 377, 610, 987, 1597, 2584, 4181, 6765, 10946, 17711, 28657, 46368, 75025, 121393, 196418, 317811, 514229, 832040, 1346269, 2178309, 3524578, 5702887, 9227465, 14930352, 24157817, 39088169, 63245986, 102334155, 165580141, 267914296, 433494437, 701408733, 1134903170, 1836311903, 2971215073, 4807526976, 7778742049, 12586269025, 20365011074, 32951280099, 53316291173, 86267571272, 139583862445, 225851433717, 365435296162, 591286729879, 956722026041, 1548008755920, 2504730781961, 4052739537881, 6557470319842, 10610209857723, 17167680177565, 27777890035288, 44945570212853, 72723460248141, 117669030460994, 190392490709135, 308061521170129, 498454011879264, 806515533049393, 1304969544928657, 2111485077978050, 3416454622906707, 5527939700884757, 8944394323791464, 14472334024676221, 23416728348467685, 37889062373143906, 61305790721611591, 99194853094755497, 160500643816367088, 259695496911122585, 420196140727489673, 679891637638612258, 1100087778366101931, 1779979416004714189, 2880067194370816120, 4660046610375530309, 7540113804746346429, 12200160415121876738, 19740274219868223167, 31940434634990099905, 51680708854858323072, 83621143489848422977, 135301852344706746049, 218922995834555169026]\n"
     ]
    }
   ],
   "source": [
    "u = [0, 1]\n",
    "for i in range(2, 100): \n",
    "    # We compute u_i with u[i-1] and u[i-2]\n",
    "    u_i = u[i-1] + u[i-2]\n",
    "    # We add u_i at the end of the list u\n",
    "    u.append(u_i)\n",
    "    \n",
    "print(len(u),u)"
   ]
  },
  {
   "cell_type": "markdown",
   "id": "60a74fec-7830-4186-9817-88607fee0eb1",
   "metadata": {},
   "source": [
    "## Nested loops"
   ]
  },
  {
   "cell_type": "code",
   "execution_count": null,
   "id": "3ba958eb-ea6a-4e13-af3c-28d5f4b7179e",
   "metadata": {},
   "outputs": [],
   "source": [
    "4. Nested loops\n",
    "\n",
    "    Loops can be nested inside one another. For example, when you have a list of lists, it is possible to browse all its elements with two nested loops.\n",
    "\n",
    "    The syntax is as follows:\n",
    "\n",
    "    # For each list in the list of lists\n",
    "    for list in list_of_lists:\n",
    "        # For each item in the list\n",
    "        for element in list:\n",
    "            ...\n",
    "            ...\n",
    "\n",
    "    Each block of instructions must be indented very carefully. As for if statements, the indentation delimits the beginning and the end of the code blocks.\n",
    "\n",
    "    (a) Compute the number of times the character 'e' appears in the following text. To do this, you can:\n",
    "        Iterate through each word in the text with a loop.\n",
    "        Iterate through each letter in the word in another loop while counting how many times the character 'e' has been encountered.\n",
    "\n"
   ]
  },
  {
   "cell_type": "code",
   "execution_count": 2,
   "id": "fd45babc-bb89-4cf4-a294-8b3c51d40100",
   "metadata": {},
   "outputs": [
    {
     "name": "stdout",
     "output_type": "stream",
     "text": [
      "The character 'e' appears 34 times in the text.\n"
     ]
    }
   ],
   "source": [
    "text = ['The', '21', 'World', 'Cup', 'tournaments', 'have', 'been', 'won', 'by', 'eight',\n",
    "        'national', 'teams.', 'Brazil', 'have', 'won', 'five', 'times', ',', 'and',\n",
    "        'they', 'are', 'the', 'only', 'team', 'to', 'have', 'played', 'in', 'every',\n",
    "        'tournament', '.', 'The', 'other', 'World', 'Cup', 'winners', 'are', 'Germany',\n",
    "        'and', 'Italy', ',', 'with', 'four', 'titles', 'each', ';', 'Argentina', ',',\n",
    "        'France', ',', 'and', 'inaugural', 'winner', 'Uruguay,', 'with', 'two', 'titles',\n",
    "        'each', ';and', 'England', 'and', 'Spain', ',', 'with', 'one', 'title', 'each', '.']\n",
    "\n",
    "# Insert your code here\n",
    "# A)\n",
    "sum_e = 0\n",
    "for word in text:\n",
    "    for letter in word:\n",
    "        if \"e\" in letter:\n",
    "            sum_e += 1\n",
    "print(f\"The character 'e' appears {sum_e} times in the text.\")"
   ]
  },
  {
   "cell_type": "markdown",
   "id": "1f6cd420-210d-4a44-b98e-ee71801d2dbe",
   "metadata": {},
   "source": [
    "## List comprehension"
   ]
  },
  {
   "cell_type": "code",
   "execution_count": null,
   "id": "a1cdec3b-7a16-43e9-b65d-6a6eae929af6",
   "metadata": {},
   "outputs": [],
   "source": [
    "5. List comprehension\n",
    "\n",
    "    List comprehension is an extremely interesting concept in Python which fits in with the central objective of simplifying code and increasing productivity.\n",
    "\n",
    "    Using the for loop syntax, it allows a very compact and elegant definition of a list of values.\n",
    "\n",
    "    We want to store the first 10 integers squared in a list. To do this, we could create an empty list and use a for loop as before:\n",
    "\n",
    "    my_list = []\n",
    "\n",
    "    # For i going from 0 to 9\n",
    "    for i in range(10):\n",
    "        my_list.append(i**2)\n",
    "\n",
    "    Python allows us to reduce this syntax, thanks to list comprehension:\n",
    "\n",
    "    my_list = [i**2 for i in range(10)]\n",
    "\n",
    "    These two syntaxes are strictly equivalent.\n",
    "\n",
    "    Therefore, in one exercise we wanted to increase all the grades by 4 points, we could have simply written:\n",
    "\n",
    "    good_marks = [mark + 4 for mark in bad_marks]\n",
    "\n",
    "Using the list comprehension method:\n",
    "\n",
    "    (a) Store in a list called powers_three the first 10 powers of 3.\n",
    "\n",
    "    (b) A list numbers_list is provided. Create a new list called double_list containing the double of each element in numbers_list.\n",
    "\n",
    "    (c) From numbers_list, create a list even_list that for each number in list_numbers indicates \"even\" if the number is even, and \"odd\" otherwise. Parity can be tested using the modulus % operator.\n",
    "\n",
    "    We recall the syntax for conditional assignment:\n",
    "\n",
    "    # A student repeats if their average is less than 10\n",
    "    repeating = True if average < 10 else False\n",
    "\n"
   ]
  },
  {
   "cell_type": "code",
   "execution_count": 14,
   "id": "8e745ba3-5481-4e00-86eb-ec14ff7a0539",
   "metadata": {},
   "outputs": [
    {
     "data": {
      "text/plain": [
       "(['even', 'even', 'odd', 'odd', 'even', 'even', 'odd'],\n",
       " [20, 24, 14, 6, 52, 4, 38],\n",
       " [1, 3, 9, 27, 81, 243, 729, 2187, 6561, 19683])"
      ]
     },
     "execution_count": 14,
     "metadata": {},
     "output_type": "execute_result"
    }
   ],
   "source": [
    "# The list of numbers for the last two questions\n",
    "numbers_list = [10, 12, 7, 3, 26, 2, 19]\n",
    "\n",
    "# Insert your code here\n",
    "# a)\n",
    "powers_three = [3**x for x in range(10)]\n",
    "#b)\n",
    "double_list = [i*2 for i in numbers_list]\n",
    "#c)\n",
    "even_list = [\"even\" if i%2 == 0 else \"odd\" for i in numbers_list]\n",
    "even_list, double_list, powers_three"
   ]
  },
  {
   "cell_type": "code",
   "execution_count": 8,
   "id": "bc8dd9ef-223a-40b6-bdd4-5bec46c34f06",
   "metadata": {},
   "outputs": [
    {
     "data": {
      "text/plain": [
       "['even', 'even', 'odd', 'odd', 'even', 'even', 'odd']"
      ]
     },
     "execution_count": 8,
     "metadata": {},
     "output_type": "execute_result"
    }
   ],
   "source": [
    "# Original Cozum\n",
    "numbers_list = [10, 12, 7, 3, 26, 2, 19]\n",
    "\n",
    "powers_three = [3**k for k in range(10)] \n",
    "\n",
    "double_list = [number*2 for number in numbers_list]\n",
    "\n",
    "even_list = [\"even\" if number%2 == 0 else \"odd\" for number in numbers_list]"
   ]
  },
  {
   "cell_type": "markdown",
   "id": "dac81290-c268-4c14-9f68-2c1ed18e13b1",
   "metadata": {},
   "source": [
    "## The enumerate function"
   ]
  },
  {
   "cell_type": "code",
   "execution_count": null,
   "id": "c773ccd7-856f-4e38-8439-83e3addd8deb",
   "metadata": {},
   "outputs": [],
   "source": [
    "6. The enumerate function\n",
    "\n",
    "    It is sometimes useful to have access to the index of an element in a sequence. To do this, it is possible to use the enumerate function in the statement of the for loop:\n",
    "\n",
    "    for index, element in enumerate(sequence):\n",
    "        ...\n",
    "        ...\n",
    "\n",
    "    For example, if we want to display the different positions of the word \"the\" in a text:\n",
    "\n",
    "    text = [\"the\", \"word\", \"the\", \"is\", \"the\", \"word\", \"of\", \"which\", \"we\", \"search\", \"the\", \"position\"]\n",
    "\n",
    "    # For each word in the text\n",
    "    for position, word in enumerate(text):\n",
    "        # If the word is \"the\"\n",
    "        if word == \"the\":\n",
    "           # We display its position\n",
    "            print(position)\n",
    "    >>> 0\n",
    "    >>> 2\n",
    "    >>> 4\n",
    "    >>> 10\n",
    "\n",
    "    (a) Determine the index of the maximum of the list L using the enumerate function. To find this maximum, just store the largest element seen while iterating through the list.\n",
    "\n",
    "    (b) Display the index and the value of the maximum of the list.\n",
    "\n"
   ]
  },
  {
   "cell_type": "code",
   "execution_count": 38,
   "id": "dd8dda3a-149a-44c4-bb9a-a074a804c872",
   "metadata": {},
   "outputs": [
    {
     "name": "stdout",
     "output_type": "stream",
     "text": [
      "The maximum of the list is at the index 12 and value is 94\n"
     ]
    }
   ],
   "source": [
    "L = [22, 65, 75, 93, 64, 47, 91, 53, 86, 53, 88, 17, 94, 39]\n",
    "\n",
    "# Insert your code here\n",
    "# a) 1. Solution\n",
    "lst =  [0]\n",
    "for index,value in enumerate(L):\n",
    "    if value > lst[-1]:\n",
    "        lst.append(value)\n",
    "    else:\n",
    "        lst.insert(0,value)\n",
    "\n",
    "for i,v in enumerate(L):\n",
    "    if lst[-1] == v:\n",
    "        print(f\"The maximum of the list is at the index {i} and value is {v}\")\n",
    "        \n",
    "# Original Cozum\n",
    "L = [22, 65, 75, 93, 64, 47, 91, 53, 86, 53, 88, 17, 94, 39]\n",
    "\n",
    "maximum=0\n",
    "max_index=0\n",
    "\n",
    "# For each element in the list L\n",
    "for index, element in enumerate(L):\n",
    "    # If the element is greater than those we have seen before\n",
    "    if element > maximum:\n",
    "        # We overwrite the maximum with its value\n",
    "        maximum = element\n",
    "        max_index = index\n",
    "\n",
    "print(\"The maximum of the list is at the index\", max_index)\n",
    "print(\"Its value is\", maximum)"
   ]
  },
  {
   "cell_type": "markdown",
   "id": "e5b089b3-c437-4dda-ad82-557dde43c9ed",
   "metadata": {},
   "source": [
    "## The zip function"
   ]
  },
  {
   "cell_type": "code",
   "execution_count": null,
   "id": "a8240c97-df69-4d54-bad5-61931cc0d4bb",
   "metadata": {},
   "outputs": [],
   "source": [
    "7. The zip function\n",
    "\n",
    "    The zip function allows you to iterate through several sequences of the same length simultaneously in a single for loop.\n",
    "\n",
    "    The syntax is as follows:\n",
    "\n",
    "    # At each iteration, we take an element of the first sequence and an element of the second\n",
    "    for element1, element2 in zip(sequence1, sequence2):\n",
    "        ...\n",
    "        ...\n",
    "\n",
    "    This syntax can be generalized to a very large number of sequences.\n",
    "\n",
    "We have 2 lists containing respectively the incomes and the expenses of individuals for a month. Individuals have the same index in both lists.\n",
    "\n",
    "    (a) By computing the difference between the income and expenses of each individual, create a list containing the savings they have made during this month and display it\n",
    "\n"
   ]
  },
  {
   "cell_type": "markdown",
   "id": "1b9deeb4-38ff-47fd-b050-681be414f1a3",
   "metadata": {},
   "source": [
    "## Conclusion and recap"
   ]
  },
  {
   "cell_type": "code",
   "execution_count": null,
   "id": "09865bba-3dfb-48b4-993f-d297c46c0390",
   "metadata": {},
   "outputs": [],
   "source": [
    "8. Conclusion and recap\n",
    "\n",
    "    Loops are essential programming tools. They allow you to repeat instructions in a controlled manner.\n",
    "\n",
    "    In this notebook you have learned how to:\n",
    "\n",
    "            Define a while loop which executes as long as the condition defining it is verified.\n",
    "\n",
    "            Define a for loop that allows you to browse sequences.\n",
    "\n",
    "            Define lists by comprehension, which is one of the most useful features tools in Python.\n",
    "\n",
    "            Use the range function to iterate through lists of integers.\n",
    "\n",
    "            Use the enumerate function to iterate through both the indices and the values of a sequence.\n",
    "\n",
    "            Use the zip function to iterate through multiple lists with a single for loop.\n",
    "\n"
   ]
  },
  {
   "cell_type": "code",
   "execution_count": 39,
   "id": "1d3814e0-eb77-4e7b-90d2-5a43e9aa2911",
   "metadata": {},
   "outputs": [
    {
     "data": {
      "text/plain": [
       "[200, 300, -500, -700, -200, 1000, 1000, 0, 350, -1300, 300, 250, 450]"
      ]
     },
     "execution_count": 39,
     "metadata": {},
     "output_type": "execute_result"
    }
   ],
   "source": [
    "incomes = [1200, 2000, 1500, 0, 1000, 4500, 1200, 500, 1350, 2200, 1650, 1300, 2300]\n",
    "expenses = [1000, 1700, 2000, 700, 1200, 3500, 200, 500, 1000, 3500, 1350, 1050, 1850]\n",
    "\n",
    "savings = []\n",
    "\n",
    "# Insert your code here\n",
    "for income, expense in zip(incomes,expenses):\n",
    "    savings.append(income - expense)\n",
    "savings\n",
    "    "
   ]
  },
  {
   "cell_type": "markdown",
   "id": "ebaa631a-4f79-4758-845f-fd0e4b61e46d",
   "metadata": {},
   "source": [
    "# Functions"
   ]
  },
  {
   "cell_type": "markdown",
   "id": "e5afc2cd-a1ef-47d2-9c5d-2033bc62215a",
   "metadata": {},
   "source": [
    "## Functions"
   ]
  },
  {
   "cell_type": "code",
   "execution_count": null,
   "id": "e1dbe33e-f7fe-4625-93d1-b89918de1d88",
   "metadata": {},
   "outputs": [],
   "source": [
    "1. Functions\n",
    "\n",
    "    A function in Python is a reusable block of code that is used to perform a specific operation.\n",
    "\n",
    "    We have already seen examples of built-in functions in Python such as:\n",
    "\n",
    "        The print function: Used to display an object.\n",
    "        The range function: Used to iterate through a series of integers.\n",
    "\n",
    "    We do not know the exact code inside these functions, yet we are able to predict their output. This is due to the fact that their result depends only on their parameters (or arguments) which are given to them as input.\n",
    "\n",
    "    The syntax to define a function is as follows:\n",
    "\n",
    "    def my_function(parameter):\n",
    "        # Instruction block\n",
    "        ...\n",
    "        ...\n",
    "        ...\n",
    "        # The result of the function is given by the variable a_value\n",
    "        return a_value\n",
    "\n",
    "    The keyword return defines the result of the function. This keyword also ends the execution of the function once the Python Interpreter encounters it. Everything that follows in the definition of the function will not be executed.\n",
    "\n",
    "    # We define a function that determines whether a number is even or odd\n",
    "    def is_even(number):\n",
    "        # Is the number even?\n",
    "        if number % 2 == 0:\n",
    "            return True\n",
    "        else:\n",
    "            return False\n",
    "\n",
    "    This function takes as argument a number which will be stored in a temporary variable named number. When the function finishes its execution, the variable number is deleted.\n",
    "\n",
    "    Once a function is defined, we can evaluate it by specifying the values of its parameter:\n",
    "\n",
    "    print(is_even(number = 3))\n",
    "    >>> False\n",
    "\n",
    "    print(is_even(number = 100))\n",
    "    >>> True\n",
    "\n",
    "    print(is_even(number = -2))\n",
    "    >>> True\n",
    "\n",
    "    It is possible to evaluate a function without specifying the name of its parameters:\n",
    "\n",
    "    print(is_even(-4))\n",
    "    >>> True\n",
    "\n",
    "    (a) Implement a function named double which takes as argument a number and returns its double.\n",
    "\n",
    "    (b) Use this function to calculate the double of 4."
   ]
  },
  {
   "cell_type": "code",
   "execution_count": 41,
   "id": "b566f5d3-b28e-4cce-bb16-7090840caa0d",
   "metadata": {},
   "outputs": [
    {
     "name": "stdout",
     "output_type": "stream",
     "text": [
      "8\n"
     ]
    },
    {
     "data": {
      "text/plain": [
       "8"
      ]
     },
     "execution_count": 41,
     "metadata": {},
     "output_type": "execute_result"
    }
   ],
   "source": [
    "# Insert your code here\n",
    "def double(number):\n",
    "    return 2*number\n",
    "\n",
    "print(double(number=4))\n",
    "double(4)"
   ]
  },
  {
   "cell_type": "code",
   "execution_count": null,
   "id": "fef6ee43-242b-4199-8398-c2751c91f911",
   "metadata": {},
   "outputs": [],
   "source": [
    "(c) Write a function named list_product which takes as argument a list of numbers and computes using a loop the product of all the numbers in the list.\n",
    "\n",
    "(d) Evaluate this function on the list [1, 0.12, -54, 12, 0.33, 12]. Its result should be -307.9296."
   ]
  },
  {
   "cell_type": "code",
   "execution_count": 52,
   "id": "109c7742-684f-4793-b4dc-19d752cf2b5e",
   "metadata": {},
   "outputs": [
    {
     "name": "stdout",
     "output_type": "stream",
     "text": [
      "-307.9296\n"
     ]
    }
   ],
   "source": [
    "test_list = [1, 0.12, -54, 12, 0.33, 12]\n",
    "\n",
    "# Insert your code here\n",
    "#product = 1 !!!!!! oncesinde atayinca hata veriyor   UnboundLocalError: local variable 'n' referenced before assignment\n",
    "def list_product(list):\n",
    "    product = 1\n",
    "    for number in test_list:\n",
    "        product *= number\n",
    "    return product\n",
    "\n",
    "print(list_product(test_list)) \n",
    "#print(product) NameError: name 'product' is not defined\n",
    "\n",
    "# Original Cozum\n",
    "def list_product(list_of_numbers):\n",
    "    # We initialize the product to 1\n",
    "    product = 1\n",
    "    \n",
    "    # For each number in the list\n",
    "    for number in list_of_numbers:\n",
    "        # We multiply the product with this number\n",
    "        product *= number\n",
    "        \n",
    "    return product\n",
    "\n",
    "test_list = [1, 0.12, -54, 12, 0.33, 12]\n",
    "\n",
    "print(list_product(test_list))"
   ]
  },
  {
   "cell_type": "code",
   "execution_count": null,
   "id": "fe12ee8d-3a7a-4e22-9dba-8d6b6aca4d30",
   "metadata": {},
   "outputs": [],
   "source": [
    "(e) Write a function named uniques which takes a list as argument and returns a new list containing the unique values of this list.\n",
    "\n",
    "The term \"unique values\" does not mean values that appear only once in the list but rather the distinct values present.\n",
    "\n",
    "Hence, uniques([1, 1, 2, 2, 2, 3, 3, \"Hello\"]) should return [1, 2, 3, \"Hello\"].\n",
    "\n",
    "This terminology is very often used even though it does not have the same meaning as in everyday life.\n",
    "\n",
    "You can check whether a value is part of a list using the membership operator in:\n",
    "\n",
    "3 in [3, 1, 2]\n",
    ">>> True\n",
    "\n",
    "-1 in [3, 1, 2]\n",
    ">>> False"
   ]
  },
  {
   "cell_type": "code",
   "execution_count": 57,
   "id": "ac351aac-fa6e-4b7f-b152-fcb01bcd7e95",
   "metadata": {},
   "outputs": [
    {
     "data": {
      "text/plain": [
       "[1, 2, 3, 'Hello']"
      ]
     },
     "execution_count": 57,
     "metadata": {},
     "output_type": "execute_result"
    }
   ],
   "source": [
    "# e)\n",
    "test_list = [1, 1, 2, 2, 2, 3, 3, \"Hello\"]\n",
    "def uniques(list_):\n",
    "    list_uniques = []\n",
    "    for i in list_:\n",
    "        if i not in list_uniques:\n",
    "            list_uniques.append(i)\n",
    "        else:\n",
    "            pass\n",
    "    return list_uniques\n",
    "\n",
    "uniques(test_list)"
   ]
  },
  {
   "cell_type": "code",
   "execution_count": null,
   "id": "1da3976a-effd-49ea-be75-65eb48e5a384",
   "metadata": {},
   "outputs": [],
   "source": [
    "A function can have several parameters and several outputs. The general syntax of a function is therefore as follows:\n",
    "\n",
    "def my_function (parameter1, parameter2, parameter3, ...):\n",
    "    # Instruction block\n",
    "    ...\n",
    "    ...\n",
    "    ...\n",
    "    return output1, output2, output3 ...\n",
    "\n",
    "When a function returns multiple outputs, the result of the function is actually a tuple. We can use tuple assignment to store the outputs in different variables:\n",
    "\n",
    "# Definition of a function that returns the first and last elements of a list\n",
    "def first_and_last(a_list):\n",
    "    return a_list[0], a_list[-1]\n",
    "\n",
    "# We use tuple assignement to assign each output of the funciton to a different variable\n",
    "first, last = first_and_last([-2, 32, 31, 231, 4])\n",
    "\n",
    "# Display of results\n",
    "print(first)\n",
    ">>> -2\n",
    "\n",
    "print(last)\n",
    ">>> 4\n",
    "\n",
    "(f) Create a function power4, which takes as argument a number x and returns the first 4 powers of this number (i.e. 𝑥^1,𝑥^2,𝑥^3,𝑥^4).\n",
    "\n",
    "(g) Test this function on x = 8 and store the results in 4 variables x_1, x_2,x_3 and x_4.\n",
    "\n",
    "(h) Create a function power_diff taking as argument 4 numbers x_1, x_2, x_3 and x_4 which returns:\n",
    "    The difference between x_2 and x_1\n",
    "    The difference betweenx_3 and x_2\n",
    "    The difference betweenx_4 and x_3.\n",
    "\n",
    "(i) Test this function on the values x_1, x_2, x_3 and x_4 obtained previously."
   ]
  },
  {
   "cell_type": "code",
   "execution_count": 64,
   "id": "8a44c0ab-76cc-4da9-8ea8-deaa001af7fd",
   "metadata": {},
   "outputs": [
    {
     "name": "stdout",
     "output_type": "stream",
     "text": [
      "(8, 64, 512, 4096)\n"
     ]
    },
    {
     "data": {
      "text/plain": [
       "(56, 448, 3584)"
      ]
     },
     "execution_count": 64,
     "metadata": {},
     "output_type": "execute_result"
    }
   ],
   "source": [
    "#f)\n",
    "def power4(x):\n",
    "    return x, x**2, x**3, x**4\n",
    "\n",
    "x_1, x_2, x_3, x_4 = power4(8)\n",
    "\n",
    "print(power4(8))\n",
    "#H)\n",
    "def power_diff(x1,x2,x3,x4):\n",
    "    return x2-x1, x3-x2, x4-x3\n",
    "\n",
    "power_diff(x_1, x_2, x_3, x_4)"
   ]
  },
  {
   "cell_type": "code",
   "execution_count": null,
   "id": "ae66291c-f0e9-41f9-af53-d5ca7f045b97",
   "metadata": {},
   "outputs": [],
   "source": [
    "When calling a function, it is possible to not specify the value of a parameter if it has a default value.\n",
    "\n",
    "To give a parameter a default value, all you have to do is assign it with a value in the definition of the function:\n",
    "\n",
    "# Definition of a function which calculates the product between two numbers\n",
    "def product(a = 0, b = 1):\n",
    "    return a*b\n",
    "\n",
    "product(a = 4) # By default, b takes the value 1\n",
    ">>> 4\n",
    "\n",
    "product(b = 3) # By default, a takes the value 0\n",
    ">>> 0\n",
    "\n",
    "product(a = 4, b = 3)\n",
    ">>> 12\n",
    "\n",
    "It is not necessary to write the name of the parameters when calling a function (for example product(3, 4) returns 12),\n",
    "but the parameters should be given in the same order as in the definition of the function.\n",
    "In this case, the first argument will be the value of a and the second argument the value of b.\n"
   ]
  },
  {
   "cell_type": "markdown",
   "id": "6653814d-198a-40f1-ad78-96f973676e88",
   "metadata": {},
   "source": [
    "## Documentation of a function"
   ]
  },
  {
   "cell_type": "code",
   "execution_count": null,
   "id": "c178a805-e2a6-45e3-8f00-ba99c51683c1",
   "metadata": {},
   "outputs": [],
   "source": [
    "#https://docs.python.org/3/library/functions.html\n",
    "2. Documentation of a function\n",
    "\n",
    "    In order to share a function with other users, it is common to write a small description that explains how the function must be used.\n",
    "\n",
    "    This description is called the documentation of a function, which is the equivalent of a user manual.\n",
    "\n",
    "    The documentation should be written at the start of the definition of a function:\n",
    "\n",
    "    def sort_list(a_list, order = \"ascending\"):\n",
    "    \"\"\"\n",
    "    This function sorts a list in the order specified by the 'order' argument.\n",
    "\n",
    "    Parameters:\n",
    "    -----------\n",
    "    list: the list to sort.\n",
    "\n",
    "    order: Must take the value \"ascending\" if we want to sort the list in ascending order.\n",
    "           Must take the value \"descending\" otherwise.\n",
    "\n",
    "    Returns:\n",
    "    --------\n",
    "    The same list but sorted.\n",
    "    \"\"\"\n",
    "    # instructions\n",
    "    ...\n",
    "    ...\n",
    "    ...\n",
    "    return sorted_list\n",
    "\n",
    "    Triple quotes # \"\"\" define the start and end of the documentation.\n",
    "\n",
    "    You can view a function's documentation using Python's help function.\n",
    "\n",
    "    (a) Display the documentation of Python's len function. A \"container\" is any object that can be iterated over such as a list, a tuple, a string, etc.\n",
    "\n",
    "    (b) Write a function total_len which takes as argument a list of lists and determines the total number of elements in this list. Write a small documentation that describes its use.\n",
    "\n",
    "    (c) Test this function on the list:\n",
    "\n",
    "test_list = [[1, 23, 1201, 21, 213, 2],\n",
    "             [2311, 12, 3, 4],\n",
    "             [11, 32, 1, 1, 2, 3, 3],\n",
    "             [1, 1, 1, 1, 1, 1, 1, 1, 1, 1, 1, 1, 1, 1]]\n",
    "\n",
    "The total_len function should return 31."
   ]
  },
  {
   "cell_type": "code",
   "execution_count": 67,
   "id": "51656134-ce47-4608-8883-677d46eb025c",
   "metadata": {},
   "outputs": [
    {
     "name": "stdout",
     "output_type": "stream",
     "text": [
      "Help on built-in function len in module builtins:\n",
      "\n",
      "len(obj, /)\n",
      "    Return the number of items in a container.\n",
      "\n"
     ]
    }
   ],
   "source": [
    "# a)\n",
    "help(len)"
   ]
  },
  {
   "cell_type": "code",
   "execution_count": 72,
   "id": "fe72e0d5-f07d-454f-8261-6efafc4b21f4",
   "metadata": {},
   "outputs": [
    {
     "data": {
      "text/plain": [
       "\u001b[0;31mSignature:\u001b[0m \u001b[0mlen\u001b[0m\u001b[0;34m(\u001b[0m\u001b[0mobj\u001b[0m\u001b[0;34m,\u001b[0m \u001b[0;34m/\u001b[0m\u001b[0;34m)\u001b[0m\u001b[0;34m\u001b[0m\u001b[0;34m\u001b[0m\u001b[0m\n",
       "\u001b[0;31mDocstring:\u001b[0m Return the number of items in a container.\n",
       "\u001b[0;31mType:\u001b[0m      builtin_function_or_method\n"
      ]
     },
     "metadata": {},
     "output_type": "display_data"
    }
   ],
   "source": [
    "len?"
   ]
  },
  {
   "cell_type": "code",
   "execution_count": 73,
   "id": "1db949c8-b199-4743-b7d1-0e191b06cca0",
   "metadata": {},
   "outputs": [
    {
     "data": {
      "text/plain": [
       "\u001b[0;31mSignature:\u001b[0m \u001b[0mlen\u001b[0m\u001b[0;34m(\u001b[0m\u001b[0mobj\u001b[0m\u001b[0;34m,\u001b[0m \u001b[0;34m/\u001b[0m\u001b[0;34m)\u001b[0m\u001b[0;34m\u001b[0m\u001b[0;34m\u001b[0m\u001b[0m\n",
       "\u001b[0;31mDocstring:\u001b[0m Return the number of items in a container.\n",
       "\u001b[0;31mType:\u001b[0m      builtin_function_or_method\n"
      ]
     },
     "metadata": {},
     "output_type": "display_data"
    }
   ],
   "source": [
    "len??"
   ]
  },
  {
   "cell_type": "code",
   "execution_count": 70,
   "id": "fe1141ba-b609-4128-83f9-c2f614127118",
   "metadata": {},
   "outputs": [
    {
     "data": {
      "text/plain": [
       "'Return the number of items in a container.'"
      ]
     },
     "execution_count": 70,
     "metadata": {},
     "output_type": "execute_result"
    }
   ],
   "source": [
    "len.__doc__"
   ]
  },
  {
   "cell_type": "code",
   "execution_count": 75,
   "id": "62209d70-04cd-48f1-9e2e-d45ed0529bfd",
   "metadata": {},
   "outputs": [
    {
     "data": {
      "text/plain": [
       "['__call__',\n",
       " '__class__',\n",
       " '__delattr__',\n",
       " '__dir__',\n",
       " '__doc__',\n",
       " '__eq__',\n",
       " '__format__',\n",
       " '__ge__',\n",
       " '__getattribute__',\n",
       " '__gt__',\n",
       " '__hash__',\n",
       " '__init__',\n",
       " '__init_subclass__',\n",
       " '__le__',\n",
       " '__lt__',\n",
       " '__module__',\n",
       " '__name__',\n",
       " '__ne__',\n",
       " '__new__',\n",
       " '__qualname__',\n",
       " '__reduce__',\n",
       " '__reduce_ex__',\n",
       " '__repr__',\n",
       " '__self__',\n",
       " '__setattr__',\n",
       " '__sizeof__',\n",
       " '__str__',\n",
       " '__subclasshook__',\n",
       " '__text_signature__']"
      ]
     },
     "execution_count": 75,
     "metadata": {},
     "output_type": "execute_result"
    }
   ],
   "source": [
    "dir(len)"
   ]
  },
  {
   "cell_type": "code",
   "execution_count": 76,
   "id": "17421919-a916-4de4-8505-20da9fd4921b",
   "metadata": {},
   "outputs": [],
   "source": [
    "# b)\n",
    "# Insert your code here\n",
    "def total_len(list_of_lists):\n",
    "    \"\"\"\n",
    "    This function determines the total number of elements in the list of lists.\n",
    "\n",
    "    Parameters:\n",
    "    -----------\n",
    "    list_of_lisst: the list of lists to find elements.\n",
    "\n",
    "\n",
    "    Returns:\n",
    "    --------\n",
    "    number_of_elements: total number of elements in list_of_lists.\n",
    "    \"\"\"\n",
    "    # We initiak=lize the number of elemens to 0.\n",
    "    number_of_elements = 0\n",
    "    \n",
    "    for list_ in list_of_lists:\n",
    "        number_of_elements += len(list_)\n",
    "    return number_of_elements"
   ]
  },
  {
   "cell_type": "code",
   "execution_count": 78,
   "id": "45138def-a24a-4895-a08f-faaa4a228a85",
   "metadata": {},
   "outputs": [
    {
     "name": "stdout",
     "output_type": "stream",
     "text": [
      "31\n"
     ]
    }
   ],
   "source": [
    "test_list = [[1, 23, 1201, 21, 213, 2],\n",
    "             [2311, 12, 3, 4],\n",
    "             [11, 32, 1, 1, 2, 3, 3],\n",
    "             [1, 1, 1, 1, 1, 1, 1, 1, 1, 1, 1, 1, 1, 1]]\n",
    "\n",
    "print(total_len(test_list))"
   ]
  },
  {
   "cell_type": "code",
   "execution_count": null,
   "id": "0b9ffde9-a2ac-46f5-8e69-da46896654aa",
   "metadata": {},
   "outputs": [],
   "source": [
    "# b) original cozum\n",
    "help(len)\n",
    "# The len function returns the number of elements in a container\n",
    "\n",
    "def total_len(list_of_lists):\n",
    "    \"\"\"\n",
    "    This function counts the total number of items in a list of lists.\n",
    "    \n",
    "    Parameters:\n",
    "    -----------\n",
    "    list_of_lists: A list of lists.\n",
    "    \n",
    "    Returns:\n",
    "    --------\n",
    "    n_elements: the total number of elements in list_of_lists.\n",
    "    \"\"\"\n",
    "    # We initialize the number of elements to 0\n",
    "    n_elements = 0\n",
    "    \n",
    "    # For each list in the list of lists\n",
    "    for a_list in list_of_lists:\n",
    "        # We count the number of elements in the list\n",
    "        n_elements += len(a_list)\n",
    "        \n",
    "    return n_elements\n",
    "\n",
    "test_list = [[1, 23, 1201, 21, 213, 2],\n",
    "             [2311, 12, 3, 4],\n",
    "             [11, 32, 1, 1, 2, 3, 3],\n",
    "             [1, 1, 1, 1, 1, 1, 1, 1, 1, 1, 1, 1, 1, 1]]\n",
    "\n",
    "print(\"The list test_list contains\", total_len(test_list), \"elements.\")"
   ]
  },
  {
   "cell_type": "markdown",
   "id": "12ffc7da-c8d0-4df3-b7ef-d1b4d4ca6860",
   "metadata": {},
   "source": [
    "## Recursive functions"
   ]
  },
  {
   "cell_type": "code",
   "execution_count": null,
   "id": "30c6765e-aace-44e5-b5e0-12477214fe55",
   "metadata": {},
   "outputs": [],
   "source": [
    "3. Recursive functions\n",
    "\n",
    "    Recursion is the property of a function to calls itself during its execution.\n",
    "\n",
    "    This kind of syntax is able to solve some problems very simply, but it is not widely used in Python as it is harder to predict the final result of a recursive function.\n",
    "\n",
    "    The idea of recursive functions is to simplify a problem until the solution is trivial.\n",
    "\n",
    "    For example, if N people have to shake hands to greet each other, how many handshakes are needed?\n",
    "\n",
    "    Suppose that one person among the Ns shook hands with the other N-1 people. We can alread count N-1 handshakes and it is now sufficient to count the handshakes for the remaining N-1 people, which is the same problem but with 1 less person to take into account.\n",
    "\n",
    "    We count this way until there are only 2 people left. In this case there is only one possible handshake left.\n",
    "\n",
    "    In Python, to count the number of handshakes between N people, we can define a recursive function:\n",
    "\n",
    "    def how_many_handshakes(N):\n",
    "        \"\"\"\n",
    "        This function counts the number of handshakes\n",
    "        needed for N persons to greet each other.\n",
    "        \"\"\"\n",
    "        # If there are only 2 people\n",
    "        if N == 2:\n",
    "            # There can only be one handshake\n",
    "            return 1\n",
    "        # Otherwise\n",
    "        else:\n",
    "            # We count N-1 handshakes + the number of handshakes\n",
    "            # between the remaining N-1 people\n",
    "            return N-1 + how_many_handshakes(N-1)\n",
    "\n",
    "    Recursivity gives us an easy solution to this problem.\n",
    "\n",
    "(a) Define a recursive function called factorial with 𝑛 as parameter which computes the factorial 𝑛!=1×2×...×𝑛:\n",
    "\n",
    "    .Notice the recurrence 𝑛!=𝑛×(𝑛−1)!\n",
    "\n",
    "    .We assume that 0!=1\n",
    "\n",
    "\n",
    "(b) Compute 5! (5! should be equal to 120)."
   ]
  },
  {
   "cell_type": "code",
   "execution_count": 98,
   "id": "905bd1a0-f5dd-4fba-94d0-960babc79b21",
   "metadata": {},
   "outputs": [],
   "source": [
    "# Insert your code here\n",
    "\n",
    "def factorial(n):\n",
    "    \"\"\"\n",
    "        This function counts the total number of items in a list of lists.\n",
    "    \n",
    "    Parameters:\n",
    "    -----------\n",
    "    list_of_lists: A list of lists.\n",
    "    \n",
    "    Returns:\n",
    "    --------\n",
    "    n_elements: the total number of elements in list_of_lists.\n",
    "    \"\"\"\n",
    "    # If number equal to 0 then\n",
    "    if n == 0 or n == 1:\n",
    "        return 1\n",
    "    else:\n",
    "        result = n * n-1\n",
    "        return result"
   ]
  },
  {
   "cell_type": "code",
   "execution_count": 121,
   "id": "4c8d9b8d-845c-437d-9804-6ca6999844bc",
   "metadata": {},
   "outputs": [],
   "source": [
    "def factorial(n):\n",
    "    if n < 0:\n",
    "        return \"Negative number.\"\n",
    "    if n == 0 :\n",
    "        return 1\n",
    "    else:\n",
    "        return n * factorial(n-1)"
   ]
  },
  {
   "cell_type": "code",
   "execution_count": 124,
   "id": "cdd6aed2-ca16-4f19-82af-4c933c40b9e0",
   "metadata": {},
   "outputs": [
    {
     "name": "stdout",
     "output_type": "stream",
     "text": [
      "120\n"
     ]
    }
   ],
   "source": [
    "print(factorial(5))"
   ]
  },
  {
   "cell_type": "code",
   "execution_count": 91,
   "id": "e83c8b12-6abd-48cc-9606-234f1d0965f9",
   "metadata": {},
   "outputs": [],
   "source": [
    "# original cozum\n",
    "def factorial(n):\n",
    "    if n < 0: \n",
    "        return \"Negative number.\" # Stops the function if the number is negative\n",
    "    \n",
    "    # The simple case where n == 0\n",
    "    if n == 0:\n",
    "        return 1\n",
    "    else :\n",
    "        # We use the recurrence n! = n * (n-1)!\n",
    "        return n*factorial(n-1)\n",
    "    \n",
    "print(factorial(n=5))"
   ]
  },
  {
   "cell_type": "code",
   "execution_count": 92,
   "id": "91a4b062-7f84-4323-bf58-4feb3f59af30",
   "metadata": {},
   "outputs": [
    {
     "name": "stdout",
     "output_type": "stream",
     "text": [
      "False\n"
     ]
    }
   ],
   "source": [
    "print(func(5))"
   ]
  },
  {
   "cell_type": "markdown",
   "id": "f98c1d64-1f28-4fce-99a3-340e34e95c7f",
   "metadata": {},
   "source": [
    "# Classes and modules "
   ]
  },
  {
   "cell_type": "markdown",
   "id": "57482d40-6cf1-4d4e-be26-09520e57a631",
   "metadata": {},
   "source": [
    "## Classes"
   ]
  },
  {
   "cell_type": "code",
   "execution_count": null,
   "id": "cba8c40b-e0d7-4259-beb1-dea12a5c92a2",
   "metadata": {},
   "outputs": [],
   "source": [
    " Introduction\n",
    "\n",
    "    In Python and many other programming languages, object-oriented programming consists in creating classes of objects that contain specific information and tools suitable for their manipulation.\n",
    "\n",
    "    All the tools that we use for Data Science and that you will see later (numpy arrays, pandas DataFrames, scikit-learn models, matplotlib figures, ...) are built this way. Understanding the mechanics behind Python objects and knowing how to use them is essential to make the most of these tools.\n",
    "\n",
    "1. Classes\n",
    "\n",
    "    An object class contains 3 fundamental elements:\n",
    "\n",
    "        A constructor: a function that initializes an object of the class.\n",
    "        Attributes: Variables specific to the created object used to define its properties and store information.\n",
    "        Methods: Class-specific functions that allow you to interact with an object.\n",
    "\n",
    "    To understand object classes, let us make an analogy with a car.\n",
    "\n",
    "    Cars are a class of objects designating motorized and wheeled vehicles intended for land transport.\n",
    "\n",
    "    Assume that the constructor of the class of cars is a factory which produces them. From the attributes desired for the car such as its color, its model or its horsepower, the factory must be able to produce a car that matches the given specifications.\n",
    "\n",
    "    Thus, the factory is analogous to a function which takes as argument the attributes of the car and returns the car built and ready to use.\n",
    "\n",
    "\n",
    "    The methods of the car are the commands to accelerate or brake the vehicle. These commands are analogous to functions which take as argument the pressure on the pedal and apply an acceleration to the car.\n",
    "\n",
    "    In Python, a class is defined with the class keyword. This keyword allows us to start a block of code where we can define the constructor of the class and its methods.\n",
    "\n",
    "    The definition of the constructor is done with the method named __init__ which allows us to initialize the attributes of the object that is being built (note that this method takes two underscores before and after init):\n",
    "\n",
    "    # Definition of the Car class\n",
    "    class Car:\n",
    "    # Definition of the constructor of the Car class\n",
    "        def __init__(self, color, model, horsepower):\n",
    "    # Initialization of the attributes of the class with the arguments of the constructor\n",
    "            self.color = color\n",
    "            self.model = model\n",
    "            self.horsepower = horsepower\n",
    "\n",
    "    The self argument corresponds to the object calling the method. This argument allows us to access the attributes of the object within the method.\n",
    "\n",
    "    All the methods of a class must have as first argument in their definition the argument self because the methods of a class systematically receive the object which calls them as the first argument.\n",
    "\n",
    "    We can define other methods within this class:\n",
    "\n",
    "    # Definition of the Car class\n",
    "    class Car:\n",
    "         # Definition of the constructor of the Car class\n",
    "        def __init__(self, color, model, horsepower):\n",
    "            # Initialization of the attributes of the class with the arguments of the constructor\n",
    "            self.color = color\n",
    "            self.model = model\n",
    "            self.horsepower = horsepower\n",
    "\n",
    "        # Definition of a method to change the color of a car\n",
    "        def change_color(self, new_color):\n",
    "           self.color = new_color\n",
    "\n",
    "    To create an object of this class, we must use the following syntax:\n",
    "\n",
    "    # Creation of an object of the Car class\n",
    "    aventador = Car(color = \"orange\",\n",
    "                    model = \"Aventador\",\n",
    "                    horsepower = 700)\n",
    "\n",
    "    To create the object, Car is used as a function. Python is actually calling the __init__ method of the Car class, giving it the arguments we passed when calling the Car 'function'. This is why we also call the Car() function the constructor of the class.\n",
    "\n",
    "    The process of building an object and assigning it to a variable is called instantiation.\n",
    "\n",
    "    We say that aventador is an instance of the Car class.\n",
    "\n",
    "Taking inspiration from the Car class defined above:\n",
    "\n",
    "    (a) Define a new Complex class with 2 attributes:\n",
    "\n",
    "            part_re which contains the real part of a Complex number.\n",
    "            part_im which contains the imaginary part of a Complex number.\n",
    "\n",
    "    (b) Define in the Complex class a display method that takes no arguments apart from self and displays a Complex number in its algebraic form 𝑎+𝑏𝑖 \n",
    "where 𝑎 is the real part of a complex number and 𝑏 its imaginary part.\n",
    "\n",
    "    This method must be adapted to the sign of the imaginary part (The display should yield 4 - 2i,6 + 2i, 5).\n",
    "\n",
    "    (c) Instantiate two Complex objects corresponding to the complex numbers 4+5𝑖\n",
    "\n",
    "and 3−2𝑖 then display them with their display method."
   ]
  },
  {
   "cell_type": "code",
   "execution_count": 145,
   "id": "0c19c386-2005-419c-904b-e491f0a3a2fa",
   "metadata": {},
   "outputs": [
    {
     "name": "stdout",
     "output_type": "stream",
     "text": [
      "(4+5j)\n",
      "(3-2j)\n",
      "(4+5j)\n",
      "(3-2j)\n"
     ]
    }
   ],
   "source": [
    "# Insert your code here\n",
    "\n",
    "class Complex:\n",
    "    def __init__(self, part_re, part_im):\n",
    "        self.part_re = part_re\n",
    "        self.part_im = part_im\n",
    "        \n",
    "    def display(self):\n",
    "        print(complex(self.part_re, self.part_im))\n",
    "\n",
    "c1 = Complex(4,5)\n",
    "c2 = Complex(3,-2)\n",
    "\n",
    "Complex.display(c1)\n",
    "Complex.display(c2)\n",
    "\n",
    "c1.display()\n",
    "c2.display()"
   ]
  },
  {
   "cell_type": "code",
   "execution_count": 131,
   "id": "4f96c740-961e-4eb7-875f-e1f8d50a5c5b",
   "metadata": {
    "tags": []
   },
   "outputs": [
    {
     "data": {
      "text/plain": [
       "(5+6j)"
      ]
     },
     "execution_count": 131,
     "metadata": {},
     "output_type": "execute_result"
    }
   ],
   "source": [
    "# orijinal cozum\n",
    "\n",
    "# Definition of the Complex class\n",
    "class Complex:\n",
    "    \n",
    "    # Definition of the constructor\n",
    "    def __init__(self, a, b):\n",
    "        \"\"\"\n",
    "        Builds a complex number.\n",
    "        \n",
    "        Parameters:\n",
    "        -----------\n",
    "        a : real part\n",
    "        b : imaginary part\n",
    "        \"\"\"\n",
    "        # Initialization of the attributes with the constructor's arguments\n",
    "        self.part_re = a\n",
    "        self.part_im = b\n",
    "        \n",
    "    def display(self):\n",
    "        \"\"\"\n",
    "        Displays a complex number in its algebraic form a + bi\n",
    "        \"\"\"\n",
    "        # We must pay attention to the sign of the imaginary part to not\n",
    "        # print something like \"4 + -5i\" if the imaginary part is negative\n",
    "        # or \"4 + 0i\" if the imaginary part is 0\n",
    "        if self.part_im < 0:\n",
    "            print(self.part_re, '-', -self.part_im, 'i')\n",
    "            \n",
    "        if self.part_im == 0:\n",
    "            print(self.part_re)\n",
    "            \n",
    "        if self.part_im > 0:\n",
    "            print(self.part_re, '+', self.part_im, 'i')\n",
    "        \n",
    "# Instantiation of complex numbers 4 + 5i and 3-2i\n",
    "C1 = Complex(4, 5)\n",
    "C2 = Complex(3, -2)\n",
    "\n",
    "# Display\n",
    "C1.display()\n",
    "C2.display()"
   ]
  },
  {
   "cell_type": "markdown",
   "id": "f64f9698-ebcb-4958-8b87-a8a6ee7d55c6",
   "metadata": {},
   "source": [
    "## Classes and Documentation"
   ]
  },
  {
   "cell_type": "code",
   "execution_count": null,
   "id": "90a104f3-7f9a-4554-b785-b76d386d941e",
   "metadata": {},
   "outputs": [],
   "source": [
    "2. Classes and Documentation\n",
    "\n",
    "    To be usable by others, a class must always be properly documented.\n",
    "\n",
    "    As with functions, writing the documentation for a class begins and ends with three quotes #\"\"\":\n",
    "\n",
    "    class Car:\n",
    "        \"\"\"\n",
    "        The Car class allows you to build a car.\n",
    "\n",
    "        Parameters:\n",
    "        ----------\n",
    "        color: Character string: Color of the car.\n",
    "        model: Character string: Model of the car.\n",
    "        horsepower: Integer: Displacement of the car.\n",
    "\n",
    "        Example\n",
    "        -------\n",
    "        aventador = Car (color = \"orange\", model = \"Aventador\", horsepower = 700)\n",
    "        \"\"\"\n",
    "        def __init__(self, color, model, horsepower):\n",
    "            self.color = color\n",
    "            self.model = model\n",
    "            self.horsepower = horsepower\n",
    "\n",
    "        def change_color(self, new_color):\n",
    "            \"\"\"\n",
    "            Changes the color of a car.\n",
    "\n",
    "            Parameters:\n",
    "            ----------\n",
    "            new_color: Character string: New color of the car.\n",
    "            \"\"\"\n",
    "            self.color = new_color\n",
    "\n",
    "    Now, when another user needs help using this class, they can use the help function to display its documentation:\n",
    "\n",
    "    help(Car)\n",
    "\n",
    "    class Car(builtins.object)\n",
    "     |  Car(color, model, horsepower)\n",
    "     |  \n",
    "     |  The Car class allows you to build a car.\n",
    "     |  \n",
    "     |  Parameters:\n",
    "     |  ----------\n",
    "     |  color: Character string: Color of the car.\n",
    "     |  model: Character string: Model of the car.\n",
    "     |  horsepower: Integer: Displacement of the car.\n",
    "     |  \n",
    "     |  Example\n",
    "     |  -------\n",
    "     |  aventador = Car(color = \"orange\", model = \"Aventador\", horsepower = 700)\n",
    "     |  \n",
    "     |  Methods defined here:\n",
    "     |  \n",
    "     |  __init__(self, color, model, horsepower)\n",
    "     |      Initialize self.  See help(type(self)) for accurate signature.\n",
    "     |  \n",
    "     |  change_color(self, new_color)\n",
    "     |      Changes the color of a car.\n",
    "     |      \n",
    "     |      Parameters:\n",
    "     |      ----------\n",
    "     |      new_color: Character string: New color of the car.\n",
    "\n",
    "    The purpose of a documentation is to be read and understood by other users.\n",
    "    It also allows us to understand the use of a method that we had defined but then forgotten.\n",
    "\n",
    "    The documentation is the first resource to consult to understand how to manipulate a class.\n",
    "    All the classes that you will use in your training have very complete documentations. \n",
    "    However, they can be difficult to understand with little experience.\n",
    "\n",
    "We have the list u = [1, 9, -3, 3, -5, 4, -4, 7, 3, 4, 5, 0, 8, 7, -1, -3, 7, 6, 0, 2].\n",
    "\n",
    "    (a) Using the help function, find a method of the list class allowing us to sort the list u then display u sorted in ascending order.\n",
    "\n",
    "    (b) Find a method to remove all the elements from the list u.\n",
    "\n"
   ]
  },
  {
   "cell_type": "code",
   "execution_count": 157,
   "id": "2e87f054-275e-49d1-9848-0c998d5a28f0",
   "metadata": {},
   "outputs": [
    {
     "name": "stdout",
     "output_type": "stream",
     "text": [
      "None [-5, -4, -3, -3, -1, 0, 0, 1, 2, 3, 3, 4, 4, 5, 6, 7, 7, 7, 8, 9]\n",
      "None []\n"
     ]
    }
   ],
   "source": [
    "u = [1, 9, -3, 3, -5, 4, -4, 7, 3, 4, 5, 0, 8, 7, -1, -3, 7, 6, 0, 2]\n",
    "\n",
    "# We can display the documentation of a class from\n",
    "# an instance or its constructor \n",
    "#help(u)\n",
    "\n",
    "# Insert your code here\n",
    "print(u.sort(), u)\n",
    "print(u.clear(), u)"
   ]
  },
  {
   "cell_type": "code",
   "execution_count": 152,
   "id": "5effda4f-02c7-497d-b911-56ed3cf7300f",
   "metadata": {
    "collapsed": true,
    "jupyter": {
     "outputs_hidden": true
    },
    "tags": []
   },
   "outputs": [
    {
     "name": "stdout",
     "output_type": "stream",
     "text": [
      "Help on list object:\n",
      "\n",
      "class list(object)\n",
      " |  list(iterable=(), /)\n",
      " |  \n",
      " |  Built-in mutable sequence.\n",
      " |  \n",
      " |  If no argument is given, the constructor creates a new empty list.\n",
      " |  The argument must be an iterable if specified.\n",
      " |  \n",
      " |  Methods defined here:\n",
      " |  \n",
      " |  __add__(self, value, /)\n",
      " |      Return self+value.\n",
      " |  \n",
      " |  __contains__(self, key, /)\n",
      " |      Return key in self.\n",
      " |  \n",
      " |  __delitem__(self, key, /)\n",
      " |      Delete self[key].\n",
      " |  \n",
      " |  __eq__(self, value, /)\n",
      " |      Return self==value.\n",
      " |  \n",
      " |  __ge__(self, value, /)\n",
      " |      Return self>=value.\n",
      " |  \n",
      " |  __getattribute__(self, name, /)\n",
      " |      Return getattr(self, name).\n",
      " |  \n",
      " |  __getitem__(...)\n",
      " |      x.__getitem__(y) <==> x[y]\n",
      " |  \n",
      " |  __gt__(self, value, /)\n",
      " |      Return self>value.\n",
      " |  \n",
      " |  __iadd__(self, value, /)\n",
      " |      Implement self+=value.\n",
      " |  \n",
      " |  __imul__(self, value, /)\n",
      " |      Implement self*=value.\n",
      " |  \n",
      " |  __init__(self, /, *args, **kwargs)\n",
      " |      Initialize self.  See help(type(self)) for accurate signature.\n",
      " |  \n",
      " |  __iter__(self, /)\n",
      " |      Implement iter(self).\n",
      " |  \n",
      " |  __le__(self, value, /)\n",
      " |      Return self<=value.\n",
      " |  \n",
      " |  __len__(self, /)\n",
      " |      Return len(self).\n",
      " |  \n",
      " |  __lt__(self, value, /)\n",
      " |      Return self<value.\n",
      " |  \n",
      " |  __mul__(self, value, /)\n",
      " |      Return self*value.\n",
      " |  \n",
      " |  __ne__(self, value, /)\n",
      " |      Return self!=value.\n",
      " |  \n",
      " |  __repr__(self, /)\n",
      " |      Return repr(self).\n",
      " |  \n",
      " |  __reversed__(self, /)\n",
      " |      Return a reverse iterator over the list.\n",
      " |  \n",
      " |  __rmul__(self, value, /)\n",
      " |      Return value*self.\n",
      " |  \n",
      " |  __setitem__(self, key, value, /)\n",
      " |      Set self[key] to value.\n",
      " |  \n",
      " |  __sizeof__(self, /)\n",
      " |      Return the size of the list in memory, in bytes.\n",
      " |  \n",
      " |  append(self, object, /)\n",
      " |      Append object to the end of the list.\n",
      " |  \n",
      " |  clear(self, /)\n",
      " |      Remove all items from list.\n",
      " |  \n",
      " |  copy(self, /)\n",
      " |      Return a shallow copy of the list.\n",
      " |  \n",
      " |  count(self, value, /)\n",
      " |      Return number of occurrences of value.\n",
      " |  \n",
      " |  extend(self, iterable, /)\n",
      " |      Extend list by appending elements from the iterable.\n",
      " |  \n",
      " |  index(self, value, start=0, stop=9223372036854775807, /)\n",
      " |      Return first index of value.\n",
      " |      \n",
      " |      Raises ValueError if the value is not present.\n",
      " |  \n",
      " |  insert(self, index, object, /)\n",
      " |      Insert object before index.\n",
      " |  \n",
      " |  pop(self, index=-1, /)\n",
      " |      Remove and return item at index (default last).\n",
      " |      \n",
      " |      Raises IndexError if list is empty or index is out of range.\n",
      " |  \n",
      " |  remove(self, value, /)\n",
      " |      Remove first occurrence of value.\n",
      " |      \n",
      " |      Raises ValueError if the value is not present.\n",
      " |  \n",
      " |  reverse(self, /)\n",
      " |      Reverse *IN PLACE*.\n",
      " |  \n",
      " |  sort(self, /, *, key=None, reverse=False)\n",
      " |      Sort the list in ascending order and return None.\n",
      " |      \n",
      " |      The sort is in-place (i.e. the list itself is modified) and stable (i.e. the\n",
      " |      order of two equal elements is maintained).\n",
      " |      \n",
      " |      If a key function is given, apply it once to each list item and sort them,\n",
      " |      ascending or descending, according to their function values.\n",
      " |      \n",
      " |      The reverse flag can be set to sort in descending order.\n",
      " |  \n",
      " |  ----------------------------------------------------------------------\n",
      " |  Class methods defined here:\n",
      " |  \n",
      " |  __class_getitem__(...) from builtins.type\n",
      " |      See PEP 585\n",
      " |  \n",
      " |  ----------------------------------------------------------------------\n",
      " |  Static methods defined here:\n",
      " |  \n",
      " |  __new__(*args, **kwargs) from builtins.type\n",
      " |      Create and return a new object.  See help(type) for accurate signature.\n",
      " |  \n",
      " |  ----------------------------------------------------------------------\n",
      " |  Data and other attributes defined here:\n",
      " |  \n",
      " |  __hash__ = None\n",
      "\n"
     ]
    }
   ],
   "source": [
    "# original cozum\n",
    "\n",
    "print(\" u :\\n\", u)\n",
    "\n",
    "# We sort u in ascending order\n",
    "u.sort()\n",
    "print(\"\\n u sorted:\\n\", u)\n",
    "\n",
    "# We remove all elements from u\n",
    "u.clear()\n",
    "print(\"\\n u empty: \\n\", u)"
   ]
  },
  {
   "cell_type": "markdown",
   "id": "e4501177-3f76-47f3-bace-ace26a658b0a",
   "metadata": {},
   "source": [
    "## Modules"
   ]
  },
  {
   "cell_type": "code",
   "execution_count": 141,
   "id": "45d2913a-8a5a-4642-bc97-db4d3332d372",
   "metadata": {},
   "outputs": [
    {
     "name": "stdout",
     "output_type": "stream",
     "text": [
      "(4-6j)\n"
     ]
    }
   ],
   "source": [
    "3. Modules\n",
    "\n",
    "    A module (also known as package or library) is a Python file containing definitions of classes and functions.\n",
    "\n",
    "    Modules allow you to reuse functions already written without having to copy them.\n",
    "\n",
    "    Modules are easily shareable and in general modules specialize in very specific tasks such as:\n",
    "\n",
    "            Database management (pandas)\n",
    "\n",
    "            Optimized computation (numpy)\n",
    "\n",
    "            Graphs plotting (matplotlib)\n",
    "\n",
    "            Machine learning (scikit-learn)\n",
    "\n",
    "    All the Data Science tasks that you will learn in your training rely on modules written by other developers. These modules are among the greatest assets of the Python language and the absence of these modules would make Python a sub-optimal language for Data Science.\n",
    "\n",
    "    There are many programming languages which are fundamentally superior to Python. However, as long as the modules we use are not available in those languages, it will be very difficult to migrate.\n",
    "\n",
    "    In order to import a module, you must use the import keyword:\n",
    "\n",
    "    # We import the entire Numpy library\n",
    "    import numpy\n",
    "\n",
    "    To use a function of this module, it must be accessed through the module:\n",
    "\n",
    "    x = 0\n",
    "\n",
    "    # The 'cos' function of numpy allows you to compute the cosine of a number\n",
    "    print(numpy.cos(x))\n",
    "    >>> 1.0\n",
    "\n",
    "    It is not very practical to have to write numpy every time we want to use a function from this module. For that, we can abbreviate its name using the keyword as:\n",
    "\n",
    "    # We import numpy and we abbreviate its name with 'np'\n",
    "    import numpy as np\n",
    "\n",
    "    x = 0\n",
    "    print(np.cos(x))\n",
    "    >>> 1.0\n",
    "\n",
    "    We say that np is the alias ofnumpy.\n",
    "\n",
    "    This practice is used very often and is the main way of importing modules. In the rest of your training you will very often see the imports:\n",
    "\n",
    "    import numpy as np\n",
    "    import pandas as pd\n",
    "    import matplotlib.pyplot as plt\n",
    "\n",
    "    If you do not wish to import the entire module, it is possible to import only a few functions or classes of the module using the keyword from:\n",
    "\n",
    "    # We only import the cos, sin and exp functions of the numpy module\n",
    "    from numpy import cos, sin, exp\n",
    "\n",
    "    (a) Import the load_boston function from the sklearn.datasets module.\n",
    "\n",
    "    (b) In a variable named boston_dataset, store the output of the load_boston function when called without arguments. What is the type of this variable?\n",
    "\n"
   ]
  },
  {
   "cell_type": "code",
   "execution_count": null,
   "id": "04183002-3bc0-47f4-9bf7-b1ddbbaf2287",
   "metadata": {},
   "outputs": [],
   "source": [
    "# Insert your code here\n",
    "from sklearn.datasets import load_boston\n",
    "from sklearn.datasets import fetch_openml\n",
    "\n",
    "boston_dataset = load_boston()\n",
    "print(boston_dataset.data[:2], '\\n target: \\n', boston_dataset.target[:2],\n",
    "      '\\n feature names: \\n', boston_dataset.feature_names)\n",
    "\n",
    "mice = fetch_openml(name='miceprotein')\n",
    "mice.data.shape"
   ]
  },
  {
   "cell_type": "code",
   "execution_count": null,
   "id": "9de12749-8efe-433e-825d-d66532aedcb7",
   "metadata": {},
   "outputs": [],
   "source": [
    "# original cozum\n",
    "# We import the load_boston function from the sklearn.datasets module\n",
    "from sklearn.datasets import load_boston\n",
    "\n",
    "# We run the load_boston function and store its\n",
    "# output in the boston_dataset variable\n",
    "boston_dataset = load_boston()\n",
    "\n",
    "#print(boston_dataset)"
   ]
  },
  {
   "cell_type": "code",
   "execution_count": null,
   "id": "8669cb3b-cf77-40d1-b427-4d6e1ec28a80",
   "metadata": {},
   "outputs": [],
   "source": [
    "The boston_dataset variable is a dictionary. Remember that a dictionary is a data structure where the data is indexed by keys. To access a key from a dictionary, all you have to do is enter the key in square brackets:\n",
    "\n",
    "a_dictionary['key']\n",
    "\n",
    "The boston_dataset dictionary contains 4 keys:\n",
    "\n",
    "        'data': The Boston real estate dataset. It contains characteristics about real estate properties in Boston.\n",
    "\n",
    "        'target': The price of these properties. The objective of the dataset is to determine the selling price of a property based on its characteristics.\n",
    "\n",
    "        'feature_names': The names given to the characteristics of real estate.\n",
    "\n",
    "        'DESCR': A text that describes the dataset and its variables.\n",
    "\n",
    "(c) In a variable named X, store the value associated with the 'data' key of the boston_dataset dictionary.\n",
    "\n",
    "(d) In a variable named feature_names, store the value associated with the 'feature_names' key of the boston_dataset dictionary.\n",
    "\n",
    "We will now instantiate an object of the DataFrame class which is very useful for visualizing and processing datasets.\n",
    "\n",
    "    (e) Import the pandas module under the alias pd.\n",
    "\n",
    "    (f) Instantiate an object of the DataFrame class using the pd.DataFrame() constructor. The object built will be named df and the constructor's arguments will be data = X, columns = feature_names.\n",
    "\n",
    "    (g) Display the first 10 lines of the DataFrame df by calling its head method with the argument n = 10.\n",
    "\n"
   ]
  },
  {
   "cell_type": "code",
   "execution_count": 6,
   "id": "ee369226-00f9-4f4a-8625-152583339598",
   "metadata": {},
   "outputs": [
    {
     "ename": "NameError",
     "evalue": "name 'boston_dataset' is not defined",
     "output_type": "error",
     "traceback": [
      "\u001b[0;31m---------------------------------------------------------------------------\u001b[0m",
      "\u001b[0;31mNameError\u001b[0m                                 Traceback (most recent call last)",
      "Cell \u001b[0;32mIn[6], line 1\u001b[0m\n\u001b[0;32m----> 1\u001b[0m X \u001b[38;5;241m=\u001b[39m \u001b[43mboston_dataset\u001b[49m[\u001b[38;5;124m'\u001b[39m\u001b[38;5;124mdata\u001b[39m\u001b[38;5;124m'\u001b[39m]\n\u001b[1;32m      3\u001b[0m feature_names \u001b[38;5;241m=\u001b[39m boston_dataset[\u001b[38;5;124m'\u001b[39m\u001b[38;5;124mfeature_names\u001b[39m\u001b[38;5;124m'\u001b[39m]\n\u001b[1;32m      5\u001b[0m \u001b[38;5;66;03m# We import the pandas module under the alias pd\u001b[39;00m\n",
      "\u001b[0;31mNameError\u001b[0m: name 'boston_dataset' is not defined"
     ]
    }
   ],
   "source": [
    "X = boston_dataset['data']\n",
    "\n",
    "feature_names = boston_dataset['feature_names']\n",
    "\n",
    "# We import the pandas module under the alias pd\n",
    "import pandas as pd\n",
    "\n",
    "# Instantiate a DataFrame object with its constructor\n",
    "df = pd.DataFrame(data = X, columns = feature_names)\n",
    "\n",
    "# Display the first 10 lines of the DataFrame using the head method\n",
    "df.head(n = 10)"
   ]
  },
  {
   "cell_type": "code",
   "execution_count": 12,
   "id": "f385745f-de92-4513-be92-dadc183b96b2",
   "metadata": {},
   "outputs": [
    {
     "data": {
      "text/plain": [
       "0       c-CS-m\n",
       "1       c-CS-m\n",
       "2       c-CS-m\n",
       "3       c-CS-m\n",
       "4       c-CS-m\n",
       "         ...  \n",
       "1075    t-SC-s\n",
       "1076    t-SC-s\n",
       "1077    t-SC-s\n",
       "1078    t-SC-s\n",
       "1079    t-SC-s\n",
       "Name: class, Length: 1080, dtype: category\n",
       "Categories (8, object): ['c-CS-m', 'c-CS-s', 'c-SC-m', 'c-SC-s', 't-CS-m', 't-CS-s', 't-SC-m', 't-SC-s']"
      ]
     },
     "execution_count": 12,
     "metadata": {},
     "output_type": "execute_result"
    }
   ],
   "source": [
    "mice.target"
   ]
  },
  {
   "cell_type": "markdown",
   "id": "cce7cdaf-6042-4220-a906-e53c824624e1",
   "metadata": {},
   "source": [
    "# Baby Steps in Numpy"
   ]
  },
  {
   "cell_type": "markdown",
   "id": "1774a154-16f5-4d90-98d3-75a5c17163a4",
   "metadata": {},
   "source": [
    "## Creating a numpy array"
   ]
  },
  {
   "cell_type": "markdown",
   "id": "f43f456b-dd5c-4272-b61d-14674698a35f",
   "metadata": {},
   "source": [
    "## Indexation of a numpy array"
   ]
  },
  {
   "cell_type": "code",
   "execution_count": null,
   "id": "a39cd4c6-4bdd-42cc-a398-db0e8840c926",
   "metadata": {},
   "outputs": [],
   "source": [
    "                                     NumPy for Data Science\n",
    "                                    Introduction to Numpy arrays\n",
    "Introduction\n",
    "\n",
    "    numpy (for Numerical Python) is a very advanced digital library for handling large multidimensional arrays and high level mathematical routines (linear algebra, statistics, complex mathematical functions, etc.).\n",
    "\n",
    "    The object class that we will mainly manipulate is the array class of numpy.\n",
    "\n",
    "    These arrays correspond to N-dimensional matrices which can contain very diverse data such as tabular data, time series or images.\n",
    "\n",
    "    The interest of the numpy module lies in the possibility of applying operations on these arrays in a very efficient way, i.e. the number of lines of code required and the computational time to perform these operations will be very reduced compared to a traditional Python syntax.\n",
    "\n",
    "1. Creating a numpy array\n",
    "\n",
    "    Unlike usual classes you will see in your training, a numpy array can be instantiated with many different constructors.\n",
    "\n",
    "    The argument of these constructors is usually a tuple containing the desired matrix dimensions. This tuple is called the shape of an array:\n",
    "\n",
    "    # Import of the numpy module under the alias 'np'\n",
    "    import numpy as np\n",
    "\n",
    "    # Creating a matrix of dimensions 5x10 filled with zeros\n",
    "    X = np.zeros(shape = (5, 10))\n",
    "\n",
    "    # Creating a 3-dimensional 3x10x10 matrix filled with ones\n",
    "    X = np.ones(shape = (3, 10, 10))\n",
    "\n",
    "    It is also possible to create an array from a list using the np.array constructor:\n",
    "\n",
    "    # Creating an array from a list defined by comprehension\n",
    "    X = np.array([2*i for i in range(10)]) # 0, 2, 4, 6, ..., 18\n",
    "\n",
    "    # Create an array from a list of lists\n",
    "    X = np.array([[1, 3, 3],\n",
    "                  [3, 3, 1],\n",
    "                  [1, 2, 0]])\n",
    "\n",
    "    These three constructors are only examples. We will see other constructors later on.\n",
    "\n",
    "2. Indexation of a numpy array\n",
    "\n",
    "    Unlike lists, a numpy array is multidimensional. Indexing must be done by entering the index that we want to access on each dimension:\n",
    "\n",
    "    # Creating a matrix of dimensions 10x10 filled with ones\n",
    "    X = np.ones(shape = (10, 10))\n",
    "\n",
    "    # Displaying element at index (4, 3)\n",
    "    print(X[4, 3])\n",
    "\n",
    "    # Assigning the value -1 to the element of index (1, 5)\n",
    "    X[1, 5] = -1\n",
    "\n",
    "    As with all other Python indexable objects, the starting index of an axis is 0.\n",
    "\n",
    "\n",
    "    As for lists, it is possible to index an array using slicing:\n",
    "\n",
    "\n",
    "    It is possible to slice on each dimension of an array. In the following example, we will extract a subarray from X using slicing:\n",
    "\n",
    "    The previous examples illustrate the indexing of a 2-dimensional array, but this type of indexing can be generalized on N-dimensional arrays. It is also possible to use the negative indexing as for lists.\n",
    "\n",
    "    (a) Using constructors and array slicing, create and display the following diagonal block matrix:\n",
    "\n",
    "array([[ 1.,  1.,  1.,  0.,  0.,  0.],\n",
    "       [ 1.,  1.,  1.,  0.,  0.,  0.],\n",
    "       [ 1.,  1.,  1.,  0.,  0.,  0.],\n",
    "       [ 0.,  0.,  0., -1., -1., -1.],\n",
    "       [ 0.,  0.,  0., -1., -1., -1.],\n",
    "       [ 0.,  0.,  0., -1., -1., -1.]])"
   ]
  },
  {
   "cell_type": "code",
   "execution_count": 33,
   "id": "56253166-0076-4e56-914f-c68cdf2ba7e2",
   "metadata": {},
   "outputs": [
    {
     "data": {
      "text/plain": [
       "array([[ 1.,  1.,  1.,  0.,  0.,  0.],\n",
       "       [ 1.,  1.,  1.,  0.,  0.,  0.],\n",
       "       [ 1.,  1.,  1.,  0.,  0.,  0.],\n",
       "       [ 0.,  0.,  0., -1., -1., -1.],\n",
       "       [ 0.,  0.,  0., -1., -1., -1.],\n",
       "       [ 0.,  0.,  0., -1., -1., -1.]])"
      ]
     },
     "execution_count": 33,
     "metadata": {},
     "output_type": "execute_result"
    }
   ],
   "source": [
    "import numpy as np\n",
    "\n",
    "# Insert your code here\n",
    "\n",
    "x = np.zeros(shape=(6,6))\n",
    "x[0:3, 0:3] = 1\n",
    "x[3:, 3:] =-1\n",
    "x"
   ]
  },
  {
   "cell_type": "code",
   "execution_count": null,
   "id": "871ffae2-d924-40d7-b386-4cb920530168",
   "metadata": {},
   "outputs": [],
   "source": [
    "# original cozum\n",
    "# Creation of a matrix of shape 6x6 filled with zeros\n",
    "X = np.zeros(shape = (6, 6))\n",
    "\n",
    "# Assignment of the value 1 to the first diagonal block\n",
    "X[:3, :3] = 1\n",
    "\n",
    "# Assignment of the value -1 to the second diagonal block\n",
    "X[3:, 3:] = -1\n",
    "\n",
    "# Displaying the matrix\n",
    "print(X)"
   ]
  },
  {
   "cell_type": "code",
   "execution_count": 15,
   "id": "914fbad3-8122-49c3-85ac-d160a950ee70",
   "metadata": {},
   "outputs": [
    {
     "data": {
      "text/plain": [
       "array([[0., 0., 0., 0., 0., 0., 0., 0., 0., 0.],\n",
       "       [0., 0., 0., 0., 0., 0., 0., 0., 0., 0.],\n",
       "       [0., 0., 0., 0., 0., 0., 0., 0., 0., 0.],\n",
       "       [0., 0., 0., 0., 0., 0., 0., 0., 0., 0.],\n",
       "       [0., 0., 0., 0., 0., 0., 0., 0., 0., 0.]])"
      ]
     },
     "execution_count": 15,
     "metadata": {},
     "output_type": "execute_result"
    }
   ],
   "source": [
    "# Import of the numpy module under the alias 'np'\n",
    "import numpy as np\n",
    "\n",
    "# Creating a matrix of dimensions 5x10 filled with zeros\n",
    "X = np.zeros(shape = (5, 10))\n",
    "X"
   ]
  },
  {
   "cell_type": "code",
   "execution_count": 21,
   "id": "1e00423a-d7e8-4158-bb53-d3be9a23ddcf",
   "metadata": {},
   "outputs": [
    {
     "data": {
      "text/plain": [
       "array([[[1., 1., 1., 1., 1., 1., 1., 1., 1., 1.],\n",
       "        [1., 1., 1., 1., 1., 1., 1., 1., 1., 1.]],\n",
       "\n",
       "       [[1., 1., 1., 1., 1., 1., 1., 1., 1., 1.],\n",
       "        [1., 1., 1., 1., 1., 1., 1., 1., 1., 1.]],\n",
       "\n",
       "       [[1., 1., 1., 1., 1., 1., 1., 1., 1., 1.],\n",
       "        [1., 1., 1., 1., 1., 1., 1., 1., 1., 1.]]])"
      ]
     },
     "execution_count": 21,
     "metadata": {},
     "output_type": "execute_result"
    }
   ],
   "source": [
    "# Creating a 3-dimensional 3x10x10 matrix filled with ones\n",
    "X = np.ones(shape = (3, 2, 10))\n",
    "X"
   ]
  },
  {
   "cell_type": "code",
   "execution_count": 19,
   "id": "7323b64b-35dd-47d8-9986-adb9f20f385d",
   "metadata": {},
   "outputs": [
    {
     "data": {
      "text/plain": [
       "array([ 0,  2,  4,  6,  8, 10, 12, 14, 16, 18])"
      ]
     },
     "execution_count": 19,
     "metadata": {},
     "output_type": "execute_result"
    }
   ],
   "source": [
    "#It is also possible to create an array from a list using the np.array constructor:\n",
    "\n",
    "# Creating an array from a list defined by comprehension\n",
    "X = np.array([2*i for i in range(10)]) # 0, 2, 4, 6, ..., 18\n",
    "X"
   ]
  },
  {
   "cell_type": "code",
   "execution_count": 20,
   "id": "eb2d5741-5089-4072-a9a3-82b9b34def61",
   "metadata": {},
   "outputs": [
    {
     "data": {
      "text/plain": [
       "array([[1, 3, 3],\n",
       "       [3, 3, 1],\n",
       "       [1, 2, 0]])"
      ]
     },
     "execution_count": 20,
     "metadata": {},
     "output_type": "execute_result"
    }
   ],
   "source": [
    "# Create an array from a list of lists\n",
    "X = np.array([[1, 3, 3],\n",
    "              [3, 3, 1],\n",
    "              [1, 2, 0]])\n",
    "X"
   ]
  },
  {
   "cell_type": "code",
   "execution_count": 26,
   "id": "8da4c2fc-e710-4d3c-bd8c-9b819088765b",
   "metadata": {},
   "outputs": [
    {
     "data": {
      "text/plain": [
       "array([[1., 1., 1.],\n",
       "       [1., 1., 1.]])"
      ]
     },
     "execution_count": 26,
     "metadata": {},
     "output_type": "execute_result"
    }
   ],
   "source": [
    "X = np.ones(shape=(2,3))\n",
    "X\n"
   ]
  },
  {
   "cell_type": "code",
   "execution_count": null,
   "id": "f4e22fad-fcf5-4b78-a6ae-1e19e5498fb9",
   "metadata": {},
   "outputs": [],
   "source": [
    "\n",
    "(b) Using array constructors and slicing, create and display the following matrix:\n",
    "\n",
    "[[0. 1. 2. 3. 4. 5.]\n",
    " [0. 1. 2. 3. 4. 5.]\n",
    " [0. 1. 2. 3. 4. 5.]\n",
    " [0. 1. 2. 3. 4. 5.]\n",
    " [0. 1. 2. 3. 4. 5.]\n",
    " [0. 1. 2. 3. 4. 5.]]\n",
    "\n",
    "You can either replace each row of a matrix of zeros with np.array([0, 1, 2, 3, 4, 5]) or assign to each column its index."
   ]
  },
  {
   "cell_type": "code",
   "execution_count": 37,
   "id": "cb27c054-3d39-4944-9a05-7a07427b5422",
   "metadata": {},
   "outputs": [
    {
     "data": {
      "text/plain": [
       "array([[0., 1., 2., 3., 4., 5.],\n",
       "       [0., 1., 2., 3., 4., 5.],\n",
       "       [0., 1., 2., 3., 4., 5.],\n",
       "       [0., 1., 2., 3., 4., 5.],\n",
       "       [0., 1., 2., 3., 4., 5.],\n",
       "       [0., 1., 2., 3., 4., 5.]])"
      ]
     },
     "execution_count": 37,
     "metadata": {},
     "output_type": "execute_result"
    }
   ],
   "source": [
    "# Insert your code here\n",
    "import numpy as np\n",
    "x = np.zeros((6,6))\n",
    "v = [i for i in range(6)]\n",
    "#x[0:, 0:] = v\n",
    "x[:] = v\n",
    "x"
   ]
  },
  {
   "cell_type": "code",
   "execution_count": 38,
   "id": "1ec4a90b-c291-4e38-9f20-4d7fe1878f3e",
   "metadata": {},
   "outputs": [
    {
     "name": "stdout",
     "output_type": "stream",
     "text": [
      "First solution\n",
      "[[0. 1. 2. 3. 4. 5.]\n",
      " [0. 1. 2. 3. 4. 5.]\n",
      " [0. 1. 2. 3. 4. 5.]\n",
      " [0. 1. 2. 3. 4. 5.]\n",
      " [0. 1. 2. 3. 4. 5.]\n",
      " [0. 1. 2. 3. 4. 5.]]\n",
      "\n",
      "\n",
      "Second solution\n",
      "[[0. 1. 2. 3. 4. 5.]\n",
      " [0. 1. 2. 3. 4. 5.]\n",
      " [0. 1. 2. 3. 4. 5.]\n",
      " [0. 1. 2. 3. 4. 5.]\n",
      " [0. 1. 2. 3. 4. 5.]\n",
      " [0. 1. 2. 3. 4. 5.]]\n"
     ]
    }
   ],
   "source": [
    "# original cozum\n",
    "# First solution\n",
    "X = np.zeros(shape = (6, 6))\n",
    "\n",
    "# We replace each row with 'np.array([0, 1, 2, 3, 4, 5])' \n",
    "for i in range (6):\n",
    "    X[i ,:] = np.array ([0, 1, 2, 3, 4, 5])\n",
    "\n",
    "# Display the matrix\n",
    "print(\"First solution\")\n",
    "print(X)\n",
    "print(\"\\n\")\n",
    "\n",
    "# Second solution\n",
    "X = np.zeros(shape = (6, 6))\n",
    "\n",
    "# Each column of X is assigned its index\n",
    "for i in range(6):\n",
    "    X[:, i] = i\n",
    "    \n",
    "# Matrix display\n",
    "print(\"Second solution\")\n",
    "print(X)"
   ]
  },
  {
   "cell_type": "markdown",
   "id": "a3fc93c7-da02-4878-a41d-11269fcdaf6f",
   "metadata": {},
   "source": [
    "## Operations on Numpy arrays: Example"
   ]
  },
  {
   "cell_type": "code",
   "execution_count": null,
   "id": "f473381f-bd49-45c3-be0f-9c00bd0dd407",
   "metadata": {},
   "outputs": [],
   "source": [
    "3. Operations on Numpy arrays: Example\n",
    "\n",
    "    The numpy module is not only used to create matrices. Most of the time, the matrices will be created from real data.\n",
    "\n",
    "    The interest of the numpy module consists in its optimized code which allows to perform computations on large matrices in a very short time.\n",
    "\n",
    "    The numpy module contains basic mathematical functions such as:\n",
    "    Function \tNumpy Function\n",
    "    𝑒^𝑥     ß\tnp.exp(x)\n",
    "    log(𝑥) \tnp.log(x)\n",
    "    sin(𝑥)  \tnp.sin(x)\n",
    "    cos(𝑥)    \tnp.cos(x)\n",
    "    Rounding to n decimals \tnp.round(x, decimals = n)\n",
    "\n",
    "    The complete list of math operations for numpy is given here.==> https://numpy.org/doc/stable/reference/routines.math.html\n",
    "\n",
    "    These functions can be applied to all numpy arrays, regardless of their dimensions:\n",
    "\n",
    "\n",
    "    X = np.array([i/100 for i in range(100)]) # 0, 0.01, 0.02, 0.03, ..., 0.98, 0.99\n",
    "\n",
    "    # Calculate the exponential of x for x = 0, 0.01, 0.02, 0.03, ..., 0.98, 0.99\n",
    "    exp_X = np.exp(X)\n",
    "\n",
    "In the next cell we will create the array:\n",
    "\n",
    "𝑋=(0.010.02...0.980.99)\n",
    "\n",
    "    (a) Define a function f taking as argument an array X and computing in a single line of code the following function:\n",
    "\n",
    "𝑓(𝑥)=exp(sin(𝑥)+cos(𝑥))\n",
    "\n",
    "    (b) Display the first 10 elements of the result rounded to 2 decimals of the f function applied to the X array.\n"
   ]
  },
  {
   "cell_type": "code",
   "execution_count": 42,
   "id": "3702d211-5000-4c18-bb23-acb3d4c8a1c9",
   "metadata": {},
   "outputs": [
    {
     "name": "stdout",
     "output_type": "stream",
     "text": [
      "[2.72 2.75 2.77 2.8  2.83 2.85 2.88 2.91 2.94 2.96]\n"
     ]
    }
   ],
   "source": [
    "X = np.array([i/100 for i in range(100)])\n",
    "\n",
    "# Insert your code here\n",
    "def f(X):\n",
    "    \"\"\"\n",
    "    This function calculate the Array of  exp(sin(𝑥)+cos(𝑥))\n",
    "    \n",
    "    Parameters:\n",
    "    -----------\n",
    "    X = aray\n",
    "    \n",
    "    Returns:\n",
    "    --------\n",
    "    result : Display the 10 elements of this function solution  𝑓(𝑥)=exp(sin(𝑥)+cos(𝑥))\n",
    "    \"\"\"\n",
    "    result = np.exp(np.sin(X) + np.cos(X))\n",
    "    result = np.round(result, 2)\n",
    "    return result[:10]\n",
    "\n",
    "print(f(X))"
   ]
  },
  {
   "cell_type": "code",
   "execution_count": null,
   "id": "f5b8894f-ec89-454c-9fb6-820582152dbf",
   "metadata": {},
   "outputs": [],
   "source": [
    "(c) Define a function called f_python that performs the same operation on every element of X using a for loop.\n",
    "\n",
    "The dimensions of an array Xcan be retrieved using the shape attribute of X which is a tuple: shape = X.shape.\n",
    "\n",
    "For an array with one dimension, the number of elements contained in this array corresponds to the first element of its shape:\n",
    "    n = X.shape[0].\n",
    "\n"
   ]
  },
  {
   "cell_type": "code",
   "execution_count": 51,
   "id": "a599409b-dd07-4a14-af05-61cfbe2272d2",
   "metadata": {},
   "outputs": [
    {
     "name": "stdout",
     "output_type": "stream",
     "text": [
      "[2.71828183 2.74546328 2.7726365  2.79979313 2.8269247  2.85402258\n",
      " 2.88107805 2.90808226 2.93502626 2.96190097]\n",
      "--------------------------------------------------\n",
      "[[1. 1. 1. 1.]\n",
      " [1. 1. 1. 1.]\n",
      " [1. 1. 1. 1.]\n",
      " [1. 1. 1. 1.]\n",
      " [1. 1. 1. 1.]]\n",
      "--------------------------------------------------\n",
      "[[3.98195654 3.98195654 3.98195654 3.98195654]\n",
      " [3.98195654 3.98195654 3.98195654 3.98195654]\n",
      " [3.98195654 3.98195654 3.98195654 3.98195654]\n",
      " [3.98195654 3.98195654 3.98195654 3.98195654]\n",
      " [3.98195654 3.98195654 3.98195654 3.98195654]]\n",
      "--------------------------------------------------\n",
      "[[2.71828183 3.98195654 1.63746709 0.42789712 0.24403439 0.50902299]\n",
      " [2.71828183 3.98195654 1.63746709 0.42789712 0.24403439 0.50902299]\n",
      " [2.71828183 3.98195654 1.63746709 0.42789712 0.24403439 0.50902299]\n",
      " [2.71828183 3.98195654 1.63746709 0.42789712 0.24403439 0.50902299]\n",
      " [2.71828183 3.98195654 1.63746709 0.42789712 0.24403439 0.50902299]\n",
      " [2.71828183 3.98195654 1.63746709 0.42789712 0.24403439 0.50902299]]\n"
     ]
    }
   ],
   "source": [
    "# Insert your code here\n",
    "# Insert your code here\n",
    "def f_python(X):\n",
    "    if len(X.shape) == 1:\n",
    "        return np.exp(np.sin(X) + np.cos(X))\n",
    "    else:\n",
    "        rows, cols = X.shape[0], X.shape[1]\n",
    "        for r in range(rows):\n",
    "            for c in range(cols):\n",
    "                X[r,c] = np.exp(np.sin(X[r,c]) + np.cos(X[r,c]))\n",
    "    return X\n",
    "\n",
    "X = np.array([i/100 for i in range(100)])\n",
    "Y = np.ones((5,4))\n",
    "Z = np.zeros((6,6))\n",
    "v = [i for i in range(6)]\n",
    "Z[:] = v\n",
    "\n",
    "print(f_python(X[:10]))\n",
    "print(50*'-')\n",
    "print(Y)\n",
    "print(50*'-')\n",
    "print(f_python(Y))\n",
    "print(50*'-')\n",
    "print(f_python(Z))"
   ]
  },
  {
   "cell_type": "code",
   "execution_count": 52,
   "id": "363dcce8-3f30-4d79-bc74-a8aa8fe9b262",
   "metadata": {},
   "outputs": [],
   "source": [
    "# original cozum\n",
    "def f_python(X):\n",
    "    n = X.shape[0]\n",
    "    for i in range(n):\n",
    "        X[i] = np.exp(np.sin(X[i]) + np.cos(X[i]))"
   ]
  },
  {
   "cell_type": "code",
   "execution_count": null,
   "id": "cf72be9e-5da8-4add-bb87-49000a663b96",
   "metadata": {},
   "outputs": [],
   "source": [
    "We will now compare the execution times of these two functions applied to a very large array with 10 million values.\n",
    "\n",
    "We will measure these execution times using the time module. To measure the execution time of a function, just take the difference between the start time of execution and the end time. We consider that the assignment of a variable is done instantly.\n",
    "\n",
    "(d) Run the next cell to compare execution times. This cell could take some time to run."
   ]
  },
  {
   "cell_type": "code",
   "execution_count": 54,
   "id": "3ebabcaa-f526-499d-8d89-083e5dc41ba1",
   "metadata": {},
   "outputs": [
    {
     "name": "stdout",
     "output_type": "stream",
     "text": [
      "Calculating f with numpy took 0.4012620449066162 seconds\n",
      "Computing f with a for loop took 35.69668197631836 seconds\n"
     ]
    }
   ],
   "source": [
    "from time import time\n",
    "\n",
    "# Creation of an array with 10 million values\n",
    "X = np.array([i/1e7 for i in range(int(1e7))])\n",
    "\n",
    "time_start = time()\n",
    "f(X)\n",
    "time_end = time()\n",
    "\n",
    "runtime = time_end - time_start\n",
    "\n",
    "print (\"Calculating f with numpy took\", runtime, \"seconds\")\n",
    "\n",
    "time_start = time()\n",
    "f_python(X)\n",
    "time_end = time()\n",
    "\n",
    "runtime = time_end - time_start\n",
    "\n",
    "print (\"Computing f with a for loop took\", runtime, \"seconds\")"
   ]
  },
  {
   "cell_type": "markdown",
   "id": "458a5c3b-8481-4f45-8432-f3e07c91fa65",
   "metadata": {},
   "source": [
    "## Conclusion"
   ]
  },
  {
   "cell_type": "code",
   "execution_count": null,
   "id": "bc487579-41d0-4525-8ad0-8ba0b197724b",
   "metadata": {},
   "outputs": [],
   "source": [
    "4. Conclusion\n",
    "\n",
    "    As you can see, the computation time with a for loop is extremely long.\n",
    "\n",
    "    This is why it is always better to perform calculations on matrices using numpy rather than with loops. This will be the case when we do statistics on data.\n",
    "\n",
    "    In the following exercises, we will see manipulation and operations on the numpy arrays in more details."
   ]
  },
  {
   "cell_type": "markdown",
   "id": "fd598ce8-e975-4e3a-950c-846ae9769195",
   "metadata": {},
   "source": [
    "# Manipulation of Numpy arrays "
   ]
  },
  {
   "cell_type": "markdown",
   "id": "afdd34a0-796b-4915-80c7-c6bc93d9bdc7",
   "metadata": {},
   "source": [
    "## Conditional indexing of a Numpy array"
   ]
  },
  {
   "cell_type": "code",
   "execution_count": null,
   "id": "91d64983-db30-4405-a2a3-2b8078d93aaf",
   "metadata": {},
   "outputs": [],
   "source": [
    "1. Conditional indexing of a Numpy array\n",
    "\n",
    "    In the previous notebook, we saw how to index an array by slicing along multiple dimensions:\n",
    "\n",
    "\n",
    "    A more advanced technique is to index the elements of an array using a condition:\n",
    "\n",
    "    # Creation of an array of shape 3x3\n",
    "    X = np.array ([[-1, 0, 30],\n",
    "                   [-2, 3, -5],\n",
    "                   [5, -5, 10]])\n",
    "\n",
    "    # We assign to all negative elements the value 0\n",
    "    X[X < 0] = 0\n",
    "\n",
    "    # Displaying the modified matrix\n",
    "    print(X)\n",
    "\n",
    "    >>> [[0, 0, 30],\n",
    "    >>>  [0, 3, 0 ],\n",
    "    >>>  [5, 0, 10]]\n",
    "\n",
    "    This allows you to easily access and modify elements that meet a specific condition.\n",
    "\n",
    "    In addition, it is possible to index an array using a condition evaluated on another array:\n",
    "\n",
    "\n",
    "    # Creation of 2 arrays with 8 elements\n",
    "    X = np.array([3, -7, -10, 3, 6, 5, 2, 9])\n",
    "\n",
    "    y = np.array([0, 1, 1, 1, 0, 1, 0, 0])\n",
    "\n",
    "    # We assign the value -1 to the elements of X for which\n",
    "    # the value of y at the corresponding index is equal to 1\n",
    "    X[y == 1] = -1\n",
    "\n",
    "    # Displaying X\n",
    "    print(X)\n",
    "    >>> [3, -1, -1, -1, 6, -1, 2, 9]\n",
    "\n",
    "    # Displaying the elements of X for which the value of y at the corresponding index is 0\n",
    "    print(X[y == 0])\n",
    "    >>> [3, 6, 2, 9]\n",
    "\n",
    "We have access to data from an American supermarket getting ready for Black Friday, a day when American businesses offer very large discounts to end their seasons.\n",
    "\n",
    "The data is distributed over 3 arrays:\n",
    "\n",
    "    items: The name of the discounted items.\n",
    "\n",
    "    quantities: The available stock for each discounted item.\n",
    "\n",
    "    discounts: The discount for each item. Items can have a 25, 50, 75, or 90 percent discount.\n",
    "\n",
    "    (a) Run the following cell to instantiate the arrays containing the supermarket data.\n",
    "iao"
   ]
  },
  {
   "cell_type": "code",
   "execution_count": 1,
   "id": "0ce2470d-8987-48c9-8a1e-99a96291be26",
   "metadata": {},
   "outputs": [],
   "source": [
    "import numpy as np\n",
    "\n",
    "items = np.array([\"grid paper\", \"plate\", \"rubber band\", \"key chain\", \"bread\", \"speakers\", \"chocolate\",\n",
    "                  \"fridge\", \"bowl\", \"shirt\", \"truck\", \"canvas\", \"monitor\", \"piano\", \"sailboat\", \"clamp\",\n",
    "                  \"spring\", \"picture frame\", \"knife\", \"hanger\", \"pool stick\", \"buckel\", \"vase\", \"wagon\",\n",
    "                  \"balloon\", \"thread\", \"couch\", \"drawer\", \"packing peanuts\", \"bottle\", \"needle\",\n",
    "                  \"rusty nail\", \"blanket\", \"lamp\", \"box\", \"cookie jar\", \"washing machine\", \"paint brush\",\n",
    "                  \"puddle\", \"sketch pad\", \"sandal\", \"doll\", \"floor\", \"sidewalk\", \"sand paper\", \"stockings\",\n",
    "                  \"bag\", \"perfume\", \"magnet\", \"fake flowers\", \"street lights\", \"carrots\", \"purse\", \"thermostat\",\n",
    "                  \"candle\", \"mouse pad\", \"remote\", \"clothes\", \"rubber duck\", \"hair brush\", \"computer\", \"toe ring\",\n",
    "                  \"scotch tape\", \"nail file\", \"window\", \"table\", \"model car\", \"toothbrush\", \"shoes\", \"leg warmers\",\n",
    "                  \"cat\", \"pillow\", \"rug\", \"hair tie\", \"phone\", \"tooth picks\", \"brocolli\", \"newspaper\", \"towel\",\n",
    "                  \"watch\", \"lotion\", \"apple\", \"pants\", \"air freshener\", \"pen\", \"lace\", \"car\", \"headphones\",\n",
    "                  \"charger\", \"toilet\", \"candy wrapper\", \"soy sauce packet\", \"sticky note\", \"shoe lace\",\n",
    "                  \"zipper\", \"soda can\", \"bed\", \"cell phone\", \"lip gloss\", \"thermometer\"])\n",
    "\n",
    "quantities = np.array([310, 455, 295, 613, 812, 907, 564, 904, 829, 167, 517, 272, 416,\n",
    "                       14, 251, 476, 757, 343, 472,  71, 160, 996, 182, 721, 565, 582,\n",
    "                       279,  66, 297, 800, 914,  69, 498, 885, 114, 876, 635, 295, 146,\n",
    "                       601, 941, 100, 370, 467, 423, 101, 504, 298, 757, 291, 163, 970,\n",
    "                       921, 953, 458, 381, 692, 393, 749, 285, 454, 174,  37, 289, 863,\n",
    "                       885, 331, 585, 678, 834, 349, 732, 149, 486, 993, 869, 967, 537,\n",
    "                       220,  15, 457, 483, 387, 180, 579, 155, 134, 163, 314, 334, 429,\n",
    "                       154,  18, 426, 363, 146, 454, 902, 145,  95])\n",
    "\n",
    "discounts = np.array([25, 25, 50, 25, 50, 50, 50, 25, 50, 50, 25, 25, 25, 25, 50, 75, 25,\n",
    "                      50, 50, 50, 25, 25, 25, 25, 75, 50, 25, 25, 25, 25, 90, 50, 25, 25,\n",
    "                      25, 50, 50, 25, 25, 75, 75, 50, 25, 25, 50, 25, 90, 90, 50, 90, 25,\n",
    "                      25, 25, 25, 25, 25, 25, 50, 25, 25, 75, 50, 50, 25, 50, 25, 25, 50,\n",
    "                      25, 75, 25, 25, 50, 25, 25, 50, 75, 25, 25, 90, 25, 75, 25, 25, 25,\n",
    "                      25, 25, 25, 50, 50, 75, 25, 50, 25, 25, 50, 25, 25, 25, 75])"
   ]
  },
  {
   "cell_type": "code",
   "execution_count": null,
   "id": "94169f4a-fd4e-47ea-9aec-d3bf342c77df",
   "metadata": {},
   "outputs": [],
   "source": [
    "b) Using conditional indexing on items and quantities arrays,\n",
    "display the name and quantity of objects that will have a 90% reduction."
   ]
  },
  {
   "cell_type": "code",
   "execution_count": 60,
   "id": "68e80d55-e2a7-48fe-b3de-8493854d6c97",
   "metadata": {},
   "outputs": [
    {
     "name": "stdout",
     "output_type": "stream",
     "text": [
      "['needle' 'bag' 'perfume' 'fake flowers' 'watch']\n",
      "[914 504 298 291  15]\n",
      "['needle' 'bag' 'perfume' 'fake flowers' 'watch']\n",
      "[914 504 298 291  15]\n"
     ]
    }
   ],
   "source": [
    "# Insert your code here\n",
    "\n",
    "print(items[discounts == 90])\n",
    "print(quantities[discounts == 90])\n",
    "\n",
    "# original cozum\n",
    "# Displaying the name of the objects with a 90% discount\n",
    "print(items[discounts == 90])\n",
    "\n",
    "# Displaying the quantity of objects with a 90% discount\n",
    "print(quantities[discounts == 90])"
   ]
  },
  {
   "cell_type": "code",
   "execution_count": null,
   "id": "5236dd5b-edfd-4ccf-aec5-5c9f66caca37",
   "metadata": {},
   "outputs": [],
   "source": [
    "(c) You want to buy a new cell phone (\"cell phone\") and speakers (\"speakers\"). \n",
    "Using conditional indexing on discounts, find the discount that will be granted to these items."
   ]
  },
  {
   "cell_type": "code",
   "execution_count": 67,
   "id": "797e7ff4-c2d2-4a02-ae13-ba4397a025b6",
   "metadata": {
    "tags": []
   },
   "outputs": [
    {
     "name": "stdout",
     "output_type": "stream",
     "text": [
      "Cell phone discount = % 25\n",
      "Speakers discount = % 50\n",
      "Cell phones will be discounted by 25 percent.\n",
      "Speakers will be discounted by 50 percent.\n"
     ]
    }
   ],
   "source": [
    "# Insert your code here\n",
    "print(\"Cell phone discount = %\", discounts[items == \"cell phone\"][0])\n",
    "\n",
    "\n",
    "print(\"Speakers discount = %\", discounts[items == \"speakers\"][0])\n",
    "\n",
    "# original cozum\n",
    "discount_cellphone = discounts[items == 'cell phone']\n",
    "print(\"Cell phones will be discounted by\", discount_cellphone[0], \"percent.\")\n",
    "\n",
    "\n",
    "discount_speaker = discounts[items == 'speakers']\n",
    "print(\"Speakers will be discounted by\", discount_speaker[0], \"percent.\")"
   ]
  },
  {
   "cell_type": "code",
   "execution_count": null,
   "id": "1c68c03d-29a3-4cb9-9338-78d09141819a",
   "metadata": {
    "tags": []
   },
   "outputs": [],
   "source": [
    "    d) The manager of the supermarket would like to know which items are likely to be sold very quickly. \n",
    "    Display the name of the items whose quantity is less or equal to 50 and the discount granted to them.\n",
    "\n",
    "    (e) Which object is likely to be sold out extremely quickly?\n"
   ]
  },
  {
   "cell_type": "code",
   "execution_count": 69,
   "id": "91b0701e-f76f-496e-a6d8-6de235158112",
   "metadata": {},
   "outputs": [
    {
     "name": "stdout",
     "output_type": "stream",
     "text": [
      "['piano' 'scotch tape' 'watch' 'sticky note']\n",
      "[25 50 90 50]\n",
      "Objects ['piano' 'scotch tape' 'watch' 'sticky note']\n",
      "Discount [25 50 90 50]\n",
      "\n",
      "\n",
      "Watches ('watch') could be sold out very quickly because they are in small quantities and have a discount of 90%.\n"
     ]
    }
   ],
   "source": [
    "# Insert your code here\n",
    "print(items[quantities <= 50])\n",
    "print(discounts[quantities <= 50])\n",
    "\n",
    "\n",
    "# original cozum\n",
    "print(\"Objects\", items[quantities <= 50])\n",
    "print(\"Discount\", discounts[quantities <= 50])\n",
    "\n",
    "print(\"\\n\")\n",
    "print(\"Watches ('watch') could be sold out very quickly because they are in small quantities and have a discount of 90%.\")"
   ]
  },
  {
   "cell_type": "code",
   "execution_count": 2,
   "id": "d0fe98a7-47b4-408c-b40a-1d2f86c40198",
   "metadata": {},
   "outputs": [
    {
     "name": "stdout",
     "output_type": "stream",
     "text": [
      "piano Quantities = 14 Discount = 25 \n",
      "\n",
      "scotch tape Quantities = 37 Discount = 50 \n",
      "\n",
      "watch Quantities = 15 Discount = 90 \n",
      "\n",
      "sticky note Quantities = 18 Discount = 50 \n",
      "\n",
      "\n",
      "It seems Watch will be sold quickly. It has %90 discount and just 15 watch in the stock.\n"
     ]
    }
   ],
   "source": [
    "for i in range(len(items)):\n",
    "    for j in items[quantities <= 50]:\n",
    "        if items[i] == j:\n",
    "            print(j, \"Quantities =\",quantities[i], \"Discount =\",discounts[i], \"\\n\")\n",
    "\n",
    "print('\\nIt seems Watch will be sold quickly. It has %90 discount and just 15 watch in the stock.')"
   ]
  },
  {
   "cell_type": "markdown",
   "id": "fa928e17-64e1-4be3-b8f3-3801751f155b",
   "metadata": {},
   "source": [
    "## Iterating over the elements of an array"
   ]
  },
  {
   "cell_type": "code",
   "execution_count": null,
   "id": "ed31372a-3321-454b-a559-20d3f5338290",
   "metadata": {},
   "outputs": [],
   "source": [
    "2. Iterating over the elements of an array\n",
    "\n",
    "    A screen pixel can simulate a color by superimposing 3 channels corresponding to red, green and blue colors. By varying the light intensity of these channels, it is possible to cover a large part of the range of colors visible by the human eye.\n",
    "\n",
    "\n",
    "    For this reason, a colored image of size 32x32 pixels is often represented by an array of shape 32x32x3 where the 3rd dimension corresponds to the brightness intensity of each channel for each pixel of the image :\n",
    "\n",
    "\n",
    "    (a) Run the following cell to import the image corresponding to the drawing in the examples above.\n",
    "\n"
   ]
  },
  {
   "cell_type": "code",
   "execution_count": 11,
   "id": "abb6afee-2fcc-4eb7-92d2-67ac7e0e29ab",
   "metadata": {},
   "outputs": [
    {
     "data": {
      "image/png": "[encoded data removed]",
      "text/plain": [
       "<Figure size 640x480 with 1 Axes>"
      ]
     },
     "metadata": {},
     "output_type": "display_data"
    }
   ],
   "source": [
    "import cv2\n",
    "import numpy as np\n",
    "import matplotlib.pyplot as plt\n",
    "\n",
    "# Image import\n",
    "img = cv2.imread(\"mushroom32_32.png\")\n",
    "img = np.int64(img)\n",
    "\n",
    "# Image display\n",
    "#_ = plt.imshow(img[:,:, ::-1])\n",
    "_ = plt.imshow(img[:,:,::-1])\n",
    "_ = plt.axis(\"off\")"
   ]
  },
  {
   "cell_type": "code",
   "execution_count": 12,
   "id": "8fff61fa-3555-4540-add8-7220022ef2cd",
   "metadata": {},
   "outputs": [
    {
     "name": "stdout",
     "output_type": "stream",
     "text": [
      "(231, 231, 3)\n"
     ]
    }
   ],
   "source": [
    "#(b) The image is stored in the img array. Display the shape of the created array.\n",
    "\n",
    "# Insert your code here\n",
    "# Displaying the shape of the array\n",
    "print(img.shape)"
   ]
  },
  {
   "cell_type": "code",
   "execution_count": null,
   "id": "d6ee1328-d2d8-4a07-bb28-405f074dca05",
   "metadata": {},
   "outputs": [],
   "source": [
    "\n",
    "\n",
    "    To transform a color image into a gray scale image, you need to, for each pixel of the image, to compute the brightness mean over the 3 channels.\n",
    "\n",
    "    We will have to iterate on each pixel of the image, but for numpy arrays with several dimensions, the iterations must be done dimension by dimension:\n",
    "\n",
    "    # Creation of an array of dimensions 32x32x3 (rows x columns x channels)\n",
    "    X = np.zeros(shape = (32, 32, 3))\n",
    "\n",
    "    # Iteration over the first dimension of the array (the rows)\n",
    "    for row in X:\n",
    "        # Iteration over the second dimension of the array (the pixels of the rows)\n",
    "        for pixel in row:\n",
    "            # Iteration over the third dimension of the array (the channels of the pixel)\n",
    "            for channel in pixel:\n",
    "                ...\n",
    "                ...\n",
    "\n",
    "    A pixel of an image is an array with 3 elements corresponding to the brightness intensities of the channels. We can take the average of these three elements to obtain the brightness intensity of the pixel in gray scale.\n",
    "\n",
    "    (c) Define a function named rgb_to_gray which will take an array X as argument. In this function, you will have to:\n",
    "\n",
    "        Instantiate an array filled with zeros named X_gray with the same number of rows and columns as X but with a single channel. This array will contain the light intensities of the pixels in gray scale.\n",
    "\n",
    "        Iterate over the pixels of the image and store the average of the intensities of the pixel channels in X_gray at the corresponding index. You can use the enumerate generator in your for loops to get the pixel indices.\n",
    "\n",
    "You can test your function on img to verify that it works, but be careful not to overwrite it.\n"
   ]
  },
  {
   "cell_type": "code",
   "execution_count": null,
   "id": "91d3e40a-d230-4648-bed3-cbaad29ba2d1",
   "metadata": {},
   "outputs": [],
   "source": [
    "img = cv2.imread(\"mushroom32_32.png\")\n",
    "\n",
    "X_gray = np.zeros(shape = (231, 231, 1))\n",
    "for i, row in enumerate(img):\n",
    "    print(\"i = \", i, \"row = \",row)\n",
    "    for j, pixel in enumerate(row):\n",
    "        print(\"j = \", j , \"pixel = \",pixel)\n",
    "        average = 0\n",
    "        for channel in pixel:\n",
    "            average += channel\n",
    "            print(\"average = \", average)\n",
    "        average /= 3\n",
    "        print(\"average / 3 = \", average)\n",
    "        \n",
    "        X_gray[i, j] = average\n",
    "        print(\"X_gray[i,j] = \" , i,j,X_gray[i, j])"
   ]
  },
  {
   "cell_type": "code",
   "execution_count": 15,
   "id": "c881f110-2ad3-4e6e-9b9c-d34894622e1d",
   "metadata": {},
   "outputs": [
    {
     "name": "stdout",
     "output_type": "stream",
     "text": [
      "255.0 230 230 (231, 231, 3) [255.]\n"
     ]
    }
   ],
   "source": [
    "# Insert your code here\n",
    "#original cozum\n",
    "\n",
    "def rgb_to_gray(X):\n",
    "    n_rows, n_columns, n_channels = X.shape\n",
    "    \n",
    "    # Create an array filled with zeros with the same number of rows and columns as X\n",
    "    # but with only 1 channel\n",
    "    X_gray = np.zeros(shape = (n_rows, n_columns, 1))\n",
    "    \n",
    "    # Iterating over the rows of the image\n",
    "    for i, row in enumerate(X):\n",
    "        # Iterating over the pixels of the row\n",
    "        for j, pixel in enumerate(row):\n",
    "            # Compute the average of the intensities of the channels\n",
    "            average = 0\n",
    "            for channel in pixel:\n",
    "                average += channel\n",
    "            average /= 3\n",
    "            \n",
    "            # We store the average of the intensities in X_gray\n",
    "            X_gray[i, j] = average\n",
    "\n",
    "    print(average, i, j, X.shape, X_gray[i,j])  \n",
    "    return  X_gray\n",
    "\n",
    "# Test\n",
    "_ = rgb_to_gray(img)"
   ]
  },
  {
   "cell_type": "code",
   "execution_count": 16,
   "id": "29faf01c-26fa-4300-bfae-5dd1d44c3470",
   "metadata": {},
   "outputs": [
    {
     "name": "stdout",
     "output_type": "stream",
     "text": [
      "255.0 230 230 (231, 231, 3) [255.]\n"
     ]
    },
    {
     "data": {
      "image/png": "[encoded data removed]",
      "text/plain": [
       "<Figure size 640x480 with 2 Axes>"
      ]
     },
     "metadata": {},
     "output_type": "display_data"
    }
   ],
   "source": [
    "#(d) Run the following cell to display the result of rgb_to_gray:\n",
    "\n",
    "img = cv2.imread(\"mushroom32_32.png\")\n",
    "\n",
    "# Displaying the color image\n",
    "plt.subplot(1, 2, 1)\n",
    "_ = plt.imshow(img[:,:, :: - 1])\n",
    "_ = plt.axis(\"off\")\n",
    "\n",
    "# Displaying the gray scale image\n",
    "plt.subplot(1, 2, 2)\n",
    "_ = plt.imshow(rgb_to_gray(img)[..., 0], cmap = 'gray')\n",
    "_ = plt.axis(\"off\")"
   ]
  },
  {
   "cell_type": "markdown",
   "id": "d7fa34ef-1ca9-4540-8afc-d6c33dfc9d1f",
   "metadata": {},
   "source": [
    "## Reshaping an array"
   ]
  },
  {
   "cell_type": "code",
   "execution_count": null,
   "id": "9d6b6090-6bad-4521-9279-ba0bcf4a8b65",
   "metadata": {},
   "outputs": [],
   "source": [
    "3. Reshaping an array\n",
    "\n",
    "    The shape of an array corresponds to its dimensions. Resizing an array is known as reshaping.\n",
    "\n",
    "    It happens that an array is not of the appropriate dimensions to be visualized or processed with machine learning algorithms which often can only process vectors and not matrices.\n",
    "\n",
    "    Thus, it is possible to use the reshape method of an array to reconstruct the data of the array with different dimensions. The argument of the reshape method is the shape we want to obtain:\n",
    "\n",
    "    # Create an array from a list of 10 elements\n",
    "    X = np.array([i for i in range(1, 11)]) # 1, 2, ..., 10\n",
    "\n",
    "    # Displaying the dimensions of X\n",
    "    print(X.shape)\n",
    "    >>> (10,)\n",
    "\n",
    "    # Displaying X\n",
    "    print(X)\n",
    "    >>> [1, 2, 3, 4, 5, 6, 7, 8, 9, 10]\n",
    "\n",
    "    # Reshaping the array into a matrix with 2 rows and 5 columns \n",
    "    X_reshaped = X.reshape((2, 5))\n",
    "\n",
    "    # Displaying the new array\n",
    "    print(X_reshaped)\n",
    "    >>> [[1, 2, 3, 4, 5],\n",
    "    >>>  [6, 7, 8, 9, 10]]\n",
    "\n",
    "    It is possible to resize an array to any shape as long as both shapes have the same number of elements. In the previous example, the array X contains 10 elements and the shape we desire too (2 x 5 = 10).\n",
    "\n",
    "    In the following, we will briefly explore the digits dataset from the scikit-learn module, a Python library used for machine learning models.\n",
    "\n",
    "    The digits dataset contains 1797 images of handwritten digits ranging from 0 to 9. The objective of this dataset is to find a machine learning algorithm able to read handwritten numbers.\n",
    "\n",
    "    The images in this dataset have a resolution of 8x8 pixels in gray scale.\n",
    "\n",
    "    (a) Run the following cell to load the digits dataset from the scikit-learn module.\n",
    "\n",
    "\n",
    "\n"
   ]
  },
  {
   "cell_type": "code",
   "execution_count": 1,
   "id": "9a845290-6384-48f6-8417-a7e904adbd48",
   "metadata": {},
   "outputs": [],
   "source": [
    "# The load_digits function is used to load the \"digits\" dataset into an array\n",
    "\n",
    "from sklearn.datasets import load_digits\n",
    "\n",
    "\n",
    "\n",
    "# The load_digits function returns a dictionary containing\n",
    "\n",
    "# the data as well as other information about the dataset\n",
    "\n",
    "digits = load_digits()\n",
    "\n",
    "\n",
    "\n",
    "# The data of the images are in the \"data\" key\n",
    "\n",
    "X = digits['data']"
   ]
  },
  {
   "cell_type": "code",
   "execution_count": null,
   "id": "5f8d2694-3875-4ddc-9196-24da4bc64f25",
   "metadata": {},
   "outputs": [],
   "source": [
    "\n",
    "\n",
    "    All images have been loaded into the X array.\n",
    "\n",
    "    (b) Using the shape attribute, display the dimensions ofX.\n",
    "\n"
   ]
  },
  {
   "cell_type": "code",
   "execution_count": 2,
   "id": "accd6e1f-4dc5-4215-96cd-018bb6b879e4",
   "metadata": {},
   "outputs": [
    {
     "name": "stdout",
     "output_type": "stream",
     "text": [
      "[[ 0.  0.  5. ...  0.  0.  0.]\n",
      " [ 0.  0.  0. ... 10.  0.  0.]\n",
      " [ 0.  0.  0. ... 16.  9.  0.]\n",
      " ...\n",
      " [ 0.  0.  1. ...  6.  0.  0.]\n",
      " [ 0.  0.  2. ... 12.  0.  0.]\n",
      " [ 0.  0. 10. ... 12.  1.  0.]]\n"
     ]
    },
    {
     "data": {
      "text/plain": [
       "(1797, 64)"
      ]
     },
     "execution_count": 2,
     "metadata": {},
     "output_type": "execute_result"
    }
   ],
   "source": [
    "# Insert your code here\n",
    "\n",
    "print(X)\n",
    "\n",
    "X.shape"
   ]
  },
  {
   "cell_type": "code",
   "execution_count": null,
   "id": "5be63dda-e874-492a-b148-c74a0e7dce24",
   "metadata": {},
   "outputs": [],
   "source": [
    "\n",
    "\n",
    "    The X array containing the images has the dimension 1797x64, which does not correspond to the dimensions of the images at all.\n",
    "\n",
    "    In fact, the 1797 images of 8x8 dimensions have been resized into vectors of size 8x8 = 64 to make them compatible with the algorithms of scikit-learn which are not able to process matrix data.\n",
    "\n",
    "    Then, the 1797 vectors were vertically stacked into a matrix to form X. This makes it possible to have the entire dataset in a single matrix. Each row of X therefore corresponds to an image which has been transformed into a vector.\n",
    "\n",
    "    If we want to visualize the images, we have to resize the vectors of 64 elements in matrices of dimensions 8x8. Indeed, the functions for displaying images can only process matrices and not vectors.\n",
    "\n",
    "    To display the images contained in X, we are going to reshape X to obtain an array of dimensions 1797x8x8.\n",
    "\n",
    "    (c) In an array named X_reshaped, store the resized array X with the shape (1797, 8, 8).\n",
    "\n",
    "    (d) In an array named img, store the image contained at the index 1100 of X_reshaped.\n",
    "\n"
   ]
  },
  {
   "cell_type": "code",
   "execution_count": 6,
   "id": "108b6e09-ae44-4ead-b479-f94e275efd80",
   "metadata": {},
   "outputs": [
    {
     "name": "stdout",
     "output_type": "stream",
     "text": [
      "[[ 0.  1. 12. 15. 10.  2.  0.  0.]\n",
      " [ 0.  4. 14.  1.  6. 12.  2.  0.]\n",
      " [ 0.  7. 15.  0.  1. 14.  4.  0.]\n",
      " [ 0.  3. 15. 12. 15. 10.  0.  0.]\n",
      " [ 0.  0.  3. 15.  1.  0.  0.  0.]\n",
      " [ 0.  0.  0.  3. 13.  1.  0.  0.]\n",
      " [ 0.  0.  0.  0. 10.  6.  0.  0.]\n",
      " [ 0.  0. 11. 12. 13.  4.  0.  0.]]\n"
     ]
    },
    {
     "data": {
      "image/png": "[encoded data removed]",
      "text/plain": [
       "<Figure size 640x480 with 1 Axes>"
      ]
     },
     "metadata": {},
     "output_type": "display_data"
    }
   ],
   "source": [
    "# Insert your code here\n",
    "\n",
    "X_reshaped = X.reshape((1797, 8, 8))\n",
    "\n",
    "img = X_reshaped[1100]\n",
    "\n",
    "print(img)\n",
    "\n",
    "_ = plt.imshow(img, cmap=\"Blues\")"
   ]
  },
  {
   "cell_type": "code",
   "execution_count": 7,
   "id": "6d768187-d78c-418f-bbed-654cd3346d2a",
   "metadata": {},
   "outputs": [
    {
     "name": "stdout",
     "output_type": "stream",
     "text": [
      "Yes I can , it is 9.\n"
     ]
    },
    {
     "data": {
      "image/png": "[encoded data removed]",
      "text/plain": [
       "<Figure size 640x480 with 1 Axes>"
      ]
     },
     "metadata": {},
     "output_type": "display_data"
    }
   ],
   "source": [
    "  #  e) Run the next cell to display img. Can you recognize which number is displayed?\n",
    "\n",
    "import matplotlib.pyplot as plt\n",
    "\n",
    "_ = plt.imshow(img, cmap = 'gray')\n",
    "\n",
    "_ = plt.axis(\"off\")\n",
    "\n",
    "print(\"Yes I can , it is 9.\")"
   ]
  },
  {
   "cell_type": "markdown",
   "id": "b6169592-fc23-4e30-8c00-227aa3b45556",
   "metadata": {},
   "source": [
    "## Concatenation of arrays"
   ]
  },
  {
   "cell_type": "code",
   "execution_count": null,
   "id": "c495cc68-839d-43e5-89e8-c26a75b2b047",
   "metadata": {},
   "outputs": [],
   "source": [
    "4. Concatenation of arrays\n",
    "\n",
    "    It is sometimes necessary to merge several arrays to build a dataset. For that, we can use the np.concatenate function:\n",
    "\n",
    "    # Creation of two arrays with 3 rows and 2 columns\n",
    "    # The first is filled with 1\n",
    "    X_1 = np.ones(shape = (3, 2))\n",
    "    print(X_1)\n",
    "\n",
    "    >>> [[1. 1. 1.]\n",
    "    >>>  [1. 1. 1.]]\n",
    "\n",
    "    # The second is filled with 0\n",
    "    X_2 = np.zeros(shape = (3, 2))\n",
    "    print(X_ 2)\n",
    "\n",
    "    >>> [[0. 0. 0.]\n",
    "    >>>  [0. 0. 0.]]\n",
    "\n",
    "    # Concatenation of the two arrays on the row axis\n",
    "    X_3 = np.concatenate([X_1, X_2], axis = 0)\n",
    "    print(X_3)\n",
    "\n",
    "    >>> [[1. 1. 1.]\n",
    "    >>>  [1. 1. 1.]\n",
    "    >>>  [0. 0. 0.]\n",
    "    >>>  [0. 0. 0.]]\n",
    "\n",
    "    # Concatenation of the two arrays on the column axis\n",
    "    X_4 = np.concatenate([X_1, X_2], axis = 1)\n",
    "    print(X_4)\n",
    "\n",
    "    >>> [[1. 1. 1. 0. 0. 0.]\n",
    "    >>>  [1. 1. 1. 0. 0. 0.]]\n",
    "\n",
    "            The arrays to concatenate must be passed as a list or a tuple.\n",
    "\n",
    "            The axis argument determines the dimension on which the arrays should be concatenated. The arrays must have the same length on this dimension.\n",
    "\n",
    "\n",
    "\n",
    "    The axis argument is often used in numpy functions. When an array has 2 dimensions, we can interpret an operation on the axis 0 as an operation on the row-axis (the first dimension) and an operation on the axis 1 as an operation on the column-axis (the second dimension).\n",
    "\n",
    "    (a) In an array named img1, store the image contained at index 560 of X_reshaped.\n",
    "\n",
    "    (b) In an array named img2, store the image contained at index 561 of X_reshaped.\n",
    "\n",
    "    (c) In an array named img3, concatenate the arrays img1 and img2 vertically, i.e. on the row axis.\n",
    "\n"
   ]
  },
  {
   "cell_type": "code",
   "execution_count": 8,
   "id": "90a1e8c8-4b19-41a7-a74f-07cb14a15f89",
   "metadata": {},
   "outputs": [],
   "source": [
    "# Insert your code here\n",
    "# Image recovery\n",
    "img1 = X_reshaped[560]\n",
    "img2 = X_reshaped[561]\n",
    "\n",
    "# Vertical concatenation of the images\n",
    "img3 = np.concatenate([img1, img2], axis = 0)"
   ]
  },
  {
   "cell_type": "code",
   "execution_count": 9,
   "id": "467a7cda-48f7-4a67-ad2f-2dfe260abcc1",
   "metadata": {},
   "outputs": [
    {
     "data": {
      "image/png": "[encoded data removed]",
      "text/plain": [
       "<Figure size 1000x600 with 3 Axes>"
      ]
     },
     "metadata": {},
     "output_type": "display_data"
    }
   ],
   "source": [
    "\n",
    " #   (d) Run the next cell to display the result of the concatenation.\n",
    "\n",
    "## Displaying the first image\n",
    "\n",
    "plt.subplot(1, 3, 1)\n",
    "\n",
    "_ = plt.imshow(img1, cmap = 'gray')\n",
    "\n",
    "_ = plt.axis(\"off\")\n",
    "\n",
    "_ = plt.title(\"Image 1\")\n",
    "\n",
    "\n",
    "\n",
    "# Displaying the second image\n",
    "\n",
    "plt.subplot(1, 3, 2)\n",
    "\n",
    "_ = plt.imshow(img2, cmap = 'gray')\n",
    "\n",
    "_ = plt.axis(\"off\")\n",
    "\n",
    "_ = plt.title(\"Image 2\")\n",
    "\n",
    "\n",
    "\n",
    "# Displaying the concatenation of the images\n",
    "\n",
    "plt.subplot(1, 3, 3)\n",
    "\n",
    "_ = plt.imshow(img3, cmap = 'gray')\n",
    "\n",
    "_ = plt.axis(\"off\")\n",
    "\n",
    "_ = plt.title(\"Vertical Concatenation\")\n",
    "\n",
    "\n",
    "\n",
    "# Resizing the figure\n",
    "\n",
    "fig = plt.gcf()\n",
    "\n",
    "fig.set_size_inches((10, 6))"
   ]
  },
  {
   "cell_type": "code",
   "execution_count": null,
   "id": "6a9fa7f8-c579-4344-ae6a-e00012b57d20",
   "metadata": {},
   "outputs": [],
   "source": []
  }
 ],
 "metadata": {
  "kernelspec": {
   "display_name": "web_scpraing_portfolio_deneme",
   "language": "python",
   "name": "web_scpraing_portfolio_deneme"
  },
  "language_info": {
   "codemirror_mode": {
    "name": "ipython",
    "version": 3
   },
   "file_extension": ".py",
   "mimetype": "text/x-python",
   "name": "python",
   "nbconvert_exporter": "python",
   "pygments_lexer": "ipython3",
   "version": "3.11.2"
  },
  "toc-autonumbering": true
 },
 "nbformat": 4,
 "nbformat_minor": 5
}
