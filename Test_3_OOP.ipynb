{
 "cells": [
  {
   "cell_type": "markdown",
   "metadata": {},
   "source": [
    "# Exam OOP"
   ]
  },
  {
   "cell_type": "code",
   "execution_count": null,
   "metadata": {},
   "outputs": [],
   "source": [
    " Exam\n",
    "Introduction to Object Oriented Programming ¶\n",
    "\n",
    "In this exam, your knowledge of the basic concepts of Object Oriented Programming in Python will be tested.\n",
    "\n",
    "The first exercise will ask you to define your own classes, give them methods and attributes, and then create a subclass that will inherit them.\n",
    "\n",
    "Then, in a mini-project, you will have to code a Tic-tac-toe game using only classes.\n",
    "\n",
    "\n",
    " Exercise: Warm-up\n",
    "\n",
    "    (a) Define a Drink class which contains 2 attributes: volume and expiration. The volume attribute corresponds to the volume in milliliters of the container containing the drink and expiration corresponds to the number of days remaining before the drink expires. The values of these two attributes must be passed as arguments to the constructor of the Drink class.\n",
    "\n",
    "    (b) Define in the Drink class a next_day method which will reduce by 1 the number of days before the drink's peremption.\n",
    "\n",
    "    (c) Instantiate a first Drink object whose volume will be 350mL and whose expiration date is in 2 weeks.\n"
   ]
  },
  {
   "cell_type": "code",
   "execution_count": null,
   "metadata": {},
   "outputs": [],
   "source": [
    "\n",
    "    (d) Define a Juice class which will inherit from the Drink class. It will be assumed that fruit juices systematically expire after a week.\n",
    "\n",
    "    (e) Define a DataCola class which will inherit from the Drink class. The constructor of this class will have a single argument which corresponds to the drink's container. If the drink comes in a 'can', it will automatically have a volume of 330mL and can be stored for 60 days. If the drink comes in a 'bottle', its volume will be 500mL and can be stored for 30 days. You do not need to add attributes to the DataCola class.\n",
    "\n",
    "    (f) Instantiate an object of type Juice whose volume will be 1000mL and an object of type DataCola whith a can container.\n",
    "\n"
   ]
  },
  {
   "cell_type": "code",
   "execution_count": null,
   "metadata": {},
   "outputs": [],
   "source": [
    "\n",
    "    (g) Define a new VendingMachine class which will have two attributes:content which will be a list of objects of type Drink and size which corresponds to the number of drinks that the vending machine can contain at most.\n",
    "\n",
    "    (h) Define in the VendingMachine class an add method which will take as argument an object of type Drink and will add it at the end of the list of drinks contained in a vending machine if there is still room in it.\n",
    "\n",
    "    (i) Define in the class VendingMachine a method remove which will take as argument an integer i and will remove the i-th element of the list of drinks contained in the vending machine. You can use the pop(i) method of the list class which removes the i-th element from the list calling the method.\n",
    "\n",
    "    (j) Define in the VendingMachine class a verify method which should check that will check that none of the drink is out of date. If one of these drinks have expired, it must be removed from the vending machine.\n",
    "\n",
    "    (k) Define in the VendingMachine class anext_day method which will reduce the number of days of conservation left for all the drinks in the dispenser (Vending Machine).\n",
    "\n"
   ]
  },
  {
   "cell_type": "code",
   "execution_count": null,
   "metadata": {},
   "outputs": [],
   "source": [
    " Exercise: Tic-Tac-Toe¶\n",
    "\n",
    "    (a) Define a Cell class which contains a single attribute named occupied. This attribute will automatically take the value ' ' (blank space) during instantiation.\n",
    "\n",
    "    (b) Define in the class Cell a method play1 which will give the value 'X' to the attribute occupied if the cell is not already occupied.\n",
    "\n",
    "    (c) Define in the class Cell a method play2 which will give the value 'O' to the attribute occupied if the cell is not already occupied.\n"
   ]
  },
  {
   "cell_type": "code",
   "execution_count": null,
   "metadata": {},
   "outputs": [],
   "source": [
    "\n",
    "    (d) Define a Board class which has two attributes: grid and turn. The grid attribute is a 9-element list of objects of type Cell. The turn attribute is an integer which is equal to 1 if it is the turn of player 1 to play and 2 if it is the turn of player 2. The turn attribute will be automatically initialized with the value 1.\n",
    "\n",
    "    (e) Define in the Board class the __str__ method which will allow you to use the print function on objects of this class. The print function should display in a first line the content of cells 0 to 2, then in a second line the content of cells 3 to 5 and finally in a third line the content of cells 6 to 8. The cells will be separated by the character '|' and each line will end with the character '\\n' which is the end-of-line character.\n",
    "\n",
    "    (f) Define in the Board class a play method which will take as a parameter an integer ranging from 0 to 8. Depending on the player whose turn it is to play, this method will call the play1 or play2 methods on the cell corresponding to the integer passed as argument. It will then be necessary to modify the value of the turn attribute so that the next player can play.\n",
    "\n",
    "\n",
    "    (g) Write a series of instructions to obtain the following display:\n",
    "\n",
    "   |   | O \n",
    " X | X | X \n",
    " O |   |   \n"
   ]
  },
  {
   "cell_type": "code",
   "execution_count": null,
   "metadata": {},
   "outputs": [],
   "source": []
  },
  {
   "cell_type": "code",
   "execution_count": null,
   "metadata": {},
   "outputs": [],
   "source": []
  },
  {
   "cell_type": "code",
   "execution_count": 62,
   "metadata": {},
   "outputs": [
    {
     "name": "stdout",
     "output_type": "stream",
     "text": [
      "350 14\n",
      "After next_day\n",
      "350 13\n"
     ]
    }
   ],
   "source": [
    "class Drink:\n",
    "    def __init__(self, volume,expiration):\n",
    "        self.volume = volume\n",
    "        self.expriration = expiration\n",
    "    \n",
    "    def next_day(self):\n",
    "        self.expriration -=1\n",
    "        \n",
    "\n",
    "drink1 = Drink(350, 14)\n",
    "print(drink1.volume, drink1.expriration)\n",
    "\n",
    "print('After next_day')\n",
    "drink1.next_day()\n",
    "print(drink1.volume, drink1.expriration)"
   ]
  },
  {
   "cell_type": "code",
   "execution_count": 63,
   "metadata": {},
   "outputs": [
    {
     "name": "stdout",
     "output_type": "stream",
     "text": [
      "juice1 = 1000 7\n",
      "colacan1 = 330 60\n",
      "colacan2 = 330 60\n",
      "colabottle1 = 500 30\n"
     ]
    }
   ],
   "source": [
    "class Juice(Drink):\n",
    "    def __init__(self, volume, expiration = 7):\n",
    "        super().__init__(volume, expiration)\n",
    "\n",
    "class DataCola(Drink):\n",
    "    def __init__(self, typ):\n",
    "        if typ == 'can':\n",
    "            volume = 330\n",
    "            expiration = 60            \n",
    "        elif typ == 'bottle':\n",
    "            volume = 500\n",
    "            expiration = 30\n",
    "        super().__init__(volume, expiration)\n",
    "\n",
    "juice1 = Juice(1000)\n",
    "print('juice1 =', juice1.volume, juice1.expriration)\n",
    "\n",
    "colacan1 = DataCola('can')\n",
    "print('colacan1 =', colacan1.volume, colacan1.expriration)\n",
    "\n",
    "colacan2 = DataCola('can')\n",
    "print('colacan2 =', colacan2.volume, colacan2.expriration)\n",
    "\n",
    "colabottle1 = DataCola('bottle')\n",
    "print('colabottle1 =', colabottle1.volume, colabottle1.expriration)"
   ]
  },
  {
   "cell_type": "code",
   "execution_count": 64,
   "metadata": {},
   "outputs": [
    {
     "name": "stdout",
     "output_type": "stream",
     "text": [
      "Size =  300 Content =  0\n",
      "1 item added.\n",
      "1 item added.\n",
      "1 item added.\n",
      "1 item added.\n",
      "Size =  300 Content =  4\n",
      "Expire dates : [7, 1, 60, 30]\n",
      "1. item removed.\n",
      "Size =  300 Content =  3\n",
      "Expire dates : [0, 59, 29]\n",
      "1 item removed after verifying expire date.\n",
      "Size =  300 Content =  2\n"
     ]
    }
   ],
   "source": [
    "class VendingMachine:\n",
    "    def __init__(self, size):\n",
    "        self.content = []\n",
    "        self.size = size\n",
    "\n",
    "    def add(self, drink):\n",
    "        self.content.append(drink)\n",
    "        print('1 item added.')\n",
    "     \n",
    "    def remove(self, i):\n",
    "        if i < len(self.content):\n",
    "                self.content.pop(i-1)\n",
    "                print(f'{i}. item is removed.')\n",
    "        else:\n",
    "                print(\"Invalid index\")\n",
    "\n",
    "    def verify(self):\n",
    "         for i in self.content:\n",
    "              if i.expriration == 0:\n",
    "                   self.content.remove(i)\n",
    "                   print('1 item removed after verifying expire date.')\n",
    "\n",
    "    def anext_day(self):\n",
    "         for i in self.content:\n",
    "              i.expriration -= 1\n",
    "\n",
    "\n",
    "juice1 = Juice(1000)\n",
    "colacan1 = DataCola('can')\n",
    "colacan2 = DataCola('can')\n",
    "juice2 = Juice(1500, 1)\n",
    "\n",
    "machine = VendingMachine(300)\n",
    "print('Size = ', machine.size, 'Content = ', len(machine.content))\n",
    "\n",
    "\n",
    "machine.add(juice1)\n",
    "machine.add(juice2)\n",
    "machine.add(colacan1)\n",
    "machine.add(colabottle1)\n",
    "print('Size = ', machine.size, 'Content = ', len(machine.content))\n",
    "\n",
    "print('Expire dates :', [i.expriration for i in machine.content])\n",
    "\n",
    "machine.remove(1)\n",
    "print('Size = ', machine.size, 'Content = ', len(machine.content))\n",
    "\n",
    "\n",
    "machine.anext_day()\n",
    "print('Expire dates :',[i.expriration for i in machine.content])\n",
    "\n",
    "machine.verify()\n",
    "print('Size = ', machine.size, 'Content = ', len(machine.content))"
   ]
  },
  {
   "cell_type": "markdown",
   "metadata": {},
   "source": [
    "# Exercise : TIC TAC TOC"
   ]
  },
  {
   "cell_type": "code",
   "execution_count": 24,
   "metadata": {},
   "outputs": [
    {
     "name": "stdout",
     "output_type": "stream",
     "text": [
      "0|1|2\n",
      "3|4|5\n",
      "6|7|8\n",
      "\n"
     ]
    }
   ],
   "source": [
    "\n",
    "list1 = [i for i in range(9)]\n",
    "\n",
    "a = ''\n",
    "for i in range(0,9,3):\n",
    "    a += '|'.join([str(j) for j in list1[i:i+3]]) + '\\n'\n",
    "print(a)"
   ]
  },
  {
   "cell_type": "code",
   "execution_count": 3,
   "metadata": {},
   "outputs": [
    {
     "name": "stdout",
     "output_type": "stream",
     "text": [
      "Empty board :\n",
      " | | \n",
      " | | \n",
      " | | \n",
      "\n"
     ]
    }
   ],
   "source": [
    "class Cell:\n",
    "    def __init__(self, occupied = ' '):\n",
    "        self.occupied = occupied\n",
    "\n",
    "    def play1(self):\n",
    "        if self.occupied == ' ':\n",
    "            self.occupied = 'X'\n",
    "    \n",
    "    def play2(self):\n",
    "        if self.occupied == ' ':\n",
    "            self.occupied = 'O'\n",
    "\n",
    "class Board:\n",
    "    def __init__(self, turn = 1 ):\n",
    "        self.grid = [Cell() for i in range(9)]\n",
    "        self.turn = 1\n",
    "    \n",
    "    def __str__(self):\n",
    "        board_ = ''\n",
    "        for i in range(0,9,3):\n",
    "            row = self.grid[i:i+3]\n",
    "            board_ += '|'.join([i.occupied for i in row]) + '\\n'\n",
    "        return board_\n",
    "    \n",
    "    \n",
    "    global list_played\n",
    "    list_played = []\n",
    "    def play(self, index_):\n",
    "        list1 = [i for i in range(9)]\n",
    "        if index_ not in list1:\n",
    "            print('Please enter true index number !!!')\n",
    "\n",
    "        elif self.turn == 1:\n",
    "            if index_ in list_played:\n",
    "                print(f'Index {index_} is already occupied.')\n",
    "            else:\n",
    "                self.grid[index_].play1()\n",
    "                list_played.append(index_)\n",
    "                self.turn = 2\n",
    "                \n",
    "        elif self.turn == 2:\n",
    "            if index_ in list_played:\n",
    "                print(f'Index {index_} is already occupied.')\n",
    "            else:\n",
    "                self.grid[index_].play2()\n",
    "                list_played.append(index_)\n",
    "                self.turn = 1\n",
    "\n",
    "\n",
    "cell1 = Cell()\n",
    "board = Board()\n",
    "print('Empty board :')\n",
    "print(board)\n"
   ]
  },
  {
   "cell_type": "code",
   "execution_count": 4,
   "metadata": {},
   "outputs": [
    {
     "name": "stdout",
     "output_type": "stream",
     "text": [
      " | |O\n",
      "X|X|X\n",
      "O| | \n",
      "\n"
     ]
    }
   ],
   "source": [
    "board.play(3)\n",
    "board.play(6)\n",
    "board.play(5)\n",
    "board.play(2)\n",
    "board.play(4)\n",
    "print(board)\n"
   ]
  },
  {
   "cell_type": "code",
   "execution_count": 61,
   "metadata": {},
   "outputs": [
    {
     "name": "stdout",
     "output_type": "stream",
     "text": [
      "Index 3 is already occupied.\n",
      " | |O\n",
      "X|X|X\n",
      "O| | \n",
      "\n"
     ]
    }
   ],
   "source": [
    "board.play(3)\n",
    "print(board)"
   ]
  },
  {
   "cell_type": "code",
   "execution_count": 391,
   "metadata": {},
   "outputs": [
    {
     "name": "stdout",
     "output_type": "stream",
     "text": [
      "This index is already occupied.2 5\n",
      " | |O\n",
      "X|X|X\n",
      "O| | \n",
      "\n"
     ]
    }
   ],
   "source": [
    "board.play(5)\n",
    "print(board)"
   ]
  },
  {
   "cell_type": "code",
   "execution_count": 392,
   "metadata": {},
   "outputs": [
    {
     "name": "stdout",
     "output_type": "stream",
     "text": [
      " |O|O\n",
      "X|X|X\n",
      "O| | \n",
      "\n"
     ]
    }
   ],
   "source": [
    "board.play(1)\n",
    "print(board)"
   ]
  },
  {
   "cell_type": "code",
   "execution_count": 267,
   "metadata": {},
   "outputs": [
    {
     "name": "stdout",
     "output_type": "stream",
     "text": [
      "\n"
     ]
    }
   ],
   "source": [
    "board.play(2,1)"
   ]
  },
  {
   "cell_type": "code",
   "execution_count": 284,
   "metadata": {},
   "outputs": [
    {
     "name": "stdout",
     "output_type": "stream",
     "text": [
      "X| | |\n",
      " | | |\n",
      " | | |\n"
     ]
    }
   ],
   "source": [
    "print(board)"
   ]
  },
  {
   "cell_type": "markdown",
   "metadata": {},
   "source": [
    "# Is winner fonksiyonu eksik !!!!"
   ]
  },
  {
   "cell_type": "code",
   "execution_count": null,
   "metadata": {},
   "outputs": [],
   "source": [
    "list1 = [i for i in range(9)]\n",
    "\n",
    "winner_list = []\n",
    "for i in range(0,9,3):\n",
    "        lst_0 = [j for j in list1[i:i+3]]\n",
    "        winner_list.append(lst_0)\n",
    "\n",
    "for i in range(3):\n",
    "        lst_1 = [j for j in range(i,i+7,3)]\n",
    "        lst_2, lst_3 = [0,4,8], [2,4,6]\n",
    "        winner_list.append(lst_1)\n",
    "        winner_list.append(lst_2)\n",
    "        winner_list.append(lst_3)\n",
    "winner_list"
   ]
  },
  {
   "cell_type": "code",
   "execution_count": 45,
   "metadata": {},
   "outputs": [],
   "source": [
    "class Cell:\n",
    "    def __init__(self, occupied = ' '):\n",
    "        self.occupied = occupied\n",
    "\n",
    "    def play1(self):\n",
    "        if self.occupied == ' ':\n",
    "            self.occupied = 'X'\n",
    "    \n",
    "    def play2(self):\n",
    "        if self.occupied == ' ':\n",
    "            self.occupied = 'O'\n",
    "\n",
    "class Board:\n",
    "    def __init__(self, turn = 1 ):\n",
    "        self.grid = [Cell() for i in range(9)]\n",
    "        self.turn = 1\n",
    "    \n",
    "    def __str__(self):\n",
    "        board_ = ''\n",
    "        for i in range(0,9,3):\n",
    "            row = self.grid[i:i+3]\n",
    "            board_ += '|'.join([i.occupied for i in row]) + '\\n'\n",
    "        return board_\n",
    "    \n",
    "    def iswinner(self):\n",
    "        for i in winner_list:\n",
    "            if player1 in i:\n",
    "                print('Player1 won the game.')\n",
    "                break\n",
    "            if player2 in i:\n",
    "                print('Player2 won the game.')\n",
    "                break\n",
    "    \n",
    "    global list_played, player1, player2\n",
    "    list_played = []\n",
    "    player1 = []\n",
    "    player2 = []\n",
    "    def play(self, index_):\n",
    "        list1 = [i for i in range(9)]\n",
    "        if index_ not in list1:\n",
    "            print('Please enter true index number !!!')\n",
    "\n",
    "        elif self.turn == 1:\n",
    "            if index_ in list_played:\n",
    "                print(f'Index {index_} is already occupied.')\n",
    "            else:\n",
    "                self.grid[index_].play1()\n",
    "                list_played.append(index_)\n",
    "                player1.append(index_)\n",
    "                self.iswinner()\n",
    "                self.turn = 2\n",
    "                \n",
    "        elif self.turn == 2:\n",
    "            if index_ in list_played:\n",
    "                print(f'Index {index_} is already occupied.')\n",
    "            else:\n",
    "                self.grid[index_].play2()\n",
    "                player2.append(index_)\n",
    "                list_played.append(index_)\n",
    "                self.iswinner()\n",
    "                self.turn = 1\n",
    "\n",
    "\n",
    "#cell1 = Cell()\n",
    "board = Board()\n",
    "print('Empty board :')\n",
    "print(board)"
   ]
  },
  {
   "cell_type": "code",
   "execution_count": 40,
   "metadata": {},
   "outputs": [
    {
     "data": {
      "text/plain": [
       "12"
      ]
     },
     "execution_count": 40,
     "metadata": {},
     "output_type": "execute_result"
    }
   ],
   "source": [
    "len(winner)"
   ]
  },
  {
   "cell_type": "code",
   "execution_count": null,
   "metadata": {},
   "outputs": [],
   "source": []
  }
 ],
 "metadata": {
  "kernelspec": {
   "display_name": "base",
   "language": "python",
   "name": "python3"
  },
  "language_info": {
   "codemirror_mode": {
    "name": "ipython",
    "version": 3
   },
   "file_extension": ".py",
   "mimetype": "text/x-python",
   "name": "python",
   "nbconvert_exporter": "python",
   "pygments_lexer": "ipython3",
   "version": "3.10.9"
  },
  "orig_nbformat": 4
 },
 "nbformat": 4,
 "nbformat_minor": 2
}
