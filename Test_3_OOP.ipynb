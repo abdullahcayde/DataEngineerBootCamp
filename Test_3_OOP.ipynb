{
 "cells": [
  {
   "cell_type": "code",
   "execution_count": 34,
   "metadata": {},
   "outputs": [
    {
     "name": "stdout",
     "output_type": "stream",
     "text": [
      "350 14\n",
      "After next_day\n",
      "350 13\n"
     ]
    }
   ],
   "source": [
    "class Drink:\n",
    "    def __init__(self, volume,expiration):\n",
    "        self.volume = volume\n",
    "        self.expriration = expiration\n",
    "    \n",
    "    def next_day(self):\n",
    "        self.expriration -=1\n",
    "        \n",
    "\n",
    "drink1 = Drink(350, 14)\n",
    "print(drink1.volume, drink1.expriration)\n",
    "\n",
    "print('After next_day')\n",
    "drink1.next_day()\n",
    "print(drink1.volume, drink1.expriration)"
   ]
  },
  {
   "cell_type": "code",
   "execution_count": 93,
   "metadata": {},
   "outputs": [
    {
     "name": "stdout",
     "output_type": "stream",
     "text": [
      "juice 1000 7\n",
      "330 60\n",
      "330 60\n"
     ]
    }
   ],
   "source": [
    "class Juice(Drink):\n",
    "    def __init__(self, volume, expiration = 7):\n",
    "        super().__init__(volume, expiration)\n",
    "\n",
    "class DataCola(Drink):\n",
    "    def __init__(self, typ):\n",
    "        if typ == 'can':\n",
    "            volume = 330\n",
    "            expiration = 60            \n",
    "        elif typ == 'bottle':\n",
    "            volume = 500\n",
    "            expiration = 30\n",
    "        super().__init__(volume, expiration)\n",
    "\n",
    "juice1 = Juice(1000)\n",
    "print('juice', juice.volume, juice.expriration)\n",
    "\n",
    "colacan1 = DataCola('can')\n",
    "print(colacan.volume, colacan.expriration)\n",
    "\n",
    "colacan2 = DataCola('can')\n",
    "print(colacan.volume, colacan.expriration)"
   ]
  },
  {
   "cell_type": "code",
   "execution_count": 128,
   "metadata": {},
   "outputs": [
    {
     "name": "stdout",
     "output_type": "stream",
     "text": [
      "Size =  300 Content =  0\n",
      "1 item added.\n",
      "1 item added.\n",
      "1 item added.\n",
      "1 item added.\n",
      "Size =  300 Content =  4\n",
      "[7, 1, 60, 60]\n",
      "1. item removed.\n",
      "300 3\n",
      "[0, 59, 59]\n",
      "1 item removed after verifying expire date.\n"
     ]
    }
   ],
   "source": [
    "class VendingMachine:\n",
    "    def __init__(self, size):\n",
    "        self.content = []\n",
    "        self.size = size\n",
    "\n",
    "    def add(self, drink):\n",
    "        self.content.append(drink)\n",
    "        print('1 item added.')\n",
    "     \n",
    "    def remove(self, i):\n",
    "        if i < len(self.content):\n",
    "                self.content.pop(i-1)\n",
    "                print(f'{i}. item removed.')\n",
    "        else:\n",
    "                print(\"Invalid index\")\n",
    "\n",
    "    def verify(self):\n",
    "         for i in self.content:\n",
    "              if i.expriration == 0:\n",
    "                   self.content.remove(i)\n",
    "                   print('1 item removed after verifying expire date.')\n",
    "\n",
    "    def anext_day(self):\n",
    "         for i in self.content:\n",
    "              i.expriration -= 1\n",
    "\n",
    "\n",
    "juice1 = Juice(1000)\n",
    "colacan1 = DataCola('can')\n",
    "colacan2 = DataCola('can')\n",
    "juice2 = Juice(1500, 1)\n",
    "\n",
    "machine = VendingMachine(300)\n",
    "print('Size = ', machine.size, 'Content = ', len(machine.content))\n",
    "\n",
    "\n",
    "machine.add(juice1)\n",
    "machine.add(juice2)\n",
    "machine.add(colacan1)\n",
    "machine.add(colacan2)\n",
    "print('Size = ', machine.size, 'Content = ', len(machine.content))\n",
    "\n",
    "print([i.expriration for i in machine.content])\n",
    "\n",
    "machine.remove(1)\n",
    "print(machine.size, len(machine.content))\n",
    "\n",
    "\n",
    "machine.anext_day()\n",
    "print([i.expriration for i in machine.content])\n",
    "\n",
    "machine.verify()"
   ]
  },
  {
   "cell_type": "markdown",
   "metadata": {},
   "source": [
    "# Exercise : TIC TAC TOC"
   ]
  },
  {
   "cell_type": "code",
   "execution_count": 366,
   "metadata": {},
   "outputs": [
    {
     "name": "stdout",
     "output_type": "stream",
     "text": [
      "0|1|2\n",
      "3|4|5\n",
      "6|7|8\n",
      "\n"
     ]
    }
   ],
   "source": [
    "\n",
    "list1 = [i for i in range(9)]\n",
    "\n",
    "a = ''\n",
    "for i in range(0,9,3):\n",
    "    a += '|'.join([str(j) for j in list1[i:i+3]]) + '\\n'\n",
    "print(a)"
   ]
  },
  {
   "cell_type": "code",
   "execution_count": 393,
   "metadata": {},
   "outputs": [
    {
     "name": "stdout",
     "output_type": "stream",
     "text": [
      "Empty board :\n",
      " | | \n",
      " | | \n",
      " | | \n",
      "\n"
     ]
    }
   ],
   "source": [
    "class Cell:\n",
    "    def __init__(self, occupied = ' '):\n",
    "        self.occupied = occupied\n",
    "\n",
    "    def play1(self):\n",
    "        if self.occupied == ' ':\n",
    "            self.occupied = 'X'\n",
    "    \n",
    "    def play2(self):\n",
    "        if self.occupied == ' ':\n",
    "            self.occupied = 'O'\n",
    "\n",
    "class Board:\n",
    "    def __init__(self, turn = 1 ):\n",
    "        self.grid = [Cell() for i in range(9)]\n",
    "        self.turn = 1\n",
    "    \n",
    "    def __str__(self):\n",
    "        board_ = ''\n",
    "        for i in range(0,9,3):\n",
    "            row = self.grid[i:i+3]\n",
    "            board_ += '|'.join([i.occupied for i in row]) + '\\n'\n",
    "        return board_\n",
    "    \n",
    "    \n",
    "    global list_played\n",
    "    list_played = []\n",
    "    def play(self, index_):\n",
    "        list1 = [i for i in range(9)]\n",
    "        if index_ not in list1:\n",
    "            print('Please enter true index number !!!')\n",
    "\n",
    "        elif self.turn == 1:\n",
    "            if index_ in list_played:\n",
    "                print(f'This index is already occupied.1 {index_}')\n",
    "            else:\n",
    "                self.grid[index_].play1()\n",
    "                list_played.append(index_)\n",
    "                self.turn = 2\n",
    "\n",
    "        elif self.turn == 2:\n",
    "            if index_ in list_played:\n",
    "                print(f'This index is already occupied.2 {index_}')\n",
    "            else:\n",
    "                self.grid[index_].play2()\n",
    "                list_played.append(index_)\n",
    "                self.turn = 1\n",
    "\n",
    "\n",
    "#cell1 = Cell()\n",
    "board = Board()\n",
    "print('Empty board :')\n",
    "print(board)\n"
   ]
  },
  {
   "cell_type": "code",
   "execution_count": 394,
   "metadata": {},
   "outputs": [
    {
     "name": "stdout",
     "output_type": "stream",
     "text": [
      " | |O\n",
      "X|X|X\n",
      "O| | \n",
      "\n"
     ]
    }
   ],
   "source": [
    "board.play(3)\n",
    "board.play(6)\n",
    "board.play(5)\n",
    "board.play(2)\n",
    "board.play(4)\n",
    "print(board)\n"
   ]
  },
  {
   "cell_type": "code",
   "execution_count": 390,
   "metadata": {},
   "outputs": [
    {
     "name": "stdout",
     "output_type": "stream",
     "text": [
      "This index is already occupied.2 3\n",
      " | |O\n",
      "X|X|X\n",
      "O| | \n",
      "\n"
     ]
    }
   ],
   "source": [
    "board.play(3)\n",
    "print(board)"
   ]
  },
  {
   "cell_type": "code",
   "execution_count": 391,
   "metadata": {},
   "outputs": [
    {
     "name": "stdout",
     "output_type": "stream",
     "text": [
      "This index is already occupied.2 5\n",
      " | |O\n",
      "X|X|X\n",
      "O| | \n",
      "\n"
     ]
    }
   ],
   "source": [
    "board.play(5)\n",
    "print(board)"
   ]
  },
  {
   "cell_type": "code",
   "execution_count": 392,
   "metadata": {},
   "outputs": [
    {
     "name": "stdout",
     "output_type": "stream",
     "text": [
      " |O|O\n",
      "X|X|X\n",
      "O| | \n",
      "\n"
     ]
    }
   ],
   "source": [
    "board.play(1)\n",
    "print(board)"
   ]
  },
  {
   "cell_type": "code",
   "execution_count": 267,
   "metadata": {},
   "outputs": [
    {
     "name": "stdout",
     "output_type": "stream",
     "text": [
      "\n"
     ]
    }
   ],
   "source": [
    "board.play(2,1)"
   ]
  },
  {
   "cell_type": "code",
   "execution_count": 284,
   "metadata": {},
   "outputs": [
    {
     "name": "stdout",
     "output_type": "stream",
     "text": [
      "X| | |\n",
      " | | |\n",
      " | | |\n"
     ]
    }
   ],
   "source": [
    "print(board)"
   ]
  },
  {
   "cell_type": "code",
   "execution_count": 134,
   "metadata": {},
   "outputs": [
    {
     "ename": "TypeError",
     "evalue": "sequence item 1: expected str instance, int found",
     "output_type": "error",
     "traceback": [
      "\u001b[0;31m---------------------------------------------------------------------------\u001b[0m",
      "\u001b[0;31mTypeError\u001b[0m                                 Traceback (most recent call last)",
      "Cell \u001b[0;32mIn[134], line 5\u001b[0m\n\u001b[1;32m      3\u001b[0m \u001b[39mfor\u001b[39;00m i \u001b[39min\u001b[39;00m \u001b[39mrange\u001b[39m(\u001b[39m0\u001b[39m, \u001b[39m9\u001b[39m, \u001b[39m3\u001b[39m):\n\u001b[1;32m      4\u001b[0m         line \u001b[39m=\u001b[39m [j \u001b[39mor\u001b[39;00m \u001b[39m\"\u001b[39m\u001b[39m \u001b[39m\u001b[39m\"\u001b[39m \u001b[39mfor\u001b[39;00m j \u001b[39min\u001b[39;00m \u001b[39mrange\u001b[39m(\u001b[39m3\u001b[39m)]\n\u001b[0;32m----> 5\u001b[0m         lines\u001b[39m.\u001b[39mappend(separator\u001b[39m.\u001b[39;49mjoin(line))\n\u001b[1;32m      6\u001b[0m lines\n",
      "\u001b[0;31mTypeError\u001b[0m: sequence item 1: expected str instance, int found"
     ]
    }
   ],
   "source": []
  },
  {
   "cell_type": "code",
   "execution_count": null,
   "metadata": {},
   "outputs": [],
   "source": []
  }
 ],
 "metadata": {
  "kernelspec": {
   "display_name": "base",
   "language": "python",
   "name": "python3"
  },
  "language_info": {
   "codemirror_mode": {
    "name": "ipython",
    "version": 3
   },
   "file_extension": ".py",
   "mimetype": "text/x-python",
   "name": "python",
   "nbconvert_exporter": "python",
   "pygments_lexer": "ipython3",
   "version": "3.10.9"
  },
  "orig_nbformat": 4
 },
 "nbformat": 4,
 "nbformat_minor": 2
}
