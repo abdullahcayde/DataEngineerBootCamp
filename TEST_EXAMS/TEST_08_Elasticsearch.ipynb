{
 "cells": [
  {
   "cell_type": "code",
   "execution_count": null,
   "metadata": {},
   "outputs": [],
   "source": [
    "# Directory Elastic\n",
    "cd elasticsearch\n",
    "\n",
    "# Creation of the directory for the evaluation\n",
    "mkdir eval\n",
    "\n",
    "# Downloading the dataset\n",
    "wget https://dst-de.s3.eu-west-3.amazonaws.com/elasticsearch_fr/datasets/Womens_Clothing.csv"
   ]
  },
  {
   "attachments": {},
   "cell_type": "markdown",
   "metadata": {},
   "source": [
    "# Question 0-1"
   ]
  },
  {
   "cell_type": "code",
   "execution_count": null,
   "metadata": {},
   "outputs": [],
   "source": [
    "#Copy the script below to your elasticsearch folder with the name eval_elastic.py.\n",
    "\n",
    "\n",
    "#! /usr/bin/python\n",
    "from elasticsearch import Elasticsearch\n",
    "import json\n",
    "import warnings\n",
    "\n",
    "warnings.filterwarnings(\"ignore\")\n",
    "\n",
    "# Connection to the cluster\n",
    "client = Elasticsearch(hosts = \"http://@localhost:9200\")\n",
    "\n",
    "# Specify your question number here.\n",
    "# If you are making multiple requests for the same question, write \"1-1\", \"1-2\" ext...\n",
    "question_number = \"0-1\"\n",
    "\n",
    "# Copy and paste your Kibana request here (WITHOUT the GET statement)\n",
    "query ={\n",
    "  \"query\": {\n",
    "    \"match_all\": {}\n",
    "  }\n",
    "}\n",
    "\n",
    "response = client.search(index=\"eval\", body=query)\n",
    "\n",
    "# Saving the request and response in a json file\n",
    "with open(\"./eval/{}.json\".format(\"q_\" + question_number + \"_response\"), \"w\") as f:\n",
    "  json.dump(dict(response), f, indent=2)\n",
    "\n",
    "with open(\"./eval/{}.json\".format(\"q_\" + question_number + \"_request\"), \"w\") as f:\n",
    "  json.dump(query, f, indent=2)"
   ]
  },
  {
   "attachments": {},
   "cell_type": "markdown",
   "metadata": {},
   "source": [
    "# chmod +x eval_elastic.py"
   ]
  },
  {
   "cell_type": "code",
   "execution_count": null,
   "metadata": {},
   "outputs": [],
   "source": [
    "# Giving the rights\n",
    "chmod +x eval_elastic.py"
   ]
  },
  {
   "attachments": {},
   "cell_type": "markdown",
   "metadata": {},
   "source": [
    "# Soru 1-1"
   ]
  },
  {
   "cell_type": "code",
   "execution_count": null,
   "metadata": {},
   "outputs": [],
   "source": [
    "# 1-1 Display your mapping\n",
    "\n",
    "#! /usr/bin/python\n",
    "from elasticsearch import Elasticsearch\n",
    "import json\n",
    "import warnings\n",
    "\n",
    "warnings.filterwarnings(\"ignore\")\n",
    "\n",
    "# Connection to the cluster\n",
    "client = Elasticsearch(hosts = \"http://@localhost:9200\")\n",
    "\n",
    "# Specify your question number here.\n",
    "# If you are making multiple requests for the same question, write \"1-1\", \"1-2\" ext...\n",
    "question_number = \"1-1\"\n",
    "\n",
    "# Retrieving the template\n",
    "template = client.indices.get_template()\n",
    "\n",
    "\n",
    "# Saving in a json file.\n",
    "with open(\"./eval/{}.json\".format(\"q_1-1_index_template\"), \"w\") as f:\n",
    "  json.dump(dict(template), f, indent=2)\n"
   ]
  },
  {
   "attachments": {},
   "cell_type": "markdown",
   "metadata": {},
   "source": [
    "# BOS TEMPLATE"
   ]
  },
  {
   "cell_type": "code",
   "execution_count": null,
   "metadata": {},
   "outputs": [],
   "source": [
    "#! /usr/bin/python\n",
    "from elasticsearch import Elasticsearch\n",
    "import json\n",
    "import warnings\n",
    "\n",
    "warnings.filterwarnings(\"ignore\")\n",
    "\n",
    "# Connection to the cluster\n",
    "client = Elasticsearch(hosts = \"http://@localhost:9200\")\n",
    "\n",
    "# Specify your question number here.\n",
    "# If you are making multiple requests for the same question, write \"1-1\", \"1-2\" ext...\n",
    "question_number = \"2-6\"\n",
    "\n",
    "# Copy and paste your Kibana request here (WITHOUT the GET statement)\n",
    "query =\n",
    "\n",
    "\n",
    "response = client.search(index=\"eval\", body=query)\n",
    "\n",
    "# Saving the request and response in a json file\n",
    "with open(\"./eval/{}.json\".format(\"q_\" + question_number + \"_response\"), \"w\") as f:\n",
    "  json.dump(dict(response), f, indent=2)\n",
    "\n",
    "with open(\"./eval/{}.json\".format(\"q_\" + question_number + \"_request\"), \"w\") as f:\n",
    "  json.dump(query, f, indent=2)"
   ]
  },
  {
   "attachments": {},
   "cell_type": "markdown",
   "metadata": {},
   "source": [
    "# Soru 1-2"
   ]
  },
  {
   "cell_type": "code",
   "execution_count": null,
   "metadata": {},
   "outputs": [],
   "source": [
    "#1-2 A \"match_all\" search of your new index named imperatively eval.\n",
    "\n",
    "#! /usr/bin/python\n",
    "from elasticsearch import Elasticsearch\n",
    "import json\n",
    "import warnings\n",
    "\n",
    "warnings.filterwarnings(\"ignore\")\n",
    "\n",
    "# Connection to the cluster\n",
    "client = Elasticsearch(hosts = \"http://@localhost:9200\")\n",
    "\n",
    "# Specify your question number here.\n",
    "# If you are making multiple requests for the same question, write \"1-1\", \"1-2\" ext...\n",
    "question_number = \"1-2\"\n",
    "\n",
    "# Copy and paste your Kibana request here (WITHOUT the GET statement)\n",
    "query ={\n",
    "  \"query\": {\n",
    "    \"match_all\": {}\n",
    "  }\n",
    "}\n",
    "\n",
    "response = client.search(index=\"eval\", body=query)\n",
    "\n",
    "# Saving the request and response in a json file\n",
    "with open(\"./eval/{}.json\".format(\"q_\" + question_number + \"_response\"), \"w\") as f:\n",
    "  json.dump(dict(response), f, indent=2)\n",
    "\n",
    "with open(\"./eval/{}.json\".format(\"q_\" + question_number + \"_request\"), \"w\") as f:\n",
    "  json.dump(query, f, indent=2)"
   ]
  },
  {
   "attachments": {},
   "cell_type": "markdown",
   "metadata": {},
   "source": [
    "# Soru 2-1"
   ]
  },
  {
   "cell_type": "code",
   "execution_count": null,
   "metadata": {},
   "outputs": [],
   "source": [
    "#2-1 Establish the number of unique values for \"Division Name\n",
    "\n",
    "{\n",
    "  \"size\": 0,\n",
    "    \"aggs\" : {\n",
    "      \"unique_divisions\" : {\n",
    "        \"cardinality\": {\n",
    "          \"field\": \"Division Name.keyword\"\n",
    "        }\n",
    "      }\n",
    "    }\n",
    "  }"
   ]
  },
  {
   "attachments": {},
   "cell_type": "markdown",
   "metadata": {},
   "source": [
    "# Soru 2-2"
   ]
  },
  {
   "cell_type": "code",
   "execution_count": null,
   "metadata": {},
   "outputs": [],
   "source": [
    "#2-2 Establish the number of unique values for \"Department Name\n",
    "GET /eval/_search\n",
    "{\n",
    "  \"size\": 0,\n",
    "  \"aggs\" : {\n",
    "    \"unique_departments\" : {\n",
    "      \"cardinality\": {\n",
    "        \"field\": \"Department Name.keyword\"\n",
    "      }\n",
    "    }\n",
    "  }\n",
    "}\n"
   ]
  },
  {
   "attachments": {},
   "cell_type": "markdown",
   "metadata": {},
   "source": [
    "# Soru 2-3"
   ]
  },
  {
   "cell_type": "code",
   "execution_count": null,
   "metadata": {},
   "outputs": [],
   "source": [
    "#2-3 Set the number of unique values for \"Class Name\"\n",
    "GET /eval/_search\n",
    "{\n",
    "  \"size\": 0,\n",
    "  \"aggs\" : {\n",
    "    \"unique_departments\" : {\n",
    "      \"cardinality\": {\n",
    "        \"field\": \"Class Name.keyword\"\n",
    "      }\n",
    "    }\n",
    "  }\n",
    "}"
   ]
  },
  {
   "attachments": {},
   "cell_type": "markdown",
   "metadata": {},
   "source": [
    "# Soru 2-4"
   ]
  },
  {
   "cell_type": "code",
   "execution_count": null,
   "metadata": {},
   "outputs": [],
   "source": [
    "# 2-4 How many products are available in the dataset?\n",
    "??????????????\n",
    "# Unique ID ler 01\n",
    "GET /eval/_search\n",
    "{\n",
    "  \"size\": 0,\n",
    "  \"aggs\": {\n",
    "    \"unique_products\": {\n",
    "      \"terms\": {\n",
    "        \"field\": \"Clothing ID\",\n",
    "\n",
    "        \"order\": {\n",
    "          \"_key\": \"desc\"\n",
    "        }\n",
    "      }\n",
    "    }\n",
    "  }\n",
    "}"
   ]
  },
  {
   "attachments": {},
   "cell_type": "markdown",
   "metadata": {},
   "source": [
    "# Soru 2-5"
   ]
  },
  {
   "cell_type": "code",
   "execution_count": null,
   "metadata": {},
   "outputs": [],
   "source": [
    "# 2-5 Determine which departments belong to which divisions.\n",
    "GET /eval/_search\n",
    "{\n",
    "  \"size\": 0,\n",
    "  \"aggs\": {\n",
    "    \"agg_division\": {\n",
    "      \"terms\": {\n",
    "        \"field\": \"Division Name.keyword\"\n",
    "      },\n",
    "      \"aggs\": {\n",
    "        \"agg_department\": {\n",
    "          \"terms\": {\n",
    "            \"field\": \"Department Name.keyword\"}\n",
    "        }\n",
    "      }\n",
    "    }\n",
    "  }\n",
    "}"
   ]
  },
  {
   "attachments": {},
   "cell_type": "markdown",
   "metadata": {},
   "source": [
    "# Soru 2-6"
   ]
  },
  {
   "cell_type": "code",
   "execution_count": null,
   "metadata": {},
   "outputs": [],
   "source": [
    "#2-6 Determine which products belong to their departments.\n",
    "GET /eval/_search\n",
    "{\n",
    "  \"size\": 0,\n",
    "  \"aggs\": {\n",
    "    \"agg_division\": {\n",
    "      \"terms\": {\n",
    "        \"field\": \"Department Name.keyword\"\n",
    "      },\n",
    "      \"aggs\": {\n",
    "        \"agg_department\": {\n",
    "          \"terms\": {\n",
    "            \"field\": \"Clothing ID\"}\n",
    "        }\n",
    "      }\n",
    "    }\n",
    "  }\n",
    "}\n"
   ]
  },
  {
   "cell_type": "code",
   "execution_count": null,
   "metadata": {},
   "outputs": [],
   "source": []
  }
 ],
 "metadata": {
  "language_info": {
   "name": "python"
  },
  "orig_nbformat": 4
 },
 "nbformat": 4,
 "nbformat_minor": 2
}
