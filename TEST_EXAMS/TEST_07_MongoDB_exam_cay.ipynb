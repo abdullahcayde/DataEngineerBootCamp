{
 "cells": [
  {
   "attachments": {},
   "cell_type": "markdown",
   "metadata": {},
   "source": [
    "# Abdullah Cay , apr23_bootcamp_de"
   ]
  },
  {
   "attachments": {},
   "cell_type": "markdown",
   "metadata": {},
   "source": [
    "## Part 01 - Connection to the database"
   ]
  },
  {
   "cell_type": "code",
   "execution_count": 1,
   "metadata": {},
   "outputs": [],
   "source": [
    "# (a) To connect to MongoDB, launch the following python script.\n",
    "from pymongo import MongoClient\n",
    "\n",
    "full_dns_name = 'mongodb://ec2-54-229-30-76.eu-west-1.compute.amazonaws.com:27017'\n",
    "username = 'test'\n",
    "password = 'test'\n",
    "authSource = 'admin'\n",
    "\n",
    "client = MongoClient(host=full_dns_name, username=username, password=password, authSource=authSource)"
   ]
  },
  {
   "cell_type": "code",
   "execution_count": 2,
   "metadata": {},
   "outputs": [
    {
     "name": "stdout",
     "output_type": "stream",
     "text": [
      "['arxiv']\n"
     ]
    }
   ],
   "source": [
    "# (b) Display the list of available databases.\n",
    "print(client.list_database_names())"
   ]
  },
  {
   "cell_type": "code",
   "execution_count": 3,
   "metadata": {},
   "outputs": [
    {
     "name": "stdout",
     "output_type": "stream",
     "text": [
      "['papers']\n"
     ]
    }
   ],
   "source": [
    "# (c) Display the list of collections available in this database.\n",
    "arxiv = client['arxiv']\n",
    "print(arxiv.list_collection_names())"
   ]
  },
  {
   "cell_type": "code",
   "execution_count": 4,
   "metadata": {},
   "outputs": [
    {
     "name": "stdout",
     "output_type": "stream",
     "text": [
      "{'_id': ObjectId('5fa9a4db76fdd8d66273c643'),\n",
      " 'abstract': '  A fully differential calculation in perturbative quantum '\n",
      "             'chromodynamics is\\n'\n",
      "             'presented for the production of massive photon pairs at hadron '\n",
      "             'colliders. All\\n'\n",
      "             'next-to-leading order perturbative contributions from '\n",
      "             'quark-antiquark,\\n'\n",
      "             'gluon-(anti)quark, and gluon-gluon subprocesses are included, as '\n",
      "             'well as\\n'\n",
      "             'all-orders resummation of initial-state gluon radiation valid '\n",
      "             'at\\n'\n",
      "             'next-to-next-to-leading logarithmic accuracy. The region of '\n",
      "             'phase space is\\n'\n",
      "             'specified in which the calculation is most reliable. Good '\n",
      "             'agreement is\\n'\n",
      "             'demonstrated with data from the Fermilab Tevatron, and '\n",
      "             'predictions are made for\\n'\n",
      "             'more detailed tests with CDF and DO data. Predictions are shown '\n",
      "             'for\\n'\n",
      "             'distributions of diphoton pairs produced at the energy of the '\n",
      "             'Large Hadron\\n'\n",
      "             'Collider (LHC). Distributions of the diphoton pairs from the '\n",
      "             'decay of a Higgs\\n'\n",
      "             'boson are contrasted with those produced from QCD processes at '\n",
      "             'the LHC, showing\\n'\n",
      "             'that enhanced sensitivity to the signal can be obtained with '\n",
      "             'judicious\\n'\n",
      "             'selection of events.\\n',\n",
      " 'authors': \"C. Bal\\\\'azs, E. L. Berger, P. M. Nadolsky, C.-P. Yuan\",\n",
      " 'authors_parsed': [['Balázs', 'C.', ''],\n",
      "                    ['Berger', 'E. L.', ''],\n",
      "                    ['Nadolsky', 'P. M.', ''],\n",
      "                    ['Yuan', 'C. -P.', '']],\n",
      " 'categories': 'hep-ph',\n",
      " 'comments': '37 pages, 15 figures; published version',\n",
      " 'doi': '10.1103/PhysRevD.76.013009',\n",
      " 'id': '0704.0001',\n",
      " 'journal-ref': 'Phys.Rev.D76:013009,2007',\n",
      " 'license': None,\n",
      " 'report-no': 'ANL-HEP-PR-07-12',\n",
      " 'submitter': 'Pavel Nadolsky',\n",
      " 'title': 'Calculation of prompt diphoton production cross sections at '\n",
      "          'Tevatron and\\n'\n",
      "          '  LHC energies',\n",
      " 'update_date': '2008-11-26',\n",
      " 'versions': [{'created': 'Mon, 2 Apr 2007 19:18:42 GMT', 'version': 'v1'},\n",
      "              {'created': 'Tue, 24 Jul 2007 20:10:27 GMT', 'version': 'v2'}]}\n"
     ]
    }
   ],
   "source": [
    "# (d) Display one of the documents in this collection.\n",
    "from pprint import pprint\n",
    "\n",
    "c_papers = arxiv.papers\n",
    "pprint(c_papers.find_one())"
   ]
  },
  {
   "cell_type": "code",
   "execution_count": 5,
   "metadata": {},
   "outputs": [
    {
     "name": "stdout",
     "output_type": "stream",
     "text": [
      "10000\n"
     ]
    }
   ],
   "source": [
    "# (e) Display the number of documents in this collection.\n",
    "print(len(c_papers.find().distinct(\"_id\")))"
   ]
  },
  {
   "attachments": {},
   "cell_type": "markdown",
   "metadata": {},
   "source": [
    "## Part 02 -  Exploring the base"
   ]
  },
  {
   "cell_type": "code",
   "execution_count": 6,
   "metadata": {},
   "outputs": [
    {
     "name": "stdout",
     "output_type": "stream",
     "text": [
      "{'title': 'Calculation of prompt diphoton production cross sections at Tevatron and\\n  LHC energies'}\n",
      "{'title': 'Sparsity-certifying Graph Decompositions'}\n",
      "{'title': 'The evolution of the Earth-Moon system based on the dark matter field\\n  fluid model'}\n",
      "{'title': 'A determinant of Stirling cycle numbers counts unlabeled acyclic\\n  single-source automata'}\n",
      "{'title': 'From dyadic $\\\\Lambda_{\\\\alpha}$ to $\\\\Lambda_{\\\\alpha}$'}\n",
      "{'title': 'Bosonic characters of atomic Cooper pairs across resonance'}\n",
      "{'title': 'Polymer Quantum Mechanics and its Continuum Limit'}\n",
      "{'title': 'Numerical solution of shock and ramp compression for general material\\n  properties'}\n",
      "{'title': 'The Spitzer c2d Survey of Large, Nearby, Insterstellar Clouds. IX. The\\n  Serpens YSO Population As Observed With IRAC and MIPS'}\n",
      "{'title': 'Partial cubes: structures, characterizations, and constructions'}\n"
     ]
    }
   ],
   "source": [
    "# (a) Display the title of 10 articles.\n",
    "for i in list(c_papers.find({}, {\"_id\" : 0, \"title\" : 1}).limit(10)):\n",
    "    print(i)"
   ]
  },
  {
   "cell_type": "code",
   "execution_count": 7,
   "metadata": {},
   "outputs": [
    {
     "name": "stdout",
     "output_type": "stream",
     "text": [
      "{'authors': '(The TeV4LHC-Top and Electroweak Working Group:) C.E.Gerber, P.Murat,\\n  T.M.P.Tait, D.Wackeroth, A.Arbuzov, D.Bardin, U.Baur, J.A.Benitez, S.Berge,\\n  S.Bondarenko, E.E.Boos, M.T.Bowen, R.Brock, V.E.Bunichev, J.Campbell,\\n  F.Canelli, Q.-H.Cao, C.M.Carloni Calame, F.Chevallier, P.Christova,\\n  C.Ciobanu, S.Dittmaier, L.V.Dudko, S.D.Ellis, A.I.Etienvre, F.Fiedler,\\n  A.Garcia-Bellido, A.Giammanco, D.Glenzinski, P.Golonka, C.Hays, S.Jadach,\\n  S.Jain, L.Kalinovskaya, M.Kramer, A.Lleres, J.Luck, A.Lucotte, A.Markina,\\n  G.Montagna, P.M.Nadolsky, O.Nicrosini, F.I.Olness, W.Placzek, R.Sadykov,\\n  V.I.Savrin, R.Schwienhorst, A.V.Sherstnev, S.Slabospitsky, B.Stelzer,\\n  M.J.Strassler, Z.Sullivan, F.Tramontano, A.Vicini, W.Wagner, Z.Was, G.Watts,\\n  M.Weber, S.Willenbrock, U.K.Yang, C-P.Yuan, J.Zhu'}\n",
      "{'authors': 'A Brandenburg (Nordita) and P J K\\\\\"apyl\\\\\"a (Nordita and Helsinki\\n  Observatory)'}\n",
      "{'authors': 'A Kuiroukidis, K Kleidis and D B Papadopoulos'}\n",
      "{'authors': 'A Kuiroukidis, K Kleidis, D B Papadopoulos and L Vlahos'}\n",
      "{'authors': 'A Verma, N K Sharma and A Pathak'}\n",
      "{'authors': 'A. A. Abdo, B. Allen, D. Berley, S. Casanova, C. Chen, D. G. Coyne, B.\\n  L. Dingus, R. W. Ellsworth, L. Fleysher, R. Fleysher, M. M. Gonzalez, J. A.\\n  Goodman, E. Hays, C. M. Hoffman, B. Hopper, P. H. Huntemeyer, B. E.\\n  Kolterman, C. P. Lansdell, J. T. Linnemann, J. E. McEnery, A. I. Mincer, P.\\n  Nemethy, D. Noyes, J. M. Ryan, P. M. Saz Parkinson, A. Shoup, G. Sinnis, A.\\n  J. Smith, G. W. Sullivan, V. Vasileiou, G. P. Walker, D. A. Williams, X. W.\\n  Xu, and G. B. Yodh'}\n",
      "{'authors': 'A. A. Aligia, A. Anfossi, L. Arrachea, C. Degli Esposti Boschi, A. O.\\n  Dobry, C. Gazza, A. Montorsi, F. Ortolani, and M. E. Torio'}\n",
      "{'authors': 'A. A. Malykh (North Western State Technical University, St.\\n  Petersburg, Russia), Y. Nutku (Feza Gursey Institute, Istanbul, Turkey) and\\n  M. B. Sheftel (Bogazici University, Istanbul, Turkey)'}\n",
      "{'authors': 'A. A. Raduta and F. D. Aaron'}\n",
      "{'authors': 'A. A. Schekochihin (Imperial), A. B. Iskakov (UCLA), S. C. Cowley\\n  (UCLA), J. C. McWilliams (UCLA), M. R. E. Proctor (Cambridge), T. A. Yousef\\n  (Cambridge)'}\n"
     ]
    }
   ],
   "source": [
    "# (b) Display the first 10 authors in alphabetical order.\n",
    "for i in list(c_papers.find({}, {\"_id\" : 0, \"authors\" : 1}).sort([(\"authors\",1)]).limit(10)):\n",
    "    print(i)"
   ]
  },
  {
   "cell_type": "code",
   "execution_count": 8,
   "metadata": {},
   "outputs": [
    {
     "data": {
      "text/plain": [
       "9968"
      ]
     },
     "execution_count": 8,
     "metadata": {},
     "output_type": "execute_result"
    }
   ],
   "source": [
    "# (c) Display the number of articles that have not been published by \"Damien Chablat\".\n",
    "len(list(c_papers.find({\"submitter\" : {\"$ne\" : \"Damien Chablat\"}})))"
   ]
  },
  {
   "cell_type": "code",
   "execution_count": 9,
   "metadata": {},
   "outputs": [
    {
     "name": "stdout",
     "output_type": "stream",
     "text": [
      "122\n"
     ]
    }
   ],
   "source": [
    "# The update_date attribute contains information about the date the document was uploaded to the site. The format of this data is yyyy-mm-dd.\n",
    "# (d) Display the number of papers uploaded in 2014. This can be based on a regular expression.\n",
    "\n",
    "print(\n",
    "    len(list(c_papers.find({\"$and\": [{\"update_date\": {\"$gte\": \"2014-01-01\"}},\n",
    "                                     {\"update_date\": {\"$lte\": \"2014-12-31\"}},]}))))"
   ]
  },
  {
   "cell_type": "code",
   "execution_count": 11,
   "metadata": {},
   "outputs": [
    {
     "name": "stdout",
     "output_type": "stream",
     "text": [
      "{'_id': ObjectId('5fa9a4db76fdd8d66273c816'), 'title': 'Inapproximability of Maximum Weighted Edge Biclique and Its Applications'}\n",
      "{'_id': ObjectId('5fa9a4db76fdd8d66273d3bf'), 'title': 'An Adaptive Strategy for the Classification of G-Protein Coupled\\n  Receptors'}\n",
      "{'_id': ObjectId('5fa9a4db76fdd8d66273d583'), 'title': 'Ensemble Learning for Free with Evolutionary Algorithms ?'}\n",
      "{'_id': ObjectId('5fa9a4db76fdd8d66273ec56'), 'title': 'Design, Implementation, and Cooperative Coevolution of an Autonomous/\\n  Teleoperated Control System for a Serpentine Robotic Manipulator'}\n"
     ]
    }
   ],
   "source": [
    "# The abstract attribute contains the abstract of the article.\n",
    "# (e) Display the title of an article that contains the expression Machine Learning. We can use a regular expression.\n",
    "\n",
    "import re\n",
    "\n",
    "regex = re.compile(r\"Machine Learning\", re.IGNORECASE)\n",
    "results = c_papers.find({\"abstract\" :regex}, {\"title\":1})\n",
    "\n",
    "for i in results:\n",
    "    print(i)"
   ]
  },
  {
   "cell_type": "code",
   "execution_count": 12,
   "metadata": {},
   "outputs": [
    {
     "name": "stdout",
     "output_type": "stream",
     "text": [
      "{'_id': 'Tshilidzi Marwala', 'nb': 36}\n",
      "{'_id': 'Damien Chablat', 'nb': 32}\n",
      "{'_id': 'Yusuke Sasano', 'nb': 18}\n",
      "{'_id': 'Jerome Darmont', 'nb': 12}\n",
      "{'_id': 'Matthias Brust R.', 'nb': 11}\n",
      "{'_id': 'Laurent Cognet', 'nb': 10}\n",
      "{'_id': 'Dr. Anirudh Pradhan', 'nb': 9}\n",
      "{'_id': 'Gordan Zitkovic', 'nb': 8}\n",
      "{'_id': 'Dietrich Stauffer', 'nb': 8}\n",
      "{'_id': 'Michael Ibison', 'nb': 8}\n"
     ]
    }
   ],
   "source": [
    "# (f) Display the number of publications per submitter for the 10 most prolific people. We can use an aggregation pipeline with the keywords $group, $sort, $limit.\n",
    "for i in c_papers.aggregate([{\"$group\": {\"_id\": \"$submitter\", \"nb\": {\"$sum\": 1}}},\n",
    "                             {\"$sort\": {\"nb\": -1}},\n",
    "                             {\"$limit\" :10}]):\n",
    "    print(i)"
   ]
  },
  {
   "cell_type": "code",
   "execution_count": null,
   "metadata": {},
   "outputs": [],
   "source": []
  }
 ],
 "metadata": {
  "kernelspec": {
   "display_name": "base",
   "language": "python",
   "name": "python3"
  },
  "language_info": {
   "codemirror_mode": {
    "name": "ipython",
    "version": 3
   },
   "file_extension": ".py",
   "mimetype": "text/x-python",
   "name": "python",
   "nbconvert_exporter": "python",
   "pygments_lexer": "ipython3",
   "version": "3.10.9"
  },
  "orig_nbformat": 4
 },
 "nbformat": 4,
 "nbformat_minor": 2
}
