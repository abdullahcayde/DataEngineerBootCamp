{
 "cells": [
  {
   "attachments": {},
   "cell_type": "markdown",
   "metadata": {},
   "source": [
    "# Sanal Linux Servere Baglanma "
   ]
  },
  {
   "cell_type": "code",
   "execution_count": null,
   "metadata": {},
   "outputs": [],
   "source": [
    "#01 Download (Ayni path de olmak zorundasin indirdigin dosya ile ben /Users/macbook    a indirdim)\n",
    "data_enginering_machine.pem \n",
    "\n",
    "#02 Terminale Yaz\n",
    "chmod 400 data_enginering_machine.pem\n",
    "\n",
    "#03 Terminale yaz\n",
    "ssh -i \"data_enginering_machine.pem\" ubuntu@34.255.44.65"
   ]
  },
  {
   "cell_type": "markdown",
   "metadata": {},
   "source": [
    "# Sanal Serverdan Dosya Indirme"
   ]
  },
  {
   "cell_type": "code",
   "execution_count": null,
   "metadata": {},
   "outputs": [],
   "source": [
    "#01 pem : permission dosyasi\n",
    "#02 server adi ve IP adresi : ubuntu@34.255.44.65:\n",
    "#03 sanal dosya path : /home/ubuntu/exam_bash_cay.tar\n",
    "#04 lokal dosya path : /Users/macbook/Desktop/IBM\n",
    "\n",
    "f\"scp -i {pem} {server_adi@IP_Adresi:}/{sanal_linux_path} /{lokal_dosya_path}\"\n",
    "\n",
    "scp -i \"data_enginering_machine.pem\" ubuntu@34.255.44.65:/home/ubuntu/exam_bash_cay.tar /Users/macbook/Desktop/IBM\n",
    "scp -i \"data_enginering_machine.pem\" ubuntu@34.255.44.65:/home/ubuntu/elasticsearch/eval/Womens_Clothing.csv /Users/macbook/Desktop/IBM"
   ]
  },
  {
   "attachments": {},
   "cell_type": "markdown",
   "metadata": {},
   "source": [
    "# Macbook  Brew cat .zshrc original hali"
   ]
  },
  {
   "cell_type": "code",
   "execution_count": null,
   "metadata": {},
   "outputs": [],
   "source": [
    "# >>> conda initialize >>>\n",
    "# !! Contents within this block are managed by 'conda init' !!\n",
    "__conda_setup=\"$('/Users/macbook/miniconda3/bin/conda' 'shell.zsh' 'hook' 2> /dev/null)\"\n",
    "if [ $? -eq 0 ]; then\n",
    "    eval \"$__conda_setup\"\n",
    "else\n",
    "    if [ -f \"/Users/macbook/miniconda3/etc/profile.d/conda.sh\" ]; then\n",
    "        . \"/Users/macbook/miniconda3/etc/profile.d/conda.sh\"\n",
    "    else\n",
    "        export PATH=\"/Users/macbook/miniconda3/bin:$PATH\"\n",
    "    fi\n",
    "fi\n",
    "unset __conda_setup\n",
    "# <<< conda initialize <<<"
   ]
  },
  {
   "cell_type": "markdown",
   "metadata": {},
   "source": [
    "# MongoDB install with BAsh MAC"
   ]
  },
  {
   "cell_type": "code",
   "execution_count": null,
   "metadata": {},
   "outputs": [],
   "source": [
    "# Termilade\n",
    "vim .zshrc  # yaz\n",
    "export PATH=\"$PATH:/opt/homebrew/bin/\"  # ==> en uste ekle\n",
    "\n",
    "\n",
    "# Termiali ac kapat ac\n",
    "xcode-select --install\n",
    "brew tap mongodb/brew\n",
    "brew install mongodb-community@5.0\n",
    "brew services start mongodb-community@5.0\n",
    "brew services stop mongodb-community@5.0\n",
    "mongod --config /opt/homebrew/etc/mongod.conf --fork \n",
    "mongosh"
   ]
  }
 ],
 "metadata": {
  "language_info": {
   "name": "python"
  },
  "orig_nbformat": 4
 },
 "nbformat": 4,
 "nbformat_minor": 2
}
