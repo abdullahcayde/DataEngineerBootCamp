{
 "cells": [
  {
   "cell_type": "code",
   "execution_count": 1,
   "id": "93ea6c24-81c6-44b2-83bb-cf2f1af26a47",
   "metadata": {},
   "outputs": [
    {
     "name": "stdout",
     "output_type": "stream",
     "text": [
      "Collecting opencv-python\n",
      "  Using cached opencv_python-4.7.0.72-cp37-abi3-macosx_10_16_x86_64.whl (53.9 MB)\n",
      "Requirement already satisfied: numpy>=1.21.2 in /Users/macbook/Desktop/projects/Github_Repositories/Trainings/web_scpraing_portfolio_deneme/venv/lib/python3.11/site-packages (from opencv-python) (1.24.2)\n",
      "Installing collected packages: opencv-python\n",
      "Successfully installed opencv-python-4.7.0.72\n",
      "\n",
      "\u001b[1m[\u001b[0m\u001b[34;49mnotice\u001b[0m\u001b[1;39;49m]\u001b[0m\u001b[39;49m A new release of pip available: \u001b[0m\u001b[31;49m22.3.1\u001b[0m\u001b[39;49m -> \u001b[0m\u001b[32;49m23.0.1\u001b[0m\n",
      "\u001b[1m[\u001b[0m\u001b[34;49mnotice\u001b[0m\u001b[1;39;49m]\u001b[0m\u001b[39;49m To update, run: \u001b[0m\u001b[32;49m/Users/macbook/Desktop/projects/Github_Repositories/Trainings/web_scpraing_portfolio_deneme/venv/bin/python3 -m pip install --upgrade pip\u001b[0m\n",
      "Note: you may need to restart the kernel to use updated packages.\n"
     ]
    }
   ],
   "source": [
    "pip install opencv-python"
   ]
  },
  {
   "cell_type": "code",
   "execution_count": 2,
   "id": "f3799fec-b1aa-4220-ad6d-7a454c7a2e8f",
   "metadata": {},
   "outputs": [],
   "source": [
    "import cv2"
   ]
  },
  {
   "cell_type": "code",
   "execution_count": 20,
   "id": "8450085b-9e6e-4ad5-822c-d3463a8aabd5",
   "metadata": {},
   "outputs": [
    {
     "data": {
      "image/png": "[encoded data removed]",
      "text/plain": [
       "<Figure size 640x480 with 1 Axes>"
      ]
     },
     "metadata": {},
     "output_type": "display_data"
    }
   ],
   "source": [
    "import cv2\n",
    "import numpy as np\n",
    "import matplotlib.pyplot as plt\n",
    "\n",
    "# Image import\n",
    "img = cv2.imread(\"mushroom32_32.png\")\n",
    "img = np.int64(img)\n",
    "\n",
    "# Image display\n",
    "#_ = plt.imshow(img[:,:, ::-1])\n",
    "_ = plt.imshow(img[:,:,::])\n",
    "_ = plt.axis(\"off\")"
   ]
  },
  {
   "cell_type": "code",
   "execution_count": 21,
   "id": "4ea5f1a3-d2fc-4087-939a-9322c1ff993f",
   "metadata": {},
   "outputs": [
    {
     "data": {
      "text/plain": [
       "(231, 231, 3)"
      ]
     },
     "execution_count": 21,
     "metadata": {},
     "output_type": "execute_result"
    }
   ],
   "source": [
    "img.shape"
   ]
  },
  {
   "cell_type": "code",
   "execution_count": 24,
   "id": "ef8adec5-d682-4b8c-a04b-74866f5d31ef",
   "metadata": {},
   "outputs": [
    {
     "data": {
      "text/plain": [
       "(32, 32, 3)"
      ]
     },
     "execution_count": 24,
     "metadata": {},
     "output_type": "execute_result"
    }
   ],
   "source": [
    "# Image import\n",
    "img = cv2.imread(\"mushroom32_32.png\")\n",
    "img = np.float32(img)                      # int64 yerine float32 yapinca resize calisdi !!!\n",
    "\n",
    "img2 = cv2.resize(img, (32,32))\n",
    "img2.shape"
   ]
  },
  {
   "cell_type": "code",
   "execution_count": 28,
   "id": "02ac7e87-94b2-458c-944c-63eea8678592",
   "metadata": {},
   "outputs": [
    {
     "name": "stdout",
     "output_type": "stream",
     "text": [
      "<class 'tuple'>\n"
     ]
    }
   ],
   "source": [
    "# Insert your code here\n",
    "\n",
    "def rgb_to_gray(X):\n",
    "    a,b = X.shape[1], X.shape[2]\n",
    "    X_gray = (a,b) \n",
    "    \n"
   ]
  },
  {
   "cell_type": "code",
   "execution_count": null,
   "id": "338d46e8-7af4-43c5-800b-6d70df22cb62",
   "metadata": {},
   "outputs": [],
   "source": [
    "X = np.zeros(shape = (32, 32, 3))\n",
    "# Iteration over the first dimension of the array (the rows)\n",
    "for row in X:\n",
    "    # Iteration over the second dimension of the array (the pixels of the rows)\n",
    "    for pixel in row:\n",
    "        # Iteration over the third dimension of the array (the channels of the pixel)\n",
    "        for channel in pixel:\n",
    "            (row,pixel,channel)"
   ]
  },
  {
   "cell_type": "code",
   "execution_count": 62,
   "id": "67e0d123-af52-4502-9c27-3434dd3a19fb",
   "metadata": {},
   "outputs": [
    {
     "name": "stdout",
     "output_type": "stream",
     "text": [
      "255.0 230 230 (231, 231, 3)\n"
     ]
    },
    {
     "data": {
      "image/png": "[encoded data removed]",
      "text/plain": [
       "<Figure size 640x480 with 1 Axes>"
      ]
     },
     "metadata": {},
     "output_type": "display_data"
    }
   ],
   "source": [
    "# Insert your code here\n",
    "def rgb_to_gray(X):\n",
    "    n_rows, n_columns, n_channels = X.shape\n",
    "    \n",
    "    # Create an array filled with zeros with the same number of rows and columns as X\n",
    "    # but with only 1 channel\n",
    "    X_gray = np.zeros(shape = (n_rows, n_columns, 1))\n",
    "    \n",
    "    # Iterating over the rows of the image\n",
    "    for i, row in enumerate(X):\n",
    "        # Iterating over the pixels of the row\n",
    "        for j, pixel in enumerate(row):\n",
    "            # Compute the average of the intensities of the channels\n",
    "            average = 0\n",
    "            for channel in pixel:\n",
    "                average += channel\n",
    "            average /= 3\n",
    "            \n",
    "            # We store the average of the intensities in X_gray\n",
    "            X_gray[i, j] = average\n",
    "    \n",
    "    print(average, i, j, X.shape)\n",
    "    return X_gray\n",
    "\n",
    "# Test\n",
    "_ = rgb_to_gray(img)\n",
    "\n",
    "_ = plt.imshow(_)\n",
    "_ = plt.axis(\"off\")"
   ]
  },
  {
   "cell_type": "code",
   "execution_count": 60,
   "id": "e77595b9-2177-4603-a400-aad000bf9903",
   "metadata": {},
   "outputs": [
    {
     "name": "stdout",
     "output_type": "stream",
     "text": [
      "255.0 230 230 (231, 231, 3)\n"
     ]
    },
    {
     "data": {
      "image/png": "[encoded data removed]",
      "text/plain": [
       "<Figure size 640x480 with 2 Axes>"
      ]
     },
     "metadata": {},
     "output_type": "display_data"
    }
   ],
   "source": [
    "img = cv2.imread(\"mushroom32_32.png\")\n",
    "\n",
    "# Displaying the color image\n",
    "plt.subplot(1, 2, 1)\n",
    "_ = plt.imshow(img[:,:, :: - 1])\n",
    "_ = plt.axis(\"off\")\n",
    "\n",
    "# Displaying the gray scale image\n",
    "plt.subplot(1, 2, 2)\n",
    "_ = plt.imshow(rgb_to_gray(img), cmap = 'gray')\n",
    "_ = plt.axis(\"off\")"
   ]
  },
  {
   "cell_type": "code",
   "execution_count": 71,
   "id": "6ce7ecd3-a6f4-4f27-8eb3-e29fc02cf944",
   "metadata": {},
   "outputs": [
    {
     "name": "stdout",
     "output_type": "stream",
     "text": [
      "[[1. 1.]\n",
      " [1. 1.]\n",
      " [1. 1.]] \n",
      "\n",
      "[[0. 0.]\n",
      " [0. 0.]\n",
      " [0. 0.]] \n",
      "\n",
      "axis = 0 \n",
      " [[1. 1.]\n",
      " [1. 1.]\n",
      " [1. 1.]\n",
      " [0. 0.]\n",
      " [0. 0.]\n",
      " [0. 0.]] \n",
      "\n",
      "axis = 1 \n",
      " [[1. 1. 0. 0.]\n",
      " [1. 1. 0. 0.]\n",
      " [1. 1. 0. 0.]]\n"
     ]
    }
   ],
   "source": [
    "X_1 = np.ones(shape = (3, 2))\n",
    "print(X_1, \"\\n\")\n",
    "\n",
    "X_2 = np.zeros(shape = (3, 2))\n",
    "print(X_2, \"\\n\")\n",
    "\n",
    "X_3 = np.concatenate([X_1, X_2], axis = 0)\n",
    "print(\"axis = 0 \\n\", X_3, \"\\n\")\n",
    "\n",
    "X_4 = np.concatenate([X_1, X_2], axis = 1)\n",
    "print(\"axis = 1 \\n\", X_4)"
   ]
  },
  {
   "cell_type": "code",
   "execution_count": null,
   "id": "0223e7b0-3867-4252-b6ab-9ab37ec7f6dc",
   "metadata": {},
   "outputs": [],
   "source": []
  }
 ],
 "metadata": {
  "kernelspec": {
   "display_name": "web_scpraing_portfolio_deneme",
   "language": "python",
   "name": "web_scpraing_portfolio_deneme"
  },
  "language_info": {
   "codemirror_mode": {
    "name": "ipython",
    "version": 3
   },
   "file_extension": ".py",
   "mimetype": "text/x-python",
   "name": "python",
   "nbconvert_exporter": "python",
   "pygments_lexer": "ipython3",
   "version": "3.11.2"
  }
 },
 "nbformat": 4,
 "nbformat_minor": 5
}
